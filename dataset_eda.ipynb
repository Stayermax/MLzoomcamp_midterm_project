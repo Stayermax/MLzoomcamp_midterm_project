{
 "cells": [
  {
   "cell_type": "markdown",
   "id": "d461110d-ac79-4e9b-91bb-429557e847d7",
   "metadata": {},
   "source": [
    "# Installations"
   ]
  },
  {
   "cell_type": "code",
   "execution_count": 1,
   "id": "bf5cff89-4ea3-443d-ade2-04f39fe2ac43",
   "metadata": {
    "scrolled": true
   },
   "outputs": [
    {
     "name": "stdout",
     "output_type": "stream",
     "text": [
      "Requirement already satisfied: pandas in /Users/vpankrat/opt/anaconda3/envs/midterm_project/lib/python3.10/site-packages (2.2.3)\n",
      "Requirement already satisfied: numpy>=1.22.4 in /Users/vpankrat/opt/anaconda3/envs/midterm_project/lib/python3.10/site-packages (from pandas) (2.1.3)\n",
      "Requirement already satisfied: python-dateutil>=2.8.2 in /Users/vpankrat/opt/anaconda3/envs/midterm_project/lib/python3.10/site-packages (from pandas) (2.9.0.post0)\n",
      "Requirement already satisfied: pytz>=2020.1 in /Users/vpankrat/opt/anaconda3/envs/midterm_project/lib/python3.10/site-packages (from pandas) (2024.2)\n",
      "Requirement already satisfied: tzdata>=2022.7 in /Users/vpankrat/opt/anaconda3/envs/midterm_project/lib/python3.10/site-packages (from pandas) (2024.2)\n",
      "Requirement already satisfied: six>=1.5 in /Users/vpankrat/opt/anaconda3/envs/midterm_project/lib/python3.10/site-packages (from python-dateutil>=2.8.2->pandas) (1.16.0)\n",
      "Requirement already satisfied: numpy in /Users/vpankrat/opt/anaconda3/envs/midterm_project/lib/python3.10/site-packages (2.1.3)\n",
      "Requirement already satisfied: seaborn in /Users/vpankrat/opt/anaconda3/envs/midterm_project/lib/python3.10/site-packages (0.13.2)\n",
      "Requirement already satisfied: numpy!=1.24.0,>=1.20 in /Users/vpankrat/opt/anaconda3/envs/midterm_project/lib/python3.10/site-packages (from seaborn) (2.1.3)\n",
      "Requirement already satisfied: pandas>=1.2 in /Users/vpankrat/opt/anaconda3/envs/midterm_project/lib/python3.10/site-packages (from seaborn) (2.2.3)\n",
      "Requirement already satisfied: matplotlib!=3.6.1,>=3.4 in /Users/vpankrat/opt/anaconda3/envs/midterm_project/lib/python3.10/site-packages (from seaborn) (3.9.2)\n",
      "Requirement already satisfied: contourpy>=1.0.1 in /Users/vpankrat/opt/anaconda3/envs/midterm_project/lib/python3.10/site-packages (from matplotlib!=3.6.1,>=3.4->seaborn) (1.3.1)\n",
      "Requirement already satisfied: cycler>=0.10 in /Users/vpankrat/opt/anaconda3/envs/midterm_project/lib/python3.10/site-packages (from matplotlib!=3.6.1,>=3.4->seaborn) (0.12.1)\n",
      "Requirement already satisfied: fonttools>=4.22.0 in /Users/vpankrat/opt/anaconda3/envs/midterm_project/lib/python3.10/site-packages (from matplotlib!=3.6.1,>=3.4->seaborn) (4.54.1)\n",
      "Requirement already satisfied: kiwisolver>=1.3.1 in /Users/vpankrat/opt/anaconda3/envs/midterm_project/lib/python3.10/site-packages (from matplotlib!=3.6.1,>=3.4->seaborn) (1.4.7)\n",
      "Requirement already satisfied: packaging>=20.0 in /Users/vpankrat/opt/anaconda3/envs/midterm_project/lib/python3.10/site-packages (from matplotlib!=3.6.1,>=3.4->seaborn) (24.2)\n",
      "Requirement already satisfied: pillow>=8 in /Users/vpankrat/opt/anaconda3/envs/midterm_project/lib/python3.10/site-packages (from matplotlib!=3.6.1,>=3.4->seaborn) (11.0.0)\n",
      "Requirement already satisfied: pyparsing>=2.3.1 in /Users/vpankrat/opt/anaconda3/envs/midterm_project/lib/python3.10/site-packages (from matplotlib!=3.6.1,>=3.4->seaborn) (3.2.0)\n",
      "Requirement already satisfied: python-dateutil>=2.7 in /Users/vpankrat/opt/anaconda3/envs/midterm_project/lib/python3.10/site-packages (from matplotlib!=3.6.1,>=3.4->seaborn) (2.9.0.post0)\n",
      "Requirement already satisfied: pytz>=2020.1 in /Users/vpankrat/opt/anaconda3/envs/midterm_project/lib/python3.10/site-packages (from pandas>=1.2->seaborn) (2024.2)\n",
      "Requirement already satisfied: tzdata>=2022.7 in /Users/vpankrat/opt/anaconda3/envs/midterm_project/lib/python3.10/site-packages (from pandas>=1.2->seaborn) (2024.2)\n",
      "Requirement already satisfied: six>=1.5 in /Users/vpankrat/opt/anaconda3/envs/midterm_project/lib/python3.10/site-packages (from python-dateutil>=2.7->matplotlib!=3.6.1,>=3.4->seaborn) (1.16.0)\n",
      "Requirement already satisfied: scikit-learn in /Users/vpankrat/opt/anaconda3/envs/midterm_project/lib/python3.10/site-packages (1.5.2)\n",
      "Requirement already satisfied: numpy>=1.19.5 in /Users/vpankrat/opt/anaconda3/envs/midterm_project/lib/python3.10/site-packages (from scikit-learn) (2.1.3)\n",
      "Requirement already satisfied: scipy>=1.6.0 in /Users/vpankrat/opt/anaconda3/envs/midterm_project/lib/python3.10/site-packages (from scikit-learn) (1.14.1)\n",
      "Requirement already satisfied: joblib>=1.2.0 in /Users/vpankrat/opt/anaconda3/envs/midterm_project/lib/python3.10/site-packages (from scikit-learn) (1.4.2)\n",
      "Requirement already satisfied: threadpoolctl>=3.1.0 in /Users/vpankrat/opt/anaconda3/envs/midterm_project/lib/python3.10/site-packages (from scikit-learn) (3.5.0)\n",
      "Requirement already satisfied: matplotlib in /Users/vpankrat/opt/anaconda3/envs/midterm_project/lib/python3.10/site-packages (3.9.2)\n",
      "Requirement already satisfied: contourpy>=1.0.1 in /Users/vpankrat/opt/anaconda3/envs/midterm_project/lib/python3.10/site-packages (from matplotlib) (1.3.1)\n",
      "Requirement already satisfied: cycler>=0.10 in /Users/vpankrat/opt/anaconda3/envs/midterm_project/lib/python3.10/site-packages (from matplotlib) (0.12.1)\n",
      "Requirement already satisfied: fonttools>=4.22.0 in /Users/vpankrat/opt/anaconda3/envs/midterm_project/lib/python3.10/site-packages (from matplotlib) (4.54.1)\n",
      "Requirement already satisfied: kiwisolver>=1.3.1 in /Users/vpankrat/opt/anaconda3/envs/midterm_project/lib/python3.10/site-packages (from matplotlib) (1.4.7)\n",
      "Requirement already satisfied: numpy>=1.23 in /Users/vpankrat/opt/anaconda3/envs/midterm_project/lib/python3.10/site-packages (from matplotlib) (2.1.3)\n",
      "Requirement already satisfied: packaging>=20.0 in /Users/vpankrat/opt/anaconda3/envs/midterm_project/lib/python3.10/site-packages (from matplotlib) (24.2)\n",
      "Requirement already satisfied: pillow>=8 in /Users/vpankrat/opt/anaconda3/envs/midterm_project/lib/python3.10/site-packages (from matplotlib) (11.0.0)\n",
      "Requirement already satisfied: pyparsing>=2.3.1 in /Users/vpankrat/opt/anaconda3/envs/midterm_project/lib/python3.10/site-packages (from matplotlib) (3.2.0)\n",
      "Requirement already satisfied: python-dateutil>=2.7 in /Users/vpankrat/opt/anaconda3/envs/midterm_project/lib/python3.10/site-packages (from matplotlib) (2.9.0.post0)\n",
      "Requirement already satisfied: six>=1.5 in /Users/vpankrat/opt/anaconda3/envs/midterm_project/lib/python3.10/site-packages (from python-dateutil>=2.7->matplotlib) (1.16.0)\n"
     ]
    }
   ],
   "source": [
    "!pip3 install pandas\n",
    "!pip3 install numpy\n",
    "!pip3 install seaborn\n",
    "!pip3 install scikit-learn\n",
    "!pip3 install matplotlib"
   ]
  },
  {
   "cell_type": "markdown",
   "id": "33700c2e-53b7-430f-940e-92c4d47c8fd0",
   "metadata": {},
   "source": [
    "# Imports"
   ]
  },
  {
   "cell_type": "code",
   "execution_count": 2,
   "id": "e4ef17e6-c239-4b56-a4d5-05e03bb6b329",
   "metadata": {},
   "outputs": [],
   "source": [
    "import pandas as pd\n",
    "import numpy as np\n",
    "import matplotlib.pyplot as plt\n",
    "import seaborn as sns"
   ]
  },
  {
   "cell_type": "markdown",
   "id": "05404694-e013-42ca-945b-459acba58bdc",
   "metadata": {},
   "source": [
    "# EDA\n",
    "We use dataset for credit score classification: https://www.kaggle.com/datasets/parisrohan/credit-score-classification/data"
   ]
  },
  {
   "cell_type": "code",
   "execution_count": 3,
   "id": "7f22999e-698a-401c-981a-46ba85699d3d",
   "metadata": {},
   "outputs": [
    {
     "name": "stdout",
     "output_type": "stream",
     "text": [
      "Dataset length: 100000\n"
     ]
    },
    {
     "name": "stderr",
     "output_type": "stream",
     "text": [
      "/var/folders/9z/rhfc541d14q5klxp9lqvgx8m0000gq/T/ipykernel_94310/1170968565.py:1: DtypeWarning: Columns (26) have mixed types. Specify dtype option on import or set low_memory=False.\n",
      "  df = pd.read_csv('data/train.csv')\n"
     ]
    }
   ],
   "source": [
    "df = pd.read_csv('data/train.csv')\n",
    "print(f\"Dataset length: {len(df)}\")"
   ]
  },
  {
   "cell_type": "code",
   "execution_count": 4,
   "id": "6d830323-4774-4442-9af4-06a1a053b53e",
   "metadata": {},
   "outputs": [],
   "source": [
    "df.columns = df.columns.str.lower()"
   ]
  },
  {
   "cell_type": "code",
   "execution_count": 5,
   "id": "f40c2ec0-38af-4423-8868-81a69e1109ac",
   "metadata": {},
   "outputs": [
    {
     "data": {
      "text/html": [
       "<div>\n",
       "<style scoped>\n",
       "    .dataframe tbody tr th:only-of-type {\n",
       "        vertical-align: middle;\n",
       "    }\n",
       "\n",
       "    .dataframe tbody tr th {\n",
       "        vertical-align: top;\n",
       "    }\n",
       "\n",
       "    .dataframe thead th {\n",
       "        text-align: right;\n",
       "    }\n",
       "</style>\n",
       "<table border=\"1\" class=\"dataframe\">\n",
       "  <thead>\n",
       "    <tr style=\"text-align: right;\">\n",
       "      <th></th>\n",
       "      <th>id</th>\n",
       "      <th>customer_id</th>\n",
       "      <th>month</th>\n",
       "      <th>name</th>\n",
       "      <th>age</th>\n",
       "      <th>ssn</th>\n",
       "      <th>occupation</th>\n",
       "      <th>annual_income</th>\n",
       "      <th>monthly_inhand_salary</th>\n",
       "      <th>num_bank_accounts</th>\n",
       "      <th>...</th>\n",
       "      <th>credit_mix</th>\n",
       "      <th>outstanding_debt</th>\n",
       "      <th>credit_utilization_ratio</th>\n",
       "      <th>credit_history_age</th>\n",
       "      <th>payment_of_min_amount</th>\n",
       "      <th>total_emi_per_month</th>\n",
       "      <th>amount_invested_monthly</th>\n",
       "      <th>payment_behaviour</th>\n",
       "      <th>monthly_balance</th>\n",
       "      <th>credit_score</th>\n",
       "    </tr>\n",
       "  </thead>\n",
       "  <tbody>\n",
       "    <tr>\n",
       "      <th>0</th>\n",
       "      <td>0x1602</td>\n",
       "      <td>CUS_0xd40</td>\n",
       "      <td>January</td>\n",
       "      <td>Aaron Maashoh</td>\n",
       "      <td>23</td>\n",
       "      <td>821-00-0265</td>\n",
       "      <td>Scientist</td>\n",
       "      <td>19114.12</td>\n",
       "      <td>1824.843333</td>\n",
       "      <td>3</td>\n",
       "      <td>...</td>\n",
       "      <td>_</td>\n",
       "      <td>809.98</td>\n",
       "      <td>26.822620</td>\n",
       "      <td>22 Years and 1 Months</td>\n",
       "      <td>No</td>\n",
       "      <td>49.574949</td>\n",
       "      <td>80.41529543900253</td>\n",
       "      <td>High_spent_Small_value_payments</td>\n",
       "      <td>312.49408867943663</td>\n",
       "      <td>Good</td>\n",
       "    </tr>\n",
       "    <tr>\n",
       "      <th>1</th>\n",
       "      <td>0x1603</td>\n",
       "      <td>CUS_0xd40</td>\n",
       "      <td>February</td>\n",
       "      <td>Aaron Maashoh</td>\n",
       "      <td>23</td>\n",
       "      <td>821-00-0265</td>\n",
       "      <td>Scientist</td>\n",
       "      <td>19114.12</td>\n",
       "      <td>NaN</td>\n",
       "      <td>3</td>\n",
       "      <td>...</td>\n",
       "      <td>Good</td>\n",
       "      <td>809.98</td>\n",
       "      <td>31.944960</td>\n",
       "      <td>NaN</td>\n",
       "      <td>No</td>\n",
       "      <td>49.574949</td>\n",
       "      <td>118.28022162236736</td>\n",
       "      <td>Low_spent_Large_value_payments</td>\n",
       "      <td>284.62916249607184</td>\n",
       "      <td>Good</td>\n",
       "    </tr>\n",
       "    <tr>\n",
       "      <th>2</th>\n",
       "      <td>0x1604</td>\n",
       "      <td>CUS_0xd40</td>\n",
       "      <td>March</td>\n",
       "      <td>Aaron Maashoh</td>\n",
       "      <td>-500</td>\n",
       "      <td>821-00-0265</td>\n",
       "      <td>Scientist</td>\n",
       "      <td>19114.12</td>\n",
       "      <td>NaN</td>\n",
       "      <td>3</td>\n",
       "      <td>...</td>\n",
       "      <td>Good</td>\n",
       "      <td>809.98</td>\n",
       "      <td>28.609352</td>\n",
       "      <td>22 Years and 3 Months</td>\n",
       "      <td>No</td>\n",
       "      <td>49.574949</td>\n",
       "      <td>81.699521264648</td>\n",
       "      <td>Low_spent_Medium_value_payments</td>\n",
       "      <td>331.2098628537912</td>\n",
       "      <td>Good</td>\n",
       "    </tr>\n",
       "    <tr>\n",
       "      <th>3</th>\n",
       "      <td>0x1605</td>\n",
       "      <td>CUS_0xd40</td>\n",
       "      <td>April</td>\n",
       "      <td>Aaron Maashoh</td>\n",
       "      <td>23</td>\n",
       "      <td>821-00-0265</td>\n",
       "      <td>Scientist</td>\n",
       "      <td>19114.12</td>\n",
       "      <td>NaN</td>\n",
       "      <td>3</td>\n",
       "      <td>...</td>\n",
       "      <td>Good</td>\n",
       "      <td>809.98</td>\n",
       "      <td>31.377862</td>\n",
       "      <td>22 Years and 4 Months</td>\n",
       "      <td>No</td>\n",
       "      <td>49.574949</td>\n",
       "      <td>199.4580743910713</td>\n",
       "      <td>Low_spent_Small_value_payments</td>\n",
       "      <td>223.45130972736786</td>\n",
       "      <td>Good</td>\n",
       "    </tr>\n",
       "    <tr>\n",
       "      <th>4</th>\n",
       "      <td>0x1606</td>\n",
       "      <td>CUS_0xd40</td>\n",
       "      <td>May</td>\n",
       "      <td>Aaron Maashoh</td>\n",
       "      <td>23</td>\n",
       "      <td>821-00-0265</td>\n",
       "      <td>Scientist</td>\n",
       "      <td>19114.12</td>\n",
       "      <td>1824.843333</td>\n",
       "      <td>3</td>\n",
       "      <td>...</td>\n",
       "      <td>Good</td>\n",
       "      <td>809.98</td>\n",
       "      <td>24.797347</td>\n",
       "      <td>22 Years and 5 Months</td>\n",
       "      <td>No</td>\n",
       "      <td>49.574949</td>\n",
       "      <td>41.420153086217326</td>\n",
       "      <td>High_spent_Medium_value_payments</td>\n",
       "      <td>341.48923103222177</td>\n",
       "      <td>Good</td>\n",
       "    </tr>\n",
       "  </tbody>\n",
       "</table>\n",
       "<p>5 rows × 28 columns</p>\n",
       "</div>"
      ],
      "text/plain": [
       "       id customer_id     month           name   age          ssn occupation  \\\n",
       "0  0x1602   CUS_0xd40   January  Aaron Maashoh    23  821-00-0265  Scientist   \n",
       "1  0x1603   CUS_0xd40  February  Aaron Maashoh    23  821-00-0265  Scientist   \n",
       "2  0x1604   CUS_0xd40     March  Aaron Maashoh  -500  821-00-0265  Scientist   \n",
       "3  0x1605   CUS_0xd40     April  Aaron Maashoh    23  821-00-0265  Scientist   \n",
       "4  0x1606   CUS_0xd40       May  Aaron Maashoh    23  821-00-0265  Scientist   \n",
       "\n",
       "  annual_income  monthly_inhand_salary  num_bank_accounts  ...  credit_mix  \\\n",
       "0      19114.12            1824.843333                  3  ...           _   \n",
       "1      19114.12                    NaN                  3  ...        Good   \n",
       "2      19114.12                    NaN                  3  ...        Good   \n",
       "3      19114.12                    NaN                  3  ...        Good   \n",
       "4      19114.12            1824.843333                  3  ...        Good   \n",
       "\n",
       "   outstanding_debt credit_utilization_ratio     credit_history_age  \\\n",
       "0            809.98                26.822620  22 Years and 1 Months   \n",
       "1            809.98                31.944960                    NaN   \n",
       "2            809.98                28.609352  22 Years and 3 Months   \n",
       "3            809.98                31.377862  22 Years and 4 Months   \n",
       "4            809.98                24.797347  22 Years and 5 Months   \n",
       "\n",
       "   payment_of_min_amount total_emi_per_month amount_invested_monthly  \\\n",
       "0                     No           49.574949       80.41529543900253   \n",
       "1                     No           49.574949      118.28022162236736   \n",
       "2                     No           49.574949         81.699521264648   \n",
       "3                     No           49.574949       199.4580743910713   \n",
       "4                     No           49.574949      41.420153086217326   \n",
       "\n",
       "                  payment_behaviour     monthly_balance credit_score  \n",
       "0   High_spent_Small_value_payments  312.49408867943663         Good  \n",
       "1    Low_spent_Large_value_payments  284.62916249607184         Good  \n",
       "2   Low_spent_Medium_value_payments   331.2098628537912         Good  \n",
       "3    Low_spent_Small_value_payments  223.45130972736786         Good  \n",
       "4  High_spent_Medium_value_payments  341.48923103222177         Good  \n",
       "\n",
       "[5 rows x 28 columns]"
      ]
     },
     "execution_count": 5,
     "metadata": {},
     "output_type": "execute_result"
    }
   ],
   "source": [
    "df.head()"
   ]
  },
  {
   "cell_type": "code",
   "execution_count": 6,
   "id": "7741cebb-cfb0-48e9-ad4a-59f501c949f7",
   "metadata": {},
   "outputs": [
    {
     "data": {
      "text/plain": [
       "id                           object\n",
       "customer_id                  object\n",
       "month                        object\n",
       "name                         object\n",
       "age                          object\n",
       "ssn                          object\n",
       "occupation                   object\n",
       "annual_income                object\n",
       "monthly_inhand_salary       float64\n",
       "num_bank_accounts             int64\n",
       "num_credit_card               int64\n",
       "interest_rate                 int64\n",
       "num_of_loan                  object\n",
       "type_of_loan                 object\n",
       "delay_from_due_date           int64\n",
       "num_of_delayed_payment       object\n",
       "changed_credit_limit         object\n",
       "num_credit_inquiries        float64\n",
       "credit_mix                   object\n",
       "outstanding_debt             object\n",
       "credit_utilization_ratio    float64\n",
       "credit_history_age           object\n",
       "payment_of_min_amount        object\n",
       "total_emi_per_month         float64\n",
       "amount_invested_monthly      object\n",
       "payment_behaviour            object\n",
       "monthly_balance              object\n",
       "credit_score                 object\n",
       "dtype: object"
      ]
     },
     "execution_count": 6,
     "metadata": {},
     "output_type": "execute_result"
    }
   ],
   "source": [
    "df.dtypes"
   ]
  },
  {
   "cell_type": "code",
   "execution_count": 7,
   "id": "4d4286fa-f107-40ce-add7-e40c31c61d6c",
   "metadata": {},
   "outputs": [
    {
     "data": {
      "text/plain": [
       "id                              0\n",
       "customer_id                     0\n",
       "month                           0\n",
       "name                         9985\n",
       "age                             0\n",
       "ssn                             0\n",
       "occupation                      0\n",
       "annual_income                   0\n",
       "monthly_inhand_salary       15002\n",
       "num_bank_accounts               0\n",
       "num_credit_card                 0\n",
       "interest_rate                   0\n",
       "num_of_loan                     0\n",
       "type_of_loan                11408\n",
       "delay_from_due_date             0\n",
       "num_of_delayed_payment       7002\n",
       "changed_credit_limit            0\n",
       "num_credit_inquiries         1965\n",
       "credit_mix                      0\n",
       "outstanding_debt                0\n",
       "credit_utilization_ratio        0\n",
       "credit_history_age           9030\n",
       "payment_of_min_amount           0\n",
       "total_emi_per_month             0\n",
       "amount_invested_monthly      4479\n",
       "payment_behaviour               0\n",
       "monthly_balance              1200\n",
       "credit_score                    0\n",
       "dtype: int64"
      ]
     },
     "execution_count": 7,
     "metadata": {},
     "output_type": "execute_result"
    }
   ],
   "source": [
    "df.isnull().sum()"
   ]
  },
  {
   "cell_type": "markdown",
   "id": "137f5afb-5bc3-4860-add8-8fdf12a4409b",
   "metadata": {},
   "source": [
    "## Dealing with missing values and problematic types"
   ]
  },
  {
   "cell_type": "markdown",
   "id": "667175f7-0ef2-46d6-b6b8-1b6168ea79b3",
   "metadata": {},
   "source": [
    "### month\n",
    "Let's add numeric column with month number, so sorting data in the future would be easy"
   ]
  },
  {
   "cell_type": "code",
   "execution_count": 8,
   "id": "cbd82281-4bfb-4255-99e3-6b75fd550af0",
   "metadata": {},
   "outputs": [
    {
     "data": {
      "text/plain": [
       "array(['January', 'February', 'March', 'April', 'May', 'June', 'July',\n",
       "       'August'], dtype=object)"
      ]
     },
     "execution_count": 8,
     "metadata": {},
     "output_type": "execute_result"
    }
   ],
   "source": [
    "df.month.unique()"
   ]
  },
  {
   "cell_type": "code",
   "execution_count": 9,
   "id": "6dd0f0fd-6aee-4aac-951c-bf03f71b3fa6",
   "metadata": {},
   "outputs": [],
   "source": [
    "months_mapping = {\n",
    "    'January': 1,\n",
    "    'February': 2,\n",
    "    'March': 3,\n",
    "    'April': 4,\n",
    "    'May': 5,\n",
    "    'June': 6,\n",
    "    'July': 7,\n",
    "    'August': 8,\n",
    "    'September': 9,\n",
    "    'October': 10,\n",
    "    'November': 11,\n",
    "    'December': 12\n",
    "}"
   ]
  },
  {
   "cell_type": "code",
   "execution_count": 10,
   "id": "ee9e952e-4b3c-4af0-8ed7-26409040be84",
   "metadata": {},
   "outputs": [
    {
     "data": {
      "text/plain": [
       "0    1\n",
       "1    2\n",
       "2    3\n",
       "3    4\n",
       "4    5\n",
       "5    6\n",
       "6    7\n",
       "7    8\n",
       "8    1\n",
       "9    2\n",
       "Name: month_number, dtype: int64"
      ]
     },
     "execution_count": 10,
     "metadata": {},
     "output_type": "execute_result"
    }
   ],
   "source": [
    "df['month_number'] = df.month.map(months_mapping)\n",
    "df['month_number'].head(10)"
   ]
  },
  {
   "cell_type": "markdown",
   "id": "46f478a2-5376-4d8d-b2ae-8abbf1d400eb",
   "metadata": {
    "jp-MarkdownHeadingCollapsed": true
   },
   "source": [
    "### name column\n",
    "All customers with same id have the same name. So let's try to fill empty names using customer_id"
   ]
  },
  {
   "cell_type": "code",
   "execution_count": 11,
   "id": "faa71216-cdca-4305-9f88-52100f486e76",
   "metadata": {},
   "outputs": [
    {
     "name": "stdout",
     "output_type": "stream",
     "text": [
      "Initiall number of empty names: 9985\n"
     ]
    }
   ],
   "source": [
    "print(f\"Initiall number of empty names: {df[['name']].isna().sum().values[0]}\")"
   ]
  },
  {
   "cell_type": "code",
   "execution_count": 12,
   "id": "d9712669-8f3d-447b-b593-95bdccc387c3",
   "metadata": {},
   "outputs": [
    {
     "name": "stderr",
     "output_type": "stream",
     "text": [
      "/var/folders/9z/rhfc541d14q5klxp9lqvgx8m0000gq/T/ipykernel_94310/3461443390.py:1: FutureWarning: DataFrameGroupBy.fillna is deprecated and will be removed in a future version. Use obj.ffill() or obj.bfill() for forward or backward filling instead. If you want to fill with a single value, use DataFrame.fillna instead\n",
      "  df['name'] = df[['customer_id', 'name']].groupby('customer_id').fillna(method='bfill')\n",
      "/var/folders/9z/rhfc541d14q5klxp9lqvgx8m0000gq/T/ipykernel_94310/3461443390.py:1: FutureWarning: DataFrame.fillna with 'method' is deprecated and will raise in a future version. Use obj.ffill() or obj.bfill() instead.\n",
      "  df['name'] = df[['customer_id', 'name']].groupby('customer_id').fillna(method='bfill')\n",
      "/var/folders/9z/rhfc541d14q5klxp9lqvgx8m0000gq/T/ipykernel_94310/3461443390.py:2: FutureWarning: DataFrameGroupBy.fillna is deprecated and will be removed in a future version. Use obj.ffill() or obj.bfill() for forward or backward filling instead. If you want to fill with a single value, use DataFrame.fillna instead\n",
      "  df['name'] = df[['customer_id', 'name']].groupby('customer_id').fillna(method='ffill')\n",
      "/var/folders/9z/rhfc541d14q5klxp9lqvgx8m0000gq/T/ipykernel_94310/3461443390.py:2: FutureWarning: DataFrame.fillna with 'method' is deprecated and will raise in a future version. Use obj.ffill() or obj.bfill() instead.\n",
      "  df['name'] = df[['customer_id', 'name']].groupby('customer_id').fillna(method='ffill')\n"
     ]
    },
    {
     "name": "stdout",
     "output_type": "stream",
     "text": [
      "Number of empty names after fillna: 0\n"
     ]
    }
   ],
   "source": [
    "df['name'] = df[['customer_id', 'name']].groupby('customer_id').fillna(method='bfill')\n",
    "df['name'] = df[['customer_id', 'name']].groupby('customer_id').fillna(method='ffill')\n",
    "print(f'Number of empty names after fillna: {df[\"name\"].isna().sum()}')"
   ]
  },
  {
   "cell_type": "markdown",
   "id": "1bae8e8b-accd-4ecc-bef2-3ce391e104f8",
   "metadata": {},
   "source": [
    "### monthly_inhand_salary\n",
    "Now we want to fill monthly_inhand_salary column. \n",
    "* We assume that it depends on annual_income column. \n",
    "* Unfortunately annual_income columns is of object and not numeric.\n",
    "* If we try to cast annual income to numeric type we get an error:"
   ]
  },
  {
   "cell_type": "code",
   "execution_count": 13,
   "id": "7e4aad7d-ca4e-4c59-a01b-a0d70075dbf4",
   "metadata": {},
   "outputs": [
    {
     "name": "stdout",
     "output_type": "stream",
     "text": [
      "Unable to parse string \"34847.84_\" at position 0\n"
     ]
    }
   ],
   "source": [
    "try:\n",
    "    df['annual_income'] = df['annual_income'].apply(pd.to_numeric)\n",
    "except Exception as e:\n",
    "    print(e)"
   ]
  },
  {
   "cell_type": "markdown",
   "id": "b0f81223-6eae-466a-95a3-a06afe5053f7",
   "metadata": {},
   "source": [
    "Let's see what are those problematic values we are dealing with:"
   ]
  },
  {
   "cell_type": "code",
   "execution_count": 14,
   "id": "391d5cc3-2925-474d-88bd-14b0ba80f01b",
   "metadata": {},
   "outputs": [
    {
     "data": {
      "text/plain": [
       "array(['34847.84_', '30689.89_', '35547.71_', ..., '37188.1_',\n",
       "       '39628.99_', '39628.99_'], dtype=object)"
      ]
     },
     "execution_count": 14,
     "metadata": {},
     "output_type": "execute_result"
    }
   ],
   "source": [
    "problematic_values = df[df['annual_income'].apply(pd.to_numeric, errors='coerce').isna()]['annual_income'].values\n",
    "problematic_values"
   ]
  },
  {
   "cell_type": "markdown",
   "id": "b3a8838c-9000-44ce-827d-45b908300088",
   "metadata": {},
   "source": [
    "It seems like all of those problematic values have \"_\" in the end. Let's check it"
   ]
  },
  {
   "cell_type": "code",
   "execution_count": 15,
   "id": "0ffaf2d7-cf33-432d-a232-9c15b6f01fff",
   "metadata": {},
   "outputs": [],
   "source": [
    "for val in problematic_values:\n",
    "    assert '_' == val[-1]"
   ]
  },
  {
   "cell_type": "markdown",
   "id": "df157892-4924-491a-a11b-892f8e987db2",
   "metadata": {},
   "source": [
    "Let's check that we can cast all of those values to float if we delete \"_\" in the end"
   ]
  },
  {
   "cell_type": "code",
   "execution_count": 16,
   "id": "77698b2b-d3fd-4fc9-b22a-0e666a89d654",
   "metadata": {},
   "outputs": [],
   "source": [
    "for val in problematic_values:\n",
    "    float(val[:-1])"
   ]
  },
  {
   "cell_type": "markdown",
   "id": "740f6330-ef18-4a30-8841-9c7fa3840a46",
   "metadata": {},
   "source": [
    "So now let's write function that will cast annual_income column to numeric"
   ]
  },
  {
   "cell_type": "code",
   "execution_count": 17,
   "id": "0912ece8-9c7c-4d87-826d-561015dce4e4",
   "metadata": {},
   "outputs": [],
   "source": [
    "def custom_to_numeric(value: str):\n",
    "    if value[-1] == '_':\n",
    "        return float(value[:-1])\n",
    "    return float(value)"
   ]
  },
  {
   "cell_type": "code",
   "execution_count": 18,
   "id": "25d1dd40-a5c6-4188-ae41-d2b3610a8d2e",
   "metadata": {},
   "outputs": [
    {
     "data": {
      "text/plain": [
       "dtype('float64')"
      ]
     },
     "execution_count": 18,
     "metadata": {},
     "output_type": "execute_result"
    }
   ],
   "source": [
    "df['annual_income'] = df['annual_income'].apply(custom_to_numeric)\n",
    "df['annual_income'].dtype"
   ]
  },
  {
   "cell_type": "markdown",
   "id": "524f1c46-6e73-42f5-942e-b27619d21bb4",
   "metadata": {},
   "source": [
    "Let's now fill the values for monthly_inhand_salary column.  \n",
    "Let's check how monthly_inhand_salary depend on annual_income. To do that let's see the proportion between those values"
   ]
  },
  {
   "cell_type": "code",
   "execution_count": 19,
   "id": "a1ff3cb9-4ddc-46af-b3ac-55b76ffb9adc",
   "metadata": {},
   "outputs": [
    {
     "data": {
      "text/plain": [
       "count    84998.000000\n",
       "mean        67.244578\n",
       "std        846.095019\n",
       "min          8.089821\n",
       "25%         11.553886\n",
       "50%         12.025936\n",
       "75%         12.553691\n",
       "max      54110.522117\n",
       "dtype: float64"
      ]
     },
     "execution_count": 19,
     "metadata": {},
     "output_type": "execute_result"
    }
   ],
   "source": [
    "not_empty_montly_salary_index = df['monthly_inhand_salary'].dropna().index\n",
    "proportion = df['annual_income'][not_empty_montly_salary_index] / df['monthly_inhand_salary'][not_empty_montly_salary_index]\n",
    "proportion.describe()"
   ]
  },
  {
   "cell_type": "code",
   "execution_count": 20,
   "id": "569d4875-799a-4926-a925-e0864dd3b7c7",
   "metadata": {},
   "outputs": [
    {
     "data": {
      "text/plain": [
       "(np.float64(10.884076704509429), np.float64(13.568605658582612))"
      ]
     },
     "execution_count": 20,
     "metadata": {},
     "output_type": "execute_result"
    }
   ],
   "source": [
    "np.quantile(proportion, 0.1), np.quantile(proportion, 0.9)"
   ]
  },
  {
   "cell_type": "markdown",
   "id": "cd9deb35-4fc0-482f-ba5c-5adeebb93407",
   "metadata": {},
   "source": [
    "I assume there are some extreme values of annual_income, because mean is 67, but as you can see most of the values are between 10 and 13 with median being around 12, which makes sence, because year has 12 months. So let's fill empty values of this column with **annual_income/12**"
   ]
  },
  {
   "cell_type": "code",
   "execution_count": 21,
   "id": "c6869a73-3ecc-4d64-bd7f-f2bb621994dd",
   "metadata": {},
   "outputs": [],
   "source": [
    "df['monthly_inhand_salary'] = df['monthly_inhand_salary'].fillna(df['annual_income']/12)"
   ]
  },
  {
   "cell_type": "markdown",
   "id": "e06ccb23-08e7-452d-a150-fc760dec707a",
   "metadata": {},
   "source": [
    "### num_of_loan\n",
    "This column represents the number of loans taken from the bank.  \n",
    "This column should be numerical, but it's an object. Let's fix it."
   ]
  },
  {
   "cell_type": "code",
   "execution_count": 22,
   "id": "d3c1ed5d-8e8a-4e5e-a328-7182bd208ad3",
   "metadata": {},
   "outputs": [
    {
     "data": {
      "text/plain": [
       "array(['-100', '0', '0_', '1', '100', '1001', '1002', '1006', '1008',\n",
       "       '101', '1014', '1015', '1017', '1019', '1023', '1027_', '103',\n",
       "       '1030', '1035', '1036', '1039', '1040', '1046', '1047', '1048',\n",
       "       '1053', '1054', '1070', '1074', '1077', '1085', '1088', '1091',\n",
       "       '1094', '1096', '1103', '1106', '1110', '1112', '1127', '1129',\n",
       "       '1129_', '1131', '1131_', '1132_', '1135', '1137', '1150', '1151',\n",
       "       '1152', '1154', '1159', '1160', '1171_', '1178', '1181', '1182',\n",
       "       '1185_', '1187', '1189', '119', '1196', '1202', '1204', '1209',\n",
       "       '1210', '1214', '1216', '1217', '1219_', '1222', '1225', '1225_',\n",
       "       '1227', '1228', '123', '1236', '1241', '1257', '1259', '126',\n",
       "       '1265', '1271', '1274', '1279', '1289', '1294', '1296', '1297',\n",
       "       '1298', '1300', '1302', '1307', '1311_', '1312', '1313', '1318',\n",
       "       '1319', '131_', '132', '1320', '1320_', '1329', '1340', '1345',\n",
       "       '1347_', '1348', '1353', '1354', '1359', '136', '1363', '1365',\n",
       "       '1369', '137', '1371', '1372', '138', '1382', '1384', '1387',\n",
       "       '1391', '1393', '1400', '1406', '141', '1412', '1416', '1419',\n",
       "       '1424', '143', '1430', '1433', '1439', '143_', '1441', '1444',\n",
       "       '1447', '1451', '1457', '1459_', '146', '1461', '1463', '1464',\n",
       "       '1465', '147', '1470', '1474', '1478', '148', '1480', '1482',\n",
       "       '1484', '1485', '1495', '1496', '153', '157', '164', '17', '172',\n",
       "       '174', '18', '182', '186', '19', '190', '191', '192', '193', '196',\n",
       "       '198', '1_', '2', '201', '208', '215', '216', '217', '227', '227_',\n",
       "       '228', '229', '23', '231', '235_', '237', '238', '241', '242',\n",
       "       '243', '251', '252', '254', '267', '274', '275', '27_', '280',\n",
       "       '282', '284', '285', '288', '289', '29', '290', '291', '292',\n",
       "       '295', '2_', '3', '300', '302', '31', '311', '313', '316', '319',\n",
       "       '32', '321', '323', '329', '33', '330', '332', '336', '341', '344',\n",
       "       '348', '349', '350', '351', '352', '359', '359_', '365', '372',\n",
       "       '378_', '387', '39', '392', '394', '3_', '4', '404', '405', '41',\n",
       "       '415', '416', '418', '420', '424', '430', '433', '437', '438',\n",
       "       '439', '444', '447', '449', '455', '457', '462', '463', '464',\n",
       "       '466', '472', '484', '49', '492', '494', '497', '4_', '5', '50',\n",
       "       '501', '504', '507', '510', '515', '52', '520', '526', '527',\n",
       "       '527_', '529', '538', '54', '540', '545', '546', '548', '55', '56',\n",
       "       '562', '563', '571', '574', '579', '58', '581', '590', '596',\n",
       "       '597', '597_', '5_', '6', '601', '606', '613', '614', '617', '621',\n",
       "       '622', '628', '629', '630_', '633', '635', '636', '638', '639',\n",
       "       '640', '649', '65', '652', '653', '654', '656', '657', '659',\n",
       "       '661', '662', '663', '679', '684', '686', '696', '696_', '697',\n",
       "       '699', '6_', '7', '70', '701', '716', '719', '720', '728', '733',\n",
       "       '737', '742', '745', '752', '753', '757', '773', '777', '778',\n",
       "       '78', '781', '785_', '795', '799', '7_', '8', '801', '802', '809',\n",
       "       '814', '816', '819', '820', '83', '831', '832', '833', '834',\n",
       "       '838', '84', '841', '843', '848', '855', '859', '860', '863',\n",
       "       '867', '868', '869', '87', '873', '875', '881', '889', '89', '891',\n",
       "       '895', '897', '898', '8_', '9', '904', '905', '910', '911', '917',\n",
       "       '924', '926', '927', '92_', '931', '935', '936', '939', '940',\n",
       "       '943', '945', '95', '952', '955', '958', '961', '966', '967',\n",
       "       '968', '978', '983', '991', '995', '996', '999', '9_'],\n",
       "      dtype=object)"
      ]
     },
     "execution_count": 22,
     "metadata": {},
     "output_type": "execute_result"
    }
   ],
   "source": [
    "s = df['num_of_loan'].unique()\n",
    "s.sort()\n",
    "s"
   ]
  },
  {
   "cell_type": "markdown",
   "id": "13d4652f-a1f3-4ee6-8a16-861b7d83fbd0",
   "metadata": {},
   "source": [
    "We once again see that some of the values have underscores in the end. We will cast this field to numeric using the same function"
   ]
  },
  {
   "cell_type": "code",
   "execution_count": 23,
   "id": "70024e38-93ec-4d70-9e67-6a6754b7fb4f",
   "metadata": {},
   "outputs": [
    {
     "data": {
      "text/plain": [
       "dtype('float64')"
      ]
     },
     "execution_count": 23,
     "metadata": {},
     "output_type": "execute_result"
    }
   ],
   "source": [
    "df['num_of_loan'] = df['num_of_loan'].apply(custom_to_numeric)\n",
    "df['num_of_loan'].dtype"
   ]
  },
  {
   "cell_type": "markdown",
   "id": "534f3731-10a9-4af3-8a5e-c03f220bf078",
   "metadata": {},
   "source": [
    "Also we see that num_of_loan can be negative, which is strange.   \n",
    "Let's look at types of loans correspoding to num_of_loan == -100:"
   ]
  },
  {
   "cell_type": "code",
   "execution_count": 24,
   "id": "0e7febb5-66db-4567-a742-96739a43b082",
   "metadata": {},
   "outputs": [
    {
     "data": {
      "text/html": [
       "<div>\n",
       "<style scoped>\n",
       "    .dataframe tbody tr th:only-of-type {\n",
       "        vertical-align: middle;\n",
       "    }\n",
       "\n",
       "    .dataframe tbody tr th {\n",
       "        vertical-align: top;\n",
       "    }\n",
       "\n",
       "    .dataframe thead th {\n",
       "        text-align: right;\n",
       "    }\n",
       "</style>\n",
       "<table border=\"1\" class=\"dataframe\">\n",
       "  <thead>\n",
       "    <tr style=\"text-align: right;\">\n",
       "      <th></th>\n",
       "      <th>num_of_loan</th>\n",
       "      <th>customer_id</th>\n",
       "      <th>name</th>\n",
       "    </tr>\n",
       "  </thead>\n",
       "  <tbody>\n",
       "    <tr>\n",
       "      <th>31</th>\n",
       "      <td>-100.0</td>\n",
       "      <td>CUS_0xb891</td>\n",
       "      <td>Jasond</td>\n",
       "    </tr>\n",
       "    <tr>\n",
       "      <th>34</th>\n",
       "      <td>-100.0</td>\n",
       "      <td>CUS_0x1cdb</td>\n",
       "      <td>Deepaa</td>\n",
       "    </tr>\n",
       "    <tr>\n",
       "      <th>39</th>\n",
       "      <td>-100.0</td>\n",
       "      <td>CUS_0x1cdb</td>\n",
       "      <td>Deepaa</td>\n",
       "    </tr>\n",
       "    <tr>\n",
       "      <th>53</th>\n",
       "      <td>-100.0</td>\n",
       "      <td>CUS_0x284a</td>\n",
       "      <td>Nadiaq</td>\n",
       "    </tr>\n",
       "    <tr>\n",
       "      <th>61</th>\n",
       "      <td>-100.0</td>\n",
       "      <td>CUS_0x5407</td>\n",
       "      <td>Annk</td>\n",
       "    </tr>\n",
       "    <tr>\n",
       "      <th>...</th>\n",
       "      <td>...</td>\n",
       "      <td>...</td>\n",
       "      <td>...</td>\n",
       "    </tr>\n",
       "    <tr>\n",
       "      <th>99877</th>\n",
       "      <td>-100.0</td>\n",
       "      <td>CUS_0x3855</td>\n",
       "      <td>Xolai</td>\n",
       "    </tr>\n",
       "    <tr>\n",
       "      <th>99901</th>\n",
       "      <td>-100.0</td>\n",
       "      <td>CUS_0x4986</td>\n",
       "      <td>Charles Abbotta</td>\n",
       "    </tr>\n",
       "    <tr>\n",
       "      <th>99902</th>\n",
       "      <td>-100.0</td>\n",
       "      <td>CUS_0x4986</td>\n",
       "      <td>Charles Abbotta</td>\n",
       "    </tr>\n",
       "    <tr>\n",
       "      <th>99969</th>\n",
       "      <td>-100.0</td>\n",
       "      <td>CUS_0xf16</td>\n",
       "      <td>Maria Sheahanb</td>\n",
       "    </tr>\n",
       "    <tr>\n",
       "      <th>99987</th>\n",
       "      <td>-100.0</td>\n",
       "      <td>CUS_0x8600</td>\n",
       "      <td>Sarah McBridec</td>\n",
       "    </tr>\n",
       "  </tbody>\n",
       "</table>\n",
       "<p>3876 rows × 3 columns</p>\n",
       "</div>"
      ],
      "text/plain": [
       "       num_of_loan customer_id             name\n",
       "31          -100.0  CUS_0xb891           Jasond\n",
       "34          -100.0  CUS_0x1cdb           Deepaa\n",
       "39          -100.0  CUS_0x1cdb           Deepaa\n",
       "53          -100.0  CUS_0x284a           Nadiaq\n",
       "61          -100.0  CUS_0x5407             Annk\n",
       "...            ...         ...              ...\n",
       "99877       -100.0  CUS_0x3855            Xolai\n",
       "99901       -100.0  CUS_0x4986  Charles Abbotta\n",
       "99902       -100.0  CUS_0x4986  Charles Abbotta\n",
       "99969       -100.0   CUS_0xf16   Maria Sheahanb\n",
       "99987       -100.0  CUS_0x8600   Sarah McBridec\n",
       "\n",
       "[3876 rows x 3 columns]"
      ]
     },
     "execution_count": 24,
     "metadata": {},
     "output_type": "execute_result"
    }
   ],
   "source": [
    "num_of_loans_check = df[df['num_of_loan'] == -100][['num_of_loan', 'customer_id', 'name']]\n",
    "num_of_loans_check"
   ]
  },
  {
   "cell_type": "markdown",
   "id": "eaf7e613-824d-480c-80eb-ea11dbd5e8cd",
   "metadata": {},
   "source": [
    "Let's look at some of the clients with num_of_loan = -100:"
   ]
  },
  {
   "cell_type": "code",
   "execution_count": 25,
   "id": "32776be7-80fb-41ca-b911-416757b41455",
   "metadata": {},
   "outputs": [
    {
     "data": {
      "text/html": [
       "<div>\n",
       "<style scoped>\n",
       "    .dataframe tbody tr th:only-of-type {\n",
       "        vertical-align: middle;\n",
       "    }\n",
       "\n",
       "    .dataframe tbody tr th {\n",
       "        vertical-align: top;\n",
       "    }\n",
       "\n",
       "    .dataframe thead th {\n",
       "        text-align: right;\n",
       "    }\n",
       "</style>\n",
       "<table border=\"1\" class=\"dataframe\">\n",
       "  <thead>\n",
       "    <tr style=\"text-align: right;\">\n",
       "      <th></th>\n",
       "      <th>month</th>\n",
       "      <th>type_of_loan</th>\n",
       "      <th>num_of_loan</th>\n",
       "    </tr>\n",
       "  </thead>\n",
       "  <tbody>\n",
       "    <tr>\n",
       "      <th>56</th>\n",
       "      <td>January</td>\n",
       "      <td>Not Specified, Auto Loan, and Student Loan</td>\n",
       "      <td>3.0</td>\n",
       "    </tr>\n",
       "    <tr>\n",
       "      <th>57</th>\n",
       "      <td>February</td>\n",
       "      <td>Not Specified, Auto Loan, and Student Loan</td>\n",
       "      <td>3.0</td>\n",
       "    </tr>\n",
       "    <tr>\n",
       "      <th>58</th>\n",
       "      <td>March</td>\n",
       "      <td>Not Specified, Auto Loan, and Student Loan</td>\n",
       "      <td>3.0</td>\n",
       "    </tr>\n",
       "    <tr>\n",
       "      <th>59</th>\n",
       "      <td>April</td>\n",
       "      <td>Not Specified, Auto Loan, and Student Loan</td>\n",
       "      <td>3.0</td>\n",
       "    </tr>\n",
       "    <tr>\n",
       "      <th>60</th>\n",
       "      <td>May</td>\n",
       "      <td>Not Specified, Auto Loan, and Student Loan</td>\n",
       "      <td>3.0</td>\n",
       "    </tr>\n",
       "    <tr>\n",
       "      <th>61</th>\n",
       "      <td>June</td>\n",
       "      <td>Not Specified, Auto Loan, and Student Loan</td>\n",
       "      <td>-100.0</td>\n",
       "    </tr>\n",
       "    <tr>\n",
       "      <th>62</th>\n",
       "      <td>July</td>\n",
       "      <td>Not Specified, Auto Loan, and Student Loan</td>\n",
       "      <td>3.0</td>\n",
       "    </tr>\n",
       "    <tr>\n",
       "      <th>63</th>\n",
       "      <td>August</td>\n",
       "      <td>Not Specified, Auto Loan, and Student Loan</td>\n",
       "      <td>3.0</td>\n",
       "    </tr>\n",
       "  </tbody>\n",
       "</table>\n",
       "</div>"
      ],
      "text/plain": [
       "       month                                type_of_loan  num_of_loan\n",
       "56   January  Not Specified, Auto Loan, and Student Loan          3.0\n",
       "57  February  Not Specified, Auto Loan, and Student Loan          3.0\n",
       "58     March  Not Specified, Auto Loan, and Student Loan          3.0\n",
       "59     April  Not Specified, Auto Loan, and Student Loan          3.0\n",
       "60       May  Not Specified, Auto Loan, and Student Loan          3.0\n",
       "61      June  Not Specified, Auto Loan, and Student Loan       -100.0\n",
       "62      July  Not Specified, Auto Loan, and Student Loan          3.0\n",
       "63    August  Not Specified, Auto Loan, and Student Loan          3.0"
      ]
     },
     "execution_count": 25,
     "metadata": {},
     "output_type": "execute_result"
    }
   ],
   "source": [
    "df[df['customer_id'] == 'CUS_0x5407'][['month', 'type_of_loan', 'num_of_loan']]"
   ]
  },
  {
   "cell_type": "code",
   "execution_count": 26,
   "id": "a2021d39-4b34-4dc9-9a4a-8d318c21cf35",
   "metadata": {},
   "outputs": [
    {
     "data": {
      "text/html": [
       "<div>\n",
       "<style scoped>\n",
       "    .dataframe tbody tr th:only-of-type {\n",
       "        vertical-align: middle;\n",
       "    }\n",
       "\n",
       "    .dataframe tbody tr th {\n",
       "        vertical-align: top;\n",
       "    }\n",
       "\n",
       "    .dataframe thead th {\n",
       "        text-align: right;\n",
       "    }\n",
       "</style>\n",
       "<table border=\"1\" class=\"dataframe\">\n",
       "  <thead>\n",
       "    <tr style=\"text-align: right;\">\n",
       "      <th></th>\n",
       "      <th>month</th>\n",
       "      <th>type_of_loan</th>\n",
       "      <th>num_of_loan</th>\n",
       "    </tr>\n",
       "  </thead>\n",
       "  <tbody>\n",
       "    <tr>\n",
       "      <th>64</th>\n",
       "      <td>January</td>\n",
       "      <td>Personal Loan, Debt Consolidation Loan, and Au...</td>\n",
       "      <td>-100.0</td>\n",
       "    </tr>\n",
       "    <tr>\n",
       "      <th>65</th>\n",
       "      <td>February</td>\n",
       "      <td>Personal Loan, Debt Consolidation Loan, and Au...</td>\n",
       "      <td>3.0</td>\n",
       "    </tr>\n",
       "    <tr>\n",
       "      <th>66</th>\n",
       "      <td>March</td>\n",
       "      <td>Personal Loan, Debt Consolidation Loan, and Au...</td>\n",
       "      <td>3.0</td>\n",
       "    </tr>\n",
       "    <tr>\n",
       "      <th>67</th>\n",
       "      <td>April</td>\n",
       "      <td>Personal Loan, Debt Consolidation Loan, and Au...</td>\n",
       "      <td>3.0</td>\n",
       "    </tr>\n",
       "    <tr>\n",
       "      <th>68</th>\n",
       "      <td>May</td>\n",
       "      <td>Personal Loan, Debt Consolidation Loan, and Au...</td>\n",
       "      <td>3.0</td>\n",
       "    </tr>\n",
       "    <tr>\n",
       "      <th>69</th>\n",
       "      <td>June</td>\n",
       "      <td>Personal Loan, Debt Consolidation Loan, and Au...</td>\n",
       "      <td>3.0</td>\n",
       "    </tr>\n",
       "    <tr>\n",
       "      <th>70</th>\n",
       "      <td>July</td>\n",
       "      <td>Personal Loan, Debt Consolidation Loan, and Au...</td>\n",
       "      <td>3.0</td>\n",
       "    </tr>\n",
       "    <tr>\n",
       "      <th>71</th>\n",
       "      <td>August</td>\n",
       "      <td>Personal Loan, Debt Consolidation Loan, and Au...</td>\n",
       "      <td>3.0</td>\n",
       "    </tr>\n",
       "  </tbody>\n",
       "</table>\n",
       "</div>"
      ],
      "text/plain": [
       "       month                                       type_of_loan  num_of_loan\n",
       "64   January  Personal Loan, Debt Consolidation Loan, and Au...       -100.0\n",
       "65  February  Personal Loan, Debt Consolidation Loan, and Au...          3.0\n",
       "66     March  Personal Loan, Debt Consolidation Loan, and Au...          3.0\n",
       "67     April  Personal Loan, Debt Consolidation Loan, and Au...          3.0\n",
       "68       May  Personal Loan, Debt Consolidation Loan, and Au...          3.0\n",
       "69      June  Personal Loan, Debt Consolidation Loan, and Au...          3.0\n",
       "70      July  Personal Loan, Debt Consolidation Loan, and Au...          3.0\n",
       "71    August  Personal Loan, Debt Consolidation Loan, and Au...          3.0"
      ]
     },
     "execution_count": 26,
     "metadata": {},
     "output_type": "execute_result"
    }
   ],
   "source": [
    "df[df['customer_id'] == 'CUS_0x4157'][['month', 'type_of_loan', 'num_of_loan']]"
   ]
  },
  {
   "cell_type": "markdown",
   "id": "7eeff575-2979-416b-9476-c1a5d8ffbe82",
   "metadata": {},
   "source": [
    "We can see that in those cases -100 is invalid. So let's set NaN value instead of -100:"
   ]
  },
  {
   "cell_type": "code",
   "execution_count": 27,
   "id": "e214cc82-abd5-4f66-8320-ffbd64cb2e2d",
   "metadata": {},
   "outputs": [],
   "source": [
    "df.loc[df['num_of_loan'] == -100, 'num_of_loan'] = np.nan"
   ]
  },
  {
   "cell_type": "markdown",
   "id": "8aa7d703-995d-477c-9f6f-36081e0a05a7",
   "metadata": {},
   "source": [
    "Also let's look at other values of num_of_loan"
   ]
  },
  {
   "cell_type": "code",
   "execution_count": 28,
   "id": "263f6585-824f-4093-8cd7-e7d34f92e8e6",
   "metadata": {},
   "outputs": [
    {
     "data": {
      "text/plain": [
       "num_of_loan\n",
       "3.0       15104\n",
       "2.0       15032\n",
       "4.0       14743\n",
       "0.0       10930\n",
       "1.0       10606\n",
       "6.0        7803\n",
       "7.0        7344\n",
       "5.0        7197\n",
       "9.0        3702\n",
       "8.0        3191\n",
       "1150.0        4\n",
       "1228.0        3\n",
       "1480.0        3\n",
       "288.0         3\n",
       "773.0         3\n",
       "430.0         3\n",
       "227.0         2\n",
       "1131.0        2\n",
       "192.0         2\n",
       "284.0         2\n",
       "Name: count, dtype: int64"
      ]
     },
     "execution_count": 28,
     "metadata": {},
     "output_type": "execute_result"
    }
   ],
   "source": [
    "df['num_of_loan'].value_counts(sort=True).head(20)"
   ]
  },
  {
   "cell_type": "markdown",
   "id": "fb53377b-63a9-46bc-8c90-68d004511342",
   "metadata": {},
   "source": [
    "This data looks suspicious. What person would have 1000+ loans? Let's look at normalisation of this data:"
   ]
  },
  {
   "cell_type": "code",
   "execution_count": 29,
   "id": "0cab04d7-1f99-449d-94e6-69bada80cd41",
   "metadata": {},
   "outputs": [
    {
     "data": {
      "text/plain": [
       "num_of_loan\n",
       "3.0    0.157130\n",
       "2.0    0.156381\n",
       "4.0    0.153375\n",
       "0.0    0.113707\n",
       "1.0    0.110337\n",
       "6.0    0.081176\n",
       "7.0    0.076401\n",
       "5.0    0.074872\n",
       "9.0    0.038513\n",
       "8.0    0.033197\n",
       "Name: proportion, dtype: float64"
      ]
     },
     "metadata": {},
     "output_type": "display_data"
    },
    {
     "name": "stdout",
     "output_type": "stream",
     "text": [
      "% of num of loans from 0 to 9: 0.9950896758353793\n"
     ]
    }
   ],
   "source": [
    "display(df['num_of_loan'].value_counts(normalize=True, sort=True).head(10))\n",
    "print(f\"% of num of loans from 0 to 9: {df['num_of_loan'].value_counts(normalize=True, sort=True).head(10).sum()}\")"
   ]
  },
  {
   "cell_type": "markdown",
   "id": "193d9f5e-b58f-493f-b4f3-c8ad8bafab02",
   "metadata": {},
   "source": [
    "We can see that over 99.5% of rows has number of loans < 10. So let's assume that number of loans > 10 is a mistake and let's set NaN value instead of any value greater than 9:"
   ]
  },
  {
   "cell_type": "code",
   "execution_count": 30,
   "id": "8d4ff5cc-f1b7-4d3b-990d-c87261d4bcbc",
   "metadata": {},
   "outputs": [],
   "source": [
    "df.loc[df['num_of_loan'] > 9, 'num_of_loan'] = np.nan"
   ]
  },
  {
   "cell_type": "markdown",
   "id": "e0c10055-95e0-4af5-b6a4-392c96453bfe",
   "metadata": {},
   "source": [
    "To fill missing values let's just make num_of_loan equal to number of loans avaliable in the previous month. If there is no info about the previous months, we will take the next month."
   ]
  },
  {
   "cell_type": "code",
   "execution_count": 31,
   "id": "72071a93-8ba0-41fe-9a0c-b19bedf9149e",
   "metadata": {},
   "outputs": [
    {
     "data": {
      "text/plain": [
       "np.int64(4348)"
      ]
     },
     "execution_count": 31,
     "metadata": {},
     "output_type": "execute_result"
    }
   ],
   "source": [
    "df['num_of_loan'].isna().sum()"
   ]
  },
  {
   "cell_type": "code",
   "execution_count": 32,
   "id": "80b8efd8-bee1-497a-b933-f4196819f6d3",
   "metadata": {},
   "outputs": [
    {
     "name": "stderr",
     "output_type": "stream",
     "text": [
      "/var/folders/9z/rhfc541d14q5klxp9lqvgx8m0000gq/T/ipykernel_94310/3368487835.py:1: FutureWarning: DataFrameGroupBy.fillna is deprecated and will be removed in a future version. Use obj.ffill() or obj.bfill() for forward or backward filling instead. If you want to fill with a single value, use DataFrame.fillna instead\n",
      "  df['num_of_loan'] = df[['customer_id', 'num_of_loan', 'month_number']].sort_values('month_number').groupby('customer_id').fillna(method='ffill').fillna(method='bfill').sort_index()['num_of_loan']\n",
      "/var/folders/9z/rhfc541d14q5klxp9lqvgx8m0000gq/T/ipykernel_94310/3368487835.py:1: FutureWarning: DataFrame.fillna with 'method' is deprecated and will raise in a future version. Use obj.ffill() or obj.bfill() instead.\n",
      "  df['num_of_loan'] = df[['customer_id', 'num_of_loan', 'month_number']].sort_values('month_number').groupby('customer_id').fillna(method='ffill').fillna(method='bfill').sort_index()['num_of_loan']\n"
     ]
    }
   ],
   "source": [
    "df['num_of_loan'] = df[['customer_id', 'num_of_loan', 'month_number']].sort_values('month_number').groupby('customer_id').fillna(method='ffill').fillna(method='bfill').sort_index()['num_of_loan']"
   ]
  },
  {
   "cell_type": "code",
   "execution_count": 33,
   "id": "4dd6f2e0-aa2b-4dfd-82ba-d69808c3b423",
   "metadata": {},
   "outputs": [
    {
     "data": {
      "text/plain": [
       "np.int64(0)"
      ]
     },
     "execution_count": 33,
     "metadata": {},
     "output_type": "execute_result"
    }
   ],
   "source": [
    "df['num_of_loan'].isna().sum()"
   ]
  },
  {
   "cell_type": "markdown",
   "id": "699b344a-aa20-4e67-907a-5d40753d6743",
   "metadata": {
    "jp-MarkdownHeadingCollapsed": true
   },
   "source": [
    "### type_of_loan"
   ]
  },
  {
   "cell_type": "code",
   "execution_count": 34,
   "id": "dcc952c1-4fc7-4ff9-84a4-96d8954492fa",
   "metadata": {},
   "outputs": [
    {
     "data": {
      "text/plain": [
       "['Auto Loan, Credit-Builder Loan, Personal Loan, and Home Equity Loan',\n",
       " 'Credit-Builder Loan',\n",
       " 'Auto Loan, Auto Loan, and Not Specified',\n",
       " 'Not Specified',\n",
       " 'Credit-Builder Loan, and Mortgage Loan',\n",
       " 'Not Specified, Auto Loan, and Student Loan',\n",
       " 'Personal Loan, Debt Consolidation Loan, and Auto Loan',\n",
       " 'Not Specified, and Payday Loan',\n",
       " 'Credit-Builder Loan, Personal Loan, and Auto Loan',\n",
       " 'Payday Loan, and Payday Loan']"
      ]
     },
     "execution_count": 34,
     "metadata": {},
     "output_type": "execute_result"
    }
   ],
   "source": [
    "all_loans_strings = list(df['type_of_loan'].dropna().unique())\n",
    "all_loans_strings[:10]"
   ]
  },
  {
   "cell_type": "markdown",
   "id": "abed2e0e-59c1-4d7a-9b45-e8fd90e1943c",
   "metadata": {},
   "source": [
    "We can see that values are really different, but we are interested in all unique kinds of types:"
   ]
  },
  {
   "cell_type": "code",
   "execution_count": 35,
   "id": "17d78f32-6556-4e97-8fb5-9c4224273673",
   "metadata": {},
   "outputs": [
    {
     "name": "stdout",
     "output_type": "stream",
     "text": [
      "{'Debt Consolidation Loan', 'Payday Loan', 'Credit-Builder Loan', 'Auto Loan', 'Home Equity Loan', 'Personal Loan', 'Not Specified', 'Mortgage Loan', 'Student Loan'}\n"
     ]
    }
   ],
   "source": [
    "unique_types = set()\n",
    "for string_ in all_loans_strings:\n",
    "    for type_ in string_.split(','):\n",
    "        n_type = type_.replace(\" and \",\"\").strip()\n",
    "        unique_types.add(n_type)\n",
    "print(unique_types)"
   ]
  },
  {
   "cell_type": "markdown",
   "id": "7353ec00-33ff-4f02-84ae-4834a70f471e",
   "metadata": {},
   "source": [
    "Let's look closer at this column, that represents the types of loan taken by a person. I assume we can fill empty values by using previuos data from the same client.\n",
    "\n"
   ]
  },
  {
   "cell_type": "code",
   "execution_count": 36,
   "id": "c14a18f3-c93c-4f64-83bc-2024a4c71eba",
   "metadata": {},
   "outputs": [
    {
     "data": {
      "text/plain": [
       "['CUS_0x1cdb', 'CUS_0x95ee', 'CUS_0x6070', 'CUS_0x3553', 'CUS_0x132f']"
      ]
     },
     "execution_count": 36,
     "metadata": {},
     "output_type": "execute_result"
    }
   ],
   "source": [
    "clients_with_nan_loans = list(df[df['type_of_loan'].isna()]['customer_id'].unique())\n",
    "clients_with_nan_loans[:5]"
   ]
  },
  {
   "cell_type": "code",
   "execution_count": 37,
   "id": "db8d74bc-a7ef-4f29-bcc0-49795c7230fb",
   "metadata": {},
   "outputs": [
    {
     "data": {
      "text/html": [
       "<div>\n",
       "<style scoped>\n",
       "    .dataframe tbody tr th:only-of-type {\n",
       "        vertical-align: middle;\n",
       "    }\n",
       "\n",
       "    .dataframe tbody tr th {\n",
       "        vertical-align: top;\n",
       "    }\n",
       "\n",
       "    .dataframe thead th {\n",
       "        text-align: right;\n",
       "    }\n",
       "</style>\n",
       "<table border=\"1\" class=\"dataframe\">\n",
       "  <thead>\n",
       "    <tr style=\"text-align: right;\">\n",
       "      <th></th>\n",
       "      <th>type_of_loan</th>\n",
       "      <th>num_of_loan</th>\n",
       "    </tr>\n",
       "  </thead>\n",
       "  <tbody>\n",
       "    <tr>\n",
       "      <th>32</th>\n",
       "      <td>NaN</td>\n",
       "      <td>0.0</td>\n",
       "    </tr>\n",
       "    <tr>\n",
       "      <th>33</th>\n",
       "      <td>NaN</td>\n",
       "      <td>0.0</td>\n",
       "    </tr>\n",
       "    <tr>\n",
       "      <th>34</th>\n",
       "      <td>NaN</td>\n",
       "      <td>0.0</td>\n",
       "    </tr>\n",
       "    <tr>\n",
       "      <th>35</th>\n",
       "      <td>NaN</td>\n",
       "      <td>0.0</td>\n",
       "    </tr>\n",
       "    <tr>\n",
       "      <th>36</th>\n",
       "      <td>NaN</td>\n",
       "      <td>0.0</td>\n",
       "    </tr>\n",
       "    <tr>\n",
       "      <th>37</th>\n",
       "      <td>NaN</td>\n",
       "      <td>0.0</td>\n",
       "    </tr>\n",
       "    <tr>\n",
       "      <th>38</th>\n",
       "      <td>NaN</td>\n",
       "      <td>0.0</td>\n",
       "    </tr>\n",
       "    <tr>\n",
       "      <th>39</th>\n",
       "      <td>NaN</td>\n",
       "      <td>0.0</td>\n",
       "    </tr>\n",
       "  </tbody>\n",
       "</table>\n",
       "</div>"
      ],
      "text/plain": [
       "   type_of_loan  num_of_loan\n",
       "32          NaN          0.0\n",
       "33          NaN          0.0\n",
       "34          NaN          0.0\n",
       "35          NaN          0.0\n",
       "36          NaN          0.0\n",
       "37          NaN          0.0\n",
       "38          NaN          0.0\n",
       "39          NaN          0.0"
      ]
     },
     "execution_count": 37,
     "metadata": {},
     "output_type": "execute_result"
    }
   ],
   "source": [
    "df[df['customer_id'] == clients_with_nan_loans[0]][['type_of_loan', 'num_of_loan']]"
   ]
  },
  {
   "cell_type": "code",
   "execution_count": 38,
   "id": "6059b404-4808-4358-a642-302f56587fbc",
   "metadata": {},
   "outputs": [
    {
     "data": {
      "text/html": [
       "<div>\n",
       "<style scoped>\n",
       "    .dataframe tbody tr th:only-of-type {\n",
       "        vertical-align: middle;\n",
       "    }\n",
       "\n",
       "    .dataframe tbody tr th {\n",
       "        vertical-align: top;\n",
       "    }\n",
       "\n",
       "    .dataframe thead th {\n",
       "        text-align: right;\n",
       "    }\n",
       "</style>\n",
       "<table border=\"1\" class=\"dataframe\">\n",
       "  <thead>\n",
       "    <tr style=\"text-align: right;\">\n",
       "      <th></th>\n",
       "      <th>type_of_loan</th>\n",
       "      <th>num_of_loan</th>\n",
       "    </tr>\n",
       "  </thead>\n",
       "  <tbody>\n",
       "    <tr>\n",
       "      <th>99904</th>\n",
       "      <td>NaN</td>\n",
       "      <td>0.0</td>\n",
       "    </tr>\n",
       "    <tr>\n",
       "      <th>99905</th>\n",
       "      <td>NaN</td>\n",
       "      <td>0.0</td>\n",
       "    </tr>\n",
       "    <tr>\n",
       "      <th>99906</th>\n",
       "      <td>NaN</td>\n",
       "      <td>0.0</td>\n",
       "    </tr>\n",
       "    <tr>\n",
       "      <th>99907</th>\n",
       "      <td>NaN</td>\n",
       "      <td>0.0</td>\n",
       "    </tr>\n",
       "    <tr>\n",
       "      <th>99908</th>\n",
       "      <td>NaN</td>\n",
       "      <td>0.0</td>\n",
       "    </tr>\n",
       "    <tr>\n",
       "      <th>99909</th>\n",
       "      <td>NaN</td>\n",
       "      <td>0.0</td>\n",
       "    </tr>\n",
       "    <tr>\n",
       "      <th>99910</th>\n",
       "      <td>NaN</td>\n",
       "      <td>0.0</td>\n",
       "    </tr>\n",
       "    <tr>\n",
       "      <th>99911</th>\n",
       "      <td>NaN</td>\n",
       "      <td>0.0</td>\n",
       "    </tr>\n",
       "  </tbody>\n",
       "</table>\n",
       "</div>"
      ],
      "text/plain": [
       "      type_of_loan  num_of_loan\n",
       "99904          NaN          0.0\n",
       "99905          NaN          0.0\n",
       "99906          NaN          0.0\n",
       "99907          NaN          0.0\n",
       "99908          NaN          0.0\n",
       "99909          NaN          0.0\n",
       "99910          NaN          0.0\n",
       "99911          NaN          0.0"
      ]
     },
     "execution_count": 38,
     "metadata": {},
     "output_type": "execute_result"
    }
   ],
   "source": [
    "df[df['customer_id'] == clients_with_nan_loans[-2]][['type_of_loan', 'num_of_loan']]"
   ]
  },
  {
   "cell_type": "markdown",
   "id": "0bb6ca42-f827-4cec-82d4-0dd678409f6e",
   "metadata": {},
   "source": [
    "It seems like type_of_loan is NaN if num_of_loan == 0. Let's check that:"
   ]
  },
  {
   "cell_type": "code",
   "execution_count": 39,
   "id": "34f7ba80-0731-45c6-a4ed-656150372737",
   "metadata": {},
   "outputs": [
    {
     "name": "stderr",
     "output_type": "stream",
     "text": [
      "/var/folders/9z/rhfc541d14q5klxp9lqvgx8m0000gq/T/ipykernel_94310/1229599172.py:5: FutureWarning: Downcasting object dtype arrays on .fillna, .ffill, .bfill is deprecated and will change in a future version. Call result.infer_objects(copy=False) instead. To opt-in to the future behavior, set `pd.set_option('future.no_silent_downcasting', True)`\n",
      "  if not (all(group['type_of_loan'].fillna(0.0) == group['num_of_loan'])):\n"
     ]
    },
    {
     "data": {
      "text/html": [
       "<div>\n",
       "<style scoped>\n",
       "    .dataframe tbody tr th:only-of-type {\n",
       "        vertical-align: middle;\n",
       "    }\n",
       "\n",
       "    .dataframe tbody tr th {\n",
       "        vertical-align: top;\n",
       "    }\n",
       "\n",
       "    .dataframe thead th {\n",
       "        text-align: right;\n",
       "    }\n",
       "</style>\n",
       "<table border=\"1\" class=\"dataframe\">\n",
       "  <thead>\n",
       "    <tr style=\"text-align: right;\">\n",
       "      <th></th>\n",
       "      <th>customer_id</th>\n",
       "      <th>type_of_loan</th>\n",
       "      <th>num_of_loan</th>\n",
       "      <th>month_number</th>\n",
       "    </tr>\n",
       "  </thead>\n",
       "  <tbody>\n",
       "    <tr>\n",
       "      <th>57504</th>\n",
       "      <td>CUS_0xc4e7</td>\n",
       "      <td>NaN</td>\n",
       "      <td>3.0</td>\n",
       "      <td>1</td>\n",
       "    </tr>\n",
       "    <tr>\n",
       "      <th>57505</th>\n",
       "      <td>CUS_0xc4e7</td>\n",
       "      <td>NaN</td>\n",
       "      <td>0.0</td>\n",
       "      <td>2</td>\n",
       "    </tr>\n",
       "    <tr>\n",
       "      <th>57506</th>\n",
       "      <td>CUS_0xc4e7</td>\n",
       "      <td>NaN</td>\n",
       "      <td>0.0</td>\n",
       "      <td>3</td>\n",
       "    </tr>\n",
       "    <tr>\n",
       "      <th>57507</th>\n",
       "      <td>CUS_0xc4e7</td>\n",
       "      <td>NaN</td>\n",
       "      <td>0.0</td>\n",
       "      <td>4</td>\n",
       "    </tr>\n",
       "    <tr>\n",
       "      <th>57508</th>\n",
       "      <td>CUS_0xc4e7</td>\n",
       "      <td>NaN</td>\n",
       "      <td>0.0</td>\n",
       "      <td>5</td>\n",
       "    </tr>\n",
       "    <tr>\n",
       "      <th>57509</th>\n",
       "      <td>CUS_0xc4e7</td>\n",
       "      <td>NaN</td>\n",
       "      <td>0.0</td>\n",
       "      <td>6</td>\n",
       "    </tr>\n",
       "    <tr>\n",
       "      <th>57510</th>\n",
       "      <td>CUS_0xc4e7</td>\n",
       "      <td>NaN</td>\n",
       "      <td>0.0</td>\n",
       "      <td>7</td>\n",
       "    </tr>\n",
       "    <tr>\n",
       "      <th>57511</th>\n",
       "      <td>CUS_0xc4e7</td>\n",
       "      <td>NaN</td>\n",
       "      <td>0.0</td>\n",
       "      <td>8</td>\n",
       "    </tr>\n",
       "  </tbody>\n",
       "</table>\n",
       "</div>"
      ],
      "text/plain": [
       "      customer_id type_of_loan  num_of_loan  month_number\n",
       "57504  CUS_0xc4e7          NaN          3.0             1\n",
       "57505  CUS_0xc4e7          NaN          0.0             2\n",
       "57506  CUS_0xc4e7          NaN          0.0             3\n",
       "57507  CUS_0xc4e7          NaN          0.0             4\n",
       "57508  CUS_0xc4e7          NaN          0.0             5\n",
       "57509  CUS_0xc4e7          NaN          0.0             6\n",
       "57510  CUS_0xc4e7          NaN          0.0             7\n",
       "57511  CUS_0xc4e7          NaN          0.0             8"
      ]
     },
     "metadata": {},
     "output_type": "display_data"
    },
    {
     "name": "stdout",
     "output_type": "stream",
     "text": [
      "59\n"
     ]
    },
    {
     "name": "stderr",
     "output_type": "stream",
     "text": [
      "/var/folders/9z/rhfc541d14q5klxp9lqvgx8m0000gq/T/ipykernel_94310/1229599172.py:5: FutureWarning: Downcasting object dtype arrays on .fillna, .ffill, .bfill is deprecated and will change in a future version. Call result.infer_objects(copy=False) instead. To opt-in to the future behavior, set `pd.set_option('future.no_silent_downcasting', True)`\n",
      "  if not (all(group['type_of_loan'].fillna(0.0) == group['num_of_loan'])):\n"
     ]
    }
   ],
   "source": [
    "customers_groups = df.groupby('customer_id')\n",
    "counter = 0\n",
    "for cid in clients_with_nan_loans:\n",
    "    group = customers_groups.get_group(cid)\n",
    "    if not (all(group['type_of_loan'].fillna(0.0) == group['num_of_loan'])):\n",
    "        counter += 1\n",
    "        if counter == 30:\n",
    "            display(group[['customer_id', 'type_of_loan', 'num_of_loan', 'month_number']])\n",
    "print(counter)"
   ]
  },
  {
   "cell_type": "code",
   "execution_count": 40,
   "id": "54e8dfd5-bfc4-4e90-9688-3c55c999d4de",
   "metadata": {},
   "outputs": [
    {
     "data": {
      "text/plain": [
       "np.int64(11408)"
      ]
     },
     "execution_count": 40,
     "metadata": {},
     "output_type": "execute_result"
    }
   ],
   "source": [
    "df.type_of_loan.isna().sum()"
   ]
  },
  {
   "cell_type": "markdown",
   "id": "78cdc499-7503-48e3-9c54-db83b9ca7629",
   "metadata": {},
   "source": [
    "As we can see it's possible that type_of_loan is NaN, but num_of_loan is reasonable values. \n",
    "In this case we will fill type_of_loan \"Not Specified\" value, and otherwise we will create new value \"No loans\""
   ]
  },
  {
   "cell_type": "code",
   "execution_count": 48,
   "id": "8cf84405-f721-4ce1-b1f4-c4c12463ecd9",
   "metadata": {},
   "outputs": [
    {
     "data": {
      "text/plain": [
       "Index([   32,    33,    34,    35,    36,    37,    38,    39,    40,    41,\n",
       "       ...\n",
       "       99910, 99911, 99936, 99937, 99938, 99939, 99940, 99941, 99942, 99943],\n",
       "      dtype='int64', length=11409)"
      ]
     },
     "execution_count": 48,
     "metadata": {},
     "output_type": "execute_result"
    }
   ],
   "source": [
    "no_loans_index = df[df['num_of_loan'] == 0.0].index\n",
    "no_loans_index"
   ]
  },
  {
   "cell_type": "code",
   "execution_count": 51,
   "id": "224aae21-627e-4073-b9c4-f5f664811346",
   "metadata": {},
   "outputs": [],
   "source": [
    "df.loc[no_loans_index, ['type_of_loan']] = \"No loans\""
   ]
  },
  {
   "cell_type": "code",
   "execution_count": 52,
   "id": "a9c53fbc-623d-4377-a933-76a7f3e269c6",
   "metadata": {},
   "outputs": [
    {
     "data": {
      "text/html": [
       "<div>\n",
       "<style scoped>\n",
       "    .dataframe tbody tr th:only-of-type {\n",
       "        vertical-align: middle;\n",
       "    }\n",
       "\n",
       "    .dataframe tbody tr th {\n",
       "        vertical-align: top;\n",
       "    }\n",
       "\n",
       "    .dataframe thead th {\n",
       "        text-align: right;\n",
       "    }\n",
       "</style>\n",
       "<table border=\"1\" class=\"dataframe\">\n",
       "  <thead>\n",
       "    <tr style=\"text-align: right;\">\n",
       "      <th></th>\n",
       "      <th>type_of_loan</th>\n",
       "      <th>num_of_loan</th>\n",
       "    </tr>\n",
       "  </thead>\n",
       "  <tbody>\n",
       "    <tr>\n",
       "      <th>32</th>\n",
       "      <td>No loans</td>\n",
       "      <td>0.0</td>\n",
       "    </tr>\n",
       "    <tr>\n",
       "      <th>33</th>\n",
       "      <td>No loans</td>\n",
       "      <td>0.0</td>\n",
       "    </tr>\n",
       "    <tr>\n",
       "      <th>34</th>\n",
       "      <td>No loans</td>\n",
       "      <td>0.0</td>\n",
       "    </tr>\n",
       "    <tr>\n",
       "      <th>35</th>\n",
       "      <td>No loans</td>\n",
       "      <td>0.0</td>\n",
       "    </tr>\n",
       "    <tr>\n",
       "      <th>36</th>\n",
       "      <td>No loans</td>\n",
       "      <td>0.0</td>\n",
       "    </tr>\n",
       "    <tr>\n",
       "      <th>37</th>\n",
       "      <td>No loans</td>\n",
       "      <td>0.0</td>\n",
       "    </tr>\n",
       "    <tr>\n",
       "      <th>38</th>\n",
       "      <td>No loans</td>\n",
       "      <td>0.0</td>\n",
       "    </tr>\n",
       "    <tr>\n",
       "      <th>39</th>\n",
       "      <td>No loans</td>\n",
       "      <td>0.0</td>\n",
       "    </tr>\n",
       "  </tbody>\n",
       "</table>\n",
       "</div>"
      ],
      "text/plain": [
       "   type_of_loan  num_of_loan\n",
       "32     No loans          0.0\n",
       "33     No loans          0.0\n",
       "34     No loans          0.0\n",
       "35     No loans          0.0\n",
       "36     No loans          0.0\n",
       "37     No loans          0.0\n",
       "38     No loans          0.0\n",
       "39     No loans          0.0"
      ]
     },
     "execution_count": 52,
     "metadata": {},
     "output_type": "execute_result"
    }
   ],
   "source": [
    "df[df['customer_id'] == clients_with_nan_loans[0]][['type_of_loan', 'num_of_loan']]"
   ]
  },
  {
   "cell_type": "code",
   "execution_count": 59,
   "id": "12a3ab0b-7e83-44e4-bbf9-77747d63e5ca",
   "metadata": {},
   "outputs": [
    {
     "data": {
      "text/html": [
       "<div>\n",
       "<style scoped>\n",
       "    .dataframe tbody tr th:only-of-type {\n",
       "        vertical-align: middle;\n",
       "    }\n",
       "\n",
       "    .dataframe tbody tr th {\n",
       "        vertical-align: top;\n",
       "    }\n",
       "\n",
       "    .dataframe thead th {\n",
       "        text-align: right;\n",
       "    }\n",
       "</style>\n",
       "<table border=\"1\" class=\"dataframe\">\n",
       "  <thead>\n",
       "    <tr style=\"text-align: right;\">\n",
       "      <th></th>\n",
       "      <th>customer_id</th>\n",
       "      <th>type_of_loan</th>\n",
       "      <th>num_of_loan</th>\n",
       "      <th>month_number</th>\n",
       "    </tr>\n",
       "  </thead>\n",
       "  <tbody>\n",
       "    <tr>\n",
       "      <th>712</th>\n",
       "      <td>CUS_0x3861</td>\n",
       "      <td>NaN</td>\n",
       "      <td>2.0</td>\n",
       "      <td>1</td>\n",
       "    </tr>\n",
       "    <tr>\n",
       "      <th>2496</th>\n",
       "      <td>CUS_0x79b</td>\n",
       "      <td>NaN</td>\n",
       "      <td>1.0</td>\n",
       "      <td>1</td>\n",
       "    </tr>\n",
       "    <tr>\n",
       "      <th>2984</th>\n",
       "      <td>CUS_0xa560</td>\n",
       "      <td>NaN</td>\n",
       "      <td>3.0</td>\n",
       "      <td>1</td>\n",
       "    </tr>\n",
       "    <tr>\n",
       "      <th>6832</th>\n",
       "      <td>CUS_0x6b15</td>\n",
       "      <td>NaN</td>\n",
       "      <td>3.0</td>\n",
       "      <td>1</td>\n",
       "    </tr>\n",
       "    <tr>\n",
       "      <th>6880</th>\n",
       "      <td>CUS_0x29d2</td>\n",
       "      <td>NaN</td>\n",
       "      <td>4.0</td>\n",
       "      <td>1</td>\n",
       "    </tr>\n",
       "    <tr>\n",
       "      <th>...</th>\n",
       "      <td>...</td>\n",
       "      <td>...</td>\n",
       "      <td>...</td>\n",
       "      <td>...</td>\n",
       "    </tr>\n",
       "    <tr>\n",
       "      <th>89232</th>\n",
       "      <td>CUS_0xc317</td>\n",
       "      <td>NaN</td>\n",
       "      <td>6.0</td>\n",
       "      <td>1</td>\n",
       "    </tr>\n",
       "    <tr>\n",
       "      <th>89432</th>\n",
       "      <td>CUS_0x58b2</td>\n",
       "      <td>NaN</td>\n",
       "      <td>4.0</td>\n",
       "      <td>1</td>\n",
       "    </tr>\n",
       "    <tr>\n",
       "      <th>89640</th>\n",
       "      <td>CUS_0x2b3c</td>\n",
       "      <td>NaN</td>\n",
       "      <td>3.0</td>\n",
       "      <td>1</td>\n",
       "    </tr>\n",
       "    <tr>\n",
       "      <th>92208</th>\n",
       "      <td>CUS_0x30c1</td>\n",
       "      <td>NaN</td>\n",
       "      <td>3.0</td>\n",
       "      <td>1</td>\n",
       "    </tr>\n",
       "    <tr>\n",
       "      <th>95840</th>\n",
       "      <td>CUS_0x6ae4</td>\n",
       "      <td>NaN</td>\n",
       "      <td>7.0</td>\n",
       "      <td>1</td>\n",
       "    </tr>\n",
       "  </tbody>\n",
       "</table>\n",
       "<p>61 rows × 4 columns</p>\n",
       "</div>"
      ],
      "text/plain": [
       "      customer_id type_of_loan  num_of_loan  month_number\n",
       "712    CUS_0x3861          NaN          2.0             1\n",
       "2496    CUS_0x79b          NaN          1.0             1\n",
       "2984   CUS_0xa560          NaN          3.0             1\n",
       "6832   CUS_0x6b15          NaN          3.0             1\n",
       "6880   CUS_0x29d2          NaN          4.0             1\n",
       "...           ...          ...          ...           ...\n",
       "89232  CUS_0xc317          NaN          6.0             1\n",
       "89432  CUS_0x58b2          NaN          4.0             1\n",
       "89640  CUS_0x2b3c          NaN          3.0             1\n",
       "92208  CUS_0x30c1          NaN          3.0             1\n",
       "95840  CUS_0x6ae4          NaN          7.0             1\n",
       "\n",
       "[61 rows x 4 columns]"
      ]
     },
     "execution_count": 59,
     "metadata": {},
     "output_type": "execute_result"
    }
   ],
   "source": [
    "still_nulls = df.type_of_loan.isna()\n",
    "df[still_nulls][['customer_id', 'type_of_loan', 'num_of_loan', 'month_number']]"
   ]
  },
  {
   "cell_type": "code",
   "execution_count": 60,
   "id": "35e4cb1f-8195-4d8c-96b5-953d63e0eb14",
   "metadata": {},
   "outputs": [
    {
     "data": {
      "text/html": [
       "<div>\n",
       "<style scoped>\n",
       "    .dataframe tbody tr th:only-of-type {\n",
       "        vertical-align: middle;\n",
       "    }\n",
       "\n",
       "    .dataframe tbody tr th {\n",
       "        vertical-align: top;\n",
       "    }\n",
       "\n",
       "    .dataframe thead th {\n",
       "        text-align: right;\n",
       "    }\n",
       "</style>\n",
       "<table border=\"1\" class=\"dataframe\">\n",
       "  <thead>\n",
       "    <tr style=\"text-align: right;\">\n",
       "      <th></th>\n",
       "      <th>customer_id</th>\n",
       "      <th>type_of_loan</th>\n",
       "      <th>num_of_loan</th>\n",
       "      <th>month_number</th>\n",
       "    </tr>\n",
       "  </thead>\n",
       "  <tbody>\n",
       "    <tr>\n",
       "      <th>712</th>\n",
       "      <td>CUS_0x3861</td>\n",
       "      <td>Not Specified</td>\n",
       "      <td>2.0</td>\n",
       "      <td>1</td>\n",
       "    </tr>\n",
       "    <tr>\n",
       "      <th>2496</th>\n",
       "      <td>CUS_0x79b</td>\n",
       "      <td>Not Specified</td>\n",
       "      <td>1.0</td>\n",
       "      <td>1</td>\n",
       "    </tr>\n",
       "    <tr>\n",
       "      <th>2984</th>\n",
       "      <td>CUS_0xa560</td>\n",
       "      <td>Not Specified</td>\n",
       "      <td>3.0</td>\n",
       "      <td>1</td>\n",
       "    </tr>\n",
       "    <tr>\n",
       "      <th>6832</th>\n",
       "      <td>CUS_0x6b15</td>\n",
       "      <td>Not Specified</td>\n",
       "      <td>3.0</td>\n",
       "      <td>1</td>\n",
       "    </tr>\n",
       "    <tr>\n",
       "      <th>6880</th>\n",
       "      <td>CUS_0x29d2</td>\n",
       "      <td>Not Specified</td>\n",
       "      <td>4.0</td>\n",
       "      <td>1</td>\n",
       "    </tr>\n",
       "    <tr>\n",
       "      <th>...</th>\n",
       "      <td>...</td>\n",
       "      <td>...</td>\n",
       "      <td>...</td>\n",
       "      <td>...</td>\n",
       "    </tr>\n",
       "    <tr>\n",
       "      <th>89232</th>\n",
       "      <td>CUS_0xc317</td>\n",
       "      <td>Not Specified</td>\n",
       "      <td>6.0</td>\n",
       "      <td>1</td>\n",
       "    </tr>\n",
       "    <tr>\n",
       "      <th>89432</th>\n",
       "      <td>CUS_0x58b2</td>\n",
       "      <td>Not Specified</td>\n",
       "      <td>4.0</td>\n",
       "      <td>1</td>\n",
       "    </tr>\n",
       "    <tr>\n",
       "      <th>89640</th>\n",
       "      <td>CUS_0x2b3c</td>\n",
       "      <td>Not Specified</td>\n",
       "      <td>3.0</td>\n",
       "      <td>1</td>\n",
       "    </tr>\n",
       "    <tr>\n",
       "      <th>92208</th>\n",
       "      <td>CUS_0x30c1</td>\n",
       "      <td>Not Specified</td>\n",
       "      <td>3.0</td>\n",
       "      <td>1</td>\n",
       "    </tr>\n",
       "    <tr>\n",
       "      <th>95840</th>\n",
       "      <td>CUS_0x6ae4</td>\n",
       "      <td>Not Specified</td>\n",
       "      <td>7.0</td>\n",
       "      <td>1</td>\n",
       "    </tr>\n",
       "  </tbody>\n",
       "</table>\n",
       "<p>61 rows × 4 columns</p>\n",
       "</div>"
      ],
      "text/plain": [
       "      customer_id   type_of_loan  num_of_loan  month_number\n",
       "712    CUS_0x3861  Not Specified          2.0             1\n",
       "2496    CUS_0x79b  Not Specified          1.0             1\n",
       "2984   CUS_0xa560  Not Specified          3.0             1\n",
       "6832   CUS_0x6b15  Not Specified          3.0             1\n",
       "6880   CUS_0x29d2  Not Specified          4.0             1\n",
       "...           ...            ...          ...           ...\n",
       "89232  CUS_0xc317  Not Specified          6.0             1\n",
       "89432  CUS_0x58b2  Not Specified          4.0             1\n",
       "89640  CUS_0x2b3c  Not Specified          3.0             1\n",
       "92208  CUS_0x30c1  Not Specified          3.0             1\n",
       "95840  CUS_0x6ae4  Not Specified          7.0             1\n",
       "\n",
       "[61 rows x 4 columns]"
      ]
     },
     "execution_count": 60,
     "metadata": {},
     "output_type": "execute_result"
    }
   ],
   "source": [
    "df.type_of_loan = df.type_of_loan.fillna('Not Specified')\n",
    "df[still_nulls][['customer_id', 'type_of_loan', 'num_of_loan', 'month_number']]"
   ]
  },
  {
   "cell_type": "markdown",
   "id": "45a93273-479f-4788-843b-ed1ba9d8bbd9",
   "metadata": {},
   "source": [
    "### credit_history_age\n",
    "Represents the age of credit history of the person"
   ]
  },
  {
   "cell_type": "code",
   "execution_count": 77,
   "id": "ece3168b-ca27-474a-b018-be4dfe014993",
   "metadata": {},
   "outputs": [
    {
     "data": {
      "text/plain": [
       "0    22 Years and 1 Months\n",
       "1                      NaN\n",
       "2    22 Years and 3 Months\n",
       "3    22 Years and 4 Months\n",
       "4    22 Years and 5 Months\n",
       "Name: credit_history_age, dtype: object"
      ]
     },
     "execution_count": 77,
     "metadata": {},
     "output_type": "execute_result"
    }
   ],
   "source": [
    "df.credit_history_age.head()"
   ]
  },
  {
   "cell_type": "code",
   "execution_count": 78,
   "id": "a2ea7ebf-2ec0-4156-ae56-73a27df54eca",
   "metadata": {},
   "outputs": [
    {
     "name": "stdout",
     "output_type": "stream",
     "text": [
      "Empty values count: 9030\n"
     ]
    }
   ],
   "source": [
    "print(f\"Empty values count: {df.credit_history_age.isna().sum()}\")"
   ]
  },
  {
   "cell_type": "code",
   "execution_count": 79,
   "id": "8ea07327-c618-4745-a377-ccdca17b4229",
   "metadata": {},
   "outputs": [
    {
     "data": {
      "text/plain": [
       "credit_history_age\n",
       "15 Years and 11 Months    446\n",
       "19 Years and 4 Months     445\n",
       "19 Years and 5 Months     444\n",
       "17 Years and 11 Months    443\n",
       "19 Years and 3 Months     441\n",
       "                         ... \n",
       "0 Years and 3 Months       20\n",
       "0 Years and 2 Months       15\n",
       "33 Years and 7 Months      14\n",
       "33 Years and 8 Months      12\n",
       "0 Years and 1 Months        2\n",
       "Name: count, Length: 404, dtype: int64"
      ]
     },
     "execution_count": 79,
     "metadata": {},
     "output_type": "execute_result"
    }
   ],
   "source": [
    "df.credit_history_age.value_counts()"
   ]
  },
  {
   "cell_type": "markdown",
   "id": "0fbc1119-f0d2-4de8-84c9-e790902b94f8",
   "metadata": {},
   "source": [
    "Let's turn this column into number of months as integer value:"
   ]
  },
  {
   "cell_type": "code",
   "execution_count": 85,
   "id": "d3b5b2cc-77cb-4c47-81b0-cd3e17c5453d",
   "metadata": {},
   "outputs": [
    {
     "data": {
      "text/plain": [
       "np.True_"
      ]
     },
     "execution_count": 85,
     "metadata": {},
     "output_type": "execute_result"
    }
   ],
   "source": [
    "a = np.nan\n",
    "np.isnan(a)"
   ]
  },
  {
   "cell_type": "code",
   "execution_count": 88,
   "id": "4743b5c8-2a54-4475-a26b-97425597ce3e",
   "metadata": {},
   "outputs": [],
   "source": [
    "def credit_history_age_to_int(value: str):\n",
    "    if pd.isnull(value):\n",
    "        return value\n",
    "    years_str, months_str = value.split(' and ')\n",
    "    years = int(years_str.split(' ')[0])\n",
    "    months = int(months_str.split(' ')[0])\n",
    "    return 12 * years + months"
   ]
  },
  {
   "cell_type": "code",
   "execution_count": 90,
   "id": "5baaff7a-e522-41c1-8c45-b086f65f4ea4",
   "metadata": {},
   "outputs": [],
   "source": [
    "df['credit_history_age'] = df['credit_history_age'].apply(credit_history_age_to_int)"
   ]
  },
  {
   "cell_type": "markdown",
   "id": "0775a98a-720e-4f2f-bf08-93681dc5a222",
   "metadata": {},
   "source": [
    "Let's also fill empty values using customer info we gather from other rows:"
   ]
  },
  {
   "cell_type": "code",
   "execution_count": 99,
   "id": "7e0452dd-75fc-41b9-ae0b-1826f3fdbf6b",
   "metadata": {},
   "outputs": [
    {
     "data": {
      "text/html": [
       "<div>\n",
       "<style scoped>\n",
       "    .dataframe tbody tr th:only-of-type {\n",
       "        vertical-align: middle;\n",
       "    }\n",
       "\n",
       "    .dataframe tbody tr th {\n",
       "        vertical-align: top;\n",
       "    }\n",
       "\n",
       "    .dataframe thead th {\n",
       "        text-align: right;\n",
       "    }\n",
       "</style>\n",
       "<table border=\"1\" class=\"dataframe\">\n",
       "  <thead>\n",
       "    <tr style=\"text-align: right;\">\n",
       "      <th></th>\n",
       "      <th>customer_id</th>\n",
       "      <th>credit_history_age</th>\n",
       "    </tr>\n",
       "  </thead>\n",
       "  <tbody>\n",
       "    <tr>\n",
       "      <th>1</th>\n",
       "      <td>CUS_0xd40</td>\n",
       "      <td>NaN</td>\n",
       "    </tr>\n",
       "    <tr>\n",
       "      <th>7</th>\n",
       "      <td>CUS_0xd40</td>\n",
       "      <td>NaN</td>\n",
       "    </tr>\n",
       "    <tr>\n",
       "      <th>19</th>\n",
       "      <td>CUS_0x2dbc</td>\n",
       "      <td>NaN</td>\n",
       "    </tr>\n",
       "    <tr>\n",
       "      <th>40</th>\n",
       "      <td>CUS_0x95ee</td>\n",
       "      <td>NaN</td>\n",
       "    </tr>\n",
       "    <tr>\n",
       "      <th>42</th>\n",
       "      <td>CUS_0x95ee</td>\n",
       "      <td>NaN</td>\n",
       "    </tr>\n",
       "    <tr>\n",
       "      <th>...</th>\n",
       "      <td>...</td>\n",
       "      <td>...</td>\n",
       "    </tr>\n",
       "    <tr>\n",
       "      <th>99944</th>\n",
       "      <td>CUS_0x51b3</td>\n",
       "      <td>NaN</td>\n",
       "    </tr>\n",
       "    <tr>\n",
       "      <th>99963</th>\n",
       "      <td>CUS_0x372c</td>\n",
       "      <td>NaN</td>\n",
       "    </tr>\n",
       "    <tr>\n",
       "      <th>99968</th>\n",
       "      <td>CUS_0xf16</td>\n",
       "      <td>NaN</td>\n",
       "    </tr>\n",
       "    <tr>\n",
       "      <th>99975</th>\n",
       "      <td>CUS_0xf16</td>\n",
       "      <td>NaN</td>\n",
       "    </tr>\n",
       "    <tr>\n",
       "      <th>99990</th>\n",
       "      <td>CUS_0x8600</td>\n",
       "      <td>NaN</td>\n",
       "    </tr>\n",
       "  </tbody>\n",
       "</table>\n",
       "<p>9030 rows × 2 columns</p>\n",
       "</div>"
      ],
      "text/plain": [
       "      customer_id  credit_history_age\n",
       "1       CUS_0xd40                 NaN\n",
       "7       CUS_0xd40                 NaN\n",
       "19     CUS_0x2dbc                 NaN\n",
       "40     CUS_0x95ee                 NaN\n",
       "42     CUS_0x95ee                 NaN\n",
       "...           ...                 ...\n",
       "99944  CUS_0x51b3                 NaN\n",
       "99963  CUS_0x372c                 NaN\n",
       "99968   CUS_0xf16                 NaN\n",
       "99975   CUS_0xf16                 NaN\n",
       "99990  CUS_0x8600                 NaN\n",
       "\n",
       "[9030 rows x 2 columns]"
      ]
     },
     "execution_count": 99,
     "metadata": {},
     "output_type": "execute_result"
    }
   ],
   "source": [
    "df[df['credit_history_age'].isna()][['customer_id', 'credit_history_age']]"
   ]
  },
  {
   "cell_type": "code",
   "execution_count": 101,
   "id": "c8c62b72-e0a5-40dc-898a-64776f35cabc",
   "metadata": {},
   "outputs": [
    {
     "data": {
      "text/html": [
       "<div>\n",
       "<style scoped>\n",
       "    .dataframe tbody tr th:only-of-type {\n",
       "        vertical-align: middle;\n",
       "    }\n",
       "\n",
       "    .dataframe tbody tr th {\n",
       "        vertical-align: top;\n",
       "    }\n",
       "\n",
       "    .dataframe thead th {\n",
       "        text-align: right;\n",
       "    }\n",
       "</style>\n",
       "<table border=\"1\" class=\"dataframe\">\n",
       "  <thead>\n",
       "    <tr style=\"text-align: right;\">\n",
       "      <th></th>\n",
       "      <th>customer_id</th>\n",
       "      <th>month_number</th>\n",
       "      <th>credit_history_age</th>\n",
       "    </tr>\n",
       "  </thead>\n",
       "  <tbody>\n",
       "    <tr>\n",
       "      <th>0</th>\n",
       "      <td>CUS_0xd40</td>\n",
       "      <td>1</td>\n",
       "      <td>265.0</td>\n",
       "    </tr>\n",
       "    <tr>\n",
       "      <th>1</th>\n",
       "      <td>CUS_0xd40</td>\n",
       "      <td>2</td>\n",
       "      <td>NaN</td>\n",
       "    </tr>\n",
       "    <tr>\n",
       "      <th>2</th>\n",
       "      <td>CUS_0xd40</td>\n",
       "      <td>3</td>\n",
       "      <td>267.0</td>\n",
       "    </tr>\n",
       "    <tr>\n",
       "      <th>3</th>\n",
       "      <td>CUS_0xd40</td>\n",
       "      <td>4</td>\n",
       "      <td>268.0</td>\n",
       "    </tr>\n",
       "    <tr>\n",
       "      <th>4</th>\n",
       "      <td>CUS_0xd40</td>\n",
       "      <td>5</td>\n",
       "      <td>269.0</td>\n",
       "    </tr>\n",
       "    <tr>\n",
       "      <th>5</th>\n",
       "      <td>CUS_0xd40</td>\n",
       "      <td>6</td>\n",
       "      <td>270.0</td>\n",
       "    </tr>\n",
       "    <tr>\n",
       "      <th>6</th>\n",
       "      <td>CUS_0xd40</td>\n",
       "      <td>7</td>\n",
       "      <td>271.0</td>\n",
       "    </tr>\n",
       "    <tr>\n",
       "      <th>7</th>\n",
       "      <td>CUS_0xd40</td>\n",
       "      <td>8</td>\n",
       "      <td>NaN</td>\n",
       "    </tr>\n",
       "  </tbody>\n",
       "</table>\n",
       "</div>"
      ],
      "text/plain": [
       "  customer_id  month_number  credit_history_age\n",
       "0   CUS_0xd40             1               265.0\n",
       "1   CUS_0xd40             2                 NaN\n",
       "2   CUS_0xd40             3               267.0\n",
       "3   CUS_0xd40             4               268.0\n",
       "4   CUS_0xd40             5               269.0\n",
       "5   CUS_0xd40             6               270.0\n",
       "6   CUS_0xd40             7               271.0\n",
       "7   CUS_0xd40             8                 NaN"
      ]
     },
     "execution_count": 101,
     "metadata": {},
     "output_type": "execute_result"
    }
   ],
   "source": [
    "df[df['customer_id'] == 'CUS_0xd40'][['customer_id', 'month_number', 'credit_history_age']]"
   ]
  },
  {
   "cell_type": "code",
   "execution_count": null,
   "id": "0d666a17-640e-46bf-8bbf-6747307beb7c",
   "metadata": {},
   "outputs": [],
   "source": []
  }
 ],
 "metadata": {
  "kernelspec": {
   "display_name": "MLzoomcamp_midterm_project",
   "language": "python",
   "name": "mlzoomcamp_midterm_project"
  },
  "language_info": {
   "codemirror_mode": {
    "name": "ipython",
    "version": 3
   },
   "file_extension": ".py",
   "mimetype": "text/x-python",
   "name": "python",
   "nbconvert_exporter": "python",
   "pygments_lexer": "ipython3",
   "version": "3.10.15"
  }
 },
 "nbformat": 4,
 "nbformat_minor": 5
}
