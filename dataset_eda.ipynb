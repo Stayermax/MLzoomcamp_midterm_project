{
 "cells": [
  {
   "cell_type": "markdown",
   "id": "d461110d-ac79-4e9b-91bb-429557e847d7",
   "metadata": {},
   "source": [
    "# Installations"
   ]
  },
  {
   "cell_type": "code",
   "execution_count": 401,
   "id": "bf5cff89-4ea3-443d-ade2-04f39fe2ac43",
   "metadata": {
    "scrolled": true
   },
   "outputs": [
    {
     "name": "stdout",
     "output_type": "stream",
     "text": [
      "Requirement already satisfied: pandas in /Users/vpankrat/opt/anaconda3/envs/midterm_project/lib/python3.10/site-packages (2.2.3)\n",
      "Requirement already satisfied: numpy>=1.22.4 in /Users/vpankrat/opt/anaconda3/envs/midterm_project/lib/python3.10/site-packages (from pandas) (2.1.3)\n",
      "Requirement already satisfied: python-dateutil>=2.8.2 in /Users/vpankrat/opt/anaconda3/envs/midterm_project/lib/python3.10/site-packages (from pandas) (2.9.0.post0)\n",
      "Requirement already satisfied: pytz>=2020.1 in /Users/vpankrat/opt/anaconda3/envs/midterm_project/lib/python3.10/site-packages (from pandas) (2024.2)\n",
      "Requirement already satisfied: tzdata>=2022.7 in /Users/vpankrat/opt/anaconda3/envs/midterm_project/lib/python3.10/site-packages (from pandas) (2024.2)\n",
      "Requirement already satisfied: six>=1.5 in /Users/vpankrat/opt/anaconda3/envs/midterm_project/lib/python3.10/site-packages (from python-dateutil>=2.8.2->pandas) (1.16.0)\n",
      "Requirement already satisfied: numpy in /Users/vpankrat/opt/anaconda3/envs/midterm_project/lib/python3.10/site-packages (2.1.3)\n",
      "Requirement already satisfied: seaborn in /Users/vpankrat/opt/anaconda3/envs/midterm_project/lib/python3.10/site-packages (0.13.2)\n",
      "Requirement already satisfied: numpy!=1.24.0,>=1.20 in /Users/vpankrat/opt/anaconda3/envs/midterm_project/lib/python3.10/site-packages (from seaborn) (2.1.3)\n",
      "Requirement already satisfied: pandas>=1.2 in /Users/vpankrat/opt/anaconda3/envs/midterm_project/lib/python3.10/site-packages (from seaborn) (2.2.3)\n",
      "Requirement already satisfied: matplotlib!=3.6.1,>=3.4 in /Users/vpankrat/opt/anaconda3/envs/midterm_project/lib/python3.10/site-packages (from seaborn) (3.9.2)\n",
      "Requirement already satisfied: contourpy>=1.0.1 in /Users/vpankrat/opt/anaconda3/envs/midterm_project/lib/python3.10/site-packages (from matplotlib!=3.6.1,>=3.4->seaborn) (1.3.1)\n",
      "Requirement already satisfied: cycler>=0.10 in /Users/vpankrat/opt/anaconda3/envs/midterm_project/lib/python3.10/site-packages (from matplotlib!=3.6.1,>=3.4->seaborn) (0.12.1)\n",
      "Requirement already satisfied: fonttools>=4.22.0 in /Users/vpankrat/opt/anaconda3/envs/midterm_project/lib/python3.10/site-packages (from matplotlib!=3.6.1,>=3.4->seaborn) (4.54.1)\n",
      "Requirement already satisfied: kiwisolver>=1.3.1 in /Users/vpankrat/opt/anaconda3/envs/midterm_project/lib/python3.10/site-packages (from matplotlib!=3.6.1,>=3.4->seaborn) (1.4.7)\n",
      "Requirement already satisfied: packaging>=20.0 in /Users/vpankrat/opt/anaconda3/envs/midterm_project/lib/python3.10/site-packages (from matplotlib!=3.6.1,>=3.4->seaborn) (24.2)\n",
      "Requirement already satisfied: pillow>=8 in /Users/vpankrat/opt/anaconda3/envs/midterm_project/lib/python3.10/site-packages (from matplotlib!=3.6.1,>=3.4->seaborn) (11.0.0)\n",
      "Requirement already satisfied: pyparsing>=2.3.1 in /Users/vpankrat/opt/anaconda3/envs/midterm_project/lib/python3.10/site-packages (from matplotlib!=3.6.1,>=3.4->seaborn) (3.2.0)\n",
      "Requirement already satisfied: python-dateutil>=2.7 in /Users/vpankrat/opt/anaconda3/envs/midterm_project/lib/python3.10/site-packages (from matplotlib!=3.6.1,>=3.4->seaborn) (2.9.0.post0)\n",
      "Requirement already satisfied: pytz>=2020.1 in /Users/vpankrat/opt/anaconda3/envs/midterm_project/lib/python3.10/site-packages (from pandas>=1.2->seaborn) (2024.2)\n",
      "Requirement already satisfied: tzdata>=2022.7 in /Users/vpankrat/opt/anaconda3/envs/midterm_project/lib/python3.10/site-packages (from pandas>=1.2->seaborn) (2024.2)\n",
      "Requirement already satisfied: six>=1.5 in /Users/vpankrat/opt/anaconda3/envs/midterm_project/lib/python3.10/site-packages (from python-dateutil>=2.7->matplotlib!=3.6.1,>=3.4->seaborn) (1.16.0)\n",
      "Requirement already satisfied: scikit-learn in /Users/vpankrat/opt/anaconda3/envs/midterm_project/lib/python3.10/site-packages (1.5.2)\n",
      "Requirement already satisfied: numpy>=1.19.5 in /Users/vpankrat/opt/anaconda3/envs/midterm_project/lib/python3.10/site-packages (from scikit-learn) (2.1.3)\n",
      "Requirement already satisfied: scipy>=1.6.0 in /Users/vpankrat/opt/anaconda3/envs/midterm_project/lib/python3.10/site-packages (from scikit-learn) (1.14.1)\n",
      "Requirement already satisfied: joblib>=1.2.0 in /Users/vpankrat/opt/anaconda3/envs/midterm_project/lib/python3.10/site-packages (from scikit-learn) (1.4.2)\n",
      "Requirement already satisfied: threadpoolctl>=3.1.0 in /Users/vpankrat/opt/anaconda3/envs/midterm_project/lib/python3.10/site-packages (from scikit-learn) (3.5.0)\n",
      "Requirement already satisfied: matplotlib in /Users/vpankrat/opt/anaconda3/envs/midterm_project/lib/python3.10/site-packages (3.9.2)\n",
      "Requirement already satisfied: contourpy>=1.0.1 in /Users/vpankrat/opt/anaconda3/envs/midterm_project/lib/python3.10/site-packages (from matplotlib) (1.3.1)\n",
      "Requirement already satisfied: cycler>=0.10 in /Users/vpankrat/opt/anaconda3/envs/midterm_project/lib/python3.10/site-packages (from matplotlib) (0.12.1)\n",
      "Requirement already satisfied: fonttools>=4.22.0 in /Users/vpankrat/opt/anaconda3/envs/midterm_project/lib/python3.10/site-packages (from matplotlib) (4.54.1)\n",
      "Requirement already satisfied: kiwisolver>=1.3.1 in /Users/vpankrat/opt/anaconda3/envs/midterm_project/lib/python3.10/site-packages (from matplotlib) (1.4.7)\n",
      "Requirement already satisfied: numpy>=1.23 in /Users/vpankrat/opt/anaconda3/envs/midterm_project/lib/python3.10/site-packages (from matplotlib) (2.1.3)\n",
      "Requirement already satisfied: packaging>=20.0 in /Users/vpankrat/opt/anaconda3/envs/midterm_project/lib/python3.10/site-packages (from matplotlib) (24.2)\n",
      "Requirement already satisfied: pillow>=8 in /Users/vpankrat/opt/anaconda3/envs/midterm_project/lib/python3.10/site-packages (from matplotlib) (11.0.0)\n",
      "Requirement already satisfied: pyparsing>=2.3.1 in /Users/vpankrat/opt/anaconda3/envs/midterm_project/lib/python3.10/site-packages (from matplotlib) (3.2.0)\n",
      "Requirement already satisfied: python-dateutil>=2.7 in /Users/vpankrat/opt/anaconda3/envs/midterm_project/lib/python3.10/site-packages (from matplotlib) (2.9.0.post0)\n",
      "Requirement already satisfied: six>=1.5 in /Users/vpankrat/opt/anaconda3/envs/midterm_project/lib/python3.10/site-packages (from python-dateutil>=2.7->matplotlib) (1.16.0)\n",
      "Collecting tqdm\n",
      "  Using cached tqdm-4.67.0-py3-none-any.whl.metadata (57 kB)\n",
      "Using cached tqdm-4.67.0-py3-none-any.whl (78 kB)\n",
      "Installing collected packages: tqdm\n",
      "Successfully installed tqdm-4.67.0\n"
     ]
    }
   ],
   "source": [
    "!pip3 install pandas\n",
    "!pip3 install numpy\n",
    "!pip3 install seaborn\n",
    "!pip3 install scikit-learn\n",
    "!pip3 install matplotlib\n",
    "!pip3 install tqdm"
   ]
  },
  {
   "cell_type": "markdown",
   "id": "33700c2e-53b7-430f-940e-92c4d47c8fd0",
   "metadata": {},
   "source": [
    "# Imports"
   ]
  },
  {
   "cell_type": "code",
   "execution_count": 402,
   "id": "e4ef17e6-c239-4b56-a4d5-05e03bb6b329",
   "metadata": {},
   "outputs": [],
   "source": [
    "import pandas as pd\n",
    "import numpy as np\n",
    "import matplotlib.pyplot as plt\n",
    "import seaborn as sns\n",
    "import math\n",
    "from copy import deepcopy\n",
    "from tqdm.auto import tqdm"
   ]
  },
  {
   "cell_type": "markdown",
   "id": "05404694-e013-42ca-945b-459acba58bdc",
   "metadata": {},
   "source": [
    "# EDA\n",
    "We use dataset for credit score classification: https://www.kaggle.com/datasets/parisrohan/credit-score-classification/data"
   ]
  },
  {
   "cell_type": "code",
   "execution_count": 3,
   "id": "7f22999e-698a-401c-981a-46ba85699d3d",
   "metadata": {},
   "outputs": [
    {
     "name": "stdout",
     "output_type": "stream",
     "text": [
      "Dataset length: 100000\n"
     ]
    },
    {
     "name": "stderr",
     "output_type": "stream",
     "text": [
      "/var/folders/9z/rhfc541d14q5klxp9lqvgx8m0000gq/T/ipykernel_13653/1170968565.py:1: DtypeWarning: Columns (26) have mixed types. Specify dtype option on import or set low_memory=False.\n",
      "  df = pd.read_csv('data/train.csv')\n"
     ]
    }
   ],
   "source": [
    "df = pd.read_csv('data/train.csv')\n",
    "print(f\"Dataset length: {len(df)}\")"
   ]
  },
  {
   "cell_type": "code",
   "execution_count": 4,
   "id": "6d830323-4774-4442-9af4-06a1a053b53e",
   "metadata": {},
   "outputs": [],
   "source": [
    "df.columns = df.columns.str.lower()"
   ]
  },
  {
   "cell_type": "code",
   "execution_count": 5,
   "id": "f40c2ec0-38af-4423-8868-81a69e1109ac",
   "metadata": {},
   "outputs": [
    {
     "data": {
      "text/html": [
       "<div>\n",
       "<style scoped>\n",
       "    .dataframe tbody tr th:only-of-type {\n",
       "        vertical-align: middle;\n",
       "    }\n",
       "\n",
       "    .dataframe tbody tr th {\n",
       "        vertical-align: top;\n",
       "    }\n",
       "\n",
       "    .dataframe thead th {\n",
       "        text-align: right;\n",
       "    }\n",
       "</style>\n",
       "<table border=\"1\" class=\"dataframe\">\n",
       "  <thead>\n",
       "    <tr style=\"text-align: right;\">\n",
       "      <th></th>\n",
       "      <th>id</th>\n",
       "      <th>customer_id</th>\n",
       "      <th>month</th>\n",
       "      <th>name</th>\n",
       "      <th>age</th>\n",
       "      <th>ssn</th>\n",
       "      <th>occupation</th>\n",
       "      <th>annual_income</th>\n",
       "      <th>monthly_inhand_salary</th>\n",
       "      <th>num_bank_accounts</th>\n",
       "      <th>...</th>\n",
       "      <th>credit_mix</th>\n",
       "      <th>outstanding_debt</th>\n",
       "      <th>credit_utilization_ratio</th>\n",
       "      <th>credit_history_age</th>\n",
       "      <th>payment_of_min_amount</th>\n",
       "      <th>total_emi_per_month</th>\n",
       "      <th>amount_invested_monthly</th>\n",
       "      <th>payment_behaviour</th>\n",
       "      <th>monthly_balance</th>\n",
       "      <th>credit_score</th>\n",
       "    </tr>\n",
       "  </thead>\n",
       "  <tbody>\n",
       "    <tr>\n",
       "      <th>0</th>\n",
       "      <td>0x1602</td>\n",
       "      <td>CUS_0xd40</td>\n",
       "      <td>January</td>\n",
       "      <td>Aaron Maashoh</td>\n",
       "      <td>23</td>\n",
       "      <td>821-00-0265</td>\n",
       "      <td>Scientist</td>\n",
       "      <td>19114.12</td>\n",
       "      <td>1824.843333</td>\n",
       "      <td>3</td>\n",
       "      <td>...</td>\n",
       "      <td>_</td>\n",
       "      <td>809.98</td>\n",
       "      <td>26.822620</td>\n",
       "      <td>22 Years and 1 Months</td>\n",
       "      <td>No</td>\n",
       "      <td>49.574949</td>\n",
       "      <td>80.41529543900253</td>\n",
       "      <td>High_spent_Small_value_payments</td>\n",
       "      <td>312.49408867943663</td>\n",
       "      <td>Good</td>\n",
       "    </tr>\n",
       "    <tr>\n",
       "      <th>1</th>\n",
       "      <td>0x1603</td>\n",
       "      <td>CUS_0xd40</td>\n",
       "      <td>February</td>\n",
       "      <td>Aaron Maashoh</td>\n",
       "      <td>23</td>\n",
       "      <td>821-00-0265</td>\n",
       "      <td>Scientist</td>\n",
       "      <td>19114.12</td>\n",
       "      <td>NaN</td>\n",
       "      <td>3</td>\n",
       "      <td>...</td>\n",
       "      <td>Good</td>\n",
       "      <td>809.98</td>\n",
       "      <td>31.944960</td>\n",
       "      <td>NaN</td>\n",
       "      <td>No</td>\n",
       "      <td>49.574949</td>\n",
       "      <td>118.28022162236736</td>\n",
       "      <td>Low_spent_Large_value_payments</td>\n",
       "      <td>284.62916249607184</td>\n",
       "      <td>Good</td>\n",
       "    </tr>\n",
       "    <tr>\n",
       "      <th>2</th>\n",
       "      <td>0x1604</td>\n",
       "      <td>CUS_0xd40</td>\n",
       "      <td>March</td>\n",
       "      <td>Aaron Maashoh</td>\n",
       "      <td>-500</td>\n",
       "      <td>821-00-0265</td>\n",
       "      <td>Scientist</td>\n",
       "      <td>19114.12</td>\n",
       "      <td>NaN</td>\n",
       "      <td>3</td>\n",
       "      <td>...</td>\n",
       "      <td>Good</td>\n",
       "      <td>809.98</td>\n",
       "      <td>28.609352</td>\n",
       "      <td>22 Years and 3 Months</td>\n",
       "      <td>No</td>\n",
       "      <td>49.574949</td>\n",
       "      <td>81.699521264648</td>\n",
       "      <td>Low_spent_Medium_value_payments</td>\n",
       "      <td>331.2098628537912</td>\n",
       "      <td>Good</td>\n",
       "    </tr>\n",
       "    <tr>\n",
       "      <th>3</th>\n",
       "      <td>0x1605</td>\n",
       "      <td>CUS_0xd40</td>\n",
       "      <td>April</td>\n",
       "      <td>Aaron Maashoh</td>\n",
       "      <td>23</td>\n",
       "      <td>821-00-0265</td>\n",
       "      <td>Scientist</td>\n",
       "      <td>19114.12</td>\n",
       "      <td>NaN</td>\n",
       "      <td>3</td>\n",
       "      <td>...</td>\n",
       "      <td>Good</td>\n",
       "      <td>809.98</td>\n",
       "      <td>31.377862</td>\n",
       "      <td>22 Years and 4 Months</td>\n",
       "      <td>No</td>\n",
       "      <td>49.574949</td>\n",
       "      <td>199.4580743910713</td>\n",
       "      <td>Low_spent_Small_value_payments</td>\n",
       "      <td>223.45130972736786</td>\n",
       "      <td>Good</td>\n",
       "    </tr>\n",
       "    <tr>\n",
       "      <th>4</th>\n",
       "      <td>0x1606</td>\n",
       "      <td>CUS_0xd40</td>\n",
       "      <td>May</td>\n",
       "      <td>Aaron Maashoh</td>\n",
       "      <td>23</td>\n",
       "      <td>821-00-0265</td>\n",
       "      <td>Scientist</td>\n",
       "      <td>19114.12</td>\n",
       "      <td>1824.843333</td>\n",
       "      <td>3</td>\n",
       "      <td>...</td>\n",
       "      <td>Good</td>\n",
       "      <td>809.98</td>\n",
       "      <td>24.797347</td>\n",
       "      <td>22 Years and 5 Months</td>\n",
       "      <td>No</td>\n",
       "      <td>49.574949</td>\n",
       "      <td>41.420153086217326</td>\n",
       "      <td>High_spent_Medium_value_payments</td>\n",
       "      <td>341.48923103222177</td>\n",
       "      <td>Good</td>\n",
       "    </tr>\n",
       "  </tbody>\n",
       "</table>\n",
       "<p>5 rows × 28 columns</p>\n",
       "</div>"
      ],
      "text/plain": [
       "       id customer_id     month           name   age          ssn occupation  \\\n",
       "0  0x1602   CUS_0xd40   January  Aaron Maashoh    23  821-00-0265  Scientist   \n",
       "1  0x1603   CUS_0xd40  February  Aaron Maashoh    23  821-00-0265  Scientist   \n",
       "2  0x1604   CUS_0xd40     March  Aaron Maashoh  -500  821-00-0265  Scientist   \n",
       "3  0x1605   CUS_0xd40     April  Aaron Maashoh    23  821-00-0265  Scientist   \n",
       "4  0x1606   CUS_0xd40       May  Aaron Maashoh    23  821-00-0265  Scientist   \n",
       "\n",
       "  annual_income  monthly_inhand_salary  num_bank_accounts  ...  credit_mix  \\\n",
       "0      19114.12            1824.843333                  3  ...           _   \n",
       "1      19114.12                    NaN                  3  ...        Good   \n",
       "2      19114.12                    NaN                  3  ...        Good   \n",
       "3      19114.12                    NaN                  3  ...        Good   \n",
       "4      19114.12            1824.843333                  3  ...        Good   \n",
       "\n",
       "   outstanding_debt credit_utilization_ratio     credit_history_age  \\\n",
       "0            809.98                26.822620  22 Years and 1 Months   \n",
       "1            809.98                31.944960                    NaN   \n",
       "2            809.98                28.609352  22 Years and 3 Months   \n",
       "3            809.98                31.377862  22 Years and 4 Months   \n",
       "4            809.98                24.797347  22 Years and 5 Months   \n",
       "\n",
       "   payment_of_min_amount total_emi_per_month amount_invested_monthly  \\\n",
       "0                     No           49.574949       80.41529543900253   \n",
       "1                     No           49.574949      118.28022162236736   \n",
       "2                     No           49.574949         81.699521264648   \n",
       "3                     No           49.574949       199.4580743910713   \n",
       "4                     No           49.574949      41.420153086217326   \n",
       "\n",
       "                  payment_behaviour     monthly_balance credit_score  \n",
       "0   High_spent_Small_value_payments  312.49408867943663         Good  \n",
       "1    Low_spent_Large_value_payments  284.62916249607184         Good  \n",
       "2   Low_spent_Medium_value_payments   331.2098628537912         Good  \n",
       "3    Low_spent_Small_value_payments  223.45130972736786         Good  \n",
       "4  High_spent_Medium_value_payments  341.48923103222177         Good  \n",
       "\n",
       "[5 rows x 28 columns]"
      ]
     },
     "execution_count": 5,
     "metadata": {},
     "output_type": "execute_result"
    }
   ],
   "source": [
    "df.head()"
   ]
  },
  {
   "cell_type": "code",
   "execution_count": 6,
   "id": "7741cebb-cfb0-48e9-ad4a-59f501c949f7",
   "metadata": {},
   "outputs": [
    {
     "data": {
      "text/plain": [
       "id                           object\n",
       "customer_id                  object\n",
       "month                        object\n",
       "name                         object\n",
       "age                          object\n",
       "ssn                          object\n",
       "occupation                   object\n",
       "annual_income                object\n",
       "monthly_inhand_salary       float64\n",
       "num_bank_accounts             int64\n",
       "num_credit_card               int64\n",
       "interest_rate                 int64\n",
       "num_of_loan                  object\n",
       "type_of_loan                 object\n",
       "delay_from_due_date           int64\n",
       "num_of_delayed_payment       object\n",
       "changed_credit_limit         object\n",
       "num_credit_inquiries        float64\n",
       "credit_mix                   object\n",
       "outstanding_debt             object\n",
       "credit_utilization_ratio    float64\n",
       "credit_history_age           object\n",
       "payment_of_min_amount        object\n",
       "total_emi_per_month         float64\n",
       "amount_invested_monthly      object\n",
       "payment_behaviour            object\n",
       "monthly_balance              object\n",
       "credit_score                 object\n",
       "dtype: object"
      ]
     },
     "execution_count": 6,
     "metadata": {},
     "output_type": "execute_result"
    }
   ],
   "source": [
    "df.dtypes"
   ]
  },
  {
   "cell_type": "code",
   "execution_count": 7,
   "id": "4d4286fa-f107-40ce-add7-e40c31c61d6c",
   "metadata": {},
   "outputs": [
    {
     "data": {
      "text/plain": [
       "id                              0\n",
       "customer_id                     0\n",
       "month                           0\n",
       "name                         9985\n",
       "age                             0\n",
       "ssn                             0\n",
       "occupation                      0\n",
       "annual_income                   0\n",
       "monthly_inhand_salary       15002\n",
       "num_bank_accounts               0\n",
       "num_credit_card                 0\n",
       "interest_rate                   0\n",
       "num_of_loan                     0\n",
       "type_of_loan                11408\n",
       "delay_from_due_date             0\n",
       "num_of_delayed_payment       7002\n",
       "changed_credit_limit            0\n",
       "num_credit_inquiries         1965\n",
       "credit_mix                      0\n",
       "outstanding_debt                0\n",
       "credit_utilization_ratio        0\n",
       "credit_history_age           9030\n",
       "payment_of_min_amount           0\n",
       "total_emi_per_month             0\n",
       "amount_invested_monthly      4479\n",
       "payment_behaviour               0\n",
       "monthly_balance              1200\n",
       "credit_score                    0\n",
       "dtype: int64"
      ]
     },
     "execution_count": 7,
     "metadata": {},
     "output_type": "execute_result"
    }
   ],
   "source": [
    "df.isnull().sum()"
   ]
  },
  {
   "cell_type": "markdown",
   "id": "137f5afb-5bc3-4860-add8-8fdf12a4409b",
   "metadata": {},
   "source": [
    "## Dealing with missing values and problematic types"
   ]
  },
  {
   "cell_type": "markdown",
   "id": "667175f7-0ef2-46d6-b6b8-1b6168ea79b3",
   "metadata": {
    "jp-MarkdownHeadingCollapsed": true
   },
   "source": [
    "### month\n",
    "Let's add numeric column with month number, so sorting data in the future would be easy"
   ]
  },
  {
   "cell_type": "code",
   "execution_count": 8,
   "id": "cbd82281-4bfb-4255-99e3-6b75fd550af0",
   "metadata": {},
   "outputs": [
    {
     "data": {
      "text/plain": [
       "array(['January', 'February', 'March', 'April', 'May', 'June', 'July',\n",
       "       'August'], dtype=object)"
      ]
     },
     "execution_count": 8,
     "metadata": {},
     "output_type": "execute_result"
    }
   ],
   "source": [
    "df.month.unique()"
   ]
  },
  {
   "cell_type": "code",
   "execution_count": 9,
   "id": "6dd0f0fd-6aee-4aac-951c-bf03f71b3fa6",
   "metadata": {},
   "outputs": [],
   "source": [
    "months_mapping = {\n",
    "    'January': 1,\n",
    "    'February': 2,\n",
    "    'March': 3,\n",
    "    'April': 4,\n",
    "    'May': 5,\n",
    "    'June': 6,\n",
    "    'July': 7,\n",
    "    'August': 8,\n",
    "    'September': 9,\n",
    "    'October': 10,\n",
    "    'November': 11,\n",
    "    'December': 12\n",
    "}"
   ]
  },
  {
   "cell_type": "code",
   "execution_count": 10,
   "id": "ee9e952e-4b3c-4af0-8ed7-26409040be84",
   "metadata": {},
   "outputs": [
    {
     "data": {
      "text/plain": [
       "0    1\n",
       "1    2\n",
       "2    3\n",
       "3    4\n",
       "4    5\n",
       "5    6\n",
       "6    7\n",
       "7    8\n",
       "8    1\n",
       "9    2\n",
       "Name: month_number, dtype: int64"
      ]
     },
     "execution_count": 10,
     "metadata": {},
     "output_type": "execute_result"
    }
   ],
   "source": [
    "df['month_number'] = df.month.map(months_mapping)\n",
    "df['month_number'].head(10)"
   ]
  },
  {
   "cell_type": "markdown",
   "id": "46f478a2-5376-4d8d-b2ae-8abbf1d400eb",
   "metadata": {
    "jp-MarkdownHeadingCollapsed": true
   },
   "source": [
    "### name column\n",
    "All customers with same id have the same name. So let's try to fill empty names using customer_id"
   ]
  },
  {
   "cell_type": "code",
   "execution_count": 11,
   "id": "faa71216-cdca-4305-9f88-52100f486e76",
   "metadata": {},
   "outputs": [
    {
     "name": "stdout",
     "output_type": "stream",
     "text": [
      "Initiall number of empty names: 9985\n"
     ]
    }
   ],
   "source": [
    "print(f\"Initiall number of empty names: {df[['name']].isna().sum().values[0]}\")"
   ]
  },
  {
   "cell_type": "code",
   "execution_count": 12,
   "id": "d9712669-8f3d-447b-b593-95bdccc387c3",
   "metadata": {},
   "outputs": [
    {
     "name": "stderr",
     "output_type": "stream",
     "text": [
      "/var/folders/9z/rhfc541d14q5klxp9lqvgx8m0000gq/T/ipykernel_13653/3461443390.py:1: FutureWarning: DataFrameGroupBy.fillna is deprecated and will be removed in a future version. Use obj.ffill() or obj.bfill() for forward or backward filling instead. If you want to fill with a single value, use DataFrame.fillna instead\n",
      "  df['name'] = df[['customer_id', 'name']].groupby('customer_id').fillna(method='bfill')\n",
      "/var/folders/9z/rhfc541d14q5klxp9lqvgx8m0000gq/T/ipykernel_13653/3461443390.py:1: FutureWarning: DataFrame.fillna with 'method' is deprecated and will raise in a future version. Use obj.ffill() or obj.bfill() instead.\n",
      "  df['name'] = df[['customer_id', 'name']].groupby('customer_id').fillna(method='bfill')\n",
      "/var/folders/9z/rhfc541d14q5klxp9lqvgx8m0000gq/T/ipykernel_13653/3461443390.py:2: FutureWarning: DataFrameGroupBy.fillna is deprecated and will be removed in a future version. Use obj.ffill() or obj.bfill() for forward or backward filling instead. If you want to fill with a single value, use DataFrame.fillna instead\n",
      "  df['name'] = df[['customer_id', 'name']].groupby('customer_id').fillna(method='ffill')\n",
      "/var/folders/9z/rhfc541d14q5klxp9lqvgx8m0000gq/T/ipykernel_13653/3461443390.py:2: FutureWarning: DataFrame.fillna with 'method' is deprecated and will raise in a future version. Use obj.ffill() or obj.bfill() instead.\n",
      "  df['name'] = df[['customer_id', 'name']].groupby('customer_id').fillna(method='ffill')\n"
     ]
    },
    {
     "name": "stdout",
     "output_type": "stream",
     "text": [
      "Number of empty names after fillna: 0\n"
     ]
    }
   ],
   "source": [
    "df['name'] = df[['customer_id', 'name']].groupby('customer_id').fillna(method='bfill')\n",
    "df['name'] = df[['customer_id', 'name']].groupby('customer_id').fillna(method='ffill')\n",
    "print(f'Number of empty names after fillna: {df[\"name\"].isna().sum()}')"
   ]
  },
  {
   "cell_type": "markdown",
   "id": "1bae8e8b-accd-4ecc-bef2-3ce391e104f8",
   "metadata": {},
   "source": [
    "### monthly_inhand_salary\n",
    "Now we want to fill monthly_inhand_salary column. \n",
    "* We assume that it depends on annual_income column. \n",
    "* Unfortunately annual_income columns is of object and not numeric.\n",
    "* If we try to cast annual income to numeric type we get an error:"
   ]
  },
  {
   "cell_type": "code",
   "execution_count": 13,
   "id": "7e4aad7d-ca4e-4c59-a01b-a0d70075dbf4",
   "metadata": {},
   "outputs": [
    {
     "name": "stdout",
     "output_type": "stream",
     "text": [
      "Unable to parse string \"34847.84_\" at position 0\n"
     ]
    }
   ],
   "source": [
    "try:\n",
    "    df['annual_income'] = df['annual_income'].apply(pd.to_numeric)\n",
    "except Exception as e:\n",
    "    print(e)"
   ]
  },
  {
   "cell_type": "markdown",
   "id": "b0f81223-6eae-466a-95a3-a06afe5053f7",
   "metadata": {},
   "source": [
    "Let's see what are those problematic values we are dealing with:"
   ]
  },
  {
   "cell_type": "code",
   "execution_count": 14,
   "id": "391d5cc3-2925-474d-88bd-14b0ba80f01b",
   "metadata": {},
   "outputs": [
    {
     "data": {
      "text/plain": [
       "array(['34847.84_', '30689.89_', '35547.71_', ..., '37188.1_',\n",
       "       '39628.99_', '39628.99_'], dtype=object)"
      ]
     },
     "execution_count": 14,
     "metadata": {},
     "output_type": "execute_result"
    }
   ],
   "source": [
    "problematic_values = df[df['annual_income'].apply(pd.to_numeric, errors='coerce').isna()]['annual_income'].values\n",
    "problematic_values"
   ]
  },
  {
   "cell_type": "markdown",
   "id": "b3a8838c-9000-44ce-827d-45b908300088",
   "metadata": {},
   "source": [
    "It seems like all of those problematic values have \"_\" in the end. Let's check it"
   ]
  },
  {
   "cell_type": "code",
   "execution_count": 15,
   "id": "0ffaf2d7-cf33-432d-a232-9c15b6f01fff",
   "metadata": {},
   "outputs": [],
   "source": [
    "for val in problematic_values:\n",
    "    assert '_' == val[-1]"
   ]
  },
  {
   "cell_type": "markdown",
   "id": "df157892-4924-491a-a11b-892f8e987db2",
   "metadata": {},
   "source": [
    "Let's check that we can cast all of those values to float if we delete \"_\" in the end"
   ]
  },
  {
   "cell_type": "code",
   "execution_count": 16,
   "id": "77698b2b-d3fd-4fc9-b22a-0e666a89d654",
   "metadata": {},
   "outputs": [],
   "source": [
    "for val in problematic_values:\n",
    "    float(val[:-1])"
   ]
  },
  {
   "cell_type": "markdown",
   "id": "740f6330-ef18-4a30-8841-9c7fa3840a46",
   "metadata": {},
   "source": [
    "So now let's write function that will cast annual_income column to numeric"
   ]
  },
  {
   "cell_type": "code",
   "execution_count": 17,
   "id": "0912ece8-9c7c-4d87-826d-561015dce4e4",
   "metadata": {},
   "outputs": [],
   "source": [
    "def custom_to_numeric(value):\n",
    "    if isinstance(value, str): \n",
    "        if value[-1] == '_':\n",
    "            return float(value[:-1])\n",
    "    return float(value)"
   ]
  },
  {
   "cell_type": "code",
   "execution_count": 18,
   "id": "25d1dd40-a5c6-4188-ae41-d2b3610a8d2e",
   "metadata": {},
   "outputs": [
    {
     "data": {
      "text/plain": [
       "dtype('float64')"
      ]
     },
     "execution_count": 18,
     "metadata": {},
     "output_type": "execute_result"
    }
   ],
   "source": [
    "df['annual_income'] = df['annual_income'].apply(custom_to_numeric)\n",
    "df['annual_income'].dtype"
   ]
  },
  {
   "cell_type": "markdown",
   "id": "524f1c46-6e73-42f5-942e-b27619d21bb4",
   "metadata": {},
   "source": [
    "Let's now fill the values for monthly_inhand_salary column.  \n",
    "Let's check how monthly_inhand_salary depend on annual_income. To do that let's see the proportion between those values"
   ]
  },
  {
   "cell_type": "code",
   "execution_count": 19,
   "id": "a1ff3cb9-4ddc-46af-b3ac-55b76ffb9adc",
   "metadata": {},
   "outputs": [
    {
     "data": {
      "text/plain": [
       "count    84998.000000\n",
       "mean        67.244578\n",
       "std        846.095019\n",
       "min          8.089821\n",
       "25%         11.553886\n",
       "50%         12.025936\n",
       "75%         12.553691\n",
       "max      54110.522117\n",
       "dtype: float64"
      ]
     },
     "execution_count": 19,
     "metadata": {},
     "output_type": "execute_result"
    }
   ],
   "source": [
    "not_empty_montly_salary_index = df['monthly_inhand_salary'].dropna().index\n",
    "proportion = df['annual_income'][not_empty_montly_salary_index] / df['monthly_inhand_salary'][not_empty_montly_salary_index]\n",
    "proportion.describe()"
   ]
  },
  {
   "cell_type": "code",
   "execution_count": 20,
   "id": "569d4875-799a-4926-a925-e0864dd3b7c7",
   "metadata": {},
   "outputs": [
    {
     "data": {
      "text/plain": [
       "(np.float64(10.884076704509429), np.float64(13.568605658582612))"
      ]
     },
     "execution_count": 20,
     "metadata": {},
     "output_type": "execute_result"
    }
   ],
   "source": [
    "np.quantile(proportion, 0.1), np.quantile(proportion, 0.9)"
   ]
  },
  {
   "cell_type": "markdown",
   "id": "cd9deb35-4fc0-482f-ba5c-5adeebb93407",
   "metadata": {},
   "source": [
    "I assume there are some extreme values of annual_income, because mean is 67, but as you can see most of the values are between 10 and 13 with median being around 12, which makes sence, because year has 12 months. So let's fill empty values of this column with **annual_income/12**"
   ]
  },
  {
   "cell_type": "code",
   "execution_count": 21,
   "id": "c6869a73-3ecc-4d64-bd7f-f2bb621994dd",
   "metadata": {},
   "outputs": [],
   "source": [
    "df['monthly_inhand_salary'] = df['monthly_inhand_salary'].fillna(df['annual_income']/12)"
   ]
  },
  {
   "cell_type": "markdown",
   "id": "e06ccb23-08e7-452d-a150-fc760dec707a",
   "metadata": {},
   "source": [
    "### num_of_loan\n",
    "This column represents the number of loans taken from the bank.  \n",
    "This column should be numerical, but it's an object. Let's fix it."
   ]
  },
  {
   "cell_type": "code",
   "execution_count": 22,
   "id": "d3c1ed5d-8e8a-4e5e-a328-7182bd208ad3",
   "metadata": {},
   "outputs": [
    {
     "data": {
      "text/plain": [
       "array(['-100', '0', '0_', '1', '100', '1001', '1002', '1006', '1008',\n",
       "       '101', '1014', '1015', '1017', '1019', '1023', '1027_', '103',\n",
       "       '1030', '1035', '1036', '1039', '1040', '1046', '1047', '1048',\n",
       "       '1053', '1054', '1070', '1074', '1077', '1085', '1088', '1091',\n",
       "       '1094', '1096', '1103', '1106', '1110', '1112', '1127', '1129',\n",
       "       '1129_', '1131', '1131_', '1132_', '1135', '1137', '1150', '1151',\n",
       "       '1152', '1154', '1159', '1160', '1171_', '1178', '1181', '1182',\n",
       "       '1185_', '1187', '1189', '119', '1196', '1202', '1204', '1209',\n",
       "       '1210', '1214', '1216', '1217', '1219_', '1222', '1225', '1225_',\n",
       "       '1227', '1228', '123', '1236', '1241', '1257', '1259', '126',\n",
       "       '1265', '1271', '1274', '1279', '1289', '1294', '1296', '1297',\n",
       "       '1298', '1300', '1302', '1307', '1311_', '1312', '1313', '1318',\n",
       "       '1319', '131_', '132', '1320', '1320_', '1329', '1340', '1345',\n",
       "       '1347_', '1348', '1353', '1354', '1359', '136', '1363', '1365',\n",
       "       '1369', '137', '1371', '1372', '138', '1382', '1384', '1387',\n",
       "       '1391', '1393', '1400', '1406', '141', '1412', '1416', '1419',\n",
       "       '1424', '143', '1430', '1433', '1439', '143_', '1441', '1444',\n",
       "       '1447', '1451', '1457', '1459_', '146', '1461', '1463', '1464',\n",
       "       '1465', '147', '1470', '1474', '1478', '148', '1480', '1482',\n",
       "       '1484', '1485', '1495', '1496', '153', '157', '164', '17', '172',\n",
       "       '174', '18', '182', '186', '19', '190', '191', '192', '193', '196',\n",
       "       '198', '1_', '2', '201', '208', '215', '216', '217', '227', '227_',\n",
       "       '228', '229', '23', '231', '235_', '237', '238', '241', '242',\n",
       "       '243', '251', '252', '254', '267', '274', '275', '27_', '280',\n",
       "       '282', '284', '285', '288', '289', '29', '290', '291', '292',\n",
       "       '295', '2_', '3', '300', '302', '31', '311', '313', '316', '319',\n",
       "       '32', '321', '323', '329', '33', '330', '332', '336', '341', '344',\n",
       "       '348', '349', '350', '351', '352', '359', '359_', '365', '372',\n",
       "       '378_', '387', '39', '392', '394', '3_', '4', '404', '405', '41',\n",
       "       '415', '416', '418', '420', '424', '430', '433', '437', '438',\n",
       "       '439', '444', '447', '449', '455', '457', '462', '463', '464',\n",
       "       '466', '472', '484', '49', '492', '494', '497', '4_', '5', '50',\n",
       "       '501', '504', '507', '510', '515', '52', '520', '526', '527',\n",
       "       '527_', '529', '538', '54', '540', '545', '546', '548', '55', '56',\n",
       "       '562', '563', '571', '574', '579', '58', '581', '590', '596',\n",
       "       '597', '597_', '5_', '6', '601', '606', '613', '614', '617', '621',\n",
       "       '622', '628', '629', '630_', '633', '635', '636', '638', '639',\n",
       "       '640', '649', '65', '652', '653', '654', '656', '657', '659',\n",
       "       '661', '662', '663', '679', '684', '686', '696', '696_', '697',\n",
       "       '699', '6_', '7', '70', '701', '716', '719', '720', '728', '733',\n",
       "       '737', '742', '745', '752', '753', '757', '773', '777', '778',\n",
       "       '78', '781', '785_', '795', '799', '7_', '8', '801', '802', '809',\n",
       "       '814', '816', '819', '820', '83', '831', '832', '833', '834',\n",
       "       '838', '84', '841', '843', '848', '855', '859', '860', '863',\n",
       "       '867', '868', '869', '87', '873', '875', '881', '889', '89', '891',\n",
       "       '895', '897', '898', '8_', '9', '904', '905', '910', '911', '917',\n",
       "       '924', '926', '927', '92_', '931', '935', '936', '939', '940',\n",
       "       '943', '945', '95', '952', '955', '958', '961', '966', '967',\n",
       "       '968', '978', '983', '991', '995', '996', '999', '9_'],\n",
       "      dtype=object)"
      ]
     },
     "execution_count": 22,
     "metadata": {},
     "output_type": "execute_result"
    }
   ],
   "source": [
    "s = df['num_of_loan'].unique()\n",
    "s.sort()\n",
    "s"
   ]
  },
  {
   "cell_type": "markdown",
   "id": "13d4652f-a1f3-4ee6-8a16-861b7d83fbd0",
   "metadata": {},
   "source": [
    "We once again see that some of the values have underscores in the end. We will cast this field to numeric using the same function"
   ]
  },
  {
   "cell_type": "code",
   "execution_count": 23,
   "id": "70024e38-93ec-4d70-9e67-6a6754b7fb4f",
   "metadata": {},
   "outputs": [
    {
     "data": {
      "text/plain": [
       "dtype('float64')"
      ]
     },
     "execution_count": 23,
     "metadata": {},
     "output_type": "execute_result"
    }
   ],
   "source": [
    "df['num_of_loan'] = df['num_of_loan'].apply(custom_to_numeric)\n",
    "df['num_of_loan'].dtype"
   ]
  },
  {
   "cell_type": "markdown",
   "id": "534f3731-10a9-4af3-8a5e-c03f220bf078",
   "metadata": {},
   "source": [
    "Also we see that num_of_loan can be negative, which is strange.   \n",
    "Let's look at types of loans correspoding to num_of_loan == -100:"
   ]
  },
  {
   "cell_type": "code",
   "execution_count": 24,
   "id": "0e7febb5-66db-4567-a742-96739a43b082",
   "metadata": {},
   "outputs": [
    {
     "data": {
      "text/html": [
       "<div>\n",
       "<style scoped>\n",
       "    .dataframe tbody tr th:only-of-type {\n",
       "        vertical-align: middle;\n",
       "    }\n",
       "\n",
       "    .dataframe tbody tr th {\n",
       "        vertical-align: top;\n",
       "    }\n",
       "\n",
       "    .dataframe thead th {\n",
       "        text-align: right;\n",
       "    }\n",
       "</style>\n",
       "<table border=\"1\" class=\"dataframe\">\n",
       "  <thead>\n",
       "    <tr style=\"text-align: right;\">\n",
       "      <th></th>\n",
       "      <th>num_of_loan</th>\n",
       "      <th>customer_id</th>\n",
       "      <th>name</th>\n",
       "    </tr>\n",
       "  </thead>\n",
       "  <tbody>\n",
       "    <tr>\n",
       "      <th>31</th>\n",
       "      <td>-100.0</td>\n",
       "      <td>CUS_0xb891</td>\n",
       "      <td>Jasond</td>\n",
       "    </tr>\n",
       "    <tr>\n",
       "      <th>34</th>\n",
       "      <td>-100.0</td>\n",
       "      <td>CUS_0x1cdb</td>\n",
       "      <td>Deepaa</td>\n",
       "    </tr>\n",
       "    <tr>\n",
       "      <th>39</th>\n",
       "      <td>-100.0</td>\n",
       "      <td>CUS_0x1cdb</td>\n",
       "      <td>Deepaa</td>\n",
       "    </tr>\n",
       "    <tr>\n",
       "      <th>53</th>\n",
       "      <td>-100.0</td>\n",
       "      <td>CUS_0x284a</td>\n",
       "      <td>Nadiaq</td>\n",
       "    </tr>\n",
       "    <tr>\n",
       "      <th>61</th>\n",
       "      <td>-100.0</td>\n",
       "      <td>CUS_0x5407</td>\n",
       "      <td>Annk</td>\n",
       "    </tr>\n",
       "    <tr>\n",
       "      <th>...</th>\n",
       "      <td>...</td>\n",
       "      <td>...</td>\n",
       "      <td>...</td>\n",
       "    </tr>\n",
       "    <tr>\n",
       "      <th>99877</th>\n",
       "      <td>-100.0</td>\n",
       "      <td>CUS_0x3855</td>\n",
       "      <td>Xolai</td>\n",
       "    </tr>\n",
       "    <tr>\n",
       "      <th>99901</th>\n",
       "      <td>-100.0</td>\n",
       "      <td>CUS_0x4986</td>\n",
       "      <td>Charles Abbotta</td>\n",
       "    </tr>\n",
       "    <tr>\n",
       "      <th>99902</th>\n",
       "      <td>-100.0</td>\n",
       "      <td>CUS_0x4986</td>\n",
       "      <td>Charles Abbotta</td>\n",
       "    </tr>\n",
       "    <tr>\n",
       "      <th>99969</th>\n",
       "      <td>-100.0</td>\n",
       "      <td>CUS_0xf16</td>\n",
       "      <td>Maria Sheahanb</td>\n",
       "    </tr>\n",
       "    <tr>\n",
       "      <th>99987</th>\n",
       "      <td>-100.0</td>\n",
       "      <td>CUS_0x8600</td>\n",
       "      <td>Sarah McBridec</td>\n",
       "    </tr>\n",
       "  </tbody>\n",
       "</table>\n",
       "<p>3876 rows × 3 columns</p>\n",
       "</div>"
      ],
      "text/plain": [
       "       num_of_loan customer_id             name\n",
       "31          -100.0  CUS_0xb891           Jasond\n",
       "34          -100.0  CUS_0x1cdb           Deepaa\n",
       "39          -100.0  CUS_0x1cdb           Deepaa\n",
       "53          -100.0  CUS_0x284a           Nadiaq\n",
       "61          -100.0  CUS_0x5407             Annk\n",
       "...            ...         ...              ...\n",
       "99877       -100.0  CUS_0x3855            Xolai\n",
       "99901       -100.0  CUS_0x4986  Charles Abbotta\n",
       "99902       -100.0  CUS_0x4986  Charles Abbotta\n",
       "99969       -100.0   CUS_0xf16   Maria Sheahanb\n",
       "99987       -100.0  CUS_0x8600   Sarah McBridec\n",
       "\n",
       "[3876 rows x 3 columns]"
      ]
     },
     "execution_count": 24,
     "metadata": {},
     "output_type": "execute_result"
    }
   ],
   "source": [
    "num_of_loans_check = df[df['num_of_loan'] == -100][['num_of_loan', 'customer_id', 'name']]\n",
    "num_of_loans_check"
   ]
  },
  {
   "cell_type": "markdown",
   "id": "eaf7e613-824d-480c-80eb-ea11dbd5e8cd",
   "metadata": {},
   "source": [
    "Let's look at some of the clients with num_of_loan = -100:"
   ]
  },
  {
   "cell_type": "code",
   "execution_count": 25,
   "id": "32776be7-80fb-41ca-b911-416757b41455",
   "metadata": {},
   "outputs": [
    {
     "data": {
      "text/html": [
       "<div>\n",
       "<style scoped>\n",
       "    .dataframe tbody tr th:only-of-type {\n",
       "        vertical-align: middle;\n",
       "    }\n",
       "\n",
       "    .dataframe tbody tr th {\n",
       "        vertical-align: top;\n",
       "    }\n",
       "\n",
       "    .dataframe thead th {\n",
       "        text-align: right;\n",
       "    }\n",
       "</style>\n",
       "<table border=\"1\" class=\"dataframe\">\n",
       "  <thead>\n",
       "    <tr style=\"text-align: right;\">\n",
       "      <th></th>\n",
       "      <th>month</th>\n",
       "      <th>type_of_loan</th>\n",
       "      <th>num_of_loan</th>\n",
       "    </tr>\n",
       "  </thead>\n",
       "  <tbody>\n",
       "    <tr>\n",
       "      <th>56</th>\n",
       "      <td>January</td>\n",
       "      <td>Not Specified, Auto Loan, and Student Loan</td>\n",
       "      <td>3.0</td>\n",
       "    </tr>\n",
       "    <tr>\n",
       "      <th>57</th>\n",
       "      <td>February</td>\n",
       "      <td>Not Specified, Auto Loan, and Student Loan</td>\n",
       "      <td>3.0</td>\n",
       "    </tr>\n",
       "    <tr>\n",
       "      <th>58</th>\n",
       "      <td>March</td>\n",
       "      <td>Not Specified, Auto Loan, and Student Loan</td>\n",
       "      <td>3.0</td>\n",
       "    </tr>\n",
       "    <tr>\n",
       "      <th>59</th>\n",
       "      <td>April</td>\n",
       "      <td>Not Specified, Auto Loan, and Student Loan</td>\n",
       "      <td>3.0</td>\n",
       "    </tr>\n",
       "    <tr>\n",
       "      <th>60</th>\n",
       "      <td>May</td>\n",
       "      <td>Not Specified, Auto Loan, and Student Loan</td>\n",
       "      <td>3.0</td>\n",
       "    </tr>\n",
       "    <tr>\n",
       "      <th>61</th>\n",
       "      <td>June</td>\n",
       "      <td>Not Specified, Auto Loan, and Student Loan</td>\n",
       "      <td>-100.0</td>\n",
       "    </tr>\n",
       "    <tr>\n",
       "      <th>62</th>\n",
       "      <td>July</td>\n",
       "      <td>Not Specified, Auto Loan, and Student Loan</td>\n",
       "      <td>3.0</td>\n",
       "    </tr>\n",
       "    <tr>\n",
       "      <th>63</th>\n",
       "      <td>August</td>\n",
       "      <td>Not Specified, Auto Loan, and Student Loan</td>\n",
       "      <td>3.0</td>\n",
       "    </tr>\n",
       "  </tbody>\n",
       "</table>\n",
       "</div>"
      ],
      "text/plain": [
       "       month                                type_of_loan  num_of_loan\n",
       "56   January  Not Specified, Auto Loan, and Student Loan          3.0\n",
       "57  February  Not Specified, Auto Loan, and Student Loan          3.0\n",
       "58     March  Not Specified, Auto Loan, and Student Loan          3.0\n",
       "59     April  Not Specified, Auto Loan, and Student Loan          3.0\n",
       "60       May  Not Specified, Auto Loan, and Student Loan          3.0\n",
       "61      June  Not Specified, Auto Loan, and Student Loan       -100.0\n",
       "62      July  Not Specified, Auto Loan, and Student Loan          3.0\n",
       "63    August  Not Specified, Auto Loan, and Student Loan          3.0"
      ]
     },
     "execution_count": 25,
     "metadata": {},
     "output_type": "execute_result"
    }
   ],
   "source": [
    "df[df['customer_id'] == 'CUS_0x5407'][['month', 'type_of_loan', 'num_of_loan']]"
   ]
  },
  {
   "cell_type": "code",
   "execution_count": 26,
   "id": "a2021d39-4b34-4dc9-9a4a-8d318c21cf35",
   "metadata": {},
   "outputs": [
    {
     "data": {
      "text/html": [
       "<div>\n",
       "<style scoped>\n",
       "    .dataframe tbody tr th:only-of-type {\n",
       "        vertical-align: middle;\n",
       "    }\n",
       "\n",
       "    .dataframe tbody tr th {\n",
       "        vertical-align: top;\n",
       "    }\n",
       "\n",
       "    .dataframe thead th {\n",
       "        text-align: right;\n",
       "    }\n",
       "</style>\n",
       "<table border=\"1\" class=\"dataframe\">\n",
       "  <thead>\n",
       "    <tr style=\"text-align: right;\">\n",
       "      <th></th>\n",
       "      <th>month</th>\n",
       "      <th>type_of_loan</th>\n",
       "      <th>num_of_loan</th>\n",
       "    </tr>\n",
       "  </thead>\n",
       "  <tbody>\n",
       "    <tr>\n",
       "      <th>64</th>\n",
       "      <td>January</td>\n",
       "      <td>Personal Loan, Debt Consolidation Loan, and Au...</td>\n",
       "      <td>-100.0</td>\n",
       "    </tr>\n",
       "    <tr>\n",
       "      <th>65</th>\n",
       "      <td>February</td>\n",
       "      <td>Personal Loan, Debt Consolidation Loan, and Au...</td>\n",
       "      <td>3.0</td>\n",
       "    </tr>\n",
       "    <tr>\n",
       "      <th>66</th>\n",
       "      <td>March</td>\n",
       "      <td>Personal Loan, Debt Consolidation Loan, and Au...</td>\n",
       "      <td>3.0</td>\n",
       "    </tr>\n",
       "    <tr>\n",
       "      <th>67</th>\n",
       "      <td>April</td>\n",
       "      <td>Personal Loan, Debt Consolidation Loan, and Au...</td>\n",
       "      <td>3.0</td>\n",
       "    </tr>\n",
       "    <tr>\n",
       "      <th>68</th>\n",
       "      <td>May</td>\n",
       "      <td>Personal Loan, Debt Consolidation Loan, and Au...</td>\n",
       "      <td>3.0</td>\n",
       "    </tr>\n",
       "    <tr>\n",
       "      <th>69</th>\n",
       "      <td>June</td>\n",
       "      <td>Personal Loan, Debt Consolidation Loan, and Au...</td>\n",
       "      <td>3.0</td>\n",
       "    </tr>\n",
       "    <tr>\n",
       "      <th>70</th>\n",
       "      <td>July</td>\n",
       "      <td>Personal Loan, Debt Consolidation Loan, and Au...</td>\n",
       "      <td>3.0</td>\n",
       "    </tr>\n",
       "    <tr>\n",
       "      <th>71</th>\n",
       "      <td>August</td>\n",
       "      <td>Personal Loan, Debt Consolidation Loan, and Au...</td>\n",
       "      <td>3.0</td>\n",
       "    </tr>\n",
       "  </tbody>\n",
       "</table>\n",
       "</div>"
      ],
      "text/plain": [
       "       month                                       type_of_loan  num_of_loan\n",
       "64   January  Personal Loan, Debt Consolidation Loan, and Au...       -100.0\n",
       "65  February  Personal Loan, Debt Consolidation Loan, and Au...          3.0\n",
       "66     March  Personal Loan, Debt Consolidation Loan, and Au...          3.0\n",
       "67     April  Personal Loan, Debt Consolidation Loan, and Au...          3.0\n",
       "68       May  Personal Loan, Debt Consolidation Loan, and Au...          3.0\n",
       "69      June  Personal Loan, Debt Consolidation Loan, and Au...          3.0\n",
       "70      July  Personal Loan, Debt Consolidation Loan, and Au...          3.0\n",
       "71    August  Personal Loan, Debt Consolidation Loan, and Au...          3.0"
      ]
     },
     "execution_count": 26,
     "metadata": {},
     "output_type": "execute_result"
    }
   ],
   "source": [
    "df[df['customer_id'] == 'CUS_0x4157'][['month', 'type_of_loan', 'num_of_loan']]"
   ]
  },
  {
   "cell_type": "markdown",
   "id": "7eeff575-2979-416b-9476-c1a5d8ffbe82",
   "metadata": {},
   "source": [
    "We can see that in those cases -100 is invalid. So let's set NaN value instead of -100:"
   ]
  },
  {
   "cell_type": "code",
   "execution_count": 27,
   "id": "e214cc82-abd5-4f66-8320-ffbd64cb2e2d",
   "metadata": {},
   "outputs": [],
   "source": [
    "df.loc[df['num_of_loan'] == -100, 'num_of_loan'] = np.nan"
   ]
  },
  {
   "cell_type": "markdown",
   "id": "8aa7d703-995d-477c-9f6f-36081e0a05a7",
   "metadata": {},
   "source": [
    "Also let's look at other values of num_of_loan"
   ]
  },
  {
   "cell_type": "code",
   "execution_count": 28,
   "id": "263f6585-824f-4093-8cd7-e7d34f92e8e6",
   "metadata": {},
   "outputs": [
    {
     "data": {
      "text/plain": [
       "num_of_loan\n",
       "3.0       15104\n",
       "2.0       15032\n",
       "4.0       14743\n",
       "0.0       10930\n",
       "1.0       10606\n",
       "6.0        7803\n",
       "7.0        7344\n",
       "5.0        7197\n",
       "9.0        3702\n",
       "8.0        3191\n",
       "1150.0        4\n",
       "1228.0        3\n",
       "1480.0        3\n",
       "288.0         3\n",
       "773.0         3\n",
       "430.0         3\n",
       "227.0         2\n",
       "1131.0        2\n",
       "192.0         2\n",
       "284.0         2\n",
       "Name: count, dtype: int64"
      ]
     },
     "execution_count": 28,
     "metadata": {},
     "output_type": "execute_result"
    }
   ],
   "source": [
    "df['num_of_loan'].value_counts(sort=True).head(20)"
   ]
  },
  {
   "cell_type": "markdown",
   "id": "fb53377b-63a9-46bc-8c90-68d004511342",
   "metadata": {},
   "source": [
    "This data looks suspicious. What person would have 1000+ loans? Let's look at normalisation of this data:"
   ]
  },
  {
   "cell_type": "code",
   "execution_count": 29,
   "id": "0cab04d7-1f99-449d-94e6-69bada80cd41",
   "metadata": {},
   "outputs": [
    {
     "data": {
      "text/plain": [
       "num_of_loan\n",
       "3.0    0.157130\n",
       "2.0    0.156381\n",
       "4.0    0.153375\n",
       "0.0    0.113707\n",
       "1.0    0.110337\n",
       "6.0    0.081176\n",
       "7.0    0.076401\n",
       "5.0    0.074872\n",
       "9.0    0.038513\n",
       "8.0    0.033197\n",
       "Name: proportion, dtype: float64"
      ]
     },
     "metadata": {},
     "output_type": "display_data"
    },
    {
     "name": "stdout",
     "output_type": "stream",
     "text": [
      "% of num of loans from 0 to 9: 0.9950896758353793\n"
     ]
    }
   ],
   "source": [
    "display(df['num_of_loan'].value_counts(normalize=True, sort=True).head(10))\n",
    "print(f\"% of num of loans from 0 to 9: {df['num_of_loan'].value_counts(normalize=True, sort=True).head(10).sum()}\")"
   ]
  },
  {
   "cell_type": "markdown",
   "id": "193d9f5e-b58f-493f-b4f3-c8ad8bafab02",
   "metadata": {},
   "source": [
    "We can see that over 99.5% of rows has number of loans < 10. So let's assume that number of loans > 10 is a mistake and let's set NaN value instead of any value greater than 9:"
   ]
  },
  {
   "cell_type": "code",
   "execution_count": 30,
   "id": "8d4ff5cc-f1b7-4d3b-990d-c87261d4bcbc",
   "metadata": {},
   "outputs": [],
   "source": [
    "df.loc[df['num_of_loan'] > 9, 'num_of_loan'] = np.nan"
   ]
  },
  {
   "cell_type": "markdown",
   "id": "e0c10055-95e0-4af5-b6a4-392c96453bfe",
   "metadata": {},
   "source": [
    "To fill missing values let's just make num_of_loan equal to number of loans avaliable in the previous month. If there is no info about the previous months, we will take the next month."
   ]
  },
  {
   "cell_type": "code",
   "execution_count": 31,
   "id": "72071a93-8ba0-41fe-9a0c-b19bedf9149e",
   "metadata": {},
   "outputs": [
    {
     "data": {
      "text/plain": [
       "np.int64(4348)"
      ]
     },
     "execution_count": 31,
     "metadata": {},
     "output_type": "execute_result"
    }
   ],
   "source": [
    "df['num_of_loan'].isna().sum()"
   ]
  },
  {
   "cell_type": "code",
   "execution_count": 32,
   "id": "80b8efd8-bee1-497a-b933-f4196819f6d3",
   "metadata": {},
   "outputs": [
    {
     "name": "stderr",
     "output_type": "stream",
     "text": [
      "/var/folders/9z/rhfc541d14q5klxp9lqvgx8m0000gq/T/ipykernel_13653/3368487835.py:1: FutureWarning: DataFrameGroupBy.fillna is deprecated and will be removed in a future version. Use obj.ffill() or obj.bfill() for forward or backward filling instead. If you want to fill with a single value, use DataFrame.fillna instead\n",
      "  df['num_of_loan'] = df[['customer_id', 'num_of_loan', 'month_number']].sort_values('month_number').groupby('customer_id').fillna(method='ffill').fillna(method='bfill').sort_index()['num_of_loan']\n",
      "/var/folders/9z/rhfc541d14q5klxp9lqvgx8m0000gq/T/ipykernel_13653/3368487835.py:1: FutureWarning: DataFrame.fillna with 'method' is deprecated and will raise in a future version. Use obj.ffill() or obj.bfill() instead.\n",
      "  df['num_of_loan'] = df[['customer_id', 'num_of_loan', 'month_number']].sort_values('month_number').groupby('customer_id').fillna(method='ffill').fillna(method='bfill').sort_index()['num_of_loan']\n"
     ]
    }
   ],
   "source": [
    "df['num_of_loan'] = df[['customer_id', 'num_of_loan', 'month_number']].sort_values('month_number').groupby('customer_id').fillna(method='ffill').fillna(method='bfill').sort_index()['num_of_loan']"
   ]
  },
  {
   "cell_type": "code",
   "execution_count": 33,
   "id": "4dd6f2e0-aa2b-4dfd-82ba-d69808c3b423",
   "metadata": {},
   "outputs": [
    {
     "data": {
      "text/plain": [
       "np.int64(0)"
      ]
     },
     "execution_count": 33,
     "metadata": {},
     "output_type": "execute_result"
    }
   ],
   "source": [
    "df['num_of_loan'].isna().sum()"
   ]
  },
  {
   "cell_type": "markdown",
   "id": "699b344a-aa20-4e67-907a-5d40753d6743",
   "metadata": {},
   "source": [
    "### type_of_loan"
   ]
  },
  {
   "cell_type": "code",
   "execution_count": 34,
   "id": "dcc952c1-4fc7-4ff9-84a4-96d8954492fa",
   "metadata": {},
   "outputs": [
    {
     "data": {
      "text/plain": [
       "['Auto Loan, Credit-Builder Loan, Personal Loan, and Home Equity Loan',\n",
       " 'Credit-Builder Loan',\n",
       " 'Auto Loan, Auto Loan, and Not Specified',\n",
       " 'Not Specified',\n",
       " 'Credit-Builder Loan, and Mortgage Loan',\n",
       " 'Not Specified, Auto Loan, and Student Loan',\n",
       " 'Personal Loan, Debt Consolidation Loan, and Auto Loan',\n",
       " 'Not Specified, and Payday Loan',\n",
       " 'Credit-Builder Loan, Personal Loan, and Auto Loan',\n",
       " 'Payday Loan, and Payday Loan']"
      ]
     },
     "execution_count": 34,
     "metadata": {},
     "output_type": "execute_result"
    }
   ],
   "source": [
    "all_loans_strings = list(df['type_of_loan'].dropna().unique())\n",
    "all_loans_strings[:10]"
   ]
  },
  {
   "cell_type": "markdown",
   "id": "abed2e0e-59c1-4d7a-9b45-e8fd90e1943c",
   "metadata": {},
   "source": [
    "We can see that values are really different, but we are interested in all unique kinds of types:"
   ]
  },
  {
   "cell_type": "code",
   "execution_count": 35,
   "id": "17d78f32-6556-4e97-8fb5-9c4224273673",
   "metadata": {},
   "outputs": [
    {
     "name": "stdout",
     "output_type": "stream",
     "text": [
      "{'Home Equity Loan', 'Mortgage Loan', 'Debt Consolidation Loan', 'Personal Loan', 'Credit-Builder Loan', 'Payday Loan', 'Not Specified', 'Auto Loan', 'Student Loan'}\n"
     ]
    }
   ],
   "source": [
    "unique_types = set()\n",
    "for string_ in all_loans_strings:\n",
    "    for type_ in string_.split(','):\n",
    "        n_type = type_.replace(\" and \",\"\").strip()\n",
    "        unique_types.add(n_type)\n",
    "print(unique_types)"
   ]
  },
  {
   "cell_type": "markdown",
   "id": "7353ec00-33ff-4f02-84ae-4834a70f471e",
   "metadata": {},
   "source": [
    "Let's look closer at this column, that represents the types of loan taken by a person. I assume we can fill empty values by using previuos data from the same client.\n",
    "\n"
   ]
  },
  {
   "cell_type": "code",
   "execution_count": 36,
   "id": "c14a18f3-c93c-4f64-83bc-2024a4c71eba",
   "metadata": {},
   "outputs": [
    {
     "data": {
      "text/plain": [
       "['CUS_0x1cdb', 'CUS_0x95ee', 'CUS_0x6070', 'CUS_0x3553', 'CUS_0x132f']"
      ]
     },
     "execution_count": 36,
     "metadata": {},
     "output_type": "execute_result"
    }
   ],
   "source": [
    "clients_with_nan_loans = list(df[df['type_of_loan'].isna()]['customer_id'].unique())\n",
    "clients_with_nan_loans[:5]"
   ]
  },
  {
   "cell_type": "code",
   "execution_count": 37,
   "id": "db8d74bc-a7ef-4f29-bcc0-49795c7230fb",
   "metadata": {},
   "outputs": [
    {
     "data": {
      "text/html": [
       "<div>\n",
       "<style scoped>\n",
       "    .dataframe tbody tr th:only-of-type {\n",
       "        vertical-align: middle;\n",
       "    }\n",
       "\n",
       "    .dataframe tbody tr th {\n",
       "        vertical-align: top;\n",
       "    }\n",
       "\n",
       "    .dataframe thead th {\n",
       "        text-align: right;\n",
       "    }\n",
       "</style>\n",
       "<table border=\"1\" class=\"dataframe\">\n",
       "  <thead>\n",
       "    <tr style=\"text-align: right;\">\n",
       "      <th></th>\n",
       "      <th>type_of_loan</th>\n",
       "      <th>num_of_loan</th>\n",
       "    </tr>\n",
       "  </thead>\n",
       "  <tbody>\n",
       "    <tr>\n",
       "      <th>32</th>\n",
       "      <td>NaN</td>\n",
       "      <td>0.0</td>\n",
       "    </tr>\n",
       "    <tr>\n",
       "      <th>33</th>\n",
       "      <td>NaN</td>\n",
       "      <td>0.0</td>\n",
       "    </tr>\n",
       "    <tr>\n",
       "      <th>34</th>\n",
       "      <td>NaN</td>\n",
       "      <td>0.0</td>\n",
       "    </tr>\n",
       "    <tr>\n",
       "      <th>35</th>\n",
       "      <td>NaN</td>\n",
       "      <td>0.0</td>\n",
       "    </tr>\n",
       "    <tr>\n",
       "      <th>36</th>\n",
       "      <td>NaN</td>\n",
       "      <td>0.0</td>\n",
       "    </tr>\n",
       "    <tr>\n",
       "      <th>37</th>\n",
       "      <td>NaN</td>\n",
       "      <td>0.0</td>\n",
       "    </tr>\n",
       "    <tr>\n",
       "      <th>38</th>\n",
       "      <td>NaN</td>\n",
       "      <td>0.0</td>\n",
       "    </tr>\n",
       "    <tr>\n",
       "      <th>39</th>\n",
       "      <td>NaN</td>\n",
       "      <td>0.0</td>\n",
       "    </tr>\n",
       "  </tbody>\n",
       "</table>\n",
       "</div>"
      ],
      "text/plain": [
       "   type_of_loan  num_of_loan\n",
       "32          NaN          0.0\n",
       "33          NaN          0.0\n",
       "34          NaN          0.0\n",
       "35          NaN          0.0\n",
       "36          NaN          0.0\n",
       "37          NaN          0.0\n",
       "38          NaN          0.0\n",
       "39          NaN          0.0"
      ]
     },
     "execution_count": 37,
     "metadata": {},
     "output_type": "execute_result"
    }
   ],
   "source": [
    "df[df['customer_id'] == clients_with_nan_loans[0]][['type_of_loan', 'num_of_loan']]"
   ]
  },
  {
   "cell_type": "code",
   "execution_count": 38,
   "id": "6059b404-4808-4358-a642-302f56587fbc",
   "metadata": {},
   "outputs": [
    {
     "data": {
      "text/html": [
       "<div>\n",
       "<style scoped>\n",
       "    .dataframe tbody tr th:only-of-type {\n",
       "        vertical-align: middle;\n",
       "    }\n",
       "\n",
       "    .dataframe tbody tr th {\n",
       "        vertical-align: top;\n",
       "    }\n",
       "\n",
       "    .dataframe thead th {\n",
       "        text-align: right;\n",
       "    }\n",
       "</style>\n",
       "<table border=\"1\" class=\"dataframe\">\n",
       "  <thead>\n",
       "    <tr style=\"text-align: right;\">\n",
       "      <th></th>\n",
       "      <th>type_of_loan</th>\n",
       "      <th>num_of_loan</th>\n",
       "    </tr>\n",
       "  </thead>\n",
       "  <tbody>\n",
       "    <tr>\n",
       "      <th>99904</th>\n",
       "      <td>NaN</td>\n",
       "      <td>0.0</td>\n",
       "    </tr>\n",
       "    <tr>\n",
       "      <th>99905</th>\n",
       "      <td>NaN</td>\n",
       "      <td>0.0</td>\n",
       "    </tr>\n",
       "    <tr>\n",
       "      <th>99906</th>\n",
       "      <td>NaN</td>\n",
       "      <td>0.0</td>\n",
       "    </tr>\n",
       "    <tr>\n",
       "      <th>99907</th>\n",
       "      <td>NaN</td>\n",
       "      <td>0.0</td>\n",
       "    </tr>\n",
       "    <tr>\n",
       "      <th>99908</th>\n",
       "      <td>NaN</td>\n",
       "      <td>0.0</td>\n",
       "    </tr>\n",
       "    <tr>\n",
       "      <th>99909</th>\n",
       "      <td>NaN</td>\n",
       "      <td>0.0</td>\n",
       "    </tr>\n",
       "    <tr>\n",
       "      <th>99910</th>\n",
       "      <td>NaN</td>\n",
       "      <td>0.0</td>\n",
       "    </tr>\n",
       "    <tr>\n",
       "      <th>99911</th>\n",
       "      <td>NaN</td>\n",
       "      <td>0.0</td>\n",
       "    </tr>\n",
       "  </tbody>\n",
       "</table>\n",
       "</div>"
      ],
      "text/plain": [
       "      type_of_loan  num_of_loan\n",
       "99904          NaN          0.0\n",
       "99905          NaN          0.0\n",
       "99906          NaN          0.0\n",
       "99907          NaN          0.0\n",
       "99908          NaN          0.0\n",
       "99909          NaN          0.0\n",
       "99910          NaN          0.0\n",
       "99911          NaN          0.0"
      ]
     },
     "execution_count": 38,
     "metadata": {},
     "output_type": "execute_result"
    }
   ],
   "source": [
    "df[df['customer_id'] == clients_with_nan_loans[-2]][['type_of_loan', 'num_of_loan']]"
   ]
  },
  {
   "cell_type": "markdown",
   "id": "0bb6ca42-f827-4cec-82d4-0dd678409f6e",
   "metadata": {},
   "source": [
    "It seems like type_of_loan is NaN if num_of_loan == 0. Let's check that:"
   ]
  },
  {
   "cell_type": "code",
   "execution_count": 39,
   "id": "34f7ba80-0731-45c6-a4ed-656150372737",
   "metadata": {},
   "outputs": [
    {
     "name": "stderr",
     "output_type": "stream",
     "text": [
      "/var/folders/9z/rhfc541d14q5klxp9lqvgx8m0000gq/T/ipykernel_13653/1229599172.py:5: FutureWarning: Downcasting object dtype arrays on .fillna, .ffill, .bfill is deprecated and will change in a future version. Call result.infer_objects(copy=False) instead. To opt-in to the future behavior, set `pd.set_option('future.no_silent_downcasting', True)`\n",
      "  if not (all(group['type_of_loan'].fillna(0.0) == group['num_of_loan'])):\n"
     ]
    },
    {
     "data": {
      "text/html": [
       "<div>\n",
       "<style scoped>\n",
       "    .dataframe tbody tr th:only-of-type {\n",
       "        vertical-align: middle;\n",
       "    }\n",
       "\n",
       "    .dataframe tbody tr th {\n",
       "        vertical-align: top;\n",
       "    }\n",
       "\n",
       "    .dataframe thead th {\n",
       "        text-align: right;\n",
       "    }\n",
       "</style>\n",
       "<table border=\"1\" class=\"dataframe\">\n",
       "  <thead>\n",
       "    <tr style=\"text-align: right;\">\n",
       "      <th></th>\n",
       "      <th>customer_id</th>\n",
       "      <th>type_of_loan</th>\n",
       "      <th>num_of_loan</th>\n",
       "      <th>month_number</th>\n",
       "    </tr>\n",
       "  </thead>\n",
       "  <tbody>\n",
       "    <tr>\n",
       "      <th>57504</th>\n",
       "      <td>CUS_0xc4e7</td>\n",
       "      <td>NaN</td>\n",
       "      <td>3.0</td>\n",
       "      <td>1</td>\n",
       "    </tr>\n",
       "    <tr>\n",
       "      <th>57505</th>\n",
       "      <td>CUS_0xc4e7</td>\n",
       "      <td>NaN</td>\n",
       "      <td>0.0</td>\n",
       "      <td>2</td>\n",
       "    </tr>\n",
       "    <tr>\n",
       "      <th>57506</th>\n",
       "      <td>CUS_0xc4e7</td>\n",
       "      <td>NaN</td>\n",
       "      <td>0.0</td>\n",
       "      <td>3</td>\n",
       "    </tr>\n",
       "    <tr>\n",
       "      <th>57507</th>\n",
       "      <td>CUS_0xc4e7</td>\n",
       "      <td>NaN</td>\n",
       "      <td>0.0</td>\n",
       "      <td>4</td>\n",
       "    </tr>\n",
       "    <tr>\n",
       "      <th>57508</th>\n",
       "      <td>CUS_0xc4e7</td>\n",
       "      <td>NaN</td>\n",
       "      <td>0.0</td>\n",
       "      <td>5</td>\n",
       "    </tr>\n",
       "    <tr>\n",
       "      <th>57509</th>\n",
       "      <td>CUS_0xc4e7</td>\n",
       "      <td>NaN</td>\n",
       "      <td>0.0</td>\n",
       "      <td>6</td>\n",
       "    </tr>\n",
       "    <tr>\n",
       "      <th>57510</th>\n",
       "      <td>CUS_0xc4e7</td>\n",
       "      <td>NaN</td>\n",
       "      <td>0.0</td>\n",
       "      <td>7</td>\n",
       "    </tr>\n",
       "    <tr>\n",
       "      <th>57511</th>\n",
       "      <td>CUS_0xc4e7</td>\n",
       "      <td>NaN</td>\n",
       "      <td>0.0</td>\n",
       "      <td>8</td>\n",
       "    </tr>\n",
       "  </tbody>\n",
       "</table>\n",
       "</div>"
      ],
      "text/plain": [
       "      customer_id type_of_loan  num_of_loan  month_number\n",
       "57504  CUS_0xc4e7          NaN          3.0             1\n",
       "57505  CUS_0xc4e7          NaN          0.0             2\n",
       "57506  CUS_0xc4e7          NaN          0.0             3\n",
       "57507  CUS_0xc4e7          NaN          0.0             4\n",
       "57508  CUS_0xc4e7          NaN          0.0             5\n",
       "57509  CUS_0xc4e7          NaN          0.0             6\n",
       "57510  CUS_0xc4e7          NaN          0.0             7\n",
       "57511  CUS_0xc4e7          NaN          0.0             8"
      ]
     },
     "metadata": {},
     "output_type": "display_data"
    },
    {
     "name": "stderr",
     "output_type": "stream",
     "text": [
      "/var/folders/9z/rhfc541d14q5klxp9lqvgx8m0000gq/T/ipykernel_13653/1229599172.py:5: FutureWarning: Downcasting object dtype arrays on .fillna, .ffill, .bfill is deprecated and will change in a future version. Call result.infer_objects(copy=False) instead. To opt-in to the future behavior, set `pd.set_option('future.no_silent_downcasting', True)`\n",
      "  if not (all(group['type_of_loan'].fillna(0.0) == group['num_of_loan'])):\n"
     ]
    },
    {
     "name": "stdout",
     "output_type": "stream",
     "text": [
      "59\n"
     ]
    }
   ],
   "source": [
    "customers_groups = df.groupby('customer_id')\n",
    "counter = 0\n",
    "for cid in clients_with_nan_loans:\n",
    "    group = customers_groups.get_group(cid)\n",
    "    if not (all(group['type_of_loan'].fillna(0.0) == group['num_of_loan'])):\n",
    "        counter += 1\n",
    "        if counter == 30:\n",
    "            display(group[['customer_id', 'type_of_loan', 'num_of_loan', 'month_number']])\n",
    "print(counter)"
   ]
  },
  {
   "cell_type": "code",
   "execution_count": 40,
   "id": "54e8dfd5-bfc4-4e90-9688-3c55c999d4de",
   "metadata": {},
   "outputs": [
    {
     "data": {
      "text/plain": [
       "np.int64(11408)"
      ]
     },
     "execution_count": 40,
     "metadata": {},
     "output_type": "execute_result"
    }
   ],
   "source": [
    "df.type_of_loan.isna().sum()"
   ]
  },
  {
   "cell_type": "markdown",
   "id": "78cdc499-7503-48e3-9c54-db83b9ca7629",
   "metadata": {},
   "source": [
    "As we can see it's possible that type_of_loan is NaN, but num_of_loan is reasonable values. \n",
    "In this case we will fill type_of_loan \"Not Specified\" value, and otherwise we will create new value \"No loans\""
   ]
  },
  {
   "cell_type": "code",
   "execution_count": 41,
   "id": "8cf84405-f721-4ce1-b1f4-c4c12463ecd9",
   "metadata": {},
   "outputs": [
    {
     "data": {
      "text/plain": [
       "Index([   32,    33,    34,    35,    36,    37,    38,    39,    40,    41,\n",
       "       ...\n",
       "       99910, 99911, 99936, 99937, 99938, 99939, 99940, 99941, 99942, 99943],\n",
       "      dtype='int64', length=11409)"
      ]
     },
     "execution_count": 41,
     "metadata": {},
     "output_type": "execute_result"
    }
   ],
   "source": [
    "no_loans_index = df[df['num_of_loan'] == 0.0].index\n",
    "no_loans_index"
   ]
  },
  {
   "cell_type": "code",
   "execution_count": 42,
   "id": "224aae21-627e-4073-b9c4-f5f664811346",
   "metadata": {},
   "outputs": [],
   "source": [
    "df.loc[no_loans_index, ['type_of_loan']] = \"No loans\""
   ]
  },
  {
   "cell_type": "code",
   "execution_count": 43,
   "id": "a9c53fbc-623d-4377-a933-76a7f3e269c6",
   "metadata": {},
   "outputs": [
    {
     "data": {
      "text/html": [
       "<div>\n",
       "<style scoped>\n",
       "    .dataframe tbody tr th:only-of-type {\n",
       "        vertical-align: middle;\n",
       "    }\n",
       "\n",
       "    .dataframe tbody tr th {\n",
       "        vertical-align: top;\n",
       "    }\n",
       "\n",
       "    .dataframe thead th {\n",
       "        text-align: right;\n",
       "    }\n",
       "</style>\n",
       "<table border=\"1\" class=\"dataframe\">\n",
       "  <thead>\n",
       "    <tr style=\"text-align: right;\">\n",
       "      <th></th>\n",
       "      <th>type_of_loan</th>\n",
       "      <th>num_of_loan</th>\n",
       "    </tr>\n",
       "  </thead>\n",
       "  <tbody>\n",
       "    <tr>\n",
       "      <th>32</th>\n",
       "      <td>No loans</td>\n",
       "      <td>0.0</td>\n",
       "    </tr>\n",
       "    <tr>\n",
       "      <th>33</th>\n",
       "      <td>No loans</td>\n",
       "      <td>0.0</td>\n",
       "    </tr>\n",
       "    <tr>\n",
       "      <th>34</th>\n",
       "      <td>No loans</td>\n",
       "      <td>0.0</td>\n",
       "    </tr>\n",
       "    <tr>\n",
       "      <th>35</th>\n",
       "      <td>No loans</td>\n",
       "      <td>0.0</td>\n",
       "    </tr>\n",
       "    <tr>\n",
       "      <th>36</th>\n",
       "      <td>No loans</td>\n",
       "      <td>0.0</td>\n",
       "    </tr>\n",
       "    <tr>\n",
       "      <th>37</th>\n",
       "      <td>No loans</td>\n",
       "      <td>0.0</td>\n",
       "    </tr>\n",
       "    <tr>\n",
       "      <th>38</th>\n",
       "      <td>No loans</td>\n",
       "      <td>0.0</td>\n",
       "    </tr>\n",
       "    <tr>\n",
       "      <th>39</th>\n",
       "      <td>No loans</td>\n",
       "      <td>0.0</td>\n",
       "    </tr>\n",
       "  </tbody>\n",
       "</table>\n",
       "</div>"
      ],
      "text/plain": [
       "   type_of_loan  num_of_loan\n",
       "32     No loans          0.0\n",
       "33     No loans          0.0\n",
       "34     No loans          0.0\n",
       "35     No loans          0.0\n",
       "36     No loans          0.0\n",
       "37     No loans          0.0\n",
       "38     No loans          0.0\n",
       "39     No loans          0.0"
      ]
     },
     "execution_count": 43,
     "metadata": {},
     "output_type": "execute_result"
    }
   ],
   "source": [
    "df[df['customer_id'] == clients_with_nan_loans[0]][['type_of_loan', 'num_of_loan']]"
   ]
  },
  {
   "cell_type": "code",
   "execution_count": 44,
   "id": "12a3ab0b-7e83-44e4-bbf9-77747d63e5ca",
   "metadata": {},
   "outputs": [
    {
     "data": {
      "text/html": [
       "<div>\n",
       "<style scoped>\n",
       "    .dataframe tbody tr th:only-of-type {\n",
       "        vertical-align: middle;\n",
       "    }\n",
       "\n",
       "    .dataframe tbody tr th {\n",
       "        vertical-align: top;\n",
       "    }\n",
       "\n",
       "    .dataframe thead th {\n",
       "        text-align: right;\n",
       "    }\n",
       "</style>\n",
       "<table border=\"1\" class=\"dataframe\">\n",
       "  <thead>\n",
       "    <tr style=\"text-align: right;\">\n",
       "      <th></th>\n",
       "      <th>customer_id</th>\n",
       "      <th>type_of_loan</th>\n",
       "      <th>num_of_loan</th>\n",
       "      <th>month_number</th>\n",
       "    </tr>\n",
       "  </thead>\n",
       "  <tbody>\n",
       "    <tr>\n",
       "      <th>712</th>\n",
       "      <td>CUS_0x3861</td>\n",
       "      <td>NaN</td>\n",
       "      <td>2.0</td>\n",
       "      <td>1</td>\n",
       "    </tr>\n",
       "    <tr>\n",
       "      <th>2496</th>\n",
       "      <td>CUS_0x79b</td>\n",
       "      <td>NaN</td>\n",
       "      <td>1.0</td>\n",
       "      <td>1</td>\n",
       "    </tr>\n",
       "    <tr>\n",
       "      <th>2984</th>\n",
       "      <td>CUS_0xa560</td>\n",
       "      <td>NaN</td>\n",
       "      <td>3.0</td>\n",
       "      <td>1</td>\n",
       "    </tr>\n",
       "    <tr>\n",
       "      <th>6832</th>\n",
       "      <td>CUS_0x6b15</td>\n",
       "      <td>NaN</td>\n",
       "      <td>3.0</td>\n",
       "      <td>1</td>\n",
       "    </tr>\n",
       "    <tr>\n",
       "      <th>6880</th>\n",
       "      <td>CUS_0x29d2</td>\n",
       "      <td>NaN</td>\n",
       "      <td>4.0</td>\n",
       "      <td>1</td>\n",
       "    </tr>\n",
       "    <tr>\n",
       "      <th>...</th>\n",
       "      <td>...</td>\n",
       "      <td>...</td>\n",
       "      <td>...</td>\n",
       "      <td>...</td>\n",
       "    </tr>\n",
       "    <tr>\n",
       "      <th>89232</th>\n",
       "      <td>CUS_0xc317</td>\n",
       "      <td>NaN</td>\n",
       "      <td>6.0</td>\n",
       "      <td>1</td>\n",
       "    </tr>\n",
       "    <tr>\n",
       "      <th>89432</th>\n",
       "      <td>CUS_0x58b2</td>\n",
       "      <td>NaN</td>\n",
       "      <td>4.0</td>\n",
       "      <td>1</td>\n",
       "    </tr>\n",
       "    <tr>\n",
       "      <th>89640</th>\n",
       "      <td>CUS_0x2b3c</td>\n",
       "      <td>NaN</td>\n",
       "      <td>3.0</td>\n",
       "      <td>1</td>\n",
       "    </tr>\n",
       "    <tr>\n",
       "      <th>92208</th>\n",
       "      <td>CUS_0x30c1</td>\n",
       "      <td>NaN</td>\n",
       "      <td>3.0</td>\n",
       "      <td>1</td>\n",
       "    </tr>\n",
       "    <tr>\n",
       "      <th>95840</th>\n",
       "      <td>CUS_0x6ae4</td>\n",
       "      <td>NaN</td>\n",
       "      <td>7.0</td>\n",
       "      <td>1</td>\n",
       "    </tr>\n",
       "  </tbody>\n",
       "</table>\n",
       "<p>61 rows × 4 columns</p>\n",
       "</div>"
      ],
      "text/plain": [
       "      customer_id type_of_loan  num_of_loan  month_number\n",
       "712    CUS_0x3861          NaN          2.0             1\n",
       "2496    CUS_0x79b          NaN          1.0             1\n",
       "2984   CUS_0xa560          NaN          3.0             1\n",
       "6832   CUS_0x6b15          NaN          3.0             1\n",
       "6880   CUS_0x29d2          NaN          4.0             1\n",
       "...           ...          ...          ...           ...\n",
       "89232  CUS_0xc317          NaN          6.0             1\n",
       "89432  CUS_0x58b2          NaN          4.0             1\n",
       "89640  CUS_0x2b3c          NaN          3.0             1\n",
       "92208  CUS_0x30c1          NaN          3.0             1\n",
       "95840  CUS_0x6ae4          NaN          7.0             1\n",
       "\n",
       "[61 rows x 4 columns]"
      ]
     },
     "execution_count": 44,
     "metadata": {},
     "output_type": "execute_result"
    }
   ],
   "source": [
    "still_nulls = df.type_of_loan.isna()\n",
    "df[still_nulls][['customer_id', 'type_of_loan', 'num_of_loan', 'month_number']]"
   ]
  },
  {
   "cell_type": "code",
   "execution_count": 45,
   "id": "35e4cb1f-8195-4d8c-96b5-953d63e0eb14",
   "metadata": {},
   "outputs": [
    {
     "data": {
      "text/html": [
       "<div>\n",
       "<style scoped>\n",
       "    .dataframe tbody tr th:only-of-type {\n",
       "        vertical-align: middle;\n",
       "    }\n",
       "\n",
       "    .dataframe tbody tr th {\n",
       "        vertical-align: top;\n",
       "    }\n",
       "\n",
       "    .dataframe thead th {\n",
       "        text-align: right;\n",
       "    }\n",
       "</style>\n",
       "<table border=\"1\" class=\"dataframe\">\n",
       "  <thead>\n",
       "    <tr style=\"text-align: right;\">\n",
       "      <th></th>\n",
       "      <th>customer_id</th>\n",
       "      <th>type_of_loan</th>\n",
       "      <th>num_of_loan</th>\n",
       "      <th>month_number</th>\n",
       "    </tr>\n",
       "  </thead>\n",
       "  <tbody>\n",
       "    <tr>\n",
       "      <th>712</th>\n",
       "      <td>CUS_0x3861</td>\n",
       "      <td>Not Specified</td>\n",
       "      <td>2.0</td>\n",
       "      <td>1</td>\n",
       "    </tr>\n",
       "    <tr>\n",
       "      <th>2496</th>\n",
       "      <td>CUS_0x79b</td>\n",
       "      <td>Not Specified</td>\n",
       "      <td>1.0</td>\n",
       "      <td>1</td>\n",
       "    </tr>\n",
       "    <tr>\n",
       "      <th>2984</th>\n",
       "      <td>CUS_0xa560</td>\n",
       "      <td>Not Specified</td>\n",
       "      <td>3.0</td>\n",
       "      <td>1</td>\n",
       "    </tr>\n",
       "    <tr>\n",
       "      <th>6832</th>\n",
       "      <td>CUS_0x6b15</td>\n",
       "      <td>Not Specified</td>\n",
       "      <td>3.0</td>\n",
       "      <td>1</td>\n",
       "    </tr>\n",
       "    <tr>\n",
       "      <th>6880</th>\n",
       "      <td>CUS_0x29d2</td>\n",
       "      <td>Not Specified</td>\n",
       "      <td>4.0</td>\n",
       "      <td>1</td>\n",
       "    </tr>\n",
       "    <tr>\n",
       "      <th>...</th>\n",
       "      <td>...</td>\n",
       "      <td>...</td>\n",
       "      <td>...</td>\n",
       "      <td>...</td>\n",
       "    </tr>\n",
       "    <tr>\n",
       "      <th>89232</th>\n",
       "      <td>CUS_0xc317</td>\n",
       "      <td>Not Specified</td>\n",
       "      <td>6.0</td>\n",
       "      <td>1</td>\n",
       "    </tr>\n",
       "    <tr>\n",
       "      <th>89432</th>\n",
       "      <td>CUS_0x58b2</td>\n",
       "      <td>Not Specified</td>\n",
       "      <td>4.0</td>\n",
       "      <td>1</td>\n",
       "    </tr>\n",
       "    <tr>\n",
       "      <th>89640</th>\n",
       "      <td>CUS_0x2b3c</td>\n",
       "      <td>Not Specified</td>\n",
       "      <td>3.0</td>\n",
       "      <td>1</td>\n",
       "    </tr>\n",
       "    <tr>\n",
       "      <th>92208</th>\n",
       "      <td>CUS_0x30c1</td>\n",
       "      <td>Not Specified</td>\n",
       "      <td>3.0</td>\n",
       "      <td>1</td>\n",
       "    </tr>\n",
       "    <tr>\n",
       "      <th>95840</th>\n",
       "      <td>CUS_0x6ae4</td>\n",
       "      <td>Not Specified</td>\n",
       "      <td>7.0</td>\n",
       "      <td>1</td>\n",
       "    </tr>\n",
       "  </tbody>\n",
       "</table>\n",
       "<p>61 rows × 4 columns</p>\n",
       "</div>"
      ],
      "text/plain": [
       "      customer_id   type_of_loan  num_of_loan  month_number\n",
       "712    CUS_0x3861  Not Specified          2.0             1\n",
       "2496    CUS_0x79b  Not Specified          1.0             1\n",
       "2984   CUS_0xa560  Not Specified          3.0             1\n",
       "6832   CUS_0x6b15  Not Specified          3.0             1\n",
       "6880   CUS_0x29d2  Not Specified          4.0             1\n",
       "...           ...            ...          ...           ...\n",
       "89232  CUS_0xc317  Not Specified          6.0             1\n",
       "89432  CUS_0x58b2  Not Specified          4.0             1\n",
       "89640  CUS_0x2b3c  Not Specified          3.0             1\n",
       "92208  CUS_0x30c1  Not Specified          3.0             1\n",
       "95840  CUS_0x6ae4  Not Specified          7.0             1\n",
       "\n",
       "[61 rows x 4 columns]"
      ]
     },
     "execution_count": 45,
     "metadata": {},
     "output_type": "execute_result"
    }
   ],
   "source": [
    "df.type_of_loan = df.type_of_loan.fillna('Not Specified')\n",
    "df[still_nulls][['customer_id', 'type_of_loan', 'num_of_loan', 'month_number']]"
   ]
  },
  {
   "cell_type": "markdown",
   "id": "d24b1f6e-73b3-4576-876a-15eac3d8db87",
   "metadata": {},
   "source": [
    "Let's also turn all unique values of type of loans into individual columns. "
   ]
  },
  {
   "cell_type": "code",
   "execution_count": 46,
   "id": "d2717f5b-0d22-421a-93eb-6fbe94678783",
   "metadata": {},
   "outputs": [
    {
     "data": {
      "text/plain": [
       "{'Auto Loan',\n",
       " 'Credit-Builder Loan',\n",
       " 'Debt Consolidation Loan',\n",
       " 'Home Equity Loan',\n",
       " 'Mortgage Loan',\n",
       " 'Not Specified',\n",
       " 'Payday Loan',\n",
       " 'Personal Loan',\n",
       " 'Student Loan'}"
      ]
     },
     "execution_count": 46,
     "metadata": {},
     "output_type": "execute_result"
    }
   ],
   "source": [
    "unique_types"
   ]
  },
  {
   "cell_type": "code",
   "execution_count": 47,
   "id": "5a01fd8e-b0ff-4744-9945-3ee6590580b3",
   "metadata": {},
   "outputs": [],
   "source": [
    "for utype in unique_types:\n",
    "    new_column_name = f\"loan_type_{utype.lower().replace(' ', '_')}\"\n",
    "    df[new_column_name] = df.type_of_loan.str.contains(utype).astype(int)"
   ]
  },
  {
   "cell_type": "markdown",
   "id": "45a93273-479f-4788-843b-ed1ba9d8bbd9",
   "metadata": {
    "jp-MarkdownHeadingCollapsed": true
   },
   "source": [
    "### credit_history_age\n",
    "Represents the age of credit history of the person"
   ]
  },
  {
   "cell_type": "code",
   "execution_count": 48,
   "id": "ece3168b-ca27-474a-b018-be4dfe014993",
   "metadata": {},
   "outputs": [
    {
     "data": {
      "text/plain": [
       "0    22 Years and 1 Months\n",
       "1                      NaN\n",
       "2    22 Years and 3 Months\n",
       "3    22 Years and 4 Months\n",
       "4    22 Years and 5 Months\n",
       "Name: credit_history_age, dtype: object"
      ]
     },
     "execution_count": 48,
     "metadata": {},
     "output_type": "execute_result"
    }
   ],
   "source": [
    "df.credit_history_age.head()"
   ]
  },
  {
   "cell_type": "code",
   "execution_count": 49,
   "id": "a2ea7ebf-2ec0-4156-ae56-73a27df54eca",
   "metadata": {},
   "outputs": [
    {
     "name": "stdout",
     "output_type": "stream",
     "text": [
      "Empty values count: 9030\n"
     ]
    }
   ],
   "source": [
    "print(f\"Empty values count: {df.credit_history_age.isna().sum()}\")"
   ]
  },
  {
   "cell_type": "code",
   "execution_count": 50,
   "id": "8ea07327-c618-4745-a377-ccdca17b4229",
   "metadata": {},
   "outputs": [
    {
     "data": {
      "text/plain": [
       "credit_history_age\n",
       "15 Years and 11 Months    446\n",
       "19 Years and 4 Months     445\n",
       "19 Years and 5 Months     444\n",
       "17 Years and 11 Months    443\n",
       "19 Years and 3 Months     441\n",
       "                         ... \n",
       "0 Years and 3 Months       20\n",
       "0 Years and 2 Months       15\n",
       "33 Years and 7 Months      14\n",
       "33 Years and 8 Months      12\n",
       "0 Years and 1 Months        2\n",
       "Name: count, Length: 404, dtype: int64"
      ]
     },
     "execution_count": 50,
     "metadata": {},
     "output_type": "execute_result"
    }
   ],
   "source": [
    "df.credit_history_age.value_counts()"
   ]
  },
  {
   "cell_type": "markdown",
   "id": "0fbc1119-f0d2-4de8-84c9-e790902b94f8",
   "metadata": {},
   "source": [
    "Let's turn this column into number of months as integer value:"
   ]
  },
  {
   "cell_type": "code",
   "execution_count": 51,
   "id": "d3b5b2cc-77cb-4c47-81b0-cd3e17c5453d",
   "metadata": {},
   "outputs": [
    {
     "data": {
      "text/plain": [
       "np.True_"
      ]
     },
     "execution_count": 51,
     "metadata": {},
     "output_type": "execute_result"
    }
   ],
   "source": [
    "a = np.nan\n",
    "np.isnan(a)"
   ]
  },
  {
   "cell_type": "code",
   "execution_count": 52,
   "id": "4743b5c8-2a54-4475-a26b-97425597ce3e",
   "metadata": {},
   "outputs": [],
   "source": [
    "def credit_history_age_to_int(value: str):\n",
    "    if pd.isnull(value):\n",
    "        return value\n",
    "    years_str, months_str = value.split(' and ')\n",
    "    years = int(years_str.split(' ')[0])\n",
    "    months = int(months_str.split(' ')[0])\n",
    "    return 12 * years + months"
   ]
  },
  {
   "cell_type": "code",
   "execution_count": 53,
   "id": "5baaff7a-e522-41c1-8c45-b086f65f4ea4",
   "metadata": {},
   "outputs": [],
   "source": [
    "df['credit_history_age'] = df['credit_history_age'].apply(credit_history_age_to_int)"
   ]
  },
  {
   "cell_type": "markdown",
   "id": "0775a98a-720e-4f2f-bf08-93681dc5a222",
   "metadata": {},
   "source": [
    "Let's also fill empty values using customer info we gather from other rows:"
   ]
  },
  {
   "cell_type": "code",
   "execution_count": 54,
   "id": "7e0452dd-75fc-41b9-ae0b-1826f3fdbf6b",
   "metadata": {},
   "outputs": [
    {
     "data": {
      "text/html": [
       "<div>\n",
       "<style scoped>\n",
       "    .dataframe tbody tr th:only-of-type {\n",
       "        vertical-align: middle;\n",
       "    }\n",
       "\n",
       "    .dataframe tbody tr th {\n",
       "        vertical-align: top;\n",
       "    }\n",
       "\n",
       "    .dataframe thead th {\n",
       "        text-align: right;\n",
       "    }\n",
       "</style>\n",
       "<table border=\"1\" class=\"dataframe\">\n",
       "  <thead>\n",
       "    <tr style=\"text-align: right;\">\n",
       "      <th></th>\n",
       "      <th>customer_id</th>\n",
       "      <th>credit_history_age</th>\n",
       "    </tr>\n",
       "  </thead>\n",
       "  <tbody>\n",
       "    <tr>\n",
       "      <th>1</th>\n",
       "      <td>CUS_0xd40</td>\n",
       "      <td>NaN</td>\n",
       "    </tr>\n",
       "    <tr>\n",
       "      <th>7</th>\n",
       "      <td>CUS_0xd40</td>\n",
       "      <td>NaN</td>\n",
       "    </tr>\n",
       "    <tr>\n",
       "      <th>19</th>\n",
       "      <td>CUS_0x2dbc</td>\n",
       "      <td>NaN</td>\n",
       "    </tr>\n",
       "    <tr>\n",
       "      <th>40</th>\n",
       "      <td>CUS_0x95ee</td>\n",
       "      <td>NaN</td>\n",
       "    </tr>\n",
       "    <tr>\n",
       "      <th>42</th>\n",
       "      <td>CUS_0x95ee</td>\n",
       "      <td>NaN</td>\n",
       "    </tr>\n",
       "    <tr>\n",
       "      <th>...</th>\n",
       "      <td>...</td>\n",
       "      <td>...</td>\n",
       "    </tr>\n",
       "    <tr>\n",
       "      <th>99944</th>\n",
       "      <td>CUS_0x51b3</td>\n",
       "      <td>NaN</td>\n",
       "    </tr>\n",
       "    <tr>\n",
       "      <th>99963</th>\n",
       "      <td>CUS_0x372c</td>\n",
       "      <td>NaN</td>\n",
       "    </tr>\n",
       "    <tr>\n",
       "      <th>99968</th>\n",
       "      <td>CUS_0xf16</td>\n",
       "      <td>NaN</td>\n",
       "    </tr>\n",
       "    <tr>\n",
       "      <th>99975</th>\n",
       "      <td>CUS_0xf16</td>\n",
       "      <td>NaN</td>\n",
       "    </tr>\n",
       "    <tr>\n",
       "      <th>99990</th>\n",
       "      <td>CUS_0x8600</td>\n",
       "      <td>NaN</td>\n",
       "    </tr>\n",
       "  </tbody>\n",
       "</table>\n",
       "<p>9030 rows × 2 columns</p>\n",
       "</div>"
      ],
      "text/plain": [
       "      customer_id  credit_history_age\n",
       "1       CUS_0xd40                 NaN\n",
       "7       CUS_0xd40                 NaN\n",
       "19     CUS_0x2dbc                 NaN\n",
       "40     CUS_0x95ee                 NaN\n",
       "42     CUS_0x95ee                 NaN\n",
       "...           ...                 ...\n",
       "99944  CUS_0x51b3                 NaN\n",
       "99963  CUS_0x372c                 NaN\n",
       "99968   CUS_0xf16                 NaN\n",
       "99975   CUS_0xf16                 NaN\n",
       "99990  CUS_0x8600                 NaN\n",
       "\n",
       "[9030 rows x 2 columns]"
      ]
     },
     "execution_count": 54,
     "metadata": {},
     "output_type": "execute_result"
    }
   ],
   "source": [
    "df[df['credit_history_age'].isna()][['customer_id', 'credit_history_age']]"
   ]
  },
  {
   "cell_type": "code",
   "execution_count": 55,
   "id": "c8c62b72-e0a5-40dc-898a-64776f35cabc",
   "metadata": {},
   "outputs": [
    {
     "data": {
      "text/html": [
       "<div>\n",
       "<style scoped>\n",
       "    .dataframe tbody tr th:only-of-type {\n",
       "        vertical-align: middle;\n",
       "    }\n",
       "\n",
       "    .dataframe tbody tr th {\n",
       "        vertical-align: top;\n",
       "    }\n",
       "\n",
       "    .dataframe thead th {\n",
       "        text-align: right;\n",
       "    }\n",
       "</style>\n",
       "<table border=\"1\" class=\"dataframe\">\n",
       "  <thead>\n",
       "    <tr style=\"text-align: right;\">\n",
       "      <th></th>\n",
       "      <th>customer_id</th>\n",
       "      <th>month_number</th>\n",
       "      <th>credit_history_age</th>\n",
       "    </tr>\n",
       "  </thead>\n",
       "  <tbody>\n",
       "    <tr>\n",
       "      <th>0</th>\n",
       "      <td>CUS_0xd40</td>\n",
       "      <td>1</td>\n",
       "      <td>265.0</td>\n",
       "    </tr>\n",
       "    <tr>\n",
       "      <th>1</th>\n",
       "      <td>CUS_0xd40</td>\n",
       "      <td>2</td>\n",
       "      <td>NaN</td>\n",
       "    </tr>\n",
       "    <tr>\n",
       "      <th>2</th>\n",
       "      <td>CUS_0xd40</td>\n",
       "      <td>3</td>\n",
       "      <td>267.0</td>\n",
       "    </tr>\n",
       "    <tr>\n",
       "      <th>3</th>\n",
       "      <td>CUS_0xd40</td>\n",
       "      <td>4</td>\n",
       "      <td>268.0</td>\n",
       "    </tr>\n",
       "    <tr>\n",
       "      <th>4</th>\n",
       "      <td>CUS_0xd40</td>\n",
       "      <td>5</td>\n",
       "      <td>269.0</td>\n",
       "    </tr>\n",
       "    <tr>\n",
       "      <th>5</th>\n",
       "      <td>CUS_0xd40</td>\n",
       "      <td>6</td>\n",
       "      <td>270.0</td>\n",
       "    </tr>\n",
       "    <tr>\n",
       "      <th>6</th>\n",
       "      <td>CUS_0xd40</td>\n",
       "      <td>7</td>\n",
       "      <td>271.0</td>\n",
       "    </tr>\n",
       "    <tr>\n",
       "      <th>7</th>\n",
       "      <td>CUS_0xd40</td>\n",
       "      <td>8</td>\n",
       "      <td>NaN</td>\n",
       "    </tr>\n",
       "  </tbody>\n",
       "</table>\n",
       "</div>"
      ],
      "text/plain": [
       "  customer_id  month_number  credit_history_age\n",
       "0   CUS_0xd40             1               265.0\n",
       "1   CUS_0xd40             2                 NaN\n",
       "2   CUS_0xd40             3               267.0\n",
       "3   CUS_0xd40             4               268.0\n",
       "4   CUS_0xd40             5               269.0\n",
       "5   CUS_0xd40             6               270.0\n",
       "6   CUS_0xd40             7               271.0\n",
       "7   CUS_0xd40             8                 NaN"
      ]
     },
     "execution_count": 55,
     "metadata": {},
     "output_type": "execute_result"
    }
   ],
   "source": [
    "df[df['customer_id'] == 'CUS_0xd40'][['customer_id', 'month_number', 'credit_history_age']]"
   ]
  },
  {
   "cell_type": "code",
   "execution_count": 56,
   "id": "a49b30c5-90a7-4620-8bd9-a2c4ce6caaae",
   "metadata": {},
   "outputs": [
    {
     "data": {
      "text/plain": [
       "np.int64(9030)"
      ]
     },
     "execution_count": 56,
     "metadata": {},
     "output_type": "execute_result"
    }
   ],
   "source": [
    "df['credit_history_age'].isna().sum()"
   ]
  },
  {
   "cell_type": "code",
   "execution_count": 57,
   "id": "c4df1a06-898c-464b-a217-1d91d7d622c6",
   "metadata": {},
   "outputs": [],
   "source": [
    "def fill_credit_history_age(group):\n",
    "    group = group.sort_values(by='month_number').reset_index(drop=True)\n",
    "    \n",
    "    start_index = group['credit_history_age'].first_valid_index()\n",
    "    if start_index is not None:  \n",
    "        start_age = group.loc[start_index, 'credit_history_age']\n",
    "        start_month = group.loc[start_index, 'month_number']\n",
    "        \n",
    "        group['credit_history_age'] = group.apply(\n",
    "            lambda row: start_age + row['month_number'] - start_month if pd.isna(row['credit_history_age']) else row['credit_history_age'],\n",
    "            axis=1\n",
    "        )\n",
    "    return group"
   ]
  },
  {
   "cell_type": "code",
   "execution_count": 58,
   "id": "863e7988-5937-4cd3-a6f2-cfa737ac0e2e",
   "metadata": {},
   "outputs": [
    {
     "name": "stderr",
     "output_type": "stream",
     "text": [
      "/var/folders/9z/rhfc541d14q5klxp9lqvgx8m0000gq/T/ipykernel_13653/2784598098.py:1: DeprecationWarning: DataFrameGroupBy.apply operated on the grouping columns. This behavior is deprecated, and in a future version of pandas the grouping columns will be excluded from the operation. Either pass `include_groups=False` to exclude the groupings or explicitly select the grouping columns after groupby to silence this warning.\n",
      "  df = df.groupby('customer_id', group_keys=False).apply(fill_credit_history_age)\n"
     ]
    }
   ],
   "source": [
    "df = df.groupby('customer_id', group_keys=False).apply(fill_credit_history_age)"
   ]
  },
  {
   "cell_type": "code",
   "execution_count": 59,
   "id": "04579f07-3930-481e-bb1d-5050197b7642",
   "metadata": {},
   "outputs": [
    {
     "data": {
      "text/plain": [
       "np.int64(0)"
      ]
     },
     "execution_count": 59,
     "metadata": {},
     "output_type": "execute_result"
    }
   ],
   "source": [
    "df['credit_history_age'].isna().sum()"
   ]
  },
  {
   "cell_type": "markdown",
   "id": "aea6cd17-a553-4a28-ab0e-8fa97cebd32a",
   "metadata": {},
   "source": [
    "## num_credit_inquiries\n",
    "Represents the number of credit card inquiries"
   ]
  },
  {
   "cell_type": "code",
   "execution_count": 60,
   "id": "2d533621-deac-43d8-ab89-6d612ad3c99a",
   "metadata": {},
   "outputs": [
    {
     "data": {
      "text/plain": [
       "np.int64(1965)"
      ]
     },
     "execution_count": 60,
     "metadata": {},
     "output_type": "execute_result"
    }
   ],
   "source": [
    "df.num_credit_inquiries.isnull().sum()"
   ]
  },
  {
   "cell_type": "code",
   "execution_count": 61,
   "id": "b7be5724-ece4-44fc-8b88-b1b85614bb55",
   "metadata": {},
   "outputs": [
    {
     "data": {
      "text/html": [
       "<div>\n",
       "<style scoped>\n",
       "    .dataframe tbody tr th:only-of-type {\n",
       "        vertical-align: middle;\n",
       "    }\n",
       "\n",
       "    .dataframe tbody tr th {\n",
       "        vertical-align: top;\n",
       "    }\n",
       "\n",
       "    .dataframe thead th {\n",
       "        text-align: right;\n",
       "    }\n",
       "</style>\n",
       "<table border=\"1\" class=\"dataframe\">\n",
       "  <thead>\n",
       "    <tr style=\"text-align: right;\">\n",
       "      <th></th>\n",
       "      <th>customer_id</th>\n",
       "      <th>num_credit_inquiries</th>\n",
       "    </tr>\n",
       "  </thead>\n",
       "  <tbody>\n",
       "    <tr>\n",
       "      <th>4</th>\n",
       "      <td>CUS_0x1018</td>\n",
       "      <td>NaN</td>\n",
       "    </tr>\n",
       "    <tr>\n",
       "      <th>2</th>\n",
       "      <td>CUS_0x1041</td>\n",
       "      <td>NaN</td>\n",
       "    </tr>\n",
       "    <tr>\n",
       "      <th>7</th>\n",
       "      <td>CUS_0x1051</td>\n",
       "      <td>NaN</td>\n",
       "    </tr>\n",
       "    <tr>\n",
       "      <th>2</th>\n",
       "      <td>CUS_0x105b</td>\n",
       "      <td>NaN</td>\n",
       "    </tr>\n",
       "    <tr>\n",
       "      <th>0</th>\n",
       "      <td>CUS_0x107c</td>\n",
       "      <td>NaN</td>\n",
       "    </tr>\n",
       "    <tr>\n",
       "      <th>...</th>\n",
       "      <td>...</td>\n",
       "      <td>...</td>\n",
       "    </tr>\n",
       "    <tr>\n",
       "      <th>4</th>\n",
       "      <td>CUS_0xfb4</td>\n",
       "      <td>NaN</td>\n",
       "    </tr>\n",
       "    <tr>\n",
       "      <th>1</th>\n",
       "      <td>CUS_0xff4</td>\n",
       "      <td>NaN</td>\n",
       "    </tr>\n",
       "    <tr>\n",
       "      <th>3</th>\n",
       "      <td>CUS_0xff4</td>\n",
       "      <td>NaN</td>\n",
       "    </tr>\n",
       "    <tr>\n",
       "      <th>0</th>\n",
       "      <td>CUS_0xff6</td>\n",
       "      <td>NaN</td>\n",
       "    </tr>\n",
       "    <tr>\n",
       "      <th>1</th>\n",
       "      <td>CUS_0xffd</td>\n",
       "      <td>NaN</td>\n",
       "    </tr>\n",
       "  </tbody>\n",
       "</table>\n",
       "<p>1965 rows × 2 columns</p>\n",
       "</div>"
      ],
      "text/plain": [
       "   customer_id  num_credit_inquiries\n",
       "4   CUS_0x1018                   NaN\n",
       "2   CUS_0x1041                   NaN\n",
       "7   CUS_0x1051                   NaN\n",
       "2   CUS_0x105b                   NaN\n",
       "0   CUS_0x107c                   NaN\n",
       "..         ...                   ...\n",
       "4    CUS_0xfb4                   NaN\n",
       "1    CUS_0xff4                   NaN\n",
       "3    CUS_0xff4                   NaN\n",
       "0    CUS_0xff6                   NaN\n",
       "1    CUS_0xffd                   NaN\n",
       "\n",
       "[1965 rows x 2 columns]"
      ]
     },
     "execution_count": 61,
     "metadata": {},
     "output_type": "execute_result"
    }
   ],
   "source": [
    "df[df.num_credit_inquiries.isnull()][['customer_id', 'num_credit_inquiries']]"
   ]
  },
  {
   "cell_type": "code",
   "execution_count": 62,
   "id": "899659e9-7f49-4f86-a70b-59e498b72e9c",
   "metadata": {},
   "outputs": [
    {
     "data": {
      "text/html": [
       "<div>\n",
       "<style scoped>\n",
       "    .dataframe tbody tr th:only-of-type {\n",
       "        vertical-align: middle;\n",
       "    }\n",
       "\n",
       "    .dataframe tbody tr th {\n",
       "        vertical-align: top;\n",
       "    }\n",
       "\n",
       "    .dataframe thead th {\n",
       "        text-align: right;\n",
       "    }\n",
       "</style>\n",
       "<table border=\"1\" class=\"dataframe\">\n",
       "  <thead>\n",
       "    <tr style=\"text-align: right;\">\n",
       "      <th></th>\n",
       "      <th>customer_id</th>\n",
       "      <th>num_credit_inquiries</th>\n",
       "    </tr>\n",
       "  </thead>\n",
       "  <tbody>\n",
       "    <tr>\n",
       "      <th>0</th>\n",
       "      <td>CUS_0xff6</td>\n",
       "      <td>NaN</td>\n",
       "    </tr>\n",
       "    <tr>\n",
       "      <th>1</th>\n",
       "      <td>CUS_0xff6</td>\n",
       "      <td>2.0</td>\n",
       "    </tr>\n",
       "    <tr>\n",
       "      <th>2</th>\n",
       "      <td>CUS_0xff6</td>\n",
       "      <td>2.0</td>\n",
       "    </tr>\n",
       "    <tr>\n",
       "      <th>3</th>\n",
       "      <td>CUS_0xff6</td>\n",
       "      <td>2.0</td>\n",
       "    </tr>\n",
       "    <tr>\n",
       "      <th>4</th>\n",
       "      <td>CUS_0xff6</td>\n",
       "      <td>2.0</td>\n",
       "    </tr>\n",
       "    <tr>\n",
       "      <th>5</th>\n",
       "      <td>CUS_0xff6</td>\n",
       "      <td>2.0</td>\n",
       "    </tr>\n",
       "    <tr>\n",
       "      <th>6</th>\n",
       "      <td>CUS_0xff6</td>\n",
       "      <td>2.0</td>\n",
       "    </tr>\n",
       "    <tr>\n",
       "      <th>7</th>\n",
       "      <td>CUS_0xff6</td>\n",
       "      <td>2.0</td>\n",
       "    </tr>\n",
       "  </tbody>\n",
       "</table>\n",
       "</div>"
      ],
      "text/plain": [
       "  customer_id  num_credit_inquiries\n",
       "0   CUS_0xff6                   NaN\n",
       "1   CUS_0xff6                   2.0\n",
       "2   CUS_0xff6                   2.0\n",
       "3   CUS_0xff6                   2.0\n",
       "4   CUS_0xff6                   2.0\n",
       "5   CUS_0xff6                   2.0\n",
       "6   CUS_0xff6                   2.0\n",
       "7   CUS_0xff6                   2.0"
      ]
     },
     "execution_count": 62,
     "metadata": {},
     "output_type": "execute_result"
    }
   ],
   "source": [
    "df[df.customer_id == 'CUS_0xff6'][['customer_id', 'num_credit_inquiries']]"
   ]
  },
  {
   "cell_type": "markdown",
   "id": "67a60ffb-58b2-4625-a8cc-4f1ecdcc2405",
   "metadata": {},
   "source": [
    "As you can see for most cases empty values can be just filled with mean value for the customer. But before we fill them let's look at values counts"
   ]
  },
  {
   "cell_type": "code",
   "execution_count": 63,
   "id": "ebcd33fd-6866-43b8-b621-00498c3c464c",
   "metadata": {},
   "outputs": [
    {
     "data": {
      "text/html": [
       "<div>\n",
       "<style scoped>\n",
       "    .dataframe tbody tr th:only-of-type {\n",
       "        vertical-align: middle;\n",
       "    }\n",
       "\n",
       "    .dataframe tbody tr th {\n",
       "        vertical-align: top;\n",
       "    }\n",
       "\n",
       "    .dataframe thead th {\n",
       "        text-align: right;\n",
       "    }\n",
       "</style>\n",
       "<table border=\"1\" class=\"dataframe\">\n",
       "  <thead>\n",
       "    <tr style=\"text-align: right;\">\n",
       "      <th></th>\n",
       "      <th>customer_id</th>\n",
       "      <th>num_credit_inquiries</th>\n",
       "    </tr>\n",
       "  </thead>\n",
       "  <tbody>\n",
       "    <tr>\n",
       "      <th>6</th>\n",
       "      <td>CUS_0x799e</td>\n",
       "      <td>2536.0</td>\n",
       "    </tr>\n",
       "  </tbody>\n",
       "</table>\n",
       "</div>"
      ],
      "text/plain": [
       "  customer_id  num_credit_inquiries\n",
       "6  CUS_0x799e                2536.0"
      ]
     },
     "execution_count": 63,
     "metadata": {},
     "output_type": "execute_result"
    }
   ],
   "source": [
    "df[df.num_credit_inquiries == 2536.0][['customer_id', 'num_credit_inquiries']]"
   ]
  },
  {
   "cell_type": "code",
   "execution_count": 64,
   "id": "aecf0520-08e4-4eb8-972f-01242c4b95e1",
   "metadata": {},
   "outputs": [
    {
     "data": {
      "text/plain": [
       "num_credit_inquiries\n",
       "0.0      6972\n",
       "1.0      7588\n",
       "2.0      8028\n",
       "3.0      8890\n",
       "4.0     11271\n",
       "5.0      5693\n",
       "6.0      8111\n",
       "7.0      8058\n",
       "8.0      7866\n",
       "9.0      5283\n",
       "10.0     4936\n",
       "11.0     5051\n",
       "12.0     4571\n",
       "13.0     1480\n",
       "14.0     1039\n",
       "15.0      808\n",
       "16.0      456\n",
       "17.0      284\n",
       "26.0        1\n",
       "29.0        1\n",
       "Name: count, dtype: int64"
      ]
     },
     "execution_count": 64,
     "metadata": {},
     "output_type": "execute_result"
    }
   ],
   "source": [
    "df.num_credit_inquiries.value_counts(sort=True).sort_index().head(20)"
   ]
  },
  {
   "cell_type": "code",
   "execution_count": 65,
   "id": "64441375-5b9e-4f08-ba67-7134acffe4f6",
   "metadata": {},
   "outputs": [
    {
     "name": "stdout",
     "output_type": "stream",
     "text": [
      "Values from 1 to 17 takes 98.325% of the values\n"
     ]
    }
   ],
   "source": [
    "top_vals_proc = (df.num_credit_inquiries.value_counts(normalize=True, sort=True).head(20).sum() * 100).round(3)\n",
    "print(f\"Values from 1 to 17 takes {top_vals_proc}% of the values\")"
   ]
  },
  {
   "cell_type": "markdown",
   "id": "c59ce9e3-44e3-49fd-b3b7-192de1606786",
   "metadata": {},
   "source": [
    "Let's look at connection between num_credit_inquiries and credit_score:"
   ]
  },
  {
   "cell_type": "code",
   "execution_count": 66,
   "id": "d4468def-e8c2-4e7b-8251-0c142aa64ebe",
   "metadata": {},
   "outputs": [
    {
     "data": {
      "text/plain": [
       "(96385, 1650)"
      ]
     },
     "execution_count": 66,
     "metadata": {},
     "output_type": "execute_result"
    }
   ],
   "source": [
    "under_18_df = df[df['num_credit_inquiries'] < 18]\n",
    "over_18_df = df[df['num_credit_inquiries'] >= 18]\n",
    "len(under_18_df), len(over_18_df)"
   ]
  },
  {
   "cell_type": "code",
   "execution_count": 67,
   "id": "bcbd1a13-d082-4190-b6a0-6e524e00afa0",
   "metadata": {},
   "outputs": [],
   "source": [
    "corrs = {}\n",
    "corrs['good_all'] = df.num_credit_inquiries.corr(df['credit_score'].map({'Good': 1, 'Poor': 0, 'Standard': 0}))\n",
    "corrs['good_<18'] = under_18_df.num_credit_inquiries.corr(under_18_df['credit_score'].map({'Good': 1, 'Poor': 0, 'Standard': 0}))\n",
    "corrs['good_>18'] = over_18_df.num_credit_inquiries.corr(over_18_df['credit_score'].map({'Good': 1, 'Poor': 0, 'Standard': 0}))\n",
    "\n",
    "\n",
    "corrs['standard_all'] = df.num_credit_inquiries.corr(df['credit_score'].map({'Good': 0, 'Poor': 0, 'Standard': 1}))\n",
    "corrs['standard_<18'] = under_18_df.num_credit_inquiries.corr(under_18_df['credit_score'].map({'Good': 0, 'Poor': 0, 'Standard': 1}))\n",
    "corrs['standard_>18'] = over_18_df.num_credit_inquiries.corr(over_18_df['credit_score'].map({'Good': 0, 'Poor': 0, 'Standard': 1}))\n",
    "\n",
    "corrs['poor_all'] = df.num_credit_inquiries.corr(df['credit_score'].map({'Good': 0, 'Poor': 1, 'Standard': 0}))\n",
    "corrs['poor_<18'] = under_18_df.num_credit_inquiries.corr(under_18_df['credit_score'].map({'Good': 0, 'Poor': 1, 'Standard': 0}))\n",
    "corrs['poor_>18'] = over_18_df.num_credit_inquiries.corr(over_18_df['credit_score'].map({'Good': 0, 'Poor': 1, 'Standard': 0}))\n",
    "\n",
    "\n",
    "for key in corrs:\n",
    "    corrs[key] = float(corrs[key].round(4))"
   ]
  },
  {
   "cell_type": "code",
   "execution_count": 68,
   "id": "28b35b28-5287-4c1c-918f-212025cd1d53",
   "metadata": {},
   "outputs": [
    {
     "data": {
      "text/plain": [
       "{'good_all': -0.0079,\n",
       " 'good_<18': -0.3007,\n",
       " 'good_>18': -0.0189,\n",
       " 'standard_all': -0.0031,\n",
       " 'standard_<18': -0.1272,\n",
       " 'standard_>18': -0.0286,\n",
       " 'poor_all': 0.0101,\n",
       " 'poor_<18': 0.3936,\n",
       " 'poor_>18': 0.0474}"
      ]
     },
     "execution_count": 68,
     "metadata": {},
     "output_type": "execute_result"
    }
   ],
   "source": [
    "corrs"
   ]
  },
  {
   "cell_type": "markdown",
   "id": "8669395c-4cc6-4e1d-aee5-40bf2ac34cf7",
   "metadata": {},
   "source": [
    "We can see that on average correlation works much better if we don't look at values greater than 18. But maybe we can fix the situation without removing values higher than 17 by taking np.log from this column:"
   ]
  },
  {
   "cell_type": "code",
   "execution_count": 69,
   "id": "2cf1f094-0b7a-4ae0-8f09-a4c01213d61a",
   "metadata": {},
   "outputs": [
    {
     "data": {
      "text/plain": [
       "np.float64(-0.20497975128047816)"
      ]
     },
     "execution_count": 69,
     "metadata": {},
     "output_type": "execute_result"
    }
   ],
   "source": [
    "df['credit_score'].map({'Good': 1, 'Poor': 0, 'Standard': 0}).corr(df.num_credit_inquiries)\n",
    "np.log1p(df.num_credit_inquiries).corr(df['credit_score'].map({'Good': 1, 'Poor': 0, 'Standard': 0}))"
   ]
  },
  {
   "cell_type": "code",
   "execution_count": 70,
   "id": "72bbc2d8-f36d-4019-9962-126bbe251d41",
   "metadata": {},
   "outputs": [],
   "source": [
    "corrs = {}\n",
    "corrs['good_all'] = np.log1p(df.num_credit_inquiries).corr(df['credit_score'].map({'Good': 1, 'Poor': 0, 'Standard': 0}))\n",
    "corrs['good_<18'] = np.log1p(under_18_df.num_credit_inquiries).corr(under_18_df['credit_score'].map({'Good': 1, 'Poor': 0, 'Standard': 0}))\n",
    "corrs['good_>18'] = np.log1p(over_18_df.num_credit_inquiries).corr(over_18_df['credit_score'].map({'Good': 1, 'Poor': 0, 'Standard': 0}))\n",
    "\n",
    "\n",
    "corrs['standard_all'] = np.log1p(df.num_credit_inquiries).corr(df['credit_score'].map({'Good': 0, 'Poor': 0, 'Standard': 1}))\n",
    "corrs['standard_<18'] = np.log1p(under_18_df.num_credit_inquiries).corr(under_18_df['credit_score'].map({'Good': 0, 'Poor': 0, 'Standard': 1}))\n",
    "corrs['standard_>18'] = np.log1p(over_18_df.num_credit_inquiries).corr(over_18_df['credit_score'].map({'Good': 0, 'Poor': 0, 'Standard': 1}))\n",
    "\n",
    "\n",
    "corrs['poor_all'] = np.log1p(df.num_credit_inquiries).corr(df['credit_score'].map({'Good': 0, 'Poor': 1, 'Standard': 0}))\n",
    "corrs['poor_<18'] = np.log1p(under_18_df.num_credit_inquiries).corr(under_18_df['credit_score'].map({'Good': 0, 'Poor': 1, 'Standard': 0}))\n",
    "corrs['poor_>18'] = np.log1p(over_18_df.num_credit_inquiries).corr(over_18_df['credit_score'].map({'Good': 0, 'Poor': 1, 'Standard': 0}))\n",
    "\n",
    "\n",
    "for key in corrs:\n",
    "    corrs[key] = float(corrs[key].round(4))"
   ]
  },
  {
   "cell_type": "code",
   "execution_count": 71,
   "id": "f1dd8583-2487-4e10-93e5-66b115b8d63c",
   "metadata": {},
   "outputs": [
    {
     "data": {
      "text/plain": [
       "{'good_all': -0.205,\n",
       " 'good_<18': -0.2833,\n",
       " 'good_>18': -0.0299,\n",
       " 'standard_all': -0.0665,\n",
       " 'standard_<18': -0.093,\n",
       " 'standard_>18': -0.034,\n",
       " 'poor_all': 0.246,\n",
       " 'poor_<18': 0.3413,\n",
       " 'poor_>18': 0.0627}"
      ]
     },
     "execution_count": 71,
     "metadata": {},
     "output_type": "execute_result"
    }
   ],
   "source": [
    "corrs"
   ]
  },
  {
   "cell_type": "markdown",
   "id": "1ce43e4f-8223-46c6-a794-e9d2fc2ba010",
   "metadata": {},
   "source": [
    "We see that correlation grew in all cases for the initial dataset, so let's fill apply log1p to this column.   \n",
    "Before we do that we need to fill nulls in the data and I think that it make sense to fill it with median of the class because of cases like this:"
   ]
  },
  {
   "cell_type": "code",
   "execution_count": 72,
   "id": "15688a26-5666-475b-b3a1-8921bab3dca3",
   "metadata": {},
   "outputs": [
    {
     "data": {
      "text/html": [
       "<div>\n",
       "<style scoped>\n",
       "    .dataframe tbody tr th:only-of-type {\n",
       "        vertical-align: middle;\n",
       "    }\n",
       "\n",
       "    .dataframe tbody tr th {\n",
       "        vertical-align: top;\n",
       "    }\n",
       "\n",
       "    .dataframe thead th {\n",
       "        text-align: right;\n",
       "    }\n",
       "</style>\n",
       "<table border=\"1\" class=\"dataframe\">\n",
       "  <thead>\n",
       "    <tr style=\"text-align: right;\">\n",
       "      <th></th>\n",
       "      <th>customer_id</th>\n",
       "      <th>num_credit_inquiries</th>\n",
       "    </tr>\n",
       "  </thead>\n",
       "  <tbody>\n",
       "    <tr>\n",
       "      <th>0</th>\n",
       "      <td>CUS_0x799e</td>\n",
       "      <td>0.0</td>\n",
       "    </tr>\n",
       "    <tr>\n",
       "      <th>1</th>\n",
       "      <td>CUS_0x799e</td>\n",
       "      <td>0.0</td>\n",
       "    </tr>\n",
       "    <tr>\n",
       "      <th>2</th>\n",
       "      <td>CUS_0x799e</td>\n",
       "      <td>0.0</td>\n",
       "    </tr>\n",
       "    <tr>\n",
       "      <th>3</th>\n",
       "      <td>CUS_0x799e</td>\n",
       "      <td>0.0</td>\n",
       "    </tr>\n",
       "    <tr>\n",
       "      <th>4</th>\n",
       "      <td>CUS_0x799e</td>\n",
       "      <td>0.0</td>\n",
       "    </tr>\n",
       "    <tr>\n",
       "      <th>5</th>\n",
       "      <td>CUS_0x799e</td>\n",
       "      <td>0.0</td>\n",
       "    </tr>\n",
       "    <tr>\n",
       "      <th>6</th>\n",
       "      <td>CUS_0x799e</td>\n",
       "      <td>2536.0</td>\n",
       "    </tr>\n",
       "    <tr>\n",
       "      <th>7</th>\n",
       "      <td>CUS_0x799e</td>\n",
       "      <td>NaN</td>\n",
       "    </tr>\n",
       "  </tbody>\n",
       "</table>\n",
       "</div>"
      ],
      "text/plain": [
       "  customer_id  num_credit_inquiries\n",
       "0  CUS_0x799e                   0.0\n",
       "1  CUS_0x799e                   0.0\n",
       "2  CUS_0x799e                   0.0\n",
       "3  CUS_0x799e                   0.0\n",
       "4  CUS_0x799e                   0.0\n",
       "5  CUS_0x799e                   0.0\n",
       "6  CUS_0x799e                2536.0\n",
       "7  CUS_0x799e                   NaN"
      ]
     },
     "execution_count": 72,
     "metadata": {},
     "output_type": "execute_result"
    }
   ],
   "source": [
    "df[df.customer_id == 'CUS_0x799e'][['customer_id', 'num_credit_inquiries']]"
   ]
  },
  {
   "cell_type": "markdown",
   "id": "594ddf75-39be-45ee-84ef-812619a2daee",
   "metadata": {},
   "source": [
    "As you can see for this client num_credit_inquiries is almost always 0, then for some reason it absurdly high and then it's NaN. So it we use average value NaN gonna be replaced with 2536/7 = 362 which is still very uncommon value. So let's we will use median to fill NaNs."
   ]
  },
  {
   "cell_type": "code",
   "execution_count": 73,
   "id": "34672653-d9ad-4838-b2aa-d1ca4db22e68",
   "metadata": {},
   "outputs": [],
   "source": [
    "df.loc[df['num_credit_inquiries'] > 17, 'num_credit_inquiries'] = np.nan"
   ]
  },
  {
   "cell_type": "code",
   "execution_count": 74,
   "id": "7bf7eb43-948e-4abe-a57f-ccd148d1d4ff",
   "metadata": {},
   "outputs": [],
   "source": [
    "df['num_credit_inquiries'] = df.groupby('customer_id')['num_credit_inquiries'].transform(lambda x: x.fillna(x.median()))"
   ]
  },
  {
   "cell_type": "code",
   "execution_count": 75,
   "id": "910d9f09-4361-47d6-99f1-1954227d06f5",
   "metadata": {},
   "outputs": [],
   "source": [
    "df['num_credit_inquiries'] = np.log1p(df['num_credit_inquiries'])"
   ]
  },
  {
   "cell_type": "markdown",
   "id": "d211293f-f7cd-4048-ad8f-482a450cf057",
   "metadata": {
    "jp-MarkdownHeadingCollapsed": true
   },
   "source": [
    "## num_of_delayed_payment\n",
    "Represents the average number of payments delayed by a person"
   ]
  },
  {
   "cell_type": "code",
   "execution_count": 76,
   "id": "8b49ee99-06f8-4c30-ae96-2d3d78ea5d5d",
   "metadata": {},
   "outputs": [
    {
     "data": {
      "text/plain": [
       "array(['25', '23', '28', '26', '1749', '16', '18', '19', '7', '9', '8',\n",
       "       '12', nan, '17_', '15', '13', '10', '22', '20', '2', '1', '5',\n",
       "       '11', '17', '15_', '14', '4', '3', '6', '21', '8_', '11_', '2230',\n",
       "       '0', '24', '18_', '-2', '19_', '1636', '20_'], dtype=object)"
      ]
     },
     "execution_count": 76,
     "metadata": {},
     "output_type": "execute_result"
    }
   ],
   "source": [
    "df.num_of_delayed_payment.unique()[:40]"
   ]
  },
  {
   "cell_type": "markdown",
   "id": "58295a70-cc2f-4f2e-b28a-ea7eae4f44da",
   "metadata": {},
   "source": [
    "As we can see this column has the same issue with underscores. Let's fix it"
   ]
  },
  {
   "cell_type": "code",
   "execution_count": 77,
   "id": "44530f08-2f1b-436e-8600-b596bf806f1d",
   "metadata": {},
   "outputs": [
    {
     "data": {
      "text/plain": [
       "dtype('float64')"
      ]
     },
     "execution_count": 77,
     "metadata": {},
     "output_type": "execute_result"
    }
   ],
   "source": [
    "df['num_of_delayed_payment'] = df['num_of_delayed_payment'].apply(custom_to_numeric)\n",
    "df['num_of_delayed_payment'].dtype"
   ]
  },
  {
   "cell_type": "markdown",
   "id": "8820df6d-27af-4768-a69c-7322f99d952e",
   "metadata": {},
   "source": [
    "Now let's look closer at the values:"
   ]
  },
  {
   "cell_type": "code",
   "execution_count": 78,
   "id": "16fe8516-fde5-4bb3-ab4d-72b39573fc4e",
   "metadata": {},
   "outputs": [
    {
     "name": "stdout",
     "output_type": "stream",
     "text": [
      "Total number of unique values: 711\n"
     ]
    },
    {
     "data": {
      "text/plain": [
       "num_of_delayed_payment\n",
       " 19.0      5481\n",
       " 17.0      5412\n",
       " 16.0      5312\n",
       " 10.0      5309\n",
       " 15.0      5237\n",
       " 18.0      5216\n",
       " 20.0      5089\n",
       " 12.0      5059\n",
       " 9.0       4981\n",
       " 8.0       4873\n",
       " 11.0      4810\n",
       " 14.0      4193\n",
       " 13.0      4036\n",
       " 21.0      2553\n",
       " 7.0       2385\n",
       " 22.0      2339\n",
       " 6.0       2321\n",
       " 5.0       2091\n",
       " 23.0      2028\n",
       " 3.0       1931\n",
       " 4.0       1838\n",
       " 2.0       1810\n",
       " 24.0      1701\n",
       " 25.0      1665\n",
       " 1.0       1636\n",
       " 0.0       1609\n",
       " 26.0       322\n",
       "-1.0        316\n",
       " 27.0       250\n",
       "-2.0        234\n",
       " 28.0       131\n",
       "-3.0         94\n",
       " 3484.0       4\n",
       " 4211.0       3\n",
       " 1946.0       3\n",
       " 2801.0       2\n",
       " 2707.0       2\n",
       " 2671.0       2\n",
       " 674.0        2\n",
       " 2131.0       2\n",
       "Name: count, dtype: int64"
      ]
     },
     "execution_count": 78,
     "metadata": {},
     "output_type": "execute_result"
    }
   ],
   "source": [
    "print(f\"Total number of unique values: {df.num_of_delayed_payment.nunique()}\")\n",
    "df.num_of_delayed_payment.value_counts().head(40)"
   ]
  },
  {
   "cell_type": "code",
   "execution_count": 79,
   "id": "79e47a97-f142-4452-9156-a482f74d34c9",
   "metadata": {},
   "outputs": [
    {
     "data": {
      "text/html": [
       "<div>\n",
       "<style scoped>\n",
       "    .dataframe tbody tr th:only-of-type {\n",
       "        vertical-align: middle;\n",
       "    }\n",
       "\n",
       "    .dataframe tbody tr th {\n",
       "        vertical-align: top;\n",
       "    }\n",
       "\n",
       "    .dataframe thead th {\n",
       "        text-align: right;\n",
       "    }\n",
       "</style>\n",
       "<table border=\"1\" class=\"dataframe\">\n",
       "  <thead>\n",
       "    <tr style=\"text-align: right;\">\n",
       "      <th></th>\n",
       "      <th>customer_id</th>\n",
       "      <th>num_of_delayed_payment</th>\n",
       "    </tr>\n",
       "  </thead>\n",
       "  <tbody>\n",
       "    <tr>\n",
       "      <th>6</th>\n",
       "      <td>CUS_0x12cc</td>\n",
       "      <td>4211.0</td>\n",
       "    </tr>\n",
       "    <tr>\n",
       "      <th>7</th>\n",
       "      <td>CUS_0x663d</td>\n",
       "      <td>4211.0</td>\n",
       "    </tr>\n",
       "    <tr>\n",
       "      <th>1</th>\n",
       "      <td>CUS_0x69d5</td>\n",
       "      <td>4211.0</td>\n",
       "    </tr>\n",
       "  </tbody>\n",
       "</table>\n",
       "</div>"
      ],
      "text/plain": [
       "  customer_id  num_of_delayed_payment\n",
       "6  CUS_0x12cc                  4211.0\n",
       "7  CUS_0x663d                  4211.0\n",
       "1  CUS_0x69d5                  4211.0"
      ]
     },
     "execution_count": 79,
     "metadata": {},
     "output_type": "execute_result"
    }
   ],
   "source": [
    "df[df.num_of_delayed_payment == 4211.0][['customer_id', 'num_of_delayed_payment']]"
   ]
  },
  {
   "cell_type": "code",
   "execution_count": 80,
   "id": "0c83bace-d09a-493d-8600-a933d0afe457",
   "metadata": {},
   "outputs": [
    {
     "data": {
      "text/html": [
       "<div>\n",
       "<style scoped>\n",
       "    .dataframe tbody tr th:only-of-type {\n",
       "        vertical-align: middle;\n",
       "    }\n",
       "\n",
       "    .dataframe tbody tr th {\n",
       "        vertical-align: top;\n",
       "    }\n",
       "\n",
       "    .dataframe thead th {\n",
       "        text-align: right;\n",
       "    }\n",
       "</style>\n",
       "<table border=\"1\" class=\"dataframe\">\n",
       "  <thead>\n",
       "    <tr style=\"text-align: right;\">\n",
       "      <th></th>\n",
       "      <th>customer_id</th>\n",
       "      <th>num_of_delayed_payment</th>\n",
       "    </tr>\n",
       "  </thead>\n",
       "  <tbody>\n",
       "    <tr>\n",
       "      <th>0</th>\n",
       "      <td>CUS_0x12cc</td>\n",
       "      <td>9.0</td>\n",
       "    </tr>\n",
       "    <tr>\n",
       "      <th>1</th>\n",
       "      <td>CUS_0x12cc</td>\n",
       "      <td>10.0</td>\n",
       "    </tr>\n",
       "    <tr>\n",
       "      <th>2</th>\n",
       "      <td>CUS_0x12cc</td>\n",
       "      <td>NaN</td>\n",
       "    </tr>\n",
       "    <tr>\n",
       "      <th>3</th>\n",
       "      <td>CUS_0x12cc</td>\n",
       "      <td>10.0</td>\n",
       "    </tr>\n",
       "    <tr>\n",
       "      <th>4</th>\n",
       "      <td>CUS_0x12cc</td>\n",
       "      <td>NaN</td>\n",
       "    </tr>\n",
       "    <tr>\n",
       "      <th>5</th>\n",
       "      <td>CUS_0x12cc</td>\n",
       "      <td>10.0</td>\n",
       "    </tr>\n",
       "    <tr>\n",
       "      <th>6</th>\n",
       "      <td>CUS_0x12cc</td>\n",
       "      <td>4211.0</td>\n",
       "    </tr>\n",
       "    <tr>\n",
       "      <th>7</th>\n",
       "      <td>CUS_0x12cc</td>\n",
       "      <td>12.0</td>\n",
       "    </tr>\n",
       "  </tbody>\n",
       "</table>\n",
       "</div>"
      ],
      "text/plain": [
       "  customer_id  num_of_delayed_payment\n",
       "0  CUS_0x12cc                     9.0\n",
       "1  CUS_0x12cc                    10.0\n",
       "2  CUS_0x12cc                     NaN\n",
       "3  CUS_0x12cc                    10.0\n",
       "4  CUS_0x12cc                     NaN\n",
       "5  CUS_0x12cc                    10.0\n",
       "6  CUS_0x12cc                  4211.0\n",
       "7  CUS_0x12cc                    12.0"
      ]
     },
     "execution_count": 80,
     "metadata": {},
     "output_type": "execute_result"
    }
   ],
   "source": [
    "df[df.customer_id == \"CUS_0x12cc\"][['customer_id', 'num_of_delayed_payment']]"
   ]
  },
  {
   "cell_type": "markdown",
   "id": "1d3fd095-d5f9-45ca-b4fa-a0040b4fdc1f",
   "metadata": {},
   "source": [
    "For me it seems like number of delayed payments greater than 30 is completely crazy and is a mistake.   \n",
    "Let's look at sorted values of num_of_delayed_payment:"
   ]
  },
  {
   "cell_type": "code",
   "execution_count": 81,
   "id": "894431c4-cffd-4b3c-bd8f-bb8dd57c5302",
   "metadata": {},
   "outputs": [
    {
     "data": {
      "text/plain": [
       "num_of_delayed_payment\n",
       "-3.0       94\n",
       "-2.0      234\n",
       "-1.0      316\n",
       " 0.0     1609\n",
       " 1.0     1636\n",
       " 2.0     1810\n",
       " 3.0     1931\n",
       " 4.0     1838\n",
       " 5.0     2091\n",
       " 6.0     2321\n",
       " 7.0     2385\n",
       " 8.0     4873\n",
       " 9.0     4981\n",
       " 10.0    5309\n",
       " 11.0    4810\n",
       " 12.0    5059\n",
       " 13.0    4036\n",
       " 14.0    4193\n",
       " 15.0    5237\n",
       " 16.0    5312\n",
       " 17.0    5412\n",
       " 18.0    5216\n",
       " 19.0    5481\n",
       " 20.0    5089\n",
       " 21.0    2553\n",
       " 22.0    2339\n",
       " 23.0    2028\n",
       " 24.0    1701\n",
       " 25.0    1665\n",
       " 26.0     322\n",
       " 27.0     250\n",
       " 28.0     131\n",
       " 46.0       1\n",
       " 47.0       1\n",
       " 49.0       1\n",
       " 52.0       1\n",
       " 72.0       1\n",
       " 80.0       1\n",
       " 84.0       1\n",
       " 85.0       1\n",
       "Name: count, dtype: int64"
      ]
     },
     "execution_count": 81,
     "metadata": {},
     "output_type": "execute_result"
    }
   ],
   "source": [
    "df.num_of_delayed_payment.value_counts().sort_index().head(40)"
   ]
  },
  {
   "cell_type": "markdown",
   "id": "cdae4828-33c5-4e9e-86c8-57a5c6a4c038",
   "metadata": {},
   "source": [
    "I'd say let's assume that any value greater than 28 is a mistake and we will swap it with NaN.\n",
    "After that let's fill NaNs with average for customer (we will also turn average into integer)"
   ]
  },
  {
   "cell_type": "code",
   "execution_count": 82,
   "id": "8a2bca43-6bd5-4402-a0fc-bd05a50566c3",
   "metadata": {},
   "outputs": [],
   "source": [
    "df.loc[df['num_of_delayed_payment'] > 28, 'num_of_delayed_payment'] = np.nan"
   ]
  },
  {
   "cell_type": "code",
   "execution_count": 83,
   "id": "ba7f71e1-f8ba-4478-8f35-fa6ecd6c6026",
   "metadata": {},
   "outputs": [],
   "source": [
    "df['num_of_delayed_payment'] = df.groupby('customer_id')['num_of_delayed_payment'].transform(lambda x: x.fillna(int(x.mean())))"
   ]
  },
  {
   "cell_type": "markdown",
   "id": "33570cae-258d-4e05-957b-d1bc56a2bd47",
   "metadata": {
    "jp-MarkdownHeadingCollapsed": true
   },
   "source": [
    "## amount_invested_monthly\n",
    "Represents the monthly amount invested by the customer (in USD)"
   ]
  },
  {
   "cell_type": "code",
   "execution_count": 84,
   "id": "573b8c01-9b5f-47f2-8cc1-5c9a97f9810c",
   "metadata": {},
   "outputs": [
    {
     "data": {
      "text/plain": [
       "np.int64(4479)"
      ]
     },
     "execution_count": 84,
     "metadata": {},
     "output_type": "execute_result"
    }
   ],
   "source": [
    "df.amount_invested_monthly.isna().sum()"
   ]
  },
  {
   "cell_type": "code",
   "execution_count": 85,
   "id": "412fba0d-79df-47fa-9fb7-85a6cf0aa6ce",
   "metadata": {},
   "outputs": [
    {
     "data": {
      "text/plain": [
       "2    NaN\n",
       "3    NaN\n",
       "4    NaN\n",
       "4    NaN\n",
       "2    NaN\n",
       "    ... \n",
       "0    NaN\n",
       "1    NaN\n",
       "6    NaN\n",
       "5    NaN\n",
       "4    NaN\n",
       "Name: amount_invested_monthly, Length: 4479, dtype: object"
      ]
     },
     "execution_count": 85,
     "metadata": {},
     "output_type": "execute_result"
    }
   ],
   "source": [
    "df[df.amount_invested_monthly.isna()].amount_invested_monthly"
   ]
  },
  {
   "cell_type": "markdown",
   "id": "f4ed869a-9075-49ca-af4c-73d76e770607",
   "metadata": {},
   "source": [
    "First let's look at weird values (negative, strings, etc):"
   ]
  },
  {
   "cell_type": "code",
   "execution_count": 86,
   "id": "80d14694-e414-47a4-b090-c5bd51f6d8eb",
   "metadata": {},
   "outputs": [
    {
     "name": "stdout",
     "output_type": "stream",
     "text": [
      "nan\n",
      "__10000__\n"
     ]
    }
   ],
   "source": [
    "import math\n",
    "for el in list(df.amount_invested_monthly.unique()):\n",
    "    try:\n",
    "        if isinstance(float(el), float):\n",
    "            if not float(el) >= 0:\n",
    "                print(el)\n",
    "    except:\n",
    "        print(el)"
   ]
  },
  {
   "cell_type": "code",
   "execution_count": 87,
   "id": "ebaf4d11-7f29-4014-8479-66713f568262",
   "metadata": {},
   "outputs": [
    {
     "data": {
      "text/plain": [
       "amount_invested_monthly\n",
       "__10000__             4305\n",
       "0.0                    169\n",
       "244.75028300769162       1\n",
       "43.696384366931426       1\n",
       "367.83349212231786       1\n",
       "                      ... \n",
       "76.53803865050956        1\n",
       "185.4727815721931        1\n",
       "138.99426812931569       1\n",
       "105.72664789066962       1\n",
       "42.57571978536272        1\n",
       "Name: count, Length: 91049, dtype: int64"
      ]
     },
     "execution_count": 87,
     "metadata": {},
     "output_type": "execute_result"
    }
   ],
   "source": [
    "df.amount_invested_monthly.value_counts()"
   ]
  },
  {
   "cell_type": "markdown",
   "id": "c36e4051-e78f-467e-8ca5-9ec16c2ace86",
   "metadata": {},
   "source": [
    "Let's drop \\_\\_10000__ value and look at distribution of this field"
   ]
  },
  {
   "cell_type": "code",
   "execution_count": null,
   "id": "f8c4f5e7-ae8c-4ce7-8886-921dd08eb60d",
   "metadata": {},
   "outputs": [],
   "source": []
  },
  {
   "cell_type": "code",
   "execution_count": 88,
   "id": "55c96e40-60cf-401a-989f-343882c3e1d6",
   "metadata": {},
   "outputs": [
    {
     "data": {
      "text/plain": [
       "array([1977.3261, 1961.2189, 1944.5207, 1941.2375, 1903.08  , 1901.7917,\n",
       "       1890.8558, 1887.5352, 1885.6453, 1878.5039, 1860.9197, 1816.177 ,\n",
       "       1804.3557, 1804.3325, 1804.2335, 1797.6301, 1785.7868, 1775.048 ,\n",
       "       1756.9619, 1756.577 ])"
      ]
     },
     "execution_count": 88,
     "metadata": {},
     "output_type": "execute_result"
    }
   ],
   "source": [
    "smaller_df = np.float64(df[(df.amount_invested_monthly != '__10000__') & (- df.amount_invested_monthly.isna())].amount_invested_monthly)\n",
    "smaller_df.sort()\n",
    "smaller_df[::-1].round(4)[:20]"
   ]
  },
  {
   "cell_type": "code",
   "execution_count": 89,
   "id": "017de9c6-f037-4048-8bfc-988412b6e820",
   "metadata": {},
   "outputs": [
    {
     "data": {
      "image/png": "[encoded data removed]",
      "text/plain": [
       "<Figure size 640x480 with 1 Axes>"
      ]
     },
     "metadata": {},
     "output_type": "display_data"
    }
   ],
   "source": [
    "plt.hist(smaller_df)\n",
    "plt.show() "
   ]
  },
  {
   "cell_type": "markdown",
   "id": "94e6702a-2911-4994-a97c-11b784c5625b",
   "metadata": {},
   "source": [
    "We can see that maximal value for investment is 1977.3261 and most of the values are between 0 and 1000. So it doesn't make sence to turn \\_\\_10000__ into 10000. To be sure of that let's take a look at one of the clients that has \\_\\_10000__ investment:"
   ]
  },
  {
   "cell_type": "code",
   "execution_count": 90,
   "id": "d51d908c-e256-441c-a66d-25bb4f61c7bd",
   "metadata": {},
   "outputs": [
    {
     "data": {
      "text/html": [
       "<div>\n",
       "<style scoped>\n",
       "    .dataframe tbody tr th:only-of-type {\n",
       "        vertical-align: middle;\n",
       "    }\n",
       "\n",
       "    .dataframe tbody tr th {\n",
       "        vertical-align: top;\n",
       "    }\n",
       "\n",
       "    .dataframe thead th {\n",
       "        text-align: right;\n",
       "    }\n",
       "</style>\n",
       "<table border=\"1\" class=\"dataframe\">\n",
       "  <thead>\n",
       "    <tr style=\"text-align: right;\">\n",
       "      <th></th>\n",
       "      <th>customer_id</th>\n",
       "      <th>amount_invested_monthly</th>\n",
       "    </tr>\n",
       "  </thead>\n",
       "  <tbody>\n",
       "    <tr>\n",
       "      <th>3</th>\n",
       "      <td>CUS_0x100b</td>\n",
       "      <td>__10000__</td>\n",
       "    </tr>\n",
       "    <tr>\n",
       "      <th>3</th>\n",
       "      <td>CUS_0x1011</td>\n",
       "      <td>__10000__</td>\n",
       "    </tr>\n",
       "    <tr>\n",
       "      <th>2</th>\n",
       "      <td>CUS_0x1041</td>\n",
       "      <td>__10000__</td>\n",
       "    </tr>\n",
       "    <tr>\n",
       "      <th>7</th>\n",
       "      <td>CUS_0x105c</td>\n",
       "      <td>__10000__</td>\n",
       "    </tr>\n",
       "    <tr>\n",
       "      <th>1</th>\n",
       "      <td>CUS_0x1063</td>\n",
       "      <td>__10000__</td>\n",
       "    </tr>\n",
       "    <tr>\n",
       "      <th>...</th>\n",
       "      <td>...</td>\n",
       "      <td>...</td>\n",
       "    </tr>\n",
       "    <tr>\n",
       "      <th>6</th>\n",
       "      <td>CUS_0xfc9</td>\n",
       "      <td>__10000__</td>\n",
       "    </tr>\n",
       "    <tr>\n",
       "      <th>6</th>\n",
       "      <td>CUS_0xfdb</td>\n",
       "      <td>__10000__</td>\n",
       "    </tr>\n",
       "    <tr>\n",
       "      <th>0</th>\n",
       "      <td>CUS_0xfe4</td>\n",
       "      <td>__10000__</td>\n",
       "    </tr>\n",
       "    <tr>\n",
       "      <th>2</th>\n",
       "      <td>CUS_0xff6</td>\n",
       "      <td>__10000__</td>\n",
       "    </tr>\n",
       "    <tr>\n",
       "      <th>5</th>\n",
       "      <td>CUS_0xffc</td>\n",
       "      <td>__10000__</td>\n",
       "    </tr>\n",
       "  </tbody>\n",
       "</table>\n",
       "<p>4305 rows × 2 columns</p>\n",
       "</div>"
      ],
      "text/plain": [
       "   customer_id amount_invested_monthly\n",
       "3   CUS_0x100b               __10000__\n",
       "3   CUS_0x1011               __10000__\n",
       "2   CUS_0x1041               __10000__\n",
       "7   CUS_0x105c               __10000__\n",
       "1   CUS_0x1063               __10000__\n",
       "..         ...                     ...\n",
       "6    CUS_0xfc9               __10000__\n",
       "6    CUS_0xfdb               __10000__\n",
       "0    CUS_0xfe4               __10000__\n",
       "2    CUS_0xff6               __10000__\n",
       "5    CUS_0xffc               __10000__\n",
       "\n",
       "[4305 rows x 2 columns]"
      ]
     },
     "execution_count": 90,
     "metadata": {},
     "output_type": "execute_result"
    }
   ],
   "source": [
    "df[df.amount_invested_monthly == '__10000__'][['customer_id', 'amount_invested_monthly']]"
   ]
  },
  {
   "cell_type": "code",
   "execution_count": 91,
   "id": "d0f51f53-27c4-418b-87db-85d462361b5d",
   "metadata": {},
   "outputs": [
    {
     "data": {
      "text/html": [
       "<div>\n",
       "<style scoped>\n",
       "    .dataframe tbody tr th:only-of-type {\n",
       "        vertical-align: middle;\n",
       "    }\n",
       "\n",
       "    .dataframe tbody tr th {\n",
       "        vertical-align: top;\n",
       "    }\n",
       "\n",
       "    .dataframe thead th {\n",
       "        text-align: right;\n",
       "    }\n",
       "</style>\n",
       "<table border=\"1\" class=\"dataframe\">\n",
       "  <thead>\n",
       "    <tr style=\"text-align: right;\">\n",
       "      <th></th>\n",
       "      <th>customer_id</th>\n",
       "      <th>amount_invested_monthly</th>\n",
       "    </tr>\n",
       "  </thead>\n",
       "  <tbody>\n",
       "    <tr>\n",
       "      <th>0</th>\n",
       "      <td>CUS_0x100b</td>\n",
       "      <td>397.24184577026637</td>\n",
       "    </tr>\n",
       "    <tr>\n",
       "      <th>1</th>\n",
       "      <td>CUS_0x100b</td>\n",
       "      <td>661.6240479398714</td>\n",
       "    </tr>\n",
       "    <tr>\n",
       "      <th>2</th>\n",
       "      <td>CUS_0x100b</td>\n",
       "      <td>NaN</td>\n",
       "    </tr>\n",
       "    <tr>\n",
       "      <th>3</th>\n",
       "      <td>CUS_0x100b</td>\n",
       "      <td>__10000__</td>\n",
       "    </tr>\n",
       "    <tr>\n",
       "      <th>4</th>\n",
       "      <td>CUS_0x100b</td>\n",
       "      <td>758.0831954920012</td>\n",
       "    </tr>\n",
       "    <tr>\n",
       "      <th>5</th>\n",
       "      <td>CUS_0x100b</td>\n",
       "      <td>424.0032051421769</td>\n",
       "    </tr>\n",
       "    <tr>\n",
       "      <th>6</th>\n",
       "      <td>CUS_0x100b</td>\n",
       "      <td>174.28759775147847</td>\n",
       "    </tr>\n",
       "    <tr>\n",
       "      <th>7</th>\n",
       "      <td>CUS_0x100b</td>\n",
       "      <td>617.0792665202719</td>\n",
       "    </tr>\n",
       "  </tbody>\n",
       "</table>\n",
       "</div>"
      ],
      "text/plain": [
       "  customer_id amount_invested_monthly\n",
       "0  CUS_0x100b      397.24184577026637\n",
       "1  CUS_0x100b       661.6240479398714\n",
       "2  CUS_0x100b                     NaN\n",
       "3  CUS_0x100b               __10000__\n",
       "4  CUS_0x100b       758.0831954920012\n",
       "5  CUS_0x100b       424.0032051421769\n",
       "6  CUS_0x100b      174.28759775147847\n",
       "7  CUS_0x100b       617.0792665202719"
      ]
     },
     "execution_count": 91,
     "metadata": {},
     "output_type": "execute_result"
    }
   ],
   "source": [
    "df[df.customer_id == \"CUS_0x100b\"][['customer_id', 'amount_invested_monthly']]"
   ]
  },
  {
   "cell_type": "markdown",
   "id": "816f5e21-ccc2-49c1-b933-8fc8716e20c4",
   "metadata": {},
   "source": [
    "It's would be very strange if person invested 10000 once and all the other times his investments were around 500$. Of course he could have won the lottery, but in the dataset we see value \\_\\_10000__ 4305 times, so it's not probably the case.   \n",
    "So let's swap this value with NaN and then fill all NaNs with averages for the customer. "
   ]
  },
  {
   "cell_type": "code",
   "execution_count": 92,
   "id": "b001f459-6930-4a51-a4cf-641f54c7c26f",
   "metadata": {},
   "outputs": [],
   "source": [
    "df.loc[df['amount_invested_monthly'] == '__10000__', 'amount_invested_monthly'] = np.nan"
   ]
  },
  {
   "cell_type": "code",
   "execution_count": 93,
   "id": "6a28901c-9dc4-49c1-8c75-a7a11e203667",
   "metadata": {},
   "outputs": [],
   "source": [
    "df['amount_invested_monthly'] = np.float64(df['amount_invested_monthly'])"
   ]
  },
  {
   "cell_type": "code",
   "execution_count": 94,
   "id": "a928dd5c-928b-48ec-8e05-526e29fa542f",
   "metadata": {},
   "outputs": [],
   "source": [
    "df['amount_invested_monthly'] = df.groupby('customer_id')['amount_invested_monthly'].transform(lambda x: x.fillna(x.mean()))"
   ]
  },
  {
   "cell_type": "markdown",
   "id": "099eaa42-0783-4354-92f7-181272bc9d93",
   "metadata": {},
   "source": [
    "One last look at client CUS_0x100b to be sure that his data is fine:"
   ]
  },
  {
   "cell_type": "code",
   "execution_count": 95,
   "id": "1264d9f3-4dcf-4142-8063-d9868bf7f4c5",
   "metadata": {},
   "outputs": [
    {
     "data": {
      "text/html": [
       "<div>\n",
       "<style scoped>\n",
       "    .dataframe tbody tr th:only-of-type {\n",
       "        vertical-align: middle;\n",
       "    }\n",
       "\n",
       "    .dataframe tbody tr th {\n",
       "        vertical-align: top;\n",
       "    }\n",
       "\n",
       "    .dataframe thead th {\n",
       "        text-align: right;\n",
       "    }\n",
       "</style>\n",
       "<table border=\"1\" class=\"dataframe\">\n",
       "  <thead>\n",
       "    <tr style=\"text-align: right;\">\n",
       "      <th></th>\n",
       "      <th>customer_id</th>\n",
       "      <th>amount_invested_monthly</th>\n",
       "    </tr>\n",
       "  </thead>\n",
       "  <tbody>\n",
       "    <tr>\n",
       "      <th>0</th>\n",
       "      <td>CUS_0x100b</td>\n",
       "      <td>397.241846</td>\n",
       "    </tr>\n",
       "    <tr>\n",
       "      <th>1</th>\n",
       "      <td>CUS_0x100b</td>\n",
       "      <td>661.624048</td>\n",
       "    </tr>\n",
       "    <tr>\n",
       "      <th>2</th>\n",
       "      <td>CUS_0x100b</td>\n",
       "      <td>505.386526</td>\n",
       "    </tr>\n",
       "    <tr>\n",
       "      <th>3</th>\n",
       "      <td>CUS_0x100b</td>\n",
       "      <td>505.386526</td>\n",
       "    </tr>\n",
       "    <tr>\n",
       "      <th>4</th>\n",
       "      <td>CUS_0x100b</td>\n",
       "      <td>758.083195</td>\n",
       "    </tr>\n",
       "    <tr>\n",
       "      <th>5</th>\n",
       "      <td>CUS_0x100b</td>\n",
       "      <td>424.003205</td>\n",
       "    </tr>\n",
       "    <tr>\n",
       "      <th>6</th>\n",
       "      <td>CUS_0x100b</td>\n",
       "      <td>174.287598</td>\n",
       "    </tr>\n",
       "    <tr>\n",
       "      <th>7</th>\n",
       "      <td>CUS_0x100b</td>\n",
       "      <td>617.079267</td>\n",
       "    </tr>\n",
       "  </tbody>\n",
       "</table>\n",
       "</div>"
      ],
      "text/plain": [
       "  customer_id  amount_invested_monthly\n",
       "0  CUS_0x100b               397.241846\n",
       "1  CUS_0x100b               661.624048\n",
       "2  CUS_0x100b               505.386526\n",
       "3  CUS_0x100b               505.386526\n",
       "4  CUS_0x100b               758.083195\n",
       "5  CUS_0x100b               424.003205\n",
       "6  CUS_0x100b               174.287598\n",
       "7  CUS_0x100b               617.079267"
      ]
     },
     "execution_count": 95,
     "metadata": {},
     "output_type": "execute_result"
    }
   ],
   "source": [
    "df[df.customer_id == \"CUS_0x100b\"][['customer_id', 'amount_invested_monthly']]"
   ]
  },
  {
   "cell_type": "markdown",
   "id": "7eaa91e9-779e-4c89-8158-d7858466dd8c",
   "metadata": {
    "jp-MarkdownHeadingCollapsed": true
   },
   "source": [
    "## monthly_balance\n",
    "Represents the monthly balance amount of the customer (in USD)"
   ]
  },
  {
   "cell_type": "markdown",
   "id": "5cd0b183-703b-4be7-aaad-815e6a3ad85a",
   "metadata": {},
   "source": [
    "First let's look at weird values (negative, strings, etc):"
   ]
  },
  {
   "cell_type": "code",
   "execution_count": 96,
   "id": "eadabe84-1ec5-4999-b810-21609dd2871a",
   "metadata": {},
   "outputs": [
    {
     "name": "stdout",
     "output_type": "stream",
     "text": [
      "nan\n",
      "__-333333333333333333333333333__\n"
     ]
    }
   ],
   "source": [
    "import math\n",
    "for el in list(df.monthly_balance.unique()):\n",
    "    try:\n",
    "        if isinstance(float(el), float):\n",
    "            if not float(el) >= 0:\n",
    "                print(el)\n",
    "    except:\n",
    "        print(el)"
   ]
  },
  {
   "cell_type": "markdown",
   "id": "f5e38ce4-8b08-486f-9918-a51a8dc48070",
   "metadata": {},
   "source": [
    "\\_\\_-333333333333333333333333333__ value is an obvious mistake"
   ]
  },
  {
   "cell_type": "code",
   "execution_count": 97,
   "id": "2ac3be29-5873-43be-b590-b8861610e253",
   "metadata": {},
   "outputs": [
    {
     "data": {
      "text/html": [
       "<div>\n",
       "<style scoped>\n",
       "    .dataframe tbody tr th:only-of-type {\n",
       "        vertical-align: middle;\n",
       "    }\n",
       "\n",
       "    .dataframe tbody tr th {\n",
       "        vertical-align: top;\n",
       "    }\n",
       "\n",
       "    .dataframe thead th {\n",
       "        text-align: right;\n",
       "    }\n",
       "</style>\n",
       "<table border=\"1\" class=\"dataframe\">\n",
       "  <thead>\n",
       "    <tr style=\"text-align: right;\">\n",
       "      <th></th>\n",
       "      <th>customer_id</th>\n",
       "      <th>monthly_balance</th>\n",
       "    </tr>\n",
       "  </thead>\n",
       "  <tbody>\n",
       "    <tr>\n",
       "      <th>6</th>\n",
       "      <td>CUS_0x288d</td>\n",
       "      <td>__-333333333333333333333333333__</td>\n",
       "    </tr>\n",
       "    <tr>\n",
       "      <th>6</th>\n",
       "      <td>CUS_0x2b77</td>\n",
       "      <td>__-333333333333333333333333333__</td>\n",
       "    </tr>\n",
       "    <tr>\n",
       "      <th>7</th>\n",
       "      <td>CUS_0x2f7e</td>\n",
       "      <td>__-333333333333333333333333333__</td>\n",
       "    </tr>\n",
       "    <tr>\n",
       "      <th>6</th>\n",
       "      <td>CUS_0x41bf</td>\n",
       "      <td>__-333333333333333333333333333__</td>\n",
       "    </tr>\n",
       "    <tr>\n",
       "      <th>3</th>\n",
       "      <td>CUS_0x57f3</td>\n",
       "      <td>__-333333333333333333333333333__</td>\n",
       "    </tr>\n",
       "    <tr>\n",
       "      <th>1</th>\n",
       "      <td>CUS_0x5a90</td>\n",
       "      <td>__-333333333333333333333333333__</td>\n",
       "    </tr>\n",
       "    <tr>\n",
       "      <th>2</th>\n",
       "      <td>CUS_0x85e9</td>\n",
       "      <td>__-333333333333333333333333333__</td>\n",
       "    </tr>\n",
       "    <tr>\n",
       "      <th>1</th>\n",
       "      <td>CUS_0x9885</td>\n",
       "      <td>__-333333333333333333333333333__</td>\n",
       "    </tr>\n",
       "    <tr>\n",
       "      <th>1</th>\n",
       "      <td>CUS_0xc06e</td>\n",
       "      <td>__-333333333333333333333333333__</td>\n",
       "    </tr>\n",
       "  </tbody>\n",
       "</table>\n",
       "</div>"
      ],
      "text/plain": [
       "  customer_id                   monthly_balance\n",
       "6  CUS_0x288d  __-333333333333333333333333333__\n",
       "6  CUS_0x2b77  __-333333333333333333333333333__\n",
       "7  CUS_0x2f7e  __-333333333333333333333333333__\n",
       "6  CUS_0x41bf  __-333333333333333333333333333__\n",
       "3  CUS_0x57f3  __-333333333333333333333333333__\n",
       "1  CUS_0x5a90  __-333333333333333333333333333__\n",
       "2  CUS_0x85e9  __-333333333333333333333333333__\n",
       "1  CUS_0x9885  __-333333333333333333333333333__\n",
       "1  CUS_0xc06e  __-333333333333333333333333333__"
      ]
     },
     "execution_count": 97,
     "metadata": {},
     "output_type": "execute_result"
    }
   ],
   "source": [
    "df[df.monthly_balance == \"__-333333333333333333333333333__\"][['customer_id', 'monthly_balance']]"
   ]
  },
  {
   "cell_type": "code",
   "execution_count": 98,
   "id": "2545b8e1-555b-4df8-b843-ff5b8bd2f76a",
   "metadata": {},
   "outputs": [
    {
     "data": {
      "text/html": [
       "<div>\n",
       "<style scoped>\n",
       "    .dataframe tbody tr th:only-of-type {\n",
       "        vertical-align: middle;\n",
       "    }\n",
       "\n",
       "    .dataframe tbody tr th {\n",
       "        vertical-align: top;\n",
       "    }\n",
       "\n",
       "    .dataframe thead th {\n",
       "        text-align: right;\n",
       "    }\n",
       "</style>\n",
       "<table border=\"1\" class=\"dataframe\">\n",
       "  <thead>\n",
       "    <tr style=\"text-align: right;\">\n",
       "      <th></th>\n",
       "      <th>customer_id</th>\n",
       "      <th>monthly_balance</th>\n",
       "    </tr>\n",
       "  </thead>\n",
       "  <tbody>\n",
       "    <tr>\n",
       "      <th>0</th>\n",
       "      <td>CUS_0x85e9</td>\n",
       "      <td>291.44457204550986</td>\n",
       "    </tr>\n",
       "    <tr>\n",
       "      <th>1</th>\n",
       "      <td>CUS_0x85e9</td>\n",
       "      <td>330.46334419812166</td>\n",
       "    </tr>\n",
       "    <tr>\n",
       "      <th>2</th>\n",
       "      <td>CUS_0x85e9</td>\n",
       "      <td>__-333333333333333333333333333__</td>\n",
       "    </tr>\n",
       "    <tr>\n",
       "      <th>3</th>\n",
       "      <td>CUS_0x85e9</td>\n",
       "      <td>342.93726629496325</td>\n",
       "    </tr>\n",
       "    <tr>\n",
       "      <th>4</th>\n",
       "      <td>CUS_0x85e9</td>\n",
       "      <td>358.3608394045252</td>\n",
       "    </tr>\n",
       "    <tr>\n",
       "      <th>5</th>\n",
       "      <td>CUS_0x85e9</td>\n",
       "      <td>280.959039516267</td>\n",
       "    </tr>\n",
       "    <tr>\n",
       "      <th>6</th>\n",
       "      <td>CUS_0x85e9</td>\n",
       "      <td>287.6109372328992</td>\n",
       "    </tr>\n",
       "    <tr>\n",
       "      <th>7</th>\n",
       "      <td>CUS_0x85e9</td>\n",
       "      <td>343.2938219999582</td>\n",
       "    </tr>\n",
       "  </tbody>\n",
       "</table>\n",
       "</div>"
      ],
      "text/plain": [
       "  customer_id                   monthly_balance\n",
       "0  CUS_0x85e9                291.44457204550986\n",
       "1  CUS_0x85e9                330.46334419812166\n",
       "2  CUS_0x85e9  __-333333333333333333333333333__\n",
       "3  CUS_0x85e9                342.93726629496325\n",
       "4  CUS_0x85e9                 358.3608394045252\n",
       "5  CUS_0x85e9                  280.959039516267\n",
       "6  CUS_0x85e9                 287.6109372328992\n",
       "7  CUS_0x85e9                 343.2938219999582"
      ]
     },
     "execution_count": 98,
     "metadata": {},
     "output_type": "execute_result"
    }
   ],
   "source": [
    "df[df.customer_id == \"CUS_0x85e9\"][['customer_id', 'monthly_balance']]"
   ]
  },
  {
   "cell_type": "markdown",
   "id": "f85b66cf-81cc-4d6f-9fce-5da86952eedb",
   "metadata": {},
   "source": [
    "Let's delete all values like \\_\\_-333333333333333333333333333__ and swap them with NaNs and then fill NaNs with averages for customer"
   ]
  },
  {
   "cell_type": "code",
   "execution_count": 99,
   "id": "c75c7237-9ff1-4c67-97e3-9a3fc1125913",
   "metadata": {},
   "outputs": [],
   "source": [
    "df.loc[df['monthly_balance'] == '__-333333333333333333333333333__', 'monthly_balance'] = np.nan"
   ]
  },
  {
   "cell_type": "code",
   "execution_count": 100,
   "id": "e1c581c5-fe06-4401-8e06-0b6ffbecb3ea",
   "metadata": {},
   "outputs": [],
   "source": [
    "df['monthly_balance'] = np.float64(df['monthly_balance'])"
   ]
  },
  {
   "cell_type": "code",
   "execution_count": 101,
   "id": "8ad3a2f5-3a32-4112-9767-5c938f445edc",
   "metadata": {},
   "outputs": [],
   "source": [
    "df['monthly_balance'] = df.groupby('customer_id')['monthly_balance'].transform(lambda x: x.fillna(x.mean()))"
   ]
  },
  {
   "cell_type": "markdown",
   "id": "7ddaa88e-40bf-4101-b7b4-cd78149b632c",
   "metadata": {
    "jp-MarkdownHeadingCollapsed": true
   },
   "source": [
    "## age\n",
    "Represents the age of the person"
   ]
  },
  {
   "cell_type": "code",
   "execution_count": 102,
   "id": "57645176-1ab5-4376-a06c-9efa5a5b4156",
   "metadata": {},
   "outputs": [
    {
     "data": {
      "text/plain": [
       "age\n",
       "-500     886\n",
       "100        1\n",
       "1004       1\n",
       "1006       1\n",
       "1010       1\n",
       "102        1\n",
       "1022       1\n",
       "1024       1\n",
       "1028       1\n",
       "1032       1\n",
       "1033       1\n",
       "1040       1\n",
       "1051       1\n",
       "1053       1\n",
       "1062       1\n",
       "1066       1\n",
       "1070_      1\n",
       "1083       2\n",
       "1087       1\n",
       "109        1\n",
       "Name: count, dtype: int64"
      ]
     },
     "execution_count": 102,
     "metadata": {},
     "output_type": "execute_result"
    }
   ],
   "source": [
    "df['age'].value_counts().sort_index()[:20]"
   ]
  },
  {
   "cell_type": "markdown",
   "id": "630acf8a-8141-498c-adcb-6fbffc451c83",
   "metadata": {},
   "source": [
    "We can see the same issue with underscores. Let's fix it:"
   ]
  },
  {
   "cell_type": "code",
   "execution_count": 103,
   "id": "3b1ffc91-2464-46a1-a161-79b81122dc5c",
   "metadata": {},
   "outputs": [],
   "source": [
    "df['age'] = df['age'].apply(custom_to_numeric)"
   ]
  },
  {
   "cell_type": "code",
   "execution_count": 104,
   "id": "81ab73d4-20bd-46ea-b5f9-4449dba2ec54",
   "metadata": {},
   "outputs": [
    {
     "data": {
      "text/plain": [
       "age\n",
       "-500.0      886\n",
       " 14.0      1175\n",
       " 15.0      1574\n",
       " 16.0      1455\n",
       " 17.0      1502\n",
       " 18.0      2385\n",
       " 19.0      2793\n",
       " 20.0      2744\n",
       " 21.0      2716\n",
       " 22.0      2785\n",
       " 23.0      2654\n",
       " 24.0      2714\n",
       " 25.0      2861\n",
       " 26.0      2945\n",
       " 27.0      2859\n",
       " 28.0      2968\n",
       " 29.0      2735\n",
       " 30.0      2727\n",
       " 31.0      2955\n",
       " 32.0      2884\n",
       " 33.0      2543\n",
       " 34.0      2837\n",
       " 35.0      2866\n",
       " 36.0      2868\n",
       " 37.0      2742\n",
       " 38.0      2994\n",
       " 39.0      2846\n",
       " 40.0      2609\n",
       " 41.0      2785\n",
       " 42.0      2577\n",
       " 43.0      2734\n",
       " 44.0      2824\n",
       " 45.0      2642\n",
       " 46.0      1621\n",
       " 47.0      1227\n",
       " 48.0      1385\n",
       " 49.0      1375\n",
       " 50.0      1273\n",
       " 51.0      1291\n",
       " 52.0      1356\n",
       " 53.0      1354\n",
       " 54.0      1311\n",
       " 55.0      1366\n",
       " 56.0       362\n",
       " 1753.0       3\n",
       " 2109.0       3\n",
       " 3920.0       3\n",
       " 4494.0       3\n",
       " 6799.0       4\n",
       " 8015.0       3\n",
       "Name: count, dtype: int64"
      ]
     },
     "execution_count": 104,
     "metadata": {},
     "output_type": "execute_result"
    }
   ],
   "source": [
    "df['age'].value_counts().head(50).sort_index().head(80)"
   ]
  },
  {
   "cell_type": "code",
   "execution_count": 105,
   "id": "f0090ea1-dbbc-4cef-81c7-eb7fd14aecb7",
   "metadata": {},
   "outputs": [
    {
     "data": {
      "text/html": [
       "<div>\n",
       "<style scoped>\n",
       "    .dataframe tbody tr th:only-of-type {\n",
       "        vertical-align: middle;\n",
       "    }\n",
       "\n",
       "    .dataframe tbody tr th {\n",
       "        vertical-align: top;\n",
       "    }\n",
       "\n",
       "    .dataframe thead th {\n",
       "        text-align: right;\n",
       "    }\n",
       "</style>\n",
       "<table border=\"1\" class=\"dataframe\">\n",
       "  <thead>\n",
       "    <tr style=\"text-align: right;\">\n",
       "      <th></th>\n",
       "      <th>customer_id</th>\n",
       "      <th>age</th>\n",
       "    </tr>\n",
       "  </thead>\n",
       "  <tbody>\n",
       "    <tr>\n",
       "      <th>4</th>\n",
       "      <td>CUS_0x3b9a</td>\n",
       "      <td>100.0</td>\n",
       "    </tr>\n",
       "  </tbody>\n",
       "</table>\n",
       "</div>"
      ],
      "text/plain": [
       "  customer_id    age\n",
       "4  CUS_0x3b9a  100.0"
      ]
     },
     "execution_count": 105,
     "metadata": {},
     "output_type": "execute_result"
    }
   ],
   "source": [
    "df[df.age == 100][['customer_id', 'age']]"
   ]
  },
  {
   "cell_type": "code",
   "execution_count": 106,
   "id": "3bc55300-3a10-488b-9381-ab1b8c411e47",
   "metadata": {},
   "outputs": [
    {
     "data": {
      "text/html": [
       "<div>\n",
       "<style scoped>\n",
       "    .dataframe tbody tr th:only-of-type {\n",
       "        vertical-align: middle;\n",
       "    }\n",
       "\n",
       "    .dataframe tbody tr th {\n",
       "        vertical-align: top;\n",
       "    }\n",
       "\n",
       "    .dataframe thead th {\n",
       "        text-align: right;\n",
       "    }\n",
       "</style>\n",
       "<table border=\"1\" class=\"dataframe\">\n",
       "  <thead>\n",
       "    <tr style=\"text-align: right;\">\n",
       "      <th></th>\n",
       "      <th>customer_id</th>\n",
       "      <th>age</th>\n",
       "    </tr>\n",
       "  </thead>\n",
       "  <tbody>\n",
       "    <tr>\n",
       "      <th>0</th>\n",
       "      <td>CUS_0x3b9a</td>\n",
       "      <td>32.0</td>\n",
       "    </tr>\n",
       "    <tr>\n",
       "      <th>1</th>\n",
       "      <td>CUS_0x3b9a</td>\n",
       "      <td>32.0</td>\n",
       "    </tr>\n",
       "    <tr>\n",
       "      <th>2</th>\n",
       "      <td>CUS_0x3b9a</td>\n",
       "      <td>32.0</td>\n",
       "    </tr>\n",
       "    <tr>\n",
       "      <th>3</th>\n",
       "      <td>CUS_0x3b9a</td>\n",
       "      <td>32.0</td>\n",
       "    </tr>\n",
       "    <tr>\n",
       "      <th>4</th>\n",
       "      <td>CUS_0x3b9a</td>\n",
       "      <td>100.0</td>\n",
       "    </tr>\n",
       "    <tr>\n",
       "      <th>5</th>\n",
       "      <td>CUS_0x3b9a</td>\n",
       "      <td>32.0</td>\n",
       "    </tr>\n",
       "    <tr>\n",
       "      <th>6</th>\n",
       "      <td>CUS_0x3b9a</td>\n",
       "      <td>32.0</td>\n",
       "    </tr>\n",
       "    <tr>\n",
       "      <th>7</th>\n",
       "      <td>CUS_0x3b9a</td>\n",
       "      <td>32.0</td>\n",
       "    </tr>\n",
       "  </tbody>\n",
       "</table>\n",
       "</div>"
      ],
      "text/plain": [
       "  customer_id    age\n",
       "0  CUS_0x3b9a   32.0\n",
       "1  CUS_0x3b9a   32.0\n",
       "2  CUS_0x3b9a   32.0\n",
       "3  CUS_0x3b9a   32.0\n",
       "4  CUS_0x3b9a  100.0\n",
       "5  CUS_0x3b9a   32.0\n",
       "6  CUS_0x3b9a   32.0\n",
       "7  CUS_0x3b9a   32.0"
      ]
     },
     "execution_count": 106,
     "metadata": {},
     "output_type": "execute_result"
    }
   ],
   "source": [
    "df[df.customer_id == \"CUS_0x3b9a\"][['customer_id', 'age']]"
   ]
  },
  {
   "cell_type": "markdown",
   "id": "d5041213-eeb3-4918-94ec-0c5c9ee22856",
   "metadata": {},
   "source": [
    "We can see some absurd values in this column. Let's swap any age lower than 14 and higher than 56 to NaN and then select median age for the customer. "
   ]
  },
  {
   "cell_type": "code",
   "execution_count": 107,
   "id": "b7fa3ff7-7867-424f-9b52-75a154d2dd12",
   "metadata": {},
   "outputs": [],
   "source": [
    "df.loc[(df.age < 14) | (df.age > 56), 'age'] = np.nan"
   ]
  },
  {
   "cell_type": "code",
   "execution_count": 108,
   "id": "3256098e-0c32-40aa-bbab-9fbc9256138d",
   "metadata": {},
   "outputs": [],
   "source": [
    "df['age'] = df.groupby('customer_id')['age'].transform(lambda x: x.fillna(x.median()))"
   ]
  },
  {
   "cell_type": "markdown",
   "id": "815958ae-d37a-4b17-8d02-f01430a86bb3",
   "metadata": {},
   "source": [
    "## ssn\n",
    "Represents the social security number of a person"
   ]
  },
  {
   "cell_type": "code",
   "execution_count": 109,
   "id": "2186e8ff-6df4-4a98-b88d-9173e2b96fd9",
   "metadata": {},
   "outputs": [
    {
     "data": {
      "text/plain": [
       "ssn\n",
       "#F%$D@*&8      5572\n",
       "000-08-1349       8\n",
       "000-40-3312       8\n",
       "000-58-0568       8\n",
       "000-60-0688       8\n",
       "000-63-0442       7\n",
       "000-80-0683       8\n",
       "000-86-6182       8\n",
       "000-89-3828       8\n",
       "000-89-4910       7\n",
       "000-89-8752       8\n",
       "000-92-4286       7\n",
       "000-95-4380       8\n",
       "001-06-5634       7\n",
       "001-06-7616       7\n",
       "001-11-0655       8\n",
       "001-30-8624       8\n",
       "001-41-8258       8\n",
       "001-43-6015       8\n",
       "001-49-5189       8\n",
       "Name: count, dtype: int64"
      ]
     },
     "execution_count": 109,
     "metadata": {},
     "output_type": "execute_result"
    }
   ],
   "source": [
    "df['ssn'].value_counts().sort_index()[:20]"
   ]
  },
  {
   "cell_type": "code",
   "execution_count": 110,
   "id": "1aa5cd9e-cee2-46c6-b362-f56cfe57156a",
   "metadata": {},
   "outputs": [
    {
     "data": {
      "text/html": [
       "<div>\n",
       "<style scoped>\n",
       "    .dataframe tbody tr th:only-of-type {\n",
       "        vertical-align: middle;\n",
       "    }\n",
       "\n",
       "    .dataframe tbody tr th {\n",
       "        vertical-align: top;\n",
       "    }\n",
       "\n",
       "    .dataframe thead th {\n",
       "        text-align: right;\n",
       "    }\n",
       "</style>\n",
       "<table border=\"1\" class=\"dataframe\">\n",
       "  <thead>\n",
       "    <tr style=\"text-align: right;\">\n",
       "      <th></th>\n",
       "      <th>customer_id</th>\n",
       "      <th>ssn</th>\n",
       "    </tr>\n",
       "  </thead>\n",
       "  <tbody>\n",
       "    <tr>\n",
       "      <th>0</th>\n",
       "      <td>CUS_0x1009</td>\n",
       "      <td>#F%$D@*&amp;8</td>\n",
       "    </tr>\n",
       "    <tr>\n",
       "      <th>7</th>\n",
       "      <td>CUS_0x100b</td>\n",
       "      <td>#F%$D@*&amp;8</td>\n",
       "    </tr>\n",
       "    <tr>\n",
       "      <th>3</th>\n",
       "      <td>CUS_0x1011</td>\n",
       "      <td>#F%$D@*&amp;8</td>\n",
       "    </tr>\n",
       "    <tr>\n",
       "      <th>7</th>\n",
       "      <td>CUS_0x102e</td>\n",
       "      <td>#F%$D@*&amp;8</td>\n",
       "    </tr>\n",
       "    <tr>\n",
       "      <th>1</th>\n",
       "      <td>CUS_0x1032</td>\n",
       "      <td>#F%$D@*&amp;8</td>\n",
       "    </tr>\n",
       "    <tr>\n",
       "      <th>...</th>\n",
       "      <td>...</td>\n",
       "      <td>...</td>\n",
       "    </tr>\n",
       "    <tr>\n",
       "      <th>4</th>\n",
       "      <td>CUS_0xfb8</td>\n",
       "      <td>#F%$D@*&amp;8</td>\n",
       "    </tr>\n",
       "    <tr>\n",
       "      <th>5</th>\n",
       "      <td>CUS_0xfcc</td>\n",
       "      <td>#F%$D@*&amp;8</td>\n",
       "    </tr>\n",
       "    <tr>\n",
       "      <th>2</th>\n",
       "      <td>CUS_0xfdd</td>\n",
       "      <td>#F%$D@*&amp;8</td>\n",
       "    </tr>\n",
       "    <tr>\n",
       "      <th>6</th>\n",
       "      <td>CUS_0xfe5</td>\n",
       "      <td>#F%$D@*&amp;8</td>\n",
       "    </tr>\n",
       "    <tr>\n",
       "      <th>7</th>\n",
       "      <td>CUS_0xff3</td>\n",
       "      <td>#F%$D@*&amp;8</td>\n",
       "    </tr>\n",
       "  </tbody>\n",
       "</table>\n",
       "<p>5572 rows × 2 columns</p>\n",
       "</div>"
      ],
      "text/plain": [
       "   customer_id        ssn\n",
       "0   CUS_0x1009  #F%$D@*&8\n",
       "7   CUS_0x100b  #F%$D@*&8\n",
       "3   CUS_0x1011  #F%$D@*&8\n",
       "7   CUS_0x102e  #F%$D@*&8\n",
       "1   CUS_0x1032  #F%$D@*&8\n",
       "..         ...        ...\n",
       "4    CUS_0xfb8  #F%$D@*&8\n",
       "5    CUS_0xfcc  #F%$D@*&8\n",
       "2    CUS_0xfdd  #F%$D@*&8\n",
       "6    CUS_0xfe5  #F%$D@*&8\n",
       "7    CUS_0xff3  #F%$D@*&8\n",
       "\n",
       "[5572 rows x 2 columns]"
      ]
     },
     "execution_count": 110,
     "metadata": {},
     "output_type": "execute_result"
    }
   ],
   "source": [
    "df[df.ssn == '#F%$D@*&8'][['customer_id', 'ssn']]"
   ]
  },
  {
   "cell_type": "code",
   "execution_count": 111,
   "id": "57522862-3ac5-410c-a4b4-a378cdda18a0",
   "metadata": {},
   "outputs": [
    {
     "data": {
      "text/html": [
       "<div>\n",
       "<style scoped>\n",
       "    .dataframe tbody tr th:only-of-type {\n",
       "        vertical-align: middle;\n",
       "    }\n",
       "\n",
       "    .dataframe tbody tr th {\n",
       "        vertical-align: top;\n",
       "    }\n",
       "\n",
       "    .dataframe thead th {\n",
       "        text-align: right;\n",
       "    }\n",
       "</style>\n",
       "<table border=\"1\" class=\"dataframe\">\n",
       "  <thead>\n",
       "    <tr style=\"text-align: right;\">\n",
       "      <th></th>\n",
       "      <th>customer_id</th>\n",
       "      <th>ssn</th>\n",
       "    </tr>\n",
       "  </thead>\n",
       "  <tbody>\n",
       "    <tr>\n",
       "      <th>0</th>\n",
       "      <td>CUS_0x1009</td>\n",
       "      <td>#F%$D@*&amp;8</td>\n",
       "    </tr>\n",
       "    <tr>\n",
       "      <th>1</th>\n",
       "      <td>CUS_0x1009</td>\n",
       "      <td>063-67-6938</td>\n",
       "    </tr>\n",
       "    <tr>\n",
       "      <th>2</th>\n",
       "      <td>CUS_0x1009</td>\n",
       "      <td>063-67-6938</td>\n",
       "    </tr>\n",
       "    <tr>\n",
       "      <th>3</th>\n",
       "      <td>CUS_0x1009</td>\n",
       "      <td>063-67-6938</td>\n",
       "    </tr>\n",
       "    <tr>\n",
       "      <th>4</th>\n",
       "      <td>CUS_0x1009</td>\n",
       "      <td>063-67-6938</td>\n",
       "    </tr>\n",
       "    <tr>\n",
       "      <th>5</th>\n",
       "      <td>CUS_0x1009</td>\n",
       "      <td>063-67-6938</td>\n",
       "    </tr>\n",
       "    <tr>\n",
       "      <th>6</th>\n",
       "      <td>CUS_0x1009</td>\n",
       "      <td>063-67-6938</td>\n",
       "    </tr>\n",
       "    <tr>\n",
       "      <th>7</th>\n",
       "      <td>CUS_0x1009</td>\n",
       "      <td>063-67-6938</td>\n",
       "    </tr>\n",
       "  </tbody>\n",
       "</table>\n",
       "</div>"
      ],
      "text/plain": [
       "  customer_id          ssn\n",
       "0  CUS_0x1009    #F%$D@*&8\n",
       "1  CUS_0x1009  063-67-6938\n",
       "2  CUS_0x1009  063-67-6938\n",
       "3  CUS_0x1009  063-67-6938\n",
       "4  CUS_0x1009  063-67-6938\n",
       "5  CUS_0x1009  063-67-6938\n",
       "6  CUS_0x1009  063-67-6938\n",
       "7  CUS_0x1009  063-67-6938"
      ]
     },
     "execution_count": 111,
     "metadata": {},
     "output_type": "execute_result"
    }
   ],
   "source": [
    "df[df.customer_id == \"CUS_0x1009\"][['customer_id', 'ssn']]"
   ]
  },
  {
   "cell_type": "markdown",
   "id": "6a9bee45-0d5c-41df-9928-e075987bac17",
   "metadata": {},
   "source": [
    "It seems like some ssns are broken and have value of #F%$D@*&8. Let's swap it for most frequent value for the customer"
   ]
  },
  {
   "cell_type": "code",
   "execution_count": 112,
   "id": "a68d17eb-46e3-4c3a-a1c9-87d33ea30c9e",
   "metadata": {},
   "outputs": [],
   "source": [
    "df.loc[df.ssn == '#F%$D@*&8', 'ssn'] = np.nan"
   ]
  },
  {
   "cell_type": "code",
   "execution_count": 113,
   "id": "33249f8e-3ade-45a4-a768-63d46ec13797",
   "metadata": {},
   "outputs": [],
   "source": [
    "df.ssn = df.groupby('customer_id')['ssn'].transform(lambda x: x.fillna(x.mode().iloc[0]))"
   ]
  },
  {
   "cell_type": "markdown",
   "id": "a05366f8-e32a-4e01-9993-c6bef164c1b2",
   "metadata": {},
   "source": [
    "The nine-digit SSN is composed of three parts:\n",
    "\n",
    "1. The first set of three digits is called the Area Number\n",
    "2. The second set of two digits is called the Group Number\n",
    "3. The final set of four digits is the Serial Number"
   ]
  },
  {
   "cell_type": "markdown",
   "id": "e4c20ad5-2cb7-43dd-a44a-2742b7e41d24",
   "metadata": {},
   "source": [
    "Let's delete everything apart from first three numbers (and maybe in the future we will turn it into categorical value)"
   ]
  },
  {
   "cell_type": "code",
   "execution_count": 114,
   "id": "dc09ca32-1b89-4215-be14-aad8ed18eac6",
   "metadata": {},
   "outputs": [
    {
     "data": {
      "text/plain": [
       "0    913-74-1218\n",
       "1    913-74-1218\n",
       "2    913-74-1218\n",
       "3    913-74-1218\n",
       "4    913-74-1218\n",
       "        ...     \n",
       "3    832-88-8320\n",
       "4    832-88-8320\n",
       "5    832-88-8320\n",
       "6    832-88-8320\n",
       "7    832-88-8320\n",
       "Name: ssn, Length: 100000, dtype: object"
      ]
     },
     "execution_count": 114,
     "metadata": {},
     "output_type": "execute_result"
    }
   ],
   "source": [
    "df.ssn"
   ]
  },
  {
   "cell_type": "code",
   "execution_count": 115,
   "id": "350347ae-0fbb-48c5-9894-df1b5adeec0d",
   "metadata": {},
   "outputs": [],
   "source": [
    "df['ssn_area'] = df.ssn.apply(lambda x: x.split('-')[0])"
   ]
  },
  {
   "cell_type": "code",
   "execution_count": 116,
   "id": "118d3d32-3adc-4068-a82f-0925bf812e9c",
   "metadata": {},
   "outputs": [
    {
     "data": {
      "text/plain": [
       "1000"
      ]
     },
     "execution_count": 116,
     "metadata": {},
     "output_type": "execute_result"
    }
   ],
   "source": [
    "df['ssn_area'].nunique()"
   ]
  },
  {
   "cell_type": "markdown",
   "id": "2f0d8cf4-dd12-479f-be6f-b17abc0b12e5",
   "metadata": {},
   "source": [
    "## occupation\n",
    "Represents the occupation of the person"
   ]
  },
  {
   "cell_type": "code",
   "execution_count": 117,
   "id": "aeb5ceaa-02c9-4c7d-9e0a-15d8d3d3cea7",
   "metadata": {},
   "outputs": [
    {
     "data": {
      "text/plain": [
       "occupation\n",
       "_______          7062\n",
       "Lawyer           6575\n",
       "Architect        6355\n",
       "Engineer         6350\n",
       "Scientist        6299\n",
       "Mechanic         6291\n",
       "Accountant       6271\n",
       "Developer        6235\n",
       "Media_Manager    6232\n",
       "Teacher          6215\n",
       "Entrepreneur     6174\n",
       "Doctor           6087\n",
       "Journalist       6085\n",
       "Manager          5973\n",
       "Musician         5911\n",
       "Writer           5885\n",
       "Name: count, dtype: int64"
      ]
     },
     "execution_count": 117,
     "metadata": {},
     "output_type": "execute_result"
    }
   ],
   "source": [
    "df.occupation.value_counts()"
   ]
  },
  {
   "cell_type": "code",
   "execution_count": 118,
   "id": "1565cc8c-bbb4-466e-9389-9d2f68fed177",
   "metadata": {},
   "outputs": [
    {
     "data": {
      "text/html": [
       "<div>\n",
       "<style scoped>\n",
       "    .dataframe tbody tr th:only-of-type {\n",
       "        vertical-align: middle;\n",
       "    }\n",
       "\n",
       "    .dataframe tbody tr th {\n",
       "        vertical-align: top;\n",
       "    }\n",
       "\n",
       "    .dataframe thead th {\n",
       "        text-align: right;\n",
       "    }\n",
       "</style>\n",
       "<table border=\"1\" class=\"dataframe\">\n",
       "  <thead>\n",
       "    <tr style=\"text-align: right;\">\n",
       "      <th></th>\n",
       "      <th>customer_id</th>\n",
       "      <th>occupation</th>\n",
       "    </tr>\n",
       "  </thead>\n",
       "  <tbody>\n",
       "    <tr>\n",
       "      <th>5</th>\n",
       "      <td>CUS_0x1009</td>\n",
       "      <td>_______</td>\n",
       "    </tr>\n",
       "    <tr>\n",
       "      <th>3</th>\n",
       "      <td>CUS_0x1026</td>\n",
       "      <td>_______</td>\n",
       "    </tr>\n",
       "    <tr>\n",
       "      <th>3</th>\n",
       "      <td>CUS_0x102d</td>\n",
       "      <td>_______</td>\n",
       "    </tr>\n",
       "    <tr>\n",
       "      <th>7</th>\n",
       "      <td>CUS_0x1044</td>\n",
       "      <td>_______</td>\n",
       "    </tr>\n",
       "    <tr>\n",
       "      <th>4</th>\n",
       "      <td>CUS_0x104e</td>\n",
       "      <td>_______</td>\n",
       "    </tr>\n",
       "    <tr>\n",
       "      <th>...</th>\n",
       "      <td>...</td>\n",
       "      <td>...</td>\n",
       "    </tr>\n",
       "    <tr>\n",
       "      <th>6</th>\n",
       "      <td>CUS_0xfe3</td>\n",
       "      <td>_______</td>\n",
       "    </tr>\n",
       "    <tr>\n",
       "      <th>1</th>\n",
       "      <td>CUS_0xfe4</td>\n",
       "      <td>_______</td>\n",
       "    </tr>\n",
       "    <tr>\n",
       "      <th>4</th>\n",
       "      <td>CUS_0xfe5</td>\n",
       "      <td>_______</td>\n",
       "    </tr>\n",
       "    <tr>\n",
       "      <th>5</th>\n",
       "      <td>CUS_0xffc</td>\n",
       "      <td>_______</td>\n",
       "    </tr>\n",
       "    <tr>\n",
       "      <th>4</th>\n",
       "      <td>CUS_0xffd</td>\n",
       "      <td>_______</td>\n",
       "    </tr>\n",
       "  </tbody>\n",
       "</table>\n",
       "<p>7062 rows × 2 columns</p>\n",
       "</div>"
      ],
      "text/plain": [
       "   customer_id occupation\n",
       "5   CUS_0x1009    _______\n",
       "3   CUS_0x1026    _______\n",
       "3   CUS_0x102d    _______\n",
       "7   CUS_0x1044    _______\n",
       "4   CUS_0x104e    _______\n",
       "..         ...        ...\n",
       "6    CUS_0xfe3    _______\n",
       "1    CUS_0xfe4    _______\n",
       "4    CUS_0xfe5    _______\n",
       "5    CUS_0xffc    _______\n",
       "4    CUS_0xffd    _______\n",
       "\n",
       "[7062 rows x 2 columns]"
      ]
     },
     "execution_count": 118,
     "metadata": {},
     "output_type": "execute_result"
    }
   ],
   "source": [
    "df[df.occupation == '_______'][['customer_id', 'occupation']]"
   ]
  },
  {
   "cell_type": "code",
   "execution_count": 119,
   "id": "3461a149-30da-4fbf-a573-96fb9459fd84",
   "metadata": {},
   "outputs": [
    {
     "data": {
      "text/html": [
       "<div>\n",
       "<style scoped>\n",
       "    .dataframe tbody tr th:only-of-type {\n",
       "        vertical-align: middle;\n",
       "    }\n",
       "\n",
       "    .dataframe tbody tr th {\n",
       "        vertical-align: top;\n",
       "    }\n",
       "\n",
       "    .dataframe thead th {\n",
       "        text-align: right;\n",
       "    }\n",
       "</style>\n",
       "<table border=\"1\" class=\"dataframe\">\n",
       "  <thead>\n",
       "    <tr style=\"text-align: right;\">\n",
       "      <th></th>\n",
       "      <th>customer_id</th>\n",
       "      <th>occupation</th>\n",
       "    </tr>\n",
       "  </thead>\n",
       "  <tbody>\n",
       "    <tr>\n",
       "      <th>0</th>\n",
       "      <td>CUS_0xfe3</td>\n",
       "      <td>Media_Manager</td>\n",
       "    </tr>\n",
       "    <tr>\n",
       "      <th>1</th>\n",
       "      <td>CUS_0xfe3</td>\n",
       "      <td>Media_Manager</td>\n",
       "    </tr>\n",
       "    <tr>\n",
       "      <th>2</th>\n",
       "      <td>CUS_0xfe3</td>\n",
       "      <td>Media_Manager</td>\n",
       "    </tr>\n",
       "    <tr>\n",
       "      <th>3</th>\n",
       "      <td>CUS_0xfe3</td>\n",
       "      <td>_______</td>\n",
       "    </tr>\n",
       "    <tr>\n",
       "      <th>4</th>\n",
       "      <td>CUS_0xfe3</td>\n",
       "      <td>Media_Manager</td>\n",
       "    </tr>\n",
       "    <tr>\n",
       "      <th>5</th>\n",
       "      <td>CUS_0xfe3</td>\n",
       "      <td>Media_Manager</td>\n",
       "    </tr>\n",
       "    <tr>\n",
       "      <th>6</th>\n",
       "      <td>CUS_0xfe3</td>\n",
       "      <td>_______</td>\n",
       "    </tr>\n",
       "    <tr>\n",
       "      <th>7</th>\n",
       "      <td>CUS_0xfe3</td>\n",
       "      <td>Media_Manager</td>\n",
       "    </tr>\n",
       "  </tbody>\n",
       "</table>\n",
       "</div>"
      ],
      "text/plain": [
       "  customer_id     occupation\n",
       "0   CUS_0xfe3  Media_Manager\n",
       "1   CUS_0xfe3  Media_Manager\n",
       "2   CUS_0xfe3  Media_Manager\n",
       "3   CUS_0xfe3        _______\n",
       "4   CUS_0xfe3  Media_Manager\n",
       "5   CUS_0xfe3  Media_Manager\n",
       "6   CUS_0xfe3        _______\n",
       "7   CUS_0xfe3  Media_Manager"
      ]
     },
     "execution_count": 119,
     "metadata": {},
     "output_type": "execute_result"
    }
   ],
   "source": [
    "df[df.customer_id == \"CUS_0xfe3\"][['customer_id', 'occupation']]"
   ]
  },
  {
   "cell_type": "markdown",
   "id": "d5ce1719-96e4-46d0-ba0e-55d2fd4f46c4",
   "metadata": {},
   "source": [
    "Let's swap all _______ values with most popular value for the customer"
   ]
  },
  {
   "cell_type": "code",
   "execution_count": 120,
   "id": "4b9d840d-e913-4dea-8fd2-0a92d2aa3f87",
   "metadata": {},
   "outputs": [],
   "source": [
    "df.loc[df.occupation == '_______', 'occupation'] = np.nan"
   ]
  },
  {
   "cell_type": "code",
   "execution_count": 121,
   "id": "0896ed9b-48dd-4cb7-8256-5ccbb3e8e347",
   "metadata": {},
   "outputs": [],
   "source": [
    "df.occupation = df.groupby('customer_id')['occupation'].transform(lambda x: x.fillna(x.mode().iloc[0]))"
   ]
  },
  {
   "cell_type": "code",
   "execution_count": 122,
   "id": "0f16f866-83df-4a24-8bee-28e12b0d8e0c",
   "metadata": {},
   "outputs": [
    {
     "data": {
      "text/plain": [
       "occupation\n",
       "Lawyer           7096\n",
       "Engineer         6864\n",
       "Architect        6824\n",
       "Mechanic         6776\n",
       "Accountant       6744\n",
       "Scientist        6744\n",
       "Media_Manager    6720\n",
       "Developer        6720\n",
       "Teacher          6672\n",
       "Entrepreneur     6648\n",
       "Doctor           6568\n",
       "Journalist       6536\n",
       "Manager          6432\n",
       "Musician         6352\n",
       "Writer           6304\n",
       "Name: count, dtype: int64"
      ]
     },
     "execution_count": 122,
     "metadata": {},
     "output_type": "execute_result"
    }
   ],
   "source": [
    "df.occupation.value_counts()"
   ]
  },
  {
   "cell_type": "code",
   "execution_count": 123,
   "id": "a18a3acb-4978-4a2a-b22a-f0ce6ca0be9b",
   "metadata": {},
   "outputs": [
    {
     "data": {
      "text/plain": [
       "np.int64(0)"
      ]
     },
     "execution_count": 123,
     "metadata": {},
     "output_type": "execute_result"
    }
   ],
   "source": [
    "df.occupation.isna().sum()"
   ]
  },
  {
   "cell_type": "markdown",
   "id": "3f29216e-ba0d-4360-a666-4117b50c8193",
   "metadata": {},
   "source": [
    "## changed_credit_limit\n",
    "Represents the percentage change in credit card limit"
   ]
  },
  {
   "cell_type": "code",
   "execution_count": 124,
   "id": "bb34591f-3a91-4229-b51e-6b3e75dbb50b",
   "metadata": {},
   "outputs": [
    {
     "name": "stdout",
     "output_type": "stream",
     "text": [
      "_\n"
     ]
    }
   ],
   "source": [
    "for el in list(df.changed_credit_limit.unique()):\n",
    "    try:\n",
    "        if isinstance(float(el), float):\n",
    "            pass\n",
    "    except:\n",
    "        print(el)"
   ]
  },
  {
   "cell_type": "markdown",
   "id": "3d76d049-c662-4e6e-8698-293504854a41",
   "metadata": {},
   "source": [
    "The only problematic value is \"_\""
   ]
  },
  {
   "cell_type": "code",
   "execution_count": 125,
   "id": "56be5047-2059-44d2-aa3e-3789d04a03b0",
   "metadata": {},
   "outputs": [
    {
     "data": {
      "text/html": [
       "<div>\n",
       "<style scoped>\n",
       "    .dataframe tbody tr th:only-of-type {\n",
       "        vertical-align: middle;\n",
       "    }\n",
       "\n",
       "    .dataframe tbody tr th {\n",
       "        vertical-align: top;\n",
       "    }\n",
       "\n",
       "    .dataframe thead th {\n",
       "        text-align: right;\n",
       "    }\n",
       "</style>\n",
       "<table border=\"1\" class=\"dataframe\">\n",
       "  <thead>\n",
       "    <tr style=\"text-align: right;\">\n",
       "      <th></th>\n",
       "      <th>customer_id</th>\n",
       "      <th>changed_credit_limit</th>\n",
       "    </tr>\n",
       "  </thead>\n",
       "  <tbody>\n",
       "    <tr>\n",
       "      <th>3</th>\n",
       "      <td>CUS_0x100b</td>\n",
       "      <td>_</td>\n",
       "    </tr>\n",
       "    <tr>\n",
       "      <th>0</th>\n",
       "      <td>CUS_0x1015</td>\n",
       "      <td>_</td>\n",
       "    </tr>\n",
       "    <tr>\n",
       "      <th>1</th>\n",
       "      <td>CUS_0x1032</td>\n",
       "      <td>_</td>\n",
       "    </tr>\n",
       "    <tr>\n",
       "      <th>4</th>\n",
       "      <td>CUS_0x1038</td>\n",
       "      <td>_</td>\n",
       "    </tr>\n",
       "    <tr>\n",
       "      <th>7</th>\n",
       "      <td>CUS_0x1051</td>\n",
       "      <td>_</td>\n",
       "    </tr>\n",
       "    <tr>\n",
       "      <th>...</th>\n",
       "      <td>...</td>\n",
       "      <td>...</td>\n",
       "    </tr>\n",
       "    <tr>\n",
       "      <th>6</th>\n",
       "      <td>CUS_0xfae</td>\n",
       "      <td>_</td>\n",
       "    </tr>\n",
       "    <tr>\n",
       "      <th>1</th>\n",
       "      <td>CUS_0xfbd</td>\n",
       "      <td>_</td>\n",
       "    </tr>\n",
       "    <tr>\n",
       "      <th>5</th>\n",
       "      <td>CUS_0xfbd</td>\n",
       "      <td>_</td>\n",
       "    </tr>\n",
       "    <tr>\n",
       "      <th>5</th>\n",
       "      <td>CUS_0xfdd</td>\n",
       "      <td>_</td>\n",
       "    </tr>\n",
       "    <tr>\n",
       "      <th>4</th>\n",
       "      <td>CUS_0xffc</td>\n",
       "      <td>_</td>\n",
       "    </tr>\n",
       "  </tbody>\n",
       "</table>\n",
       "<p>2091 rows × 2 columns</p>\n",
       "</div>"
      ],
      "text/plain": [
       "   customer_id changed_credit_limit\n",
       "3   CUS_0x100b                    _\n",
       "0   CUS_0x1015                    _\n",
       "1   CUS_0x1032                    _\n",
       "4   CUS_0x1038                    _\n",
       "7   CUS_0x1051                    _\n",
       "..         ...                  ...\n",
       "6    CUS_0xfae                    _\n",
       "1    CUS_0xfbd                    _\n",
       "5    CUS_0xfbd                    _\n",
       "5    CUS_0xfdd                    _\n",
       "4    CUS_0xffc                    _\n",
       "\n",
       "[2091 rows x 2 columns]"
      ]
     },
     "execution_count": 125,
     "metadata": {},
     "output_type": "execute_result"
    }
   ],
   "source": [
    "df[df.changed_credit_limit == '_'][['customer_id', 'changed_credit_limit']].sort_values('customer_id')"
   ]
  },
  {
   "cell_type": "code",
   "execution_count": 126,
   "id": "3ac75057-e4ba-477a-bbac-b08019ad1d40",
   "metadata": {},
   "outputs": [
    {
     "data": {
      "text/html": [
       "<div>\n",
       "<style scoped>\n",
       "    .dataframe tbody tr th:only-of-type {\n",
       "        vertical-align: middle;\n",
       "    }\n",
       "\n",
       "    .dataframe tbody tr th {\n",
       "        vertical-align: top;\n",
       "    }\n",
       "\n",
       "    .dataframe thead th {\n",
       "        text-align: right;\n",
       "    }\n",
       "</style>\n",
       "<table border=\"1\" class=\"dataframe\">\n",
       "  <thead>\n",
       "    <tr style=\"text-align: right;\">\n",
       "      <th></th>\n",
       "      <th>customer_id</th>\n",
       "      <th>changed_credit_limit</th>\n",
       "    </tr>\n",
       "  </thead>\n",
       "  <tbody>\n",
       "    <tr>\n",
       "      <th>0</th>\n",
       "      <td>CUS_0xfbd</td>\n",
       "      <td>19.62</td>\n",
       "    </tr>\n",
       "    <tr>\n",
       "      <th>1</th>\n",
       "      <td>CUS_0xfbd</td>\n",
       "      <td>_</td>\n",
       "    </tr>\n",
       "    <tr>\n",
       "      <th>2</th>\n",
       "      <td>CUS_0xfbd</td>\n",
       "      <td>19.62</td>\n",
       "    </tr>\n",
       "    <tr>\n",
       "      <th>3</th>\n",
       "      <td>CUS_0xfbd</td>\n",
       "      <td>19.62</td>\n",
       "    </tr>\n",
       "    <tr>\n",
       "      <th>4</th>\n",
       "      <td>CUS_0xfbd</td>\n",
       "      <td>14.62</td>\n",
       "    </tr>\n",
       "    <tr>\n",
       "      <th>5</th>\n",
       "      <td>CUS_0xfbd</td>\n",
       "      <td>_</td>\n",
       "    </tr>\n",
       "    <tr>\n",
       "      <th>6</th>\n",
       "      <td>CUS_0xfbd</td>\n",
       "      <td>19.62</td>\n",
       "    </tr>\n",
       "    <tr>\n",
       "      <th>7</th>\n",
       "      <td>CUS_0xfbd</td>\n",
       "      <td>25.62</td>\n",
       "    </tr>\n",
       "  </tbody>\n",
       "</table>\n",
       "</div>"
      ],
      "text/plain": [
       "  customer_id changed_credit_limit\n",
       "0   CUS_0xfbd                19.62\n",
       "1   CUS_0xfbd                    _\n",
       "2   CUS_0xfbd                19.62\n",
       "3   CUS_0xfbd                19.62\n",
       "4   CUS_0xfbd                14.62\n",
       "5   CUS_0xfbd                    _\n",
       "6   CUS_0xfbd                19.62\n",
       "7   CUS_0xfbd                25.62"
      ]
     },
     "execution_count": 126,
     "metadata": {},
     "output_type": "execute_result"
    }
   ],
   "source": [
    "df[df.customer_id == \"CUS_0xfbd\"][['customer_id', 'changed_credit_limit']]"
   ]
  },
  {
   "cell_type": "markdown",
   "id": "c488c5f9-8d0b-4f38-86d8-9af172640b42",
   "metadata": {},
   "source": [
    "Once again we swap _ with NaNs and fill NaNs with most popular value for the customer"
   ]
  },
  {
   "cell_type": "code",
   "execution_count": 127,
   "id": "4aaab111-994b-474d-937f-bf06bcaee697",
   "metadata": {},
   "outputs": [],
   "source": [
    "df.loc[df.changed_credit_limit == '_', 'changed_credit_limit'] = np.nan"
   ]
  },
  {
   "cell_type": "code",
   "execution_count": 128,
   "id": "a3ff3e81-7900-4af8-b29a-0efc009f04e5",
   "metadata": {},
   "outputs": [],
   "source": [
    "df.changed_credit_limit = np.float64(df.changed_credit_limit)"
   ]
  },
  {
   "cell_type": "code",
   "execution_count": 129,
   "id": "71585980-cace-44b7-a885-6a770644ad6c",
   "metadata": {},
   "outputs": [],
   "source": [
    "df.changed_credit_limit = df.groupby('customer_id')['changed_credit_limit'].transform(lambda x: x.fillna(x.mode().iloc[0]))"
   ]
  },
  {
   "cell_type": "code",
   "execution_count": 130,
   "id": "c41dd0fb-02cd-4270-a642-f738fb8ba41a",
   "metadata": {},
   "outputs": [
    {
     "data": {
      "text/html": [
       "<div>\n",
       "<style scoped>\n",
       "    .dataframe tbody tr th:only-of-type {\n",
       "        vertical-align: middle;\n",
       "    }\n",
       "\n",
       "    .dataframe tbody tr th {\n",
       "        vertical-align: top;\n",
       "    }\n",
       "\n",
       "    .dataframe thead th {\n",
       "        text-align: right;\n",
       "    }\n",
       "</style>\n",
       "<table border=\"1\" class=\"dataframe\">\n",
       "  <thead>\n",
       "    <tr style=\"text-align: right;\">\n",
       "      <th></th>\n",
       "      <th>customer_id</th>\n",
       "      <th>changed_credit_limit</th>\n",
       "    </tr>\n",
       "  </thead>\n",
       "  <tbody>\n",
       "    <tr>\n",
       "      <th>0</th>\n",
       "      <td>CUS_0xfbd</td>\n",
       "      <td>19.62</td>\n",
       "    </tr>\n",
       "    <tr>\n",
       "      <th>1</th>\n",
       "      <td>CUS_0xfbd</td>\n",
       "      <td>19.62</td>\n",
       "    </tr>\n",
       "    <tr>\n",
       "      <th>2</th>\n",
       "      <td>CUS_0xfbd</td>\n",
       "      <td>19.62</td>\n",
       "    </tr>\n",
       "    <tr>\n",
       "      <th>3</th>\n",
       "      <td>CUS_0xfbd</td>\n",
       "      <td>19.62</td>\n",
       "    </tr>\n",
       "    <tr>\n",
       "      <th>4</th>\n",
       "      <td>CUS_0xfbd</td>\n",
       "      <td>14.62</td>\n",
       "    </tr>\n",
       "    <tr>\n",
       "      <th>5</th>\n",
       "      <td>CUS_0xfbd</td>\n",
       "      <td>19.62</td>\n",
       "    </tr>\n",
       "    <tr>\n",
       "      <th>6</th>\n",
       "      <td>CUS_0xfbd</td>\n",
       "      <td>19.62</td>\n",
       "    </tr>\n",
       "    <tr>\n",
       "      <th>7</th>\n",
       "      <td>CUS_0xfbd</td>\n",
       "      <td>25.62</td>\n",
       "    </tr>\n",
       "  </tbody>\n",
       "</table>\n",
       "</div>"
      ],
      "text/plain": [
       "  customer_id  changed_credit_limit\n",
       "0   CUS_0xfbd                 19.62\n",
       "1   CUS_0xfbd                 19.62\n",
       "2   CUS_0xfbd                 19.62\n",
       "3   CUS_0xfbd                 19.62\n",
       "4   CUS_0xfbd                 14.62\n",
       "5   CUS_0xfbd                 19.62\n",
       "6   CUS_0xfbd                 19.62\n",
       "7   CUS_0xfbd                 25.62"
      ]
     },
     "execution_count": 130,
     "metadata": {},
     "output_type": "execute_result"
    }
   ],
   "source": [
    "df[df.customer_id == \"CUS_0xfbd\"][['customer_id', 'changed_credit_limit']]"
   ]
  },
  {
   "cell_type": "markdown",
   "id": "471505b9-1025-45ad-91fb-1330fdf94bcd",
   "metadata": {},
   "source": [
    "## outstanding_debt\n",
    "Represents the remaining debt to be paid (in USD)"
   ]
  },
  {
   "cell_type": "code",
   "execution_count": 131,
   "id": "7f7c50f4-3850-4517-be00-643cfcf7bac8",
   "metadata": {},
   "outputs": [
    {
     "data": {
      "text/plain": [
       "array(['1562.91', '202.68', '202.68_', '1030.2', '473.14', '1233.51',\n",
       "       '340.22', '340.22_', '2773.09', '849.69', '648.36', '869.59',\n",
       "       '1852.86', '665.82', '568.21', '706.96', '4913.15', '154.96',\n",
       "       '1835.67', '1122.46'], dtype=object)"
      ]
     },
     "execution_count": 131,
     "metadata": {},
     "output_type": "execute_result"
    }
   ],
   "source": [
    "df.outstanding_debt.unique()[:20]"
   ]
  },
  {
   "cell_type": "markdown",
   "id": "9e74df41-e917-4804-93ba-072c8d5f8847",
   "metadata": {},
   "source": [
    "Let's turn this into numerical column with our special function"
   ]
  },
  {
   "cell_type": "code",
   "execution_count": 132,
   "id": "c5e5a33d-c2f2-421d-a546-c4058d849c69",
   "metadata": {},
   "outputs": [
    {
     "data": {
      "text/plain": [
       "dtype('float64')"
      ]
     },
     "execution_count": 132,
     "metadata": {},
     "output_type": "execute_result"
    }
   ],
   "source": [
    "df['outstanding_debt'] = df['outstanding_debt'].apply(custom_to_numeric)\n",
    "df['outstanding_debt'].dtype"
   ]
  },
  {
   "cell_type": "markdown",
   "id": "959f6af0-aa26-4eee-9d93-a6bc16d737b8",
   "metadata": {},
   "source": [
    "## payment_behaviour\n",
    "Represents the payment behavior of the customer (in USD)"
   ]
  },
  {
   "cell_type": "code",
   "execution_count": 133,
   "id": "4c25c90a-87c4-4384-92d2-61a1e70595da",
   "metadata": {},
   "outputs": [
    {
     "data": {
      "text/plain": [
       "array(['Low_spent_Large_value_payments',\n",
       "       'High_spent_Small_value_payments',\n",
       "       'High_spent_Medium_value_payments', '!@9#%8',\n",
       "       'Low_spent_Small_value_payments',\n",
       "       'Low_spent_Medium_value_payments',\n",
       "       'High_spent_Large_value_payments'], dtype=object)"
      ]
     },
     "execution_count": 133,
     "metadata": {},
     "output_type": "execute_result"
    }
   ],
   "source": [
    "df.payment_behaviour.unique()[:20]"
   ]
  },
  {
   "cell_type": "code",
   "execution_count": 134,
   "id": "9829b7b6-4b62-433d-b591-29b85c0d6c78",
   "metadata": {},
   "outputs": [
    {
     "data": {
      "text/html": [
       "<div>\n",
       "<style scoped>\n",
       "    .dataframe tbody tr th:only-of-type {\n",
       "        vertical-align: middle;\n",
       "    }\n",
       "\n",
       "    .dataframe tbody tr th {\n",
       "        vertical-align: top;\n",
       "    }\n",
       "\n",
       "    .dataframe thead th {\n",
       "        text-align: right;\n",
       "    }\n",
       "</style>\n",
       "<table border=\"1\" class=\"dataframe\">\n",
       "  <thead>\n",
       "    <tr style=\"text-align: right;\">\n",
       "      <th></th>\n",
       "      <th>customer_id</th>\n",
       "      <th>payment_behaviour</th>\n",
       "    </tr>\n",
       "  </thead>\n",
       "  <tbody>\n",
       "    <tr>\n",
       "      <th>3</th>\n",
       "      <td>CUS_0x1000</td>\n",
       "      <td>!@9#%8</td>\n",
       "    </tr>\n",
       "    <tr>\n",
       "      <th>5</th>\n",
       "      <td>CUS_0x1009</td>\n",
       "      <td>!@9#%8</td>\n",
       "    </tr>\n",
       "    <tr>\n",
       "      <th>2</th>\n",
       "      <td>CUS_0x1013</td>\n",
       "      <td>!@9#%8</td>\n",
       "    </tr>\n",
       "    <tr>\n",
       "      <th>6</th>\n",
       "      <td>CUS_0x1015</td>\n",
       "      <td>!@9#%8</td>\n",
       "    </tr>\n",
       "    <tr>\n",
       "      <th>2</th>\n",
       "      <td>CUS_0x1018</td>\n",
       "      <td>!@9#%8</td>\n",
       "    </tr>\n",
       "    <tr>\n",
       "      <th>...</th>\n",
       "      <td>...</td>\n",
       "      <td>...</td>\n",
       "    </tr>\n",
       "    <tr>\n",
       "      <th>5</th>\n",
       "      <td>CUS_0xfd1</td>\n",
       "      <td>!@9#%8</td>\n",
       "    </tr>\n",
       "    <tr>\n",
       "      <th>3</th>\n",
       "      <td>CUS_0xfdd</td>\n",
       "      <td>!@9#%8</td>\n",
       "    </tr>\n",
       "    <tr>\n",
       "      <th>1</th>\n",
       "      <td>CUS_0xfe4</td>\n",
       "      <td>!@9#%8</td>\n",
       "    </tr>\n",
       "    <tr>\n",
       "      <th>2</th>\n",
       "      <td>CUS_0xff6</td>\n",
       "      <td>!@9#%8</td>\n",
       "    </tr>\n",
       "    <tr>\n",
       "      <th>3</th>\n",
       "      <td>CUS_0xffd</td>\n",
       "      <td>!@9#%8</td>\n",
       "    </tr>\n",
       "  </tbody>\n",
       "</table>\n",
       "<p>7600 rows × 2 columns</p>\n",
       "</div>"
      ],
      "text/plain": [
       "   customer_id payment_behaviour\n",
       "3   CUS_0x1000            !@9#%8\n",
       "5   CUS_0x1009            !@9#%8\n",
       "2   CUS_0x1013            !@9#%8\n",
       "6   CUS_0x1015            !@9#%8\n",
       "2   CUS_0x1018            !@9#%8\n",
       "..         ...               ...\n",
       "5    CUS_0xfd1            !@9#%8\n",
       "3    CUS_0xfdd            !@9#%8\n",
       "1    CUS_0xfe4            !@9#%8\n",
       "2    CUS_0xff6            !@9#%8\n",
       "3    CUS_0xffd            !@9#%8\n",
       "\n",
       "[7600 rows x 2 columns]"
      ]
     },
     "execution_count": 134,
     "metadata": {},
     "output_type": "execute_result"
    }
   ],
   "source": [
    "df[df.payment_behaviour == '!@9#%8'][['customer_id', 'payment_behaviour']].sort_values('customer_id')"
   ]
  },
  {
   "cell_type": "code",
   "execution_count": 135,
   "id": "0db50305-3ace-4887-979d-ee71a4baf394",
   "metadata": {},
   "outputs": [
    {
     "data": {
      "text/html": [
       "<div>\n",
       "<style scoped>\n",
       "    .dataframe tbody tr th:only-of-type {\n",
       "        vertical-align: middle;\n",
       "    }\n",
       "\n",
       "    .dataframe tbody tr th {\n",
       "        vertical-align: top;\n",
       "    }\n",
       "\n",
       "    .dataframe thead th {\n",
       "        text-align: right;\n",
       "    }\n",
       "</style>\n",
       "<table border=\"1\" class=\"dataframe\">\n",
       "  <thead>\n",
       "    <tr style=\"text-align: right;\">\n",
       "      <th></th>\n",
       "      <th>customer_id</th>\n",
       "      <th>payment_behaviour</th>\n",
       "    </tr>\n",
       "  </thead>\n",
       "  <tbody>\n",
       "    <tr>\n",
       "      <th>0</th>\n",
       "      <td>CUS_0x1009</td>\n",
       "      <td>Low_spent_Medium_value_payments</td>\n",
       "    </tr>\n",
       "    <tr>\n",
       "      <th>1</th>\n",
       "      <td>CUS_0x1009</td>\n",
       "      <td>High_spent_Medium_value_payments</td>\n",
       "    </tr>\n",
       "    <tr>\n",
       "      <th>2</th>\n",
       "      <td>CUS_0x1009</td>\n",
       "      <td>High_spent_Medium_value_payments</td>\n",
       "    </tr>\n",
       "    <tr>\n",
       "      <th>3</th>\n",
       "      <td>CUS_0x1009</td>\n",
       "      <td>High_spent_Small_value_payments</td>\n",
       "    </tr>\n",
       "    <tr>\n",
       "      <th>4</th>\n",
       "      <td>CUS_0x1009</td>\n",
       "      <td>High_spent_Medium_value_payments</td>\n",
       "    </tr>\n",
       "    <tr>\n",
       "      <th>5</th>\n",
       "      <td>CUS_0x1009</td>\n",
       "      <td>!@9#%8</td>\n",
       "    </tr>\n",
       "    <tr>\n",
       "      <th>6</th>\n",
       "      <td>CUS_0x1009</td>\n",
       "      <td>High_spent_Medium_value_payments</td>\n",
       "    </tr>\n",
       "    <tr>\n",
       "      <th>7</th>\n",
       "      <td>CUS_0x1009</td>\n",
       "      <td>High_spent_Medium_value_payments</td>\n",
       "    </tr>\n",
       "  </tbody>\n",
       "</table>\n",
       "</div>"
      ],
      "text/plain": [
       "  customer_id                 payment_behaviour\n",
       "0  CUS_0x1009   Low_spent_Medium_value_payments\n",
       "1  CUS_0x1009  High_spent_Medium_value_payments\n",
       "2  CUS_0x1009  High_spent_Medium_value_payments\n",
       "3  CUS_0x1009   High_spent_Small_value_payments\n",
       "4  CUS_0x1009  High_spent_Medium_value_payments\n",
       "5  CUS_0x1009                            !@9#%8\n",
       "6  CUS_0x1009  High_spent_Medium_value_payments\n",
       "7  CUS_0x1009  High_spent_Medium_value_payments"
      ]
     },
     "execution_count": 135,
     "metadata": {},
     "output_type": "execute_result"
    }
   ],
   "source": [
    "df[df.customer_id == 'CUS_0x1009'][['customer_id', 'payment_behaviour']]"
   ]
  },
  {
   "cell_type": "markdown",
   "id": "fb0ba942-2f23-4c0a-b6d7-ebb2acd8508d",
   "metadata": {},
   "source": [
    "Let's delete weird value !@9#%8 and swap it for most popular one for client "
   ]
  },
  {
   "cell_type": "code",
   "execution_count": 136,
   "id": "746139ea-07af-4550-9817-eab99f9fccb0",
   "metadata": {},
   "outputs": [],
   "source": [
    "df.loc[df.payment_behaviour == '!@9#%8', 'payment_behaviour'] = np.nan"
   ]
  },
  {
   "cell_type": "code",
   "execution_count": 137,
   "id": "6263af4f-6882-4f49-9939-62f61757254a",
   "metadata": {},
   "outputs": [],
   "source": [
    "df.payment_behaviour = df.groupby('customer_id')['payment_behaviour'].transform(lambda x: x.fillna(x.mode().iloc[0]))"
   ]
  },
  {
   "cell_type": "code",
   "execution_count": 138,
   "id": "9a955811-ef34-4182-a42c-505d5410eb41",
   "metadata": {},
   "outputs": [
    {
     "data": {
      "text/html": [
       "<div>\n",
       "<style scoped>\n",
       "    .dataframe tbody tr th:only-of-type {\n",
       "        vertical-align: middle;\n",
       "    }\n",
       "\n",
       "    .dataframe tbody tr th {\n",
       "        vertical-align: top;\n",
       "    }\n",
       "\n",
       "    .dataframe thead th {\n",
       "        text-align: right;\n",
       "    }\n",
       "</style>\n",
       "<table border=\"1\" class=\"dataframe\">\n",
       "  <thead>\n",
       "    <tr style=\"text-align: right;\">\n",
       "      <th></th>\n",
       "      <th>customer_id</th>\n",
       "      <th>payment_behaviour</th>\n",
       "    </tr>\n",
       "  </thead>\n",
       "  <tbody>\n",
       "    <tr>\n",
       "      <th>0</th>\n",
       "      <td>CUS_0x1009</td>\n",
       "      <td>Low_spent_Medium_value_payments</td>\n",
       "    </tr>\n",
       "    <tr>\n",
       "      <th>1</th>\n",
       "      <td>CUS_0x1009</td>\n",
       "      <td>High_spent_Medium_value_payments</td>\n",
       "    </tr>\n",
       "    <tr>\n",
       "      <th>2</th>\n",
       "      <td>CUS_0x1009</td>\n",
       "      <td>High_spent_Medium_value_payments</td>\n",
       "    </tr>\n",
       "    <tr>\n",
       "      <th>3</th>\n",
       "      <td>CUS_0x1009</td>\n",
       "      <td>High_spent_Small_value_payments</td>\n",
       "    </tr>\n",
       "    <tr>\n",
       "      <th>4</th>\n",
       "      <td>CUS_0x1009</td>\n",
       "      <td>High_spent_Medium_value_payments</td>\n",
       "    </tr>\n",
       "    <tr>\n",
       "      <th>5</th>\n",
       "      <td>CUS_0x1009</td>\n",
       "      <td>High_spent_Medium_value_payments</td>\n",
       "    </tr>\n",
       "    <tr>\n",
       "      <th>6</th>\n",
       "      <td>CUS_0x1009</td>\n",
       "      <td>High_spent_Medium_value_payments</td>\n",
       "    </tr>\n",
       "    <tr>\n",
       "      <th>7</th>\n",
       "      <td>CUS_0x1009</td>\n",
       "      <td>High_spent_Medium_value_payments</td>\n",
       "    </tr>\n",
       "  </tbody>\n",
       "</table>\n",
       "</div>"
      ],
      "text/plain": [
       "  customer_id                 payment_behaviour\n",
       "0  CUS_0x1009   Low_spent_Medium_value_payments\n",
       "1  CUS_0x1009  High_spent_Medium_value_payments\n",
       "2  CUS_0x1009  High_spent_Medium_value_payments\n",
       "3  CUS_0x1009   High_spent_Small_value_payments\n",
       "4  CUS_0x1009  High_spent_Medium_value_payments\n",
       "5  CUS_0x1009  High_spent_Medium_value_payments\n",
       "6  CUS_0x1009  High_spent_Medium_value_payments\n",
       "7  CUS_0x1009  High_spent_Medium_value_payments"
      ]
     },
     "execution_count": 138,
     "metadata": {},
     "output_type": "execute_result"
    }
   ],
   "source": [
    "df[df.customer_id == 'CUS_0x1009'][['customer_id', 'payment_behaviour']]"
   ]
  },
  {
   "cell_type": "code",
   "execution_count": 139,
   "id": "d1ca9c37-55d6-443c-abad-91b2ef407ca4",
   "metadata": {},
   "outputs": [
    {
     "data": {
      "text/plain": [
       "array(['Low_spent_Large_value_payments',\n",
       "       'High_spent_Small_value_payments',\n",
       "       'High_spent_Medium_value_payments',\n",
       "       'Low_spent_Small_value_payments',\n",
       "       'Low_spent_Medium_value_payments',\n",
       "       'High_spent_Large_value_payments'], dtype=object)"
      ]
     },
     "execution_count": 139,
     "metadata": {},
     "output_type": "execute_result"
    }
   ],
   "source": [
    "df.payment_behaviour.unique()[:20]"
   ]
  },
  {
   "cell_type": "markdown",
   "id": "c3fb3fec-13c8-497a-9e9d-737254b731cb",
   "metadata": {},
   "source": [
    "## I think this finishes the part  of EDA and we can start features engeneering "
   ]
  },
  {
   "cell_type": "markdown",
   "id": "d79de179-7385-467f-9f0b-206323f9514f",
   "metadata": {},
   "source": [
    "# Features engeneering"
   ]
  },
  {
   "cell_type": "code",
   "execution_count": 482,
   "id": "0e179c75-9f09-4dbc-a0bf-8ba2ffa06be9",
   "metadata": {},
   "outputs": [],
   "source": [
    "features_df = deepcopy(df)"
   ]
  },
  {
   "cell_type": "code",
   "execution_count": 483,
   "id": "fc732893-f4fa-43d9-974d-6af8bcf8b380",
   "metadata": {},
   "outputs": [
    {
     "data": {
      "text/html": [
       "<div>\n",
       "<style scoped>\n",
       "    .dataframe tbody tr th:only-of-type {\n",
       "        vertical-align: middle;\n",
       "    }\n",
       "\n",
       "    .dataframe tbody tr th {\n",
       "        vertical-align: top;\n",
       "    }\n",
       "\n",
       "    .dataframe thead th {\n",
       "        text-align: right;\n",
       "    }\n",
       "</style>\n",
       "<table border=\"1\" class=\"dataframe\">\n",
       "  <thead>\n",
       "    <tr style=\"text-align: right;\">\n",
       "      <th></th>\n",
       "      <th>id</th>\n",
       "      <th>customer_id</th>\n",
       "      <th>month</th>\n",
       "      <th>name</th>\n",
       "      <th>age</th>\n",
       "      <th>ssn</th>\n",
       "      <th>occupation</th>\n",
       "      <th>annual_income</th>\n",
       "      <th>monthly_inhand_salary</th>\n",
       "      <th>num_bank_accounts</th>\n",
       "      <th>...</th>\n",
       "      <th>loan_type_home_equity_loan</th>\n",
       "      <th>loan_type_mortgage_loan</th>\n",
       "      <th>loan_type_debt_consolidation_loan</th>\n",
       "      <th>loan_type_personal_loan</th>\n",
       "      <th>loan_type_credit-builder_loan</th>\n",
       "      <th>loan_type_payday_loan</th>\n",
       "      <th>loan_type_not_specified</th>\n",
       "      <th>loan_type_auto_loan</th>\n",
       "      <th>loan_type_student_loan</th>\n",
       "      <th>ssn_area</th>\n",
       "    </tr>\n",
       "  </thead>\n",
       "  <tbody>\n",
       "    <tr>\n",
       "      <th>0</th>\n",
       "      <td>0x1628a</td>\n",
       "      <td>CUS_0x1000</td>\n",
       "      <td>January</td>\n",
       "      <td>Alistair Barrf</td>\n",
       "      <td>17.0</td>\n",
       "      <td>913-74-1218</td>\n",
       "      <td>Lawyer</td>\n",
       "      <td>30625.94</td>\n",
       "      <td>2706.161667</td>\n",
       "      <td>6</td>\n",
       "      <td>...</td>\n",
       "      <td>1</td>\n",
       "      <td>0</td>\n",
       "      <td>0</td>\n",
       "      <td>0</td>\n",
       "      <td>1</td>\n",
       "      <td>0</td>\n",
       "      <td>0</td>\n",
       "      <td>0</td>\n",
       "      <td>0</td>\n",
       "      <td>913</td>\n",
       "    </tr>\n",
       "    <tr>\n",
       "      <th>1</th>\n",
       "      <td>0x1628b</td>\n",
       "      <td>CUS_0x1000</td>\n",
       "      <td>February</td>\n",
       "      <td>Alistair Barrf</td>\n",
       "      <td>17.0</td>\n",
       "      <td>913-74-1218</td>\n",
       "      <td>Lawyer</td>\n",
       "      <td>30625.94</td>\n",
       "      <td>2552.161667</td>\n",
       "      <td>6</td>\n",
       "      <td>...</td>\n",
       "      <td>1</td>\n",
       "      <td>0</td>\n",
       "      <td>0</td>\n",
       "      <td>0</td>\n",
       "      <td>1</td>\n",
       "      <td>0</td>\n",
       "      <td>0</td>\n",
       "      <td>0</td>\n",
       "      <td>0</td>\n",
       "      <td>913</td>\n",
       "    </tr>\n",
       "    <tr>\n",
       "      <th>2</th>\n",
       "      <td>0x1628c</td>\n",
       "      <td>CUS_0x1000</td>\n",
       "      <td>March</td>\n",
       "      <td>Alistair Barrf</td>\n",
       "      <td>17.0</td>\n",
       "      <td>913-74-1218</td>\n",
       "      <td>Lawyer</td>\n",
       "      <td>30625.94</td>\n",
       "      <td>2706.161667</td>\n",
       "      <td>6</td>\n",
       "      <td>...</td>\n",
       "      <td>1</td>\n",
       "      <td>0</td>\n",
       "      <td>0</td>\n",
       "      <td>0</td>\n",
       "      <td>1</td>\n",
       "      <td>0</td>\n",
       "      <td>0</td>\n",
       "      <td>0</td>\n",
       "      <td>0</td>\n",
       "      <td>913</td>\n",
       "    </tr>\n",
       "    <tr>\n",
       "      <th>3</th>\n",
       "      <td>0x1628d</td>\n",
       "      <td>CUS_0x1000</td>\n",
       "      <td>April</td>\n",
       "      <td>Alistair Barrf</td>\n",
       "      <td>17.0</td>\n",
       "      <td>913-74-1218</td>\n",
       "      <td>Lawyer</td>\n",
       "      <td>30625.94</td>\n",
       "      <td>2706.161667</td>\n",
       "      <td>6</td>\n",
       "      <td>...</td>\n",
       "      <td>1</td>\n",
       "      <td>0</td>\n",
       "      <td>0</td>\n",
       "      <td>0</td>\n",
       "      <td>1</td>\n",
       "      <td>0</td>\n",
       "      <td>0</td>\n",
       "      <td>0</td>\n",
       "      <td>0</td>\n",
       "      <td>913</td>\n",
       "    </tr>\n",
       "    <tr>\n",
       "      <th>4</th>\n",
       "      <td>0x1628e</td>\n",
       "      <td>CUS_0x1000</td>\n",
       "      <td>May</td>\n",
       "      <td>Alistair Barrf</td>\n",
       "      <td>17.0</td>\n",
       "      <td>913-74-1218</td>\n",
       "      <td>Lawyer</td>\n",
       "      <td>30625.94</td>\n",
       "      <td>2706.161667</td>\n",
       "      <td>6</td>\n",
       "      <td>...</td>\n",
       "      <td>1</td>\n",
       "      <td>0</td>\n",
       "      <td>0</td>\n",
       "      <td>0</td>\n",
       "      <td>1</td>\n",
       "      <td>0</td>\n",
       "      <td>0</td>\n",
       "      <td>0</td>\n",
       "      <td>0</td>\n",
       "      <td>913</td>\n",
       "    </tr>\n",
       "  </tbody>\n",
       "</table>\n",
       "<p>5 rows × 39 columns</p>\n",
       "</div>"
      ],
      "text/plain": [
       "        id customer_id     month            name   age          ssn  \\\n",
       "0  0x1628a  CUS_0x1000   January  Alistair Barrf  17.0  913-74-1218   \n",
       "1  0x1628b  CUS_0x1000  February  Alistair Barrf  17.0  913-74-1218   \n",
       "2  0x1628c  CUS_0x1000     March  Alistair Barrf  17.0  913-74-1218   \n",
       "3  0x1628d  CUS_0x1000     April  Alistair Barrf  17.0  913-74-1218   \n",
       "4  0x1628e  CUS_0x1000       May  Alistair Barrf  17.0  913-74-1218   \n",
       "\n",
       "  occupation  annual_income  monthly_inhand_salary  num_bank_accounts  ...  \\\n",
       "0     Lawyer       30625.94            2706.161667                  6  ...   \n",
       "1     Lawyer       30625.94            2552.161667                  6  ...   \n",
       "2     Lawyer       30625.94            2706.161667                  6  ...   \n",
       "3     Lawyer       30625.94            2706.161667                  6  ...   \n",
       "4     Lawyer       30625.94            2706.161667                  6  ...   \n",
       "\n",
       "   loan_type_home_equity_loan  loan_type_mortgage_loan  \\\n",
       "0                           1                        0   \n",
       "1                           1                        0   \n",
       "2                           1                        0   \n",
       "3                           1                        0   \n",
       "4                           1                        0   \n",
       "\n",
       "   loan_type_debt_consolidation_loan loan_type_personal_loan  \\\n",
       "0                                  0                       0   \n",
       "1                                  0                       0   \n",
       "2                                  0                       0   \n",
       "3                                  0                       0   \n",
       "4                                  0                       0   \n",
       "\n",
       "   loan_type_credit-builder_loan  loan_type_payday_loan  \\\n",
       "0                              1                      0   \n",
       "1                              1                      0   \n",
       "2                              1                      0   \n",
       "3                              1                      0   \n",
       "4                              1                      0   \n",
       "\n",
       "   loan_type_not_specified  loan_type_auto_loan loan_type_student_loan  \\\n",
       "0                        0                    0                      0   \n",
       "1                        0                    0                      0   \n",
       "2                        0                    0                      0   \n",
       "3                        0                    0                      0   \n",
       "4                        0                    0                      0   \n",
       "\n",
       "   ssn_area  \n",
       "0       913  \n",
       "1       913  \n",
       "2       913  \n",
       "3       913  \n",
       "4       913  \n",
       "\n",
       "[5 rows x 39 columns]"
      ]
     },
     "execution_count": 483,
     "metadata": {},
     "output_type": "execute_result"
    }
   ],
   "source": [
    "features_df.head()"
   ]
  },
  {
   "cell_type": "markdown",
   "id": "f936021e-33af-4be4-b80b-d616ea7d1072",
   "metadata": {},
   "source": [
    "Let's drop some customer specific or row specific features:\n",
    "1. id\n",
    "2. customer_id\n",
    "3. ssn\n",
    "5. name\n",
    "6. type_of_loan"
   ]
  },
  {
   "cell_type": "code",
   "execution_count": 484,
   "id": "57a9e33a-68b5-41ea-b070-7522f5e3ce22",
   "metadata": {},
   "outputs": [],
   "source": [
    "del features_df['id']\n",
    "del features_df['customer_id']\n",
    "del features_df['ssn']\n",
    "del features_df['name']\n",
    "del features_df['type_of_loan']"
   ]
  },
  {
   "cell_type": "markdown",
   "id": "dae8e795-e36c-454e-80e7-29285f0fdb21",
   "metadata": {},
   "source": [
    "## Mutual information of categorical features\n",
    "Let's check mutual information of the rest of categorical features"
   ]
  },
  {
   "cell_type": "code",
   "execution_count": 477,
   "id": "3427791d-4a01-477b-af7f-7c7c6cc5e691",
   "metadata": {},
   "outputs": [],
   "source": [
    "from sklearn.metrics import mutual_info_score"
   ]
  },
  {
   "cell_type": "code",
   "execution_count": 478,
   "id": "f8573f48-902c-405c-b9e3-f0637c923808",
   "metadata": {},
   "outputs": [
    {
     "data": {
      "text/plain": [
       "month                    object\n",
       "occupation               object\n",
       "credit_mix               object\n",
       "payment_of_min_amount    object\n",
       "payment_behaviour        object\n",
       "credit_score             object\n",
       "ssn_area                 object\n",
       "dtype: object"
      ]
     },
     "execution_count": 478,
     "metadata": {},
     "output_type": "execute_result"
    }
   ],
   "source": [
    "features_df.dtypes[features_df.dtypes == 'object']"
   ]
  },
  {
   "cell_type": "code",
   "execution_count": 480,
   "id": "8dc12357-f74a-42da-9acc-bfded44690ea",
   "metadata": {},
   "outputs": [
    {
     "data": {
      "text/plain": [
       "['month',\n",
       " 'occupation',\n",
       " 'credit_mix',\n",
       " 'payment_of_min_amount',\n",
       " 'payment_behaviour',\n",
       " 'credit_score',\n",
       " 'ssn_area']"
      ]
     },
     "execution_count": 480,
     "metadata": {},
     "output_type": "execute_result"
    }
   ],
   "source": [
    "categorical_columns = list(features_df.dtypes[features_df.dtypes == 'object'].index)\n",
    "categorical_columns"
   ]
  },
  {
   "cell_type": "code",
   "execution_count": null,
   "id": "bb7f55c2-bc3d-4691-9cbe-cfdf9f61e753",
   "metadata": {},
   "outputs": [],
   "source": [
    "for column_name in categorical_columns:\n",
    "    mutual_info_score(df_full_train[column_name], df_full_train.credit_score)"
   ]
  },
  {
   "cell_type": "markdown",
   "id": "92822af9-cbc4-474e-bba8-f19f45af6125",
   "metadata": {},
   "source": [
    "Let's drop some features:\n",
    "1. id\n",
    "2. customer_id\n",
    "3. month\n",
    "4. name\n",
    "5. ssn\n",
    "6. type_of_loan\n",
    "7. ssn_area"
   ]
  },
  {
   "cell_type": "code",
   "execution_count": 322,
   "id": "deb25c01-6965-4584-a126-379ebdb03d29",
   "metadata": {},
   "outputs": [],
   "source": [
    "del features_df['id']\n",
    "del features_df['customer_id']\n",
    "del features_df['month']\n",
    "del features_df['name']\n",
    "del features_df['ssn']\n",
    "del features_df['type_of_loan']\n",
    "del features_df['ssn_area']"
   ]
  },
  {
   "cell_type": "code",
   "execution_count": 323,
   "id": "7adb5907-6775-47ee-9b37-c9f90c916786",
   "metadata": {},
   "outputs": [],
   "source": [
    "# features_df['good'] = features_df['credit_score'].map({'Good': 1, 'Poor': 0, 'Standard': 0})\n",
    "# features_df['standard'] = features_df['credit_score'].map({'Good': 0, 'Poor': 0, 'Standard': 1})\n",
    "# features_df['poor'] = features_df['credit_score'].map({'Good': 0, 'Poor': 1, 'Standard': 0})"
   ]
  },
  {
   "cell_type": "code",
   "execution_count": 324,
   "id": "c61c5229-184b-4f97-bfbb-20a0bdba93bc",
   "metadata": {},
   "outputs": [],
   "source": [
    "# numerical_features = features_df.dtypes[features_df.dtypes != 'object'].index.values\n",
    "# numerical_features"
   ]
  },
  {
   "cell_type": "code",
   "execution_count": 325,
   "id": "f12c344b-075a-4bf2-9a59-820d4743e8ad",
   "metadata": {},
   "outputs": [],
   "source": [
    "# features_df[numerical_features].corr()[['good','standard', 'poor']].sort_values('good')"
   ]
  },
  {
   "cell_type": "markdown",
   "id": "1c681324-2e4e-4c66-b419-2147d395288b",
   "metadata": {
    "jp-MarkdownHeadingCollapsed": true
   },
   "source": [
    "## Train test split"
   ]
  },
  {
   "cell_type": "code",
   "execution_count": 326,
   "id": "ef443cef-bfb6-4d93-9e7a-4618ddddf639",
   "metadata": {},
   "outputs": [],
   "source": [
    "from sklearn.model_selection import train_test_split\n",
    "from sklearn.feature_extraction import DictVectorizer\n",
    "\n",
    "df_full_train, df_test = train_test_split(features_df, test_size=0.2, random_state=11)\n",
    "df_train, df_val = train_test_split(df_full_train, test_size=0.25, random_state=11)"
   ]
  },
  {
   "cell_type": "code",
   "execution_count": 327,
   "id": "41ddc32e-3328-4f4c-b403-42e3df2cba21",
   "metadata": {},
   "outputs": [],
   "source": [
    "df_full_train = df_full_train.reset_index(drop=True)\n",
    "df_train = df_train.reset_index(drop=True)\n",
    "df_val = df_val.reset_index(drop=True)\n",
    "df_test = df_test.reset_index(drop=True)"
   ]
  },
  {
   "cell_type": "code",
   "execution_count": 328,
   "id": "6c1171f6-cbcc-4d11-9477-81a4df9ee163",
   "metadata": {},
   "outputs": [],
   "source": [
    "y_full_train = df_full_train.credit_score\n",
    "y_train = df_train.credit_score\n",
    "y_val = df_val.credit_score\n",
    "y_test = df_test.credit_score"
   ]
  },
  {
   "cell_type": "code",
   "execution_count": 329,
   "id": "5227aa38-e557-411f-ac5d-c5d29094b3e5",
   "metadata": {},
   "outputs": [],
   "source": [
    "del df_full_train['credit_score']\n",
    "del df_train['credit_score']\n",
    "del df_val['credit_score']\n",
    "del df_test['credit_score']"
   ]
  },
  {
   "cell_type": "markdown",
   "id": "cb167247-f3d0-4ec7-8bef-ae0daee92f5b",
   "metadata": {},
   "source": [
    "## Features selection"
   ]
  },
  {
   "cell_type": "markdown",
   "id": "9c9b2cf2-01e8-4e70-b523-c27328b751f1",
   "metadata": {},
   "source": [
    "First of all let's see how features we have:"
   ]
  },
  {
   "cell_type": "code",
   "execution_count": 330,
   "id": "82df6cad-cb88-4180-9a27-2ca3e692fceb",
   "metadata": {},
   "outputs": [],
   "source": [
    "full_train_dicts = df_full_train.to_dict(orient='records')\n",
    "train_dicts = df_train.to_dict(orient='records')\n",
    "val_dicts = df_val.to_dict(orient='records')\n",
    "test_dicts = df_test.to_dict(orient='records')"
   ]
  },
  {
   "cell_type": "code",
   "execution_count": 331,
   "id": "823ca579-1d0c-4659-b56d-0acc74baf82a",
   "metadata": {},
   "outputs": [],
   "source": [
    "dv = DictVectorizer(sparse=False)\n",
    "X_train = dv.fit_transform(train_dicts)"
   ]
  },
  {
   "cell_type": "code",
   "execution_count": 332,
   "id": "e50c49db-e3b3-44d7-91bc-5b27ce6874ce",
   "metadata": {},
   "outputs": [
    {
     "data": {
      "text/plain": [
       "['age',\n",
       " 'amount_invested_monthly',\n",
       " 'annual_income',\n",
       " 'changed_credit_limit',\n",
       " 'credit_history_age',\n",
       " 'credit_mix=Bad',\n",
       " 'credit_mix=Good',\n",
       " 'credit_mix=Standard',\n",
       " 'credit_mix=_',\n",
       " 'credit_utilization_ratio',\n",
       " 'delay_from_due_date',\n",
       " 'interest_rate',\n",
       " 'loan_type_auto_loan',\n",
       " 'loan_type_credit-builder_loan',\n",
       " 'loan_type_debt_consolidation_loan',\n",
       " 'loan_type_home_equity_loan',\n",
       " 'loan_type_mortgage_loan',\n",
       " 'loan_type_not_specified',\n",
       " 'loan_type_payday_loan',\n",
       " 'loan_type_personal_loan',\n",
       " 'loan_type_student_loan',\n",
       " 'month_number',\n",
       " 'monthly_balance',\n",
       " 'monthly_inhand_salary',\n",
       " 'num_bank_accounts',\n",
       " 'num_credit_card',\n",
       " 'num_credit_inquiries',\n",
       " 'num_of_delayed_payment',\n",
       " 'num_of_loan',\n",
       " 'occupation=Accountant',\n",
       " 'occupation=Architect',\n",
       " 'occupation=Developer',\n",
       " 'occupation=Doctor',\n",
       " 'occupation=Engineer',\n",
       " 'occupation=Entrepreneur',\n",
       " 'occupation=Journalist',\n",
       " 'occupation=Lawyer',\n",
       " 'occupation=Manager',\n",
       " 'occupation=Mechanic',\n",
       " 'occupation=Media_Manager',\n",
       " 'occupation=Musician',\n",
       " 'occupation=Scientist',\n",
       " 'occupation=Teacher',\n",
       " 'occupation=Writer',\n",
       " 'outstanding_debt',\n",
       " 'payment_behaviour=High_spent_Large_value_payments',\n",
       " 'payment_behaviour=High_spent_Medium_value_payments',\n",
       " 'payment_behaviour=High_spent_Small_value_payments',\n",
       " 'payment_behaviour=Low_spent_Large_value_payments',\n",
       " 'payment_behaviour=Low_spent_Medium_value_payments',\n",
       " 'payment_behaviour=Low_spent_Small_value_payments',\n",
       " 'payment_of_min_amount=NM',\n",
       " 'payment_of_min_amount=No',\n",
       " 'payment_of_min_amount=Yes',\n",
       " 'total_emi_per_month']"
      ]
     },
     "execution_count": 332,
     "metadata": {},
     "output_type": "execute_result"
    }
   ],
   "source": [
    "list(dv.get_feature_names_out())"
   ]
  },
  {
   "cell_type": "markdown",
   "id": "91cd647d-0185-4979-8f12-3b1c8008d019",
   "metadata": {},
   "source": [
    "# Models"
   ]
  },
  {
   "cell_type": "code",
   "execution_count": 333,
   "id": "acc48d90-7304-4c46-aef7-30a9b91c2f95",
   "metadata": {},
   "outputs": [],
   "source": [
    "from sklearn.metrics import mean_squared_error\n",
    "from sklearn.metrics import ConfusionMatrixDisplay"
   ]
  },
  {
   "cell_type": "markdown",
   "id": "a57b50fa-7b13-4523-8963-138d085d369a",
   "metadata": {},
   "source": [
    "## Logistic regression"
   ]
  },
  {
   "cell_type": "code",
   "execution_count": null,
   "id": "c7cad6e2-664a-433c-89ed-3624dcbdd27f",
   "metadata": {},
   "outputs": [],
   "source": []
  },
  {
   "cell_type": "markdown",
   "id": "4f911915-7554-4ee9-aefb-89278d63e4f7",
   "metadata": {},
   "source": [
    "## Decision Tree"
   ]
  },
  {
   "cell_type": "code",
   "execution_count": 334,
   "id": "c1fd10df-2712-40c7-b62e-9f686945ae63",
   "metadata": {},
   "outputs": [],
   "source": [
    "from sklearn.tree import DecisionTreeClassifier"
   ]
  },
  {
   "cell_type": "code",
   "execution_count": 336,
   "id": "fa271ba2-4c75-4354-b048-04286caad26e",
   "metadata": {},
   "outputs": [
    {
     "data": {
      "text/html": [
       "<style>#sk-container-id-6 {\n",
       "  /* Definition of color scheme common for light and dark mode */\n",
       "  --sklearn-color-text: black;\n",
       "  --sklearn-color-line: gray;\n",
       "  /* Definition of color scheme for unfitted estimators */\n",
       "  --sklearn-color-unfitted-level-0: #fff5e6;\n",
       "  --sklearn-color-unfitted-level-1: #f6e4d2;\n",
       "  --sklearn-color-unfitted-level-2: #ffe0b3;\n",
       "  --sklearn-color-unfitted-level-3: chocolate;\n",
       "  /* Definition of color scheme for fitted estimators */\n",
       "  --sklearn-color-fitted-level-0: #f0f8ff;\n",
       "  --sklearn-color-fitted-level-1: #d4ebff;\n",
       "  --sklearn-color-fitted-level-2: #b3dbfd;\n",
       "  --sklearn-color-fitted-level-3: cornflowerblue;\n",
       "\n",
       "  /* Specific color for light theme */\n",
       "  --sklearn-color-text-on-default-background: var(--sg-text-color, var(--theme-code-foreground, var(--jp-content-font-color1, black)));\n",
       "  --sklearn-color-background: var(--sg-background-color, var(--theme-background, var(--jp-layout-color0, white)));\n",
       "  --sklearn-color-border-box: var(--sg-text-color, var(--theme-code-foreground, var(--jp-content-font-color1, black)));\n",
       "  --sklearn-color-icon: #696969;\n",
       "\n",
       "  @media (prefers-color-scheme: dark) {\n",
       "    /* Redefinition of color scheme for dark theme */\n",
       "    --sklearn-color-text-on-default-background: var(--sg-text-color, var(--theme-code-foreground, var(--jp-content-font-color1, white)));\n",
       "    --sklearn-color-background: var(--sg-background-color, var(--theme-background, var(--jp-layout-color0, #111)));\n",
       "    --sklearn-color-border-box: var(--sg-text-color, var(--theme-code-foreground, var(--jp-content-font-color1, white)));\n",
       "    --sklearn-color-icon: #878787;\n",
       "  }\n",
       "}\n",
       "\n",
       "#sk-container-id-6 {\n",
       "  color: var(--sklearn-color-text);\n",
       "}\n",
       "\n",
       "#sk-container-id-6 pre {\n",
       "  padding: 0;\n",
       "}\n",
       "\n",
       "#sk-container-id-6 input.sk-hidden--visually {\n",
       "  border: 0;\n",
       "  clip: rect(1px 1px 1px 1px);\n",
       "  clip: rect(1px, 1px, 1px, 1px);\n",
       "  height: 1px;\n",
       "  margin: -1px;\n",
       "  overflow: hidden;\n",
       "  padding: 0;\n",
       "  position: absolute;\n",
       "  width: 1px;\n",
       "}\n",
       "\n",
       "#sk-container-id-6 div.sk-dashed-wrapped {\n",
       "  border: 1px dashed var(--sklearn-color-line);\n",
       "  margin: 0 0.4em 0.5em 0.4em;\n",
       "  box-sizing: border-box;\n",
       "  padding-bottom: 0.4em;\n",
       "  background-color: var(--sklearn-color-background);\n",
       "}\n",
       "\n",
       "#sk-container-id-6 div.sk-container {\n",
       "  /* jupyter's `normalize.less` sets `[hidden] { display: none; }`\n",
       "     but bootstrap.min.css set `[hidden] { display: none !important; }`\n",
       "     so we also need the `!important` here to be able to override the\n",
       "     default hidden behavior on the sphinx rendered scikit-learn.org.\n",
       "     See: https://github.com/scikit-learn/scikit-learn/issues/21755 */\n",
       "  display: inline-block !important;\n",
       "  position: relative;\n",
       "}\n",
       "\n",
       "#sk-container-id-6 div.sk-text-repr-fallback {\n",
       "  display: none;\n",
       "}\n",
       "\n",
       "div.sk-parallel-item,\n",
       "div.sk-serial,\n",
       "div.sk-item {\n",
       "  /* draw centered vertical line to link estimators */\n",
       "  background-image: linear-gradient(var(--sklearn-color-text-on-default-background), var(--sklearn-color-text-on-default-background));\n",
       "  background-size: 2px 100%;\n",
       "  background-repeat: no-repeat;\n",
       "  background-position: center center;\n",
       "}\n",
       "\n",
       "/* Parallel-specific style estimator block */\n",
       "\n",
       "#sk-container-id-6 div.sk-parallel-item::after {\n",
       "  content: \"\";\n",
       "  width: 100%;\n",
       "  border-bottom: 2px solid var(--sklearn-color-text-on-default-background);\n",
       "  flex-grow: 1;\n",
       "}\n",
       "\n",
       "#sk-container-id-6 div.sk-parallel {\n",
       "  display: flex;\n",
       "  align-items: stretch;\n",
       "  justify-content: center;\n",
       "  background-color: var(--sklearn-color-background);\n",
       "  position: relative;\n",
       "}\n",
       "\n",
       "#sk-container-id-6 div.sk-parallel-item {\n",
       "  display: flex;\n",
       "  flex-direction: column;\n",
       "}\n",
       "\n",
       "#sk-container-id-6 div.sk-parallel-item:first-child::after {\n",
       "  align-self: flex-end;\n",
       "  width: 50%;\n",
       "}\n",
       "\n",
       "#sk-container-id-6 div.sk-parallel-item:last-child::after {\n",
       "  align-self: flex-start;\n",
       "  width: 50%;\n",
       "}\n",
       "\n",
       "#sk-container-id-6 div.sk-parallel-item:only-child::after {\n",
       "  width: 0;\n",
       "}\n",
       "\n",
       "/* Serial-specific style estimator block */\n",
       "\n",
       "#sk-container-id-6 div.sk-serial {\n",
       "  display: flex;\n",
       "  flex-direction: column;\n",
       "  align-items: center;\n",
       "  background-color: var(--sklearn-color-background);\n",
       "  padding-right: 1em;\n",
       "  padding-left: 1em;\n",
       "}\n",
       "\n",
       "\n",
       "/* Toggleable style: style used for estimator/Pipeline/ColumnTransformer box that is\n",
       "clickable and can be expanded/collapsed.\n",
       "- Pipeline and ColumnTransformer use this feature and define the default style\n",
       "- Estimators will overwrite some part of the style using the `sk-estimator` class\n",
       "*/\n",
       "\n",
       "/* Pipeline and ColumnTransformer style (default) */\n",
       "\n",
       "#sk-container-id-6 div.sk-toggleable {\n",
       "  /* Default theme specific background. It is overwritten whether we have a\n",
       "  specific estimator or a Pipeline/ColumnTransformer */\n",
       "  background-color: var(--sklearn-color-background);\n",
       "}\n",
       "\n",
       "/* Toggleable label */\n",
       "#sk-container-id-6 label.sk-toggleable__label {\n",
       "  cursor: pointer;\n",
       "  display: block;\n",
       "  width: 100%;\n",
       "  margin-bottom: 0;\n",
       "  padding: 0.5em;\n",
       "  box-sizing: border-box;\n",
       "  text-align: center;\n",
       "}\n",
       "\n",
       "#sk-container-id-6 label.sk-toggleable__label-arrow:before {\n",
       "  /* Arrow on the left of the label */\n",
       "  content: \"▸\";\n",
       "  float: left;\n",
       "  margin-right: 0.25em;\n",
       "  color: var(--sklearn-color-icon);\n",
       "}\n",
       "\n",
       "#sk-container-id-6 label.sk-toggleable__label-arrow:hover:before {\n",
       "  color: var(--sklearn-color-text);\n",
       "}\n",
       "\n",
       "/* Toggleable content - dropdown */\n",
       "\n",
       "#sk-container-id-6 div.sk-toggleable__content {\n",
       "  max-height: 0;\n",
       "  max-width: 0;\n",
       "  overflow: hidden;\n",
       "  text-align: left;\n",
       "  /* unfitted */\n",
       "  background-color: var(--sklearn-color-unfitted-level-0);\n",
       "}\n",
       "\n",
       "#sk-container-id-6 div.sk-toggleable__content.fitted {\n",
       "  /* fitted */\n",
       "  background-color: var(--sklearn-color-fitted-level-0);\n",
       "}\n",
       "\n",
       "#sk-container-id-6 div.sk-toggleable__content pre {\n",
       "  margin: 0.2em;\n",
       "  border-radius: 0.25em;\n",
       "  color: var(--sklearn-color-text);\n",
       "  /* unfitted */\n",
       "  background-color: var(--sklearn-color-unfitted-level-0);\n",
       "}\n",
       "\n",
       "#sk-container-id-6 div.sk-toggleable__content.fitted pre {\n",
       "  /* unfitted */\n",
       "  background-color: var(--sklearn-color-fitted-level-0);\n",
       "}\n",
       "\n",
       "#sk-container-id-6 input.sk-toggleable__control:checked~div.sk-toggleable__content {\n",
       "  /* Expand drop-down */\n",
       "  max-height: 200px;\n",
       "  max-width: 100%;\n",
       "  overflow: auto;\n",
       "}\n",
       "\n",
       "#sk-container-id-6 input.sk-toggleable__control:checked~label.sk-toggleable__label-arrow:before {\n",
       "  content: \"▾\";\n",
       "}\n",
       "\n",
       "/* Pipeline/ColumnTransformer-specific style */\n",
       "\n",
       "#sk-container-id-6 div.sk-label input.sk-toggleable__control:checked~label.sk-toggleable__label {\n",
       "  color: var(--sklearn-color-text);\n",
       "  background-color: var(--sklearn-color-unfitted-level-2);\n",
       "}\n",
       "\n",
       "#sk-container-id-6 div.sk-label.fitted input.sk-toggleable__control:checked~label.sk-toggleable__label {\n",
       "  background-color: var(--sklearn-color-fitted-level-2);\n",
       "}\n",
       "\n",
       "/* Estimator-specific style */\n",
       "\n",
       "/* Colorize estimator box */\n",
       "#sk-container-id-6 div.sk-estimator input.sk-toggleable__control:checked~label.sk-toggleable__label {\n",
       "  /* unfitted */\n",
       "  background-color: var(--sklearn-color-unfitted-level-2);\n",
       "}\n",
       "\n",
       "#sk-container-id-6 div.sk-estimator.fitted input.sk-toggleable__control:checked~label.sk-toggleable__label {\n",
       "  /* fitted */\n",
       "  background-color: var(--sklearn-color-fitted-level-2);\n",
       "}\n",
       "\n",
       "#sk-container-id-6 div.sk-label label.sk-toggleable__label,\n",
       "#sk-container-id-6 div.sk-label label {\n",
       "  /* The background is the default theme color */\n",
       "  color: var(--sklearn-color-text-on-default-background);\n",
       "}\n",
       "\n",
       "/* On hover, darken the color of the background */\n",
       "#sk-container-id-6 div.sk-label:hover label.sk-toggleable__label {\n",
       "  color: var(--sklearn-color-text);\n",
       "  background-color: var(--sklearn-color-unfitted-level-2);\n",
       "}\n",
       "\n",
       "/* Label box, darken color on hover, fitted */\n",
       "#sk-container-id-6 div.sk-label.fitted:hover label.sk-toggleable__label.fitted {\n",
       "  color: var(--sklearn-color-text);\n",
       "  background-color: var(--sklearn-color-fitted-level-2);\n",
       "}\n",
       "\n",
       "/* Estimator label */\n",
       "\n",
       "#sk-container-id-6 div.sk-label label {\n",
       "  font-family: monospace;\n",
       "  font-weight: bold;\n",
       "  display: inline-block;\n",
       "  line-height: 1.2em;\n",
       "}\n",
       "\n",
       "#sk-container-id-6 div.sk-label-container {\n",
       "  text-align: center;\n",
       "}\n",
       "\n",
       "/* Estimator-specific */\n",
       "#sk-container-id-6 div.sk-estimator {\n",
       "  font-family: monospace;\n",
       "  border: 1px dotted var(--sklearn-color-border-box);\n",
       "  border-radius: 0.25em;\n",
       "  box-sizing: border-box;\n",
       "  margin-bottom: 0.5em;\n",
       "  /* unfitted */\n",
       "  background-color: var(--sklearn-color-unfitted-level-0);\n",
       "}\n",
       "\n",
       "#sk-container-id-6 div.sk-estimator.fitted {\n",
       "  /* fitted */\n",
       "  background-color: var(--sklearn-color-fitted-level-0);\n",
       "}\n",
       "\n",
       "/* on hover */\n",
       "#sk-container-id-6 div.sk-estimator:hover {\n",
       "  /* unfitted */\n",
       "  background-color: var(--sklearn-color-unfitted-level-2);\n",
       "}\n",
       "\n",
       "#sk-container-id-6 div.sk-estimator.fitted:hover {\n",
       "  /* fitted */\n",
       "  background-color: var(--sklearn-color-fitted-level-2);\n",
       "}\n",
       "\n",
       "/* Specification for estimator info (e.g. \"i\" and \"?\") */\n",
       "\n",
       "/* Common style for \"i\" and \"?\" */\n",
       "\n",
       ".sk-estimator-doc-link,\n",
       "a:link.sk-estimator-doc-link,\n",
       "a:visited.sk-estimator-doc-link {\n",
       "  float: right;\n",
       "  font-size: smaller;\n",
       "  line-height: 1em;\n",
       "  font-family: monospace;\n",
       "  background-color: var(--sklearn-color-background);\n",
       "  border-radius: 1em;\n",
       "  height: 1em;\n",
       "  width: 1em;\n",
       "  text-decoration: none !important;\n",
       "  margin-left: 1ex;\n",
       "  /* unfitted */\n",
       "  border: var(--sklearn-color-unfitted-level-1) 1pt solid;\n",
       "  color: var(--sklearn-color-unfitted-level-1);\n",
       "}\n",
       "\n",
       ".sk-estimator-doc-link.fitted,\n",
       "a:link.sk-estimator-doc-link.fitted,\n",
       "a:visited.sk-estimator-doc-link.fitted {\n",
       "  /* fitted */\n",
       "  border: var(--sklearn-color-fitted-level-1) 1pt solid;\n",
       "  color: var(--sklearn-color-fitted-level-1);\n",
       "}\n",
       "\n",
       "/* On hover */\n",
       "div.sk-estimator:hover .sk-estimator-doc-link:hover,\n",
       ".sk-estimator-doc-link:hover,\n",
       "div.sk-label-container:hover .sk-estimator-doc-link:hover,\n",
       ".sk-estimator-doc-link:hover {\n",
       "  /* unfitted */\n",
       "  background-color: var(--sklearn-color-unfitted-level-3);\n",
       "  color: var(--sklearn-color-background);\n",
       "  text-decoration: none;\n",
       "}\n",
       "\n",
       "div.sk-estimator.fitted:hover .sk-estimator-doc-link.fitted:hover,\n",
       ".sk-estimator-doc-link.fitted:hover,\n",
       "div.sk-label-container:hover .sk-estimator-doc-link.fitted:hover,\n",
       ".sk-estimator-doc-link.fitted:hover {\n",
       "  /* fitted */\n",
       "  background-color: var(--sklearn-color-fitted-level-3);\n",
       "  color: var(--sklearn-color-background);\n",
       "  text-decoration: none;\n",
       "}\n",
       "\n",
       "/* Span, style for the box shown on hovering the info icon */\n",
       ".sk-estimator-doc-link span {\n",
       "  display: none;\n",
       "  z-index: 9999;\n",
       "  position: relative;\n",
       "  font-weight: normal;\n",
       "  right: .2ex;\n",
       "  padding: .5ex;\n",
       "  margin: .5ex;\n",
       "  width: min-content;\n",
       "  min-width: 20ex;\n",
       "  max-width: 50ex;\n",
       "  color: var(--sklearn-color-text);\n",
       "  box-shadow: 2pt 2pt 4pt #999;\n",
       "  /* unfitted */\n",
       "  background: var(--sklearn-color-unfitted-level-0);\n",
       "  border: .5pt solid var(--sklearn-color-unfitted-level-3);\n",
       "}\n",
       "\n",
       ".sk-estimator-doc-link.fitted span {\n",
       "  /* fitted */\n",
       "  background: var(--sklearn-color-fitted-level-0);\n",
       "  border: var(--sklearn-color-fitted-level-3);\n",
       "}\n",
       "\n",
       ".sk-estimator-doc-link:hover span {\n",
       "  display: block;\n",
       "}\n",
       "\n",
       "/* \"?\"-specific style due to the `<a>` HTML tag */\n",
       "\n",
       "#sk-container-id-6 a.estimator_doc_link {\n",
       "  float: right;\n",
       "  font-size: 1rem;\n",
       "  line-height: 1em;\n",
       "  font-family: monospace;\n",
       "  background-color: var(--sklearn-color-background);\n",
       "  border-radius: 1rem;\n",
       "  height: 1rem;\n",
       "  width: 1rem;\n",
       "  text-decoration: none;\n",
       "  /* unfitted */\n",
       "  color: var(--sklearn-color-unfitted-level-1);\n",
       "  border: var(--sklearn-color-unfitted-level-1) 1pt solid;\n",
       "}\n",
       "\n",
       "#sk-container-id-6 a.estimator_doc_link.fitted {\n",
       "  /* fitted */\n",
       "  border: var(--sklearn-color-fitted-level-1) 1pt solid;\n",
       "  color: var(--sklearn-color-fitted-level-1);\n",
       "}\n",
       "\n",
       "/* On hover */\n",
       "#sk-container-id-6 a.estimator_doc_link:hover {\n",
       "  /* unfitted */\n",
       "  background-color: var(--sklearn-color-unfitted-level-3);\n",
       "  color: var(--sklearn-color-background);\n",
       "  text-decoration: none;\n",
       "}\n",
       "\n",
       "#sk-container-id-6 a.estimator_doc_link.fitted:hover {\n",
       "  /* fitted */\n",
       "  background-color: var(--sklearn-color-fitted-level-3);\n",
       "}\n",
       "</style><div id=\"sk-container-id-6\" class=\"sk-top-container\"><div class=\"sk-text-repr-fallback\"><pre>DecisionTreeClassifier()</pre><b>In a Jupyter environment, please rerun this cell to show the HTML representation or trust the notebook. <br />On GitHub, the HTML representation is unable to render, please try loading this page with nbviewer.org.</b></div><div class=\"sk-container\" hidden><div class=\"sk-item\"><div class=\"sk-estimator fitted sk-toggleable\"><input class=\"sk-toggleable__control sk-hidden--visually\" id=\"sk-estimator-id-6\" type=\"checkbox\" checked><label for=\"sk-estimator-id-6\" class=\"sk-toggleable__label fitted sk-toggleable__label-arrow fitted\">&nbsp;&nbsp;DecisionTreeClassifier<a class=\"sk-estimator-doc-link fitted\" rel=\"noreferrer\" target=\"_blank\" href=\"https://scikit-learn.org/1.5/modules/generated/sklearn.tree.DecisionTreeClassifier.html\">?<span>Documentation for DecisionTreeClassifier</span></a><span class=\"sk-estimator-doc-link fitted\">i<span>Fitted</span></span></label><div class=\"sk-toggleable__content fitted\"><pre>DecisionTreeClassifier()</pre></div> </div></div></div></div>"
      ],
      "text/plain": [
       "DecisionTreeClassifier()"
      ]
     },
     "execution_count": 336,
     "metadata": {},
     "output_type": "execute_result"
    }
   ],
   "source": [
    "dt = DecisionTreeClassifier()\n",
    "dt.fit(X_train, y_train)"
   ]
  },
  {
   "cell_type": "code",
   "execution_count": 341,
   "id": "e589cdf0-904f-4d63-94e3-4ccc83afe0e9",
   "metadata": {},
   "outputs": [
    {
     "data": {
      "text/plain": [
       "array(['Standard', 'Standard', 'Poor', ..., 'Good', 'Good', 'Poor'],\n",
       "      dtype=object)"
      ]
     },
     "execution_count": 341,
     "metadata": {},
     "output_type": "execute_result"
    }
   ],
   "source": [
    "y_pred = dt.predict(X_val)\n",
    "y_pred"
   ]
  },
  {
   "cell_type": "code",
   "execution_count": 342,
   "id": "46fe68c9-0bd1-4cf6-8421-e1dfed765a88",
   "metadata": {},
   "outputs": [
    {
     "data": {
      "text/plain": [
       "20000"
      ]
     },
     "execution_count": 342,
     "metadata": {},
     "output_type": "execute_result"
    }
   ],
   "source": [
    "len(y_val)"
   ]
  },
  {
   "cell_type": "code",
   "execution_count": 343,
   "id": "0c3f3943-0ea3-49ce-a0d6-fc4fdb83eb0b",
   "metadata": {},
   "outputs": [
    {
     "data": {
      "text/plain": [
       "\u001b[0;31mSignature:\u001b[0m \u001b[0mdt\u001b[0m\u001b[0;34m.\u001b[0m\u001b[0mscore\u001b[0m\u001b[0;34m(\u001b[0m\u001b[0mX\u001b[0m\u001b[0;34m,\u001b[0m \u001b[0my\u001b[0m\u001b[0;34m,\u001b[0m \u001b[0msample_weight\u001b[0m\u001b[0;34m=\u001b[0m\u001b[0;32mNone\u001b[0m\u001b[0;34m)\u001b[0m\u001b[0;34m\u001b[0m\u001b[0;34m\u001b[0m\u001b[0m\n",
       "\u001b[0;31mDocstring:\u001b[0m\n",
       "Return the mean accuracy on the given test data and labels.\n",
       "\n",
       "In multi-label classification, this is the subset accuracy\n",
       "which is a harsh metric since you require for each sample that\n",
       "each label set be correctly predicted.\n",
       "\n",
       "Parameters\n",
       "----------\n",
       "X : array-like of shape (n_samples, n_features)\n",
       "    Test samples.\n",
       "\n",
       "y : array-like of shape (n_samples,) or (n_samples, n_outputs)\n",
       "    True labels for `X`.\n",
       "\n",
       "sample_weight : array-like of shape (n_samples,), default=None\n",
       "    Sample weights.\n",
       "\n",
       "Returns\n",
       "-------\n",
       "score : float\n",
       "    Mean accuracy of ``self.predict(X)`` w.r.t. `y`.\n",
       "\u001b[0;31mFile:\u001b[0m      ~/opt/anaconda3/envs/midterm_project/lib/python3.10/site-packages/sklearn/base.py\n",
       "\u001b[0;31mType:\u001b[0m      method"
      ]
     },
     "metadata": {},
     "output_type": "display_data"
    }
   ],
   "source": [
    "?dt.score"
   ]
  },
  {
   "cell_type": "code",
   "execution_count": 344,
   "id": "1bade845-73e5-4bf7-8d37-5de2e1893f2d",
   "metadata": {},
   "outputs": [
    {
     "data": {
      "text/plain": [
       "0.69845"
      ]
     },
     "execution_count": 344,
     "metadata": {},
     "output_type": "execute_result"
    }
   ],
   "source": [
    "dt.score(X_val, y_val)"
   ]
  },
  {
   "cell_type": "code",
   "execution_count": 345,
   "id": "99d59bc3-39fb-4ca4-afe4-037da96bf15e",
   "metadata": {},
   "outputs": [
    {
     "data": {
      "text/plain": [
       "<sklearn.metrics._plot.confusion_matrix.ConfusionMatrixDisplay at 0x124328f40>"
      ]
     },
     "execution_count": 345,
     "metadata": {},
     "output_type": "execute_result"
    },
    {
     "data": {
      "image/png": "[encoded data removed]",
      "text/plain": [
       "<Figure size 640x480 with 2 Axes>"
      ]
     },
     "metadata": {},
     "output_type": "display_data"
    }
   ],
   "source": [
    "ConfusionMatrixDisplay.from_estimator(dt, X_val, y_val)"
   ]
  },
  {
   "cell_type": "markdown",
   "id": "65375364-f419-4c6c-95bd-dbb072712854",
   "metadata": {},
   "source": [
    "Result is clearly not the best with mean accuracy of only 69.9%. Let's fine tune this model"
   ]
  },
  {
   "cell_type": "code",
   "execution_count": 346,
   "id": "9c9500b8-64de-42e0-b20b-1caa62bd0d90",
   "metadata": {},
   "outputs": [
    {
     "name": "stdout",
     "output_type": "stream",
     "text": [
      "Max depth: 1, score: 0.60165\n",
      "Max depth: 2, score: 0.6074\n",
      "Max depth: 3, score: 0.6514\n",
      "Max depth: 4, score: 0.66755\n",
      "Max depth: 5, score: 0.67645\n",
      "Max depth: 6, score: 0.6986\n",
      "Max depth: 10, score: 0.70515\n",
      "Max depth: 15, score: 0.7047\n",
      "Max depth: 20, score: 0.7053\n",
      "Max depth: 25, score: 0.6988\n",
      "Max depth: 30, score: 0.7005\n",
      "Max depth: 35, score: 0.6996\n",
      "Max depth: 40, score: 0.69725\n",
      "Max depth: 50, score: 0.69915\n",
      "Max depth: None, score: 0.69975\n"
     ]
    }
   ],
   "source": [
    "for d in [1, 2, 3, 4, 5, 6, 10, 15, 20, 25, 30, 35, 40, 50, None]:\n",
    "    dt = DecisionTreeClassifier(max_depth=d)\n",
    "    dt.fit(X_train, y_train)\n",
    "    mean_accuracy = dt.score(X_val, y_val)\n",
    "    print(f'Max depth: {d}, mean_accuracy: {mean_accuracy}')"
   ]
  },
  {
   "cell_type": "markdown",
   "id": "dd254d95-3389-4a11-b313-d9217066e9da",
   "metadata": {},
   "source": [
    "The best value for tree depth is d = 10 with accuracy of 0.70465"
   ]
  },
  {
   "cell_type": "code",
   "execution_count": 347,
   "id": "b338d7f1-21fc-4e98-9fe1-ed8d27f0aa82",
   "metadata": {},
   "outputs": [],
   "source": [
    "scores = []\n",
    "for d in [5, 8, 9 , 10, 11, 12, 15, 20]:\n",
    "    for s in [1, 2, 5, 10, 15, 20, 100, 200, 500]:\n",
    "        dt = DecisionTreeClassifier(\n",
    "            max_depth=d,\n",
    "            min_samples_leaf=s\n",
    "        )\n",
    "        dt.fit(X_train, y_train)\n",
    "        mean_accuracy = dt.score(X_val, y_val)\n",
    "        scores.append((d, s, mean_accuracy))"
   ]
  },
  {
   "cell_type": "code",
   "execution_count": 348,
   "id": "46e63ccd-dac6-480d-a4cc-d88c8050a89b",
   "metadata": {},
   "outputs": [
    {
     "data": {
      "text/html": [
       "<div>\n",
       "<style scoped>\n",
       "    .dataframe tbody tr th:only-of-type {\n",
       "        vertical-align: middle;\n",
       "    }\n",
       "\n",
       "    .dataframe tbody tr th {\n",
       "        vertical-align: top;\n",
       "    }\n",
       "\n",
       "    .dataframe thead th {\n",
       "        text-align: right;\n",
       "    }\n",
       "</style>\n",
       "<table border=\"1\" class=\"dataframe\">\n",
       "  <thead>\n",
       "    <tr style=\"text-align: right;\">\n",
       "      <th></th>\n",
       "      <th>max_depth</th>\n",
       "      <th>min_samples_leaf</th>\n",
       "      <th>score</th>\n",
       "    </tr>\n",
       "  </thead>\n",
       "  <tbody>\n",
       "    <tr>\n",
       "      <th>19</th>\n",
       "      <td>9</td>\n",
       "      <td>2</td>\n",
       "      <td>0.70655</td>\n",
       "    </tr>\n",
       "    <tr>\n",
       "      <th>18</th>\n",
       "      <td>9</td>\n",
       "      <td>1</td>\n",
       "      <td>0.70645</td>\n",
       "    </tr>\n",
       "    <tr>\n",
       "      <th>20</th>\n",
       "      <td>9</td>\n",
       "      <td>5</td>\n",
       "      <td>0.70580</td>\n",
       "    </tr>\n",
       "    <tr>\n",
       "      <th>21</th>\n",
       "      <td>9</td>\n",
       "      <td>10</td>\n",
       "      <td>0.70510</td>\n",
       "    </tr>\n",
       "    <tr>\n",
       "      <th>22</th>\n",
       "      <td>9</td>\n",
       "      <td>15</td>\n",
       "      <td>0.70490</td>\n",
       "    </tr>\n",
       "    <tr>\n",
       "      <th>28</th>\n",
       "      <td>10</td>\n",
       "      <td>2</td>\n",
       "      <td>0.70470</td>\n",
       "    </tr>\n",
       "    <tr>\n",
       "      <th>11</th>\n",
       "      <td>8</td>\n",
       "      <td>5</td>\n",
       "      <td>0.70470</td>\n",
       "    </tr>\n",
       "    <tr>\n",
       "      <th>27</th>\n",
       "      <td>10</td>\n",
       "      <td>1</td>\n",
       "      <td>0.70460</td>\n",
       "    </tr>\n",
       "    <tr>\n",
       "      <th>24</th>\n",
       "      <td>9</td>\n",
       "      <td>100</td>\n",
       "      <td>0.70430</td>\n",
       "    </tr>\n",
       "    <tr>\n",
       "      <th>9</th>\n",
       "      <td>8</td>\n",
       "      <td>1</td>\n",
       "      <td>0.70410</td>\n",
       "    </tr>\n",
       "  </tbody>\n",
       "</table>\n",
       "</div>"
      ],
      "text/plain": [
       "    max_depth  min_samples_leaf    score\n",
       "19          9                 2  0.70655\n",
       "18          9                 1  0.70645\n",
       "20          9                 5  0.70580\n",
       "21          9                10  0.70510\n",
       "22          9                15  0.70490\n",
       "28         10                 2  0.70470\n",
       "11          8                 5  0.70470\n",
       "27         10                 1  0.70460\n",
       "24          9               100  0.70430\n",
       "9           8                 1  0.70410"
      ]
     },
     "execution_count": 348,
     "metadata": {},
     "output_type": "execute_result"
    }
   ],
   "source": [
    "columns = ['max_depth', 'min_samples_leaf', 'mean_accuracy']\n",
    "df_scores = pd.DataFrame(scores, columns=columns)\n",
    "df_scores.sort_values(by='score', ascending=False).head(10)"
   ]
  },
  {
   "cell_type": "code",
   "execution_count": 349,
   "id": "f29b3ad4-78ce-441a-a3aa-7f3401a9be20",
   "metadata": {},
   "outputs": [
    {
     "data": {
      "text/html": [
       "<div>\n",
       "<style scoped>\n",
       "    .dataframe tbody tr th:only-of-type {\n",
       "        vertical-align: middle;\n",
       "    }\n",
       "\n",
       "    .dataframe tbody tr th {\n",
       "        vertical-align: top;\n",
       "    }\n",
       "\n",
       "    .dataframe thead tr th {\n",
       "        text-align: left;\n",
       "    }\n",
       "\n",
       "    .dataframe thead tr:last-of-type th {\n",
       "        text-align: right;\n",
       "    }\n",
       "</style>\n",
       "<table border=\"1\" class=\"dataframe\">\n",
       "  <thead>\n",
       "    <tr>\n",
       "      <th></th>\n",
       "      <th colspan=\"8\" halign=\"left\">score</th>\n",
       "    </tr>\n",
       "    <tr>\n",
       "      <th>max_depth</th>\n",
       "      <th>5</th>\n",
       "      <th>8</th>\n",
       "      <th>9</th>\n",
       "      <th>10</th>\n",
       "      <th>11</th>\n",
       "      <th>12</th>\n",
       "      <th>15</th>\n",
       "      <th>20</th>\n",
       "    </tr>\n",
       "    <tr>\n",
       "      <th>min_samples_leaf</th>\n",
       "      <th></th>\n",
       "      <th></th>\n",
       "      <th></th>\n",
       "      <th></th>\n",
       "      <th></th>\n",
       "      <th></th>\n",
       "      <th></th>\n",
       "      <th></th>\n",
       "    </tr>\n",
       "  </thead>\n",
       "  <tbody>\n",
       "    <tr>\n",
       "      <th>1</th>\n",
       "      <td>0.676</td>\n",
       "      <td>0.704</td>\n",
       "      <td>0.706</td>\n",
       "      <td>0.705</td>\n",
       "      <td>0.704</td>\n",
       "      <td>0.702</td>\n",
       "      <td>0.703</td>\n",
       "      <td>0.703</td>\n",
       "    </tr>\n",
       "    <tr>\n",
       "      <th>2</th>\n",
       "      <td>0.676</td>\n",
       "      <td>0.704</td>\n",
       "      <td>0.707</td>\n",
       "      <td>0.705</td>\n",
       "      <td>0.704</td>\n",
       "      <td>0.702</td>\n",
       "      <td>0.703</td>\n",
       "      <td>0.700</td>\n",
       "    </tr>\n",
       "    <tr>\n",
       "      <th>5</th>\n",
       "      <td>0.676</td>\n",
       "      <td>0.705</td>\n",
       "      <td>0.706</td>\n",
       "      <td>0.704</td>\n",
       "      <td>0.701</td>\n",
       "      <td>0.702</td>\n",
       "      <td>0.700</td>\n",
       "      <td>0.699</td>\n",
       "    </tr>\n",
       "    <tr>\n",
       "      <th>10</th>\n",
       "      <td>0.676</td>\n",
       "      <td>0.703</td>\n",
       "      <td>0.705</td>\n",
       "      <td>0.703</td>\n",
       "      <td>0.702</td>\n",
       "      <td>0.701</td>\n",
       "      <td>0.700</td>\n",
       "      <td>0.695</td>\n",
       "    </tr>\n",
       "    <tr>\n",
       "      <th>15</th>\n",
       "      <td>0.676</td>\n",
       "      <td>0.703</td>\n",
       "      <td>0.705</td>\n",
       "      <td>0.703</td>\n",
       "      <td>0.702</td>\n",
       "      <td>0.698</td>\n",
       "      <td>0.696</td>\n",
       "      <td>0.699</td>\n",
       "    </tr>\n",
       "    <tr>\n",
       "      <th>20</th>\n",
       "      <td>0.676</td>\n",
       "      <td>0.703</td>\n",
       "      <td>0.704</td>\n",
       "      <td>0.703</td>\n",
       "      <td>0.702</td>\n",
       "      <td>0.699</td>\n",
       "      <td>0.697</td>\n",
       "      <td>0.699</td>\n",
       "    </tr>\n",
       "    <tr>\n",
       "      <th>100</th>\n",
       "      <td>0.676</td>\n",
       "      <td>0.703</td>\n",
       "      <td>0.704</td>\n",
       "      <td>0.704</td>\n",
       "      <td>0.703</td>\n",
       "      <td>0.704</td>\n",
       "      <td>0.701</td>\n",
       "      <td>0.704</td>\n",
       "    </tr>\n",
       "    <tr>\n",
       "      <th>200</th>\n",
       "      <td>0.676</td>\n",
       "      <td>0.704</td>\n",
       "      <td>0.703</td>\n",
       "      <td>0.703</td>\n",
       "      <td>0.703</td>\n",
       "      <td>0.701</td>\n",
       "      <td>0.701</td>\n",
       "      <td>0.700</td>\n",
       "    </tr>\n",
       "    <tr>\n",
       "      <th>500</th>\n",
       "      <td>0.667</td>\n",
       "      <td>0.689</td>\n",
       "      <td>0.688</td>\n",
       "      <td>0.688</td>\n",
       "      <td>0.688</td>\n",
       "      <td>0.688</td>\n",
       "      <td>0.688</td>\n",
       "      <td>0.688</td>\n",
       "    </tr>\n",
       "  </tbody>\n",
       "</table>\n",
       "</div>"
      ],
      "text/plain": [
       "                  score                                                 \n",
       "max_depth            5      8      9      10     11     12     15     20\n",
       "min_samples_leaf                                                        \n",
       "1                 0.676  0.704  0.706  0.705  0.704  0.702  0.703  0.703\n",
       "2                 0.676  0.704  0.707  0.705  0.704  0.702  0.703  0.700\n",
       "5                 0.676  0.705  0.706  0.704  0.701  0.702  0.700  0.699\n",
       "10                0.676  0.703  0.705  0.703  0.702  0.701  0.700  0.695\n",
       "15                0.676  0.703  0.705  0.703  0.702  0.698  0.696  0.699\n",
       "20                0.676  0.703  0.704  0.703  0.702  0.699  0.697  0.699\n",
       "100               0.676  0.703  0.704  0.704  0.703  0.704  0.701  0.704\n",
       "200               0.676  0.704  0.703  0.703  0.703  0.701  0.701  0.700\n",
       "500               0.667  0.689  0.688  0.688  0.688  0.688  0.688  0.688"
      ]
     },
     "execution_count": 349,
     "metadata": {},
     "output_type": "execute_result"
    }
   ],
   "source": [
    "df_scores_pivot = df_scores.pivot(\n",
    "\tindex='min_samples_leaf', \n",
    "\tcolumns=['max_depth'],\n",
    "\tvalues =['mean_accuracy']\n",
    ")\n",
    "df_scores_pivot.round(3)"
   ]
  },
  {
   "cell_type": "code",
   "execution_count": 350,
   "id": "bcc70d80-d192-405c-9e9d-67a055297625",
   "metadata": {},
   "outputs": [
    {
     "data": {
      "text/plain": [
       "<Axes: xlabel='None-max_depth', ylabel='min_samples_leaf'>"
      ]
     },
     "execution_count": 350,
     "metadata": {},
     "output_type": "execute_result"
    },
    {
     "data": {
      "image/png": "[encoded data removed]",
      "text/plain": [
       "<Figure size 640x480 with 2 Axes>"
      ]
     },
     "metadata": {},
     "output_type": "display_data"
    }
   ],
   "source": [
    "sns.heatmap(df_scores_pivot, fmt='.3f')"
   ]
  },
  {
   "cell_type": "markdown",
   "id": "84c74178-723b-43f0-a5b3-d8e923374e12",
   "metadata": {},
   "source": [
    "It seems like the best combination is for:"
   ]
  },
  {
   "cell_type": "code",
   "execution_count": 351,
   "id": "d3a722c0-d155-4822-9cf1-dc9a99d63b6d",
   "metadata": {},
   "outputs": [],
   "source": [
    "min_samples_leaf=1\n",
    "max_depth = 9"
   ]
  },
  {
   "cell_type": "markdown",
   "id": "6595425c-8ae5-4549-81b9-c5c15c9d00d8",
   "metadata": {},
   "source": [
    "Final result of DecisionTreeClassifier:"
   ]
  },
  {
   "cell_type": "code",
   "execution_count": 354,
   "id": "757d756a-9658-4cf3-9265-93115083cfef",
   "metadata": {},
   "outputs": [],
   "source": [
    "dv = DictVectorizer(sparse=False)\n",
    "X_full_train = dv.fit_transform(full_train_dicts)\n",
    "X_test = dv.transform(test_dicts)"
   ]
  },
  {
   "cell_type": "code",
   "execution_count": 355,
   "id": "fdaebadc-a2f4-4f69-abc9-efed5e78b295",
   "metadata": {},
   "outputs": [
    {
     "name": "stdout",
     "output_type": "stream",
     "text": [
      "score: 0.70955\n"
     ]
    }
   ],
   "source": [
    "dt = DecisionTreeClassifier(\n",
    "    max_depth=max_depth,\n",
    "    min_samples_leaf=min_samples_leaf\n",
    ")\n",
    "dt.fit(X_full_train, y_full_train)\t\n",
    "score = dt.score(X_test, y_test)\n",
    "print(f\"score: {score}\")"
   ]
  },
  {
   "cell_type": "markdown",
   "id": "bd02d9e6-edfa-4d61-a7f2-df6d877cef0f",
   "metadata": {},
   "source": [
    "Confusion matrics on test set:"
   ]
  },
  {
   "cell_type": "code",
   "execution_count": 465,
   "id": "20056169-d4c8-4333-ae72-c27980eaa3a9",
   "metadata": {},
   "outputs": [
    {
     "data": {
      "text/plain": [
       "<sklearn.metrics._plot.confusion_matrix.ConfusionMatrixDisplay at 0x12fddef80>"
      ]
     },
     "execution_count": 465,
     "metadata": {},
     "output_type": "execute_result"
    },
    {
     "data": {
      "image/png": "[encoded data removed]",
      "text/plain": [
       "<Figure size 640x480 with 2 Axes>"
      ]
     },
     "metadata": {},
     "output_type": "display_data"
    }
   ],
   "source": [
    "ConfusionMatrixDisplay.from_estimator(dt, X_test, y_test, normalize='true')"
   ]
  },
  {
   "cell_type": "markdown",
   "id": "6dc09ea2-c62b-4e13-8117-39726fd2bcd1",
   "metadata": {},
   "source": [
    "Final score for Decision tree is 70.955% mean accuracy"
   ]
  },
  {
   "cell_type": "markdown",
   "id": "dcee8e2f-9f3f-4ff9-9848-68da42b8432b",
   "metadata": {},
   "source": [
    "## Random Forest"
   ]
  },
  {
   "cell_type": "code",
   "execution_count": 358,
   "id": "8eb49a0a-4e3e-49de-9eee-068c3e5a5db8",
   "metadata": {},
   "outputs": [],
   "source": [
    "from sklearn.ensemble import RandomForestClassifier"
   ]
  },
  {
   "cell_type": "code",
   "execution_count": 369,
   "id": "11cc2145-1eaf-4349-9315-00649f648635",
   "metadata": {},
   "outputs": [],
   "source": [
    "dv = DictVectorizer(sparse=False)\n",
    "X_train = dv.fit_transform(train_dicts)\n",
    "X_val = dv.transform(val_dicts)"
   ]
  },
  {
   "cell_type": "code",
   "execution_count": 374,
   "id": "6c7fcdc7-8738-494f-9bc0-910255eaf152",
   "metadata": {},
   "outputs": [
    {
     "data": {
      "text/html": [
       "<style>#sk-container-id-9 {\n",
       "  /* Definition of color scheme common for light and dark mode */\n",
       "  --sklearn-color-text: black;\n",
       "  --sklearn-color-line: gray;\n",
       "  /* Definition of color scheme for unfitted estimators */\n",
       "  --sklearn-color-unfitted-level-0: #fff5e6;\n",
       "  --sklearn-color-unfitted-level-1: #f6e4d2;\n",
       "  --sklearn-color-unfitted-level-2: #ffe0b3;\n",
       "  --sklearn-color-unfitted-level-3: chocolate;\n",
       "  /* Definition of color scheme for fitted estimators */\n",
       "  --sklearn-color-fitted-level-0: #f0f8ff;\n",
       "  --sklearn-color-fitted-level-1: #d4ebff;\n",
       "  --sklearn-color-fitted-level-2: #b3dbfd;\n",
       "  --sklearn-color-fitted-level-3: cornflowerblue;\n",
       "\n",
       "  /* Specific color for light theme */\n",
       "  --sklearn-color-text-on-default-background: var(--sg-text-color, var(--theme-code-foreground, var(--jp-content-font-color1, black)));\n",
       "  --sklearn-color-background: var(--sg-background-color, var(--theme-background, var(--jp-layout-color0, white)));\n",
       "  --sklearn-color-border-box: var(--sg-text-color, var(--theme-code-foreground, var(--jp-content-font-color1, black)));\n",
       "  --sklearn-color-icon: #696969;\n",
       "\n",
       "  @media (prefers-color-scheme: dark) {\n",
       "    /* Redefinition of color scheme for dark theme */\n",
       "    --sklearn-color-text-on-default-background: var(--sg-text-color, var(--theme-code-foreground, var(--jp-content-font-color1, white)));\n",
       "    --sklearn-color-background: var(--sg-background-color, var(--theme-background, var(--jp-layout-color0, #111)));\n",
       "    --sklearn-color-border-box: var(--sg-text-color, var(--theme-code-foreground, var(--jp-content-font-color1, white)));\n",
       "    --sklearn-color-icon: #878787;\n",
       "  }\n",
       "}\n",
       "\n",
       "#sk-container-id-9 {\n",
       "  color: var(--sklearn-color-text);\n",
       "}\n",
       "\n",
       "#sk-container-id-9 pre {\n",
       "  padding: 0;\n",
       "}\n",
       "\n",
       "#sk-container-id-9 input.sk-hidden--visually {\n",
       "  border: 0;\n",
       "  clip: rect(1px 1px 1px 1px);\n",
       "  clip: rect(1px, 1px, 1px, 1px);\n",
       "  height: 1px;\n",
       "  margin: -1px;\n",
       "  overflow: hidden;\n",
       "  padding: 0;\n",
       "  position: absolute;\n",
       "  width: 1px;\n",
       "}\n",
       "\n",
       "#sk-container-id-9 div.sk-dashed-wrapped {\n",
       "  border: 1px dashed var(--sklearn-color-line);\n",
       "  margin: 0 0.4em 0.5em 0.4em;\n",
       "  box-sizing: border-box;\n",
       "  padding-bottom: 0.4em;\n",
       "  background-color: var(--sklearn-color-background);\n",
       "}\n",
       "\n",
       "#sk-container-id-9 div.sk-container {\n",
       "  /* jupyter's `normalize.less` sets `[hidden] { display: none; }`\n",
       "     but bootstrap.min.css set `[hidden] { display: none !important; }`\n",
       "     so we also need the `!important` here to be able to override the\n",
       "     default hidden behavior on the sphinx rendered scikit-learn.org.\n",
       "     See: https://github.com/scikit-learn/scikit-learn/issues/21755 */\n",
       "  display: inline-block !important;\n",
       "  position: relative;\n",
       "}\n",
       "\n",
       "#sk-container-id-9 div.sk-text-repr-fallback {\n",
       "  display: none;\n",
       "}\n",
       "\n",
       "div.sk-parallel-item,\n",
       "div.sk-serial,\n",
       "div.sk-item {\n",
       "  /* draw centered vertical line to link estimators */\n",
       "  background-image: linear-gradient(var(--sklearn-color-text-on-default-background), var(--sklearn-color-text-on-default-background));\n",
       "  background-size: 2px 100%;\n",
       "  background-repeat: no-repeat;\n",
       "  background-position: center center;\n",
       "}\n",
       "\n",
       "/* Parallel-specific style estimator block */\n",
       "\n",
       "#sk-container-id-9 div.sk-parallel-item::after {\n",
       "  content: \"\";\n",
       "  width: 100%;\n",
       "  border-bottom: 2px solid var(--sklearn-color-text-on-default-background);\n",
       "  flex-grow: 1;\n",
       "}\n",
       "\n",
       "#sk-container-id-9 div.sk-parallel {\n",
       "  display: flex;\n",
       "  align-items: stretch;\n",
       "  justify-content: center;\n",
       "  background-color: var(--sklearn-color-background);\n",
       "  position: relative;\n",
       "}\n",
       "\n",
       "#sk-container-id-9 div.sk-parallel-item {\n",
       "  display: flex;\n",
       "  flex-direction: column;\n",
       "}\n",
       "\n",
       "#sk-container-id-9 div.sk-parallel-item:first-child::after {\n",
       "  align-self: flex-end;\n",
       "  width: 50%;\n",
       "}\n",
       "\n",
       "#sk-container-id-9 div.sk-parallel-item:last-child::after {\n",
       "  align-self: flex-start;\n",
       "  width: 50%;\n",
       "}\n",
       "\n",
       "#sk-container-id-9 div.sk-parallel-item:only-child::after {\n",
       "  width: 0;\n",
       "}\n",
       "\n",
       "/* Serial-specific style estimator block */\n",
       "\n",
       "#sk-container-id-9 div.sk-serial {\n",
       "  display: flex;\n",
       "  flex-direction: column;\n",
       "  align-items: center;\n",
       "  background-color: var(--sklearn-color-background);\n",
       "  padding-right: 1em;\n",
       "  padding-left: 1em;\n",
       "}\n",
       "\n",
       "\n",
       "/* Toggleable style: style used for estimator/Pipeline/ColumnTransformer box that is\n",
       "clickable and can be expanded/collapsed.\n",
       "- Pipeline and ColumnTransformer use this feature and define the default style\n",
       "- Estimators will overwrite some part of the style using the `sk-estimator` class\n",
       "*/\n",
       "\n",
       "/* Pipeline and ColumnTransformer style (default) */\n",
       "\n",
       "#sk-container-id-9 div.sk-toggleable {\n",
       "  /* Default theme specific background. It is overwritten whether we have a\n",
       "  specific estimator or a Pipeline/ColumnTransformer */\n",
       "  background-color: var(--sklearn-color-background);\n",
       "}\n",
       "\n",
       "/* Toggleable label */\n",
       "#sk-container-id-9 label.sk-toggleable__label {\n",
       "  cursor: pointer;\n",
       "  display: block;\n",
       "  width: 100%;\n",
       "  margin-bottom: 0;\n",
       "  padding: 0.5em;\n",
       "  box-sizing: border-box;\n",
       "  text-align: center;\n",
       "}\n",
       "\n",
       "#sk-container-id-9 label.sk-toggleable__label-arrow:before {\n",
       "  /* Arrow on the left of the label */\n",
       "  content: \"▸\";\n",
       "  float: left;\n",
       "  margin-right: 0.25em;\n",
       "  color: var(--sklearn-color-icon);\n",
       "}\n",
       "\n",
       "#sk-container-id-9 label.sk-toggleable__label-arrow:hover:before {\n",
       "  color: var(--sklearn-color-text);\n",
       "}\n",
       "\n",
       "/* Toggleable content - dropdown */\n",
       "\n",
       "#sk-container-id-9 div.sk-toggleable__content {\n",
       "  max-height: 0;\n",
       "  max-width: 0;\n",
       "  overflow: hidden;\n",
       "  text-align: left;\n",
       "  /* unfitted */\n",
       "  background-color: var(--sklearn-color-unfitted-level-0);\n",
       "}\n",
       "\n",
       "#sk-container-id-9 div.sk-toggleable__content.fitted {\n",
       "  /* fitted */\n",
       "  background-color: var(--sklearn-color-fitted-level-0);\n",
       "}\n",
       "\n",
       "#sk-container-id-9 div.sk-toggleable__content pre {\n",
       "  margin: 0.2em;\n",
       "  border-radius: 0.25em;\n",
       "  color: var(--sklearn-color-text);\n",
       "  /* unfitted */\n",
       "  background-color: var(--sklearn-color-unfitted-level-0);\n",
       "}\n",
       "\n",
       "#sk-container-id-9 div.sk-toggleable__content.fitted pre {\n",
       "  /* unfitted */\n",
       "  background-color: var(--sklearn-color-fitted-level-0);\n",
       "}\n",
       "\n",
       "#sk-container-id-9 input.sk-toggleable__control:checked~div.sk-toggleable__content {\n",
       "  /* Expand drop-down */\n",
       "  max-height: 200px;\n",
       "  max-width: 100%;\n",
       "  overflow: auto;\n",
       "}\n",
       "\n",
       "#sk-container-id-9 input.sk-toggleable__control:checked~label.sk-toggleable__label-arrow:before {\n",
       "  content: \"▾\";\n",
       "}\n",
       "\n",
       "/* Pipeline/ColumnTransformer-specific style */\n",
       "\n",
       "#sk-container-id-9 div.sk-label input.sk-toggleable__control:checked~label.sk-toggleable__label {\n",
       "  color: var(--sklearn-color-text);\n",
       "  background-color: var(--sklearn-color-unfitted-level-2);\n",
       "}\n",
       "\n",
       "#sk-container-id-9 div.sk-label.fitted input.sk-toggleable__control:checked~label.sk-toggleable__label {\n",
       "  background-color: var(--sklearn-color-fitted-level-2);\n",
       "}\n",
       "\n",
       "/* Estimator-specific style */\n",
       "\n",
       "/* Colorize estimator box */\n",
       "#sk-container-id-9 div.sk-estimator input.sk-toggleable__control:checked~label.sk-toggleable__label {\n",
       "  /* unfitted */\n",
       "  background-color: var(--sklearn-color-unfitted-level-2);\n",
       "}\n",
       "\n",
       "#sk-container-id-9 div.sk-estimator.fitted input.sk-toggleable__control:checked~label.sk-toggleable__label {\n",
       "  /* fitted */\n",
       "  background-color: var(--sklearn-color-fitted-level-2);\n",
       "}\n",
       "\n",
       "#sk-container-id-9 div.sk-label label.sk-toggleable__label,\n",
       "#sk-container-id-9 div.sk-label label {\n",
       "  /* The background is the default theme color */\n",
       "  color: var(--sklearn-color-text-on-default-background);\n",
       "}\n",
       "\n",
       "/* On hover, darken the color of the background */\n",
       "#sk-container-id-9 div.sk-label:hover label.sk-toggleable__label {\n",
       "  color: var(--sklearn-color-text);\n",
       "  background-color: var(--sklearn-color-unfitted-level-2);\n",
       "}\n",
       "\n",
       "/* Label box, darken color on hover, fitted */\n",
       "#sk-container-id-9 div.sk-label.fitted:hover label.sk-toggleable__label.fitted {\n",
       "  color: var(--sklearn-color-text);\n",
       "  background-color: var(--sklearn-color-fitted-level-2);\n",
       "}\n",
       "\n",
       "/* Estimator label */\n",
       "\n",
       "#sk-container-id-9 div.sk-label label {\n",
       "  font-family: monospace;\n",
       "  font-weight: bold;\n",
       "  display: inline-block;\n",
       "  line-height: 1.2em;\n",
       "}\n",
       "\n",
       "#sk-container-id-9 div.sk-label-container {\n",
       "  text-align: center;\n",
       "}\n",
       "\n",
       "/* Estimator-specific */\n",
       "#sk-container-id-9 div.sk-estimator {\n",
       "  font-family: monospace;\n",
       "  border: 1px dotted var(--sklearn-color-border-box);\n",
       "  border-radius: 0.25em;\n",
       "  box-sizing: border-box;\n",
       "  margin-bottom: 0.5em;\n",
       "  /* unfitted */\n",
       "  background-color: var(--sklearn-color-unfitted-level-0);\n",
       "}\n",
       "\n",
       "#sk-container-id-9 div.sk-estimator.fitted {\n",
       "  /* fitted */\n",
       "  background-color: var(--sklearn-color-fitted-level-0);\n",
       "}\n",
       "\n",
       "/* on hover */\n",
       "#sk-container-id-9 div.sk-estimator:hover {\n",
       "  /* unfitted */\n",
       "  background-color: var(--sklearn-color-unfitted-level-2);\n",
       "}\n",
       "\n",
       "#sk-container-id-9 div.sk-estimator.fitted:hover {\n",
       "  /* fitted */\n",
       "  background-color: var(--sklearn-color-fitted-level-2);\n",
       "}\n",
       "\n",
       "/* Specification for estimator info (e.g. \"i\" and \"?\") */\n",
       "\n",
       "/* Common style for \"i\" and \"?\" */\n",
       "\n",
       ".sk-estimator-doc-link,\n",
       "a:link.sk-estimator-doc-link,\n",
       "a:visited.sk-estimator-doc-link {\n",
       "  float: right;\n",
       "  font-size: smaller;\n",
       "  line-height: 1em;\n",
       "  font-family: monospace;\n",
       "  background-color: var(--sklearn-color-background);\n",
       "  border-radius: 1em;\n",
       "  height: 1em;\n",
       "  width: 1em;\n",
       "  text-decoration: none !important;\n",
       "  margin-left: 1ex;\n",
       "  /* unfitted */\n",
       "  border: var(--sklearn-color-unfitted-level-1) 1pt solid;\n",
       "  color: var(--sklearn-color-unfitted-level-1);\n",
       "}\n",
       "\n",
       ".sk-estimator-doc-link.fitted,\n",
       "a:link.sk-estimator-doc-link.fitted,\n",
       "a:visited.sk-estimator-doc-link.fitted {\n",
       "  /* fitted */\n",
       "  border: var(--sklearn-color-fitted-level-1) 1pt solid;\n",
       "  color: var(--sklearn-color-fitted-level-1);\n",
       "}\n",
       "\n",
       "/* On hover */\n",
       "div.sk-estimator:hover .sk-estimator-doc-link:hover,\n",
       ".sk-estimator-doc-link:hover,\n",
       "div.sk-label-container:hover .sk-estimator-doc-link:hover,\n",
       ".sk-estimator-doc-link:hover {\n",
       "  /* unfitted */\n",
       "  background-color: var(--sklearn-color-unfitted-level-3);\n",
       "  color: var(--sklearn-color-background);\n",
       "  text-decoration: none;\n",
       "}\n",
       "\n",
       "div.sk-estimator.fitted:hover .sk-estimator-doc-link.fitted:hover,\n",
       ".sk-estimator-doc-link.fitted:hover,\n",
       "div.sk-label-container:hover .sk-estimator-doc-link.fitted:hover,\n",
       ".sk-estimator-doc-link.fitted:hover {\n",
       "  /* fitted */\n",
       "  background-color: var(--sklearn-color-fitted-level-3);\n",
       "  color: var(--sklearn-color-background);\n",
       "  text-decoration: none;\n",
       "}\n",
       "\n",
       "/* Span, style for the box shown on hovering the info icon */\n",
       ".sk-estimator-doc-link span {\n",
       "  display: none;\n",
       "  z-index: 9999;\n",
       "  position: relative;\n",
       "  font-weight: normal;\n",
       "  right: .2ex;\n",
       "  padding: .5ex;\n",
       "  margin: .5ex;\n",
       "  width: min-content;\n",
       "  min-width: 20ex;\n",
       "  max-width: 50ex;\n",
       "  color: var(--sklearn-color-text);\n",
       "  box-shadow: 2pt 2pt 4pt #999;\n",
       "  /* unfitted */\n",
       "  background: var(--sklearn-color-unfitted-level-0);\n",
       "  border: .5pt solid var(--sklearn-color-unfitted-level-3);\n",
       "}\n",
       "\n",
       ".sk-estimator-doc-link.fitted span {\n",
       "  /* fitted */\n",
       "  background: var(--sklearn-color-fitted-level-0);\n",
       "  border: var(--sklearn-color-fitted-level-3);\n",
       "}\n",
       "\n",
       ".sk-estimator-doc-link:hover span {\n",
       "  display: block;\n",
       "}\n",
       "\n",
       "/* \"?\"-specific style due to the `<a>` HTML tag */\n",
       "\n",
       "#sk-container-id-9 a.estimator_doc_link {\n",
       "  float: right;\n",
       "  font-size: 1rem;\n",
       "  line-height: 1em;\n",
       "  font-family: monospace;\n",
       "  background-color: var(--sklearn-color-background);\n",
       "  border-radius: 1rem;\n",
       "  height: 1rem;\n",
       "  width: 1rem;\n",
       "  text-decoration: none;\n",
       "  /* unfitted */\n",
       "  color: var(--sklearn-color-unfitted-level-1);\n",
       "  border: var(--sklearn-color-unfitted-level-1) 1pt solid;\n",
       "}\n",
       "\n",
       "#sk-container-id-9 a.estimator_doc_link.fitted {\n",
       "  /* fitted */\n",
       "  border: var(--sklearn-color-fitted-level-1) 1pt solid;\n",
       "  color: var(--sklearn-color-fitted-level-1);\n",
       "}\n",
       "\n",
       "/* On hover */\n",
       "#sk-container-id-9 a.estimator_doc_link:hover {\n",
       "  /* unfitted */\n",
       "  background-color: var(--sklearn-color-unfitted-level-3);\n",
       "  color: var(--sklearn-color-background);\n",
       "  text-decoration: none;\n",
       "}\n",
       "\n",
       "#sk-container-id-9 a.estimator_doc_link.fitted:hover {\n",
       "  /* fitted */\n",
       "  background-color: var(--sklearn-color-fitted-level-3);\n",
       "}\n",
       "</style><div id=\"sk-container-id-9\" class=\"sk-top-container\"><div class=\"sk-text-repr-fallback\"><pre>RandomForestClassifier(n_estimators=10, n_jobs=-1, random_state=1)</pre><b>In a Jupyter environment, please rerun this cell to show the HTML representation or trust the notebook. <br />On GitHub, the HTML representation is unable to render, please try loading this page with nbviewer.org.</b></div><div class=\"sk-container\" hidden><div class=\"sk-item\"><div class=\"sk-estimator fitted sk-toggleable\"><input class=\"sk-toggleable__control sk-hidden--visually\" id=\"sk-estimator-id-9\" type=\"checkbox\" checked><label for=\"sk-estimator-id-9\" class=\"sk-toggleable__label fitted sk-toggleable__label-arrow fitted\">&nbsp;&nbsp;RandomForestClassifier<a class=\"sk-estimator-doc-link fitted\" rel=\"noreferrer\" target=\"_blank\" href=\"https://scikit-learn.org/1.5/modules/generated/sklearn.ensemble.RandomForestClassifier.html\">?<span>Documentation for RandomForestClassifier</span></a><span class=\"sk-estimator-doc-link fitted\">i<span>Fitted</span></span></label><div class=\"sk-toggleable__content fitted\"><pre>RandomForestClassifier(n_estimators=10, n_jobs=-1, random_state=1)</pre></div> </div></div></div></div>"
      ],
      "text/plain": [
       "RandomForestClassifier(n_estimators=10, n_jobs=-1, random_state=1)"
      ]
     },
     "execution_count": 374,
     "metadata": {},
     "output_type": "execute_result"
    }
   ],
   "source": [
    "rf = RandomForestClassifier(n_estimators=10, random_state=1, n_jobs=-1)\n",
    "rf.fit(X_train, y_train)"
   ]
  },
  {
   "cell_type": "code",
   "execution_count": 375,
   "id": "334f9c33-4bbb-44bb-b949-254f7f16ea3c",
   "metadata": {},
   "outputs": [
    {
     "data": {
      "text/plain": [
       "array(['Standard', 'Poor', 'Poor', ..., 'Good', 'Standard', 'Poor'],\n",
       "      dtype=object)"
      ]
     },
     "execution_count": 375,
     "metadata": {},
     "output_type": "execute_result"
    }
   ],
   "source": [
    "y_pred = rf.predict(X_val)\n",
    "y_pred"
   ]
  },
  {
   "cell_type": "code",
   "execution_count": 376,
   "id": "cbcf608f-ffb2-403d-a526-8138659e9490",
   "metadata": {},
   "outputs": [
    {
     "data": {
      "text/plain": [
       "\u001b[0;31mSignature:\u001b[0m \u001b[0mrf\u001b[0m\u001b[0;34m.\u001b[0m\u001b[0mscore\u001b[0m\u001b[0;34m(\u001b[0m\u001b[0mX\u001b[0m\u001b[0;34m,\u001b[0m \u001b[0my\u001b[0m\u001b[0;34m,\u001b[0m \u001b[0msample_weight\u001b[0m\u001b[0;34m=\u001b[0m\u001b[0;32mNone\u001b[0m\u001b[0;34m)\u001b[0m\u001b[0;34m\u001b[0m\u001b[0;34m\u001b[0m\u001b[0m\n",
       "\u001b[0;31mDocstring:\u001b[0m\n",
       "Return the mean accuracy on the given test data and labels.\n",
       "\n",
       "In multi-label classification, this is the subset accuracy\n",
       "which is a harsh metric since you require for each sample that\n",
       "each label set be correctly predicted.\n",
       "\n",
       "Parameters\n",
       "----------\n",
       "X : array-like of shape (n_samples, n_features)\n",
       "    Test samples.\n",
       "\n",
       "y : array-like of shape (n_samples,) or (n_samples, n_outputs)\n",
       "    True labels for `X`.\n",
       "\n",
       "sample_weight : array-like of shape (n_samples,), default=None\n",
       "    Sample weights.\n",
       "\n",
       "Returns\n",
       "-------\n",
       "score : float\n",
       "    Mean accuracy of ``self.predict(X)`` w.r.t. `y`.\n",
       "\u001b[0;31mFile:\u001b[0m      ~/opt/anaconda3/envs/midterm_project/lib/python3.10/site-packages/sklearn/base.py\n",
       "\u001b[0;31mType:\u001b[0m      method"
      ]
     },
     "metadata": {},
     "output_type": "display_data"
    }
   ],
   "source": [
    "?rf.score"
   ]
  },
  {
   "cell_type": "code",
   "execution_count": 377,
   "id": "5082af39-bcbb-4170-86aa-67bd78198b1a",
   "metadata": {},
   "outputs": [
    {
     "data": {
      "text/plain": [
       "0.77025"
      ]
     },
     "execution_count": 377,
     "metadata": {},
     "output_type": "execute_result"
    }
   ],
   "source": [
    "rf.score(X_val, y_val)"
   ]
  },
  {
   "cell_type": "markdown",
   "id": "a79da3f0-6eaa-4e7f-a408-658f235316ae",
   "metadata": {},
   "source": [
    "Initial score for Random Forest is already better than for decision tree. Let's fine tune it now."
   ]
  },
  {
   "cell_type": "code",
   "execution_count": 383,
   "id": "c60d6fd1-1fa5-4b0b-b38b-b531202986a2",
   "metadata": {},
   "outputs": [],
   "source": [
    "scores = []\n",
    "for n in range(10, 401, 10):\n",
    "\trf = RandomForestClassifier(n_estimators=n, random_state=1, n_jobs=-1)\n",
    "\trf.fit(X_train, y_train)\n",
    "\t\n",
    "\tmean_accuracy = rf.score(X_val, y_val)\n",
    "\tscores.append((n, mean_acc))"
   ]
  },
  {
   "cell_type": "code",
   "execution_count": 386,
   "id": "fff1a769-ed5b-415b-a6f5-af40b9c37a42",
   "metadata": {},
   "outputs": [
    {
     "data": {
      "text/html": [
       "<div>\n",
       "<style scoped>\n",
       "    .dataframe tbody tr th:only-of-type {\n",
       "        vertical-align: middle;\n",
       "    }\n",
       "\n",
       "    .dataframe tbody tr th {\n",
       "        vertical-align: top;\n",
       "    }\n",
       "\n",
       "    .dataframe thead th {\n",
       "        text-align: right;\n",
       "    }\n",
       "</style>\n",
       "<table border=\"1\" class=\"dataframe\">\n",
       "  <thead>\n",
       "    <tr style=\"text-align: right;\">\n",
       "      <th></th>\n",
       "      <th>n_estimators</th>\n",
       "      <th>score</th>\n",
       "    </tr>\n",
       "  </thead>\n",
       "  <tbody>\n",
       "    <tr>\n",
       "      <th>0</th>\n",
       "      <td>10</td>\n",
       "      <td>0.77025</td>\n",
       "    </tr>\n",
       "    <tr>\n",
       "      <th>1</th>\n",
       "      <td>20</td>\n",
       "      <td>0.78405</td>\n",
       "    </tr>\n",
       "    <tr>\n",
       "      <th>2</th>\n",
       "      <td>30</td>\n",
       "      <td>0.78745</td>\n",
       "    </tr>\n",
       "    <tr>\n",
       "      <th>3</th>\n",
       "      <td>40</td>\n",
       "      <td>0.78895</td>\n",
       "    </tr>\n",
       "    <tr>\n",
       "      <th>4</th>\n",
       "      <td>50</td>\n",
       "      <td>0.79115</td>\n",
       "    </tr>\n",
       "  </tbody>\n",
       "</table>\n",
       "</div>"
      ],
      "text/plain": [
       "   n_estimators    score\n",
       "0            10  0.77025\n",
       "1            20  0.78405\n",
       "2            30  0.78745\n",
       "3            40  0.78895\n",
       "4            50  0.79115"
      ]
     },
     "execution_count": 386,
     "metadata": {},
     "output_type": "execute_result"
    }
   ],
   "source": [
    "df_scores = pd.DataFrame(scores, columns=['n_estimators', 'mean_accuracy'])\n",
    "df_scores.head()"
   ]
  },
  {
   "cell_type": "code",
   "execution_count": 385,
   "id": "9e7d8d38-eb28-42ed-a7fc-022eab037b60",
   "metadata": {},
   "outputs": [
    {
     "data": {
      "text/plain": [
       "[<matplotlib.lines.Line2D at 0x126ad6d70>]"
      ]
     },
     "execution_count": 385,
     "metadata": {},
     "output_type": "execute_result"
    },
    {
     "data": {
      "image/png": "[encoded data removed]",
      "text/plain": [
       "<Figure size 640x480 with 1 Axes>"
      ]
     },
     "metadata": {},
     "output_type": "display_data"
    }
   ],
   "source": [
    "plt.plot(df_scores.n_estimators, df_scores.mean_accuracy)"
   ]
  },
  {
   "cell_type": "markdown",
   "id": "0d9c5ffa-84b8-4dc1-afeb-6be156da08ac",
   "metadata": {},
   "source": [
    "We can see that model performance hits peak at about 300 - 350 trees in the forest"
   ]
  },
  {
   "cell_type": "markdown",
   "id": "a0cfa5fb-543b-42f2-b121-c805d053d6c7",
   "metadata": {},
   "source": [
    "Now let's calculate best depth for the forest"
   ]
  },
  {
   "cell_type": "code",
   "execution_count": 412,
   "id": "3b8b99dc-5ab1-416e-b29e-82be2d7d9a7c",
   "metadata": {},
   "outputs": [
    {
     "data": {
      "application/vnd.jupyter.widget-view+json": {
       "model_id": "e81426cf9af949569277fab9cc4da35d",
       "version_major": 2,
       "version_minor": 0
      },
      "text/plain": [
       "  0%|          | 0/8 [00:00<?, ?it/s]"
      ]
     },
     "metadata": {},
     "output_type": "display_data"
    }
   ],
   "source": [
    "scores = []\n",
    "for d in tqdm(range(10, 81, 10)):\n",
    "    for n in [200, 300, 325, 350, 400]:\n",
    "        rf = RandomForestClassifier(\n",
    "            n_estimators=n, \n",
    "            max_depth=d,\n",
    "            random_state=1, \n",
    "            n_jobs=-1\n",
    "        )\n",
    "        rf.fit(X_train, y_train)\n",
    "        mean_accuracy = rf.score(X_val, y_val)\n",
    "        scores.append((d, n, mean_accuracy))"
   ]
  },
  {
   "cell_type": "code",
   "execution_count": 415,
   "id": "e38274c8-318e-4f86-a66c-94055cf36c82",
   "metadata": {},
   "outputs": [
    {
     "data": {
      "text/html": [
       "<div>\n",
       "<style scoped>\n",
       "    .dataframe tbody tr th:only-of-type {\n",
       "        vertical-align: middle;\n",
       "    }\n",
       "\n",
       "    .dataframe tbody tr th {\n",
       "        vertical-align: top;\n",
       "    }\n",
       "\n",
       "    .dataframe thead th {\n",
       "        text-align: right;\n",
       "    }\n",
       "</style>\n",
       "<table border=\"1\" class=\"dataframe\">\n",
       "  <thead>\n",
       "    <tr style=\"text-align: right;\">\n",
       "      <th></th>\n",
       "      <th>max_depth</th>\n",
       "      <th>n_estimators</th>\n",
       "      <th>mean_accuracy</th>\n",
       "    </tr>\n",
       "  </thead>\n",
       "  <tbody>\n",
       "    <tr>\n",
       "      <th>0</th>\n",
       "      <td>10</td>\n",
       "      <td>200</td>\n",
       "      <td>0.71835</td>\n",
       "    </tr>\n",
       "    <tr>\n",
       "      <th>1</th>\n",
       "      <td>10</td>\n",
       "      <td>300</td>\n",
       "      <td>0.71950</td>\n",
       "    </tr>\n",
       "    <tr>\n",
       "      <th>2</th>\n",
       "      <td>10</td>\n",
       "      <td>325</td>\n",
       "      <td>0.71925</td>\n",
       "    </tr>\n",
       "    <tr>\n",
       "      <th>3</th>\n",
       "      <td>10</td>\n",
       "      <td>350</td>\n",
       "      <td>0.71930</td>\n",
       "    </tr>\n",
       "    <tr>\n",
       "      <th>4</th>\n",
       "      <td>10</td>\n",
       "      <td>400</td>\n",
       "      <td>0.71885</td>\n",
       "    </tr>\n",
       "  </tbody>\n",
       "</table>\n",
       "</div>"
      ],
      "text/plain": [
       "   max_depth  n_estimators  mean_accuracy\n",
       "0         10           200        0.71835\n",
       "1         10           300        0.71950\n",
       "2         10           325        0.71925\n",
       "3         10           350        0.71930\n",
       "4         10           400        0.71885"
      ]
     },
     "execution_count": 415,
     "metadata": {},
     "output_type": "execute_result"
    }
   ],
   "source": [
    "columns = ['max_depth', 'n_estimators', 'mean_accuracy']\n",
    "df_scores = pd.DataFrame(scores, columns=columns)\n",
    "df_scores.head()"
   ]
  },
  {
   "cell_type": "markdown",
   "id": "d7c296be-f2c2-4dc0-97e2-3030e7e7346a",
   "metadata": {},
   "source": [
    "Mean scores for max_depths"
   ]
  },
  {
   "cell_type": "code",
   "execution_count": 416,
   "id": "8d0e861c-cc9b-4818-84aa-9159626515e0",
   "metadata": {},
   "outputs": [
    {
     "data": {
      "text/html": [
       "<div>\n",
       "<style scoped>\n",
       "    .dataframe tbody tr th:only-of-type {\n",
       "        vertical-align: middle;\n",
       "    }\n",
       "\n",
       "    .dataframe tbody tr th {\n",
       "        vertical-align: top;\n",
       "    }\n",
       "\n",
       "    .dataframe thead th {\n",
       "        text-align: right;\n",
       "    }\n",
       "</style>\n",
       "<table border=\"1\" class=\"dataframe\">\n",
       "  <thead>\n",
       "    <tr style=\"text-align: right;\">\n",
       "      <th></th>\n",
       "      <th>n_estimators</th>\n",
       "      <th>mean_accuracy</th>\n",
       "    </tr>\n",
       "    <tr>\n",
       "      <th>max_depth</th>\n",
       "      <th></th>\n",
       "      <th></th>\n",
       "    </tr>\n",
       "  </thead>\n",
       "  <tbody>\n",
       "    <tr>\n",
       "      <th>40</th>\n",
       "      <td>315.0</td>\n",
       "      <td>0.80028</td>\n",
       "    </tr>\n",
       "    <tr>\n",
       "      <th>50</th>\n",
       "      <td>315.0</td>\n",
       "      <td>0.79965</td>\n",
       "    </tr>\n",
       "    <tr>\n",
       "      <th>60</th>\n",
       "      <td>315.0</td>\n",
       "      <td>0.79953</td>\n",
       "    </tr>\n",
       "    <tr>\n",
       "      <th>70</th>\n",
       "      <td>315.0</td>\n",
       "      <td>0.79953</td>\n",
       "    </tr>\n",
       "    <tr>\n",
       "      <th>80</th>\n",
       "      <td>315.0</td>\n",
       "      <td>0.79953</td>\n",
       "    </tr>\n",
       "    <tr>\n",
       "      <th>30</th>\n",
       "      <td>315.0</td>\n",
       "      <td>0.79676</td>\n",
       "    </tr>\n",
       "    <tr>\n",
       "      <th>20</th>\n",
       "      <td>315.0</td>\n",
       "      <td>0.78269</td>\n",
       "    </tr>\n",
       "    <tr>\n",
       "      <th>10</th>\n",
       "      <td>315.0</td>\n",
       "      <td>0.71905</td>\n",
       "    </tr>\n",
       "  </tbody>\n",
       "</table>\n",
       "</div>"
      ],
      "text/plain": [
       "           n_estimators  mean_accuracy\n",
       "max_depth                             \n",
       "40                315.0        0.80028\n",
       "50                315.0        0.79965\n",
       "60                315.0        0.79953\n",
       "70                315.0        0.79953\n",
       "80                315.0        0.79953\n",
       "30                315.0        0.79676\n",
       "20                315.0        0.78269\n",
       "10                315.0        0.71905"
      ]
     },
     "execution_count": 416,
     "metadata": {},
     "output_type": "execute_result"
    }
   ],
   "source": [
    "df_scores.groupby('max_depth').mean().sort_values('mean_accuracy', ascending=False)"
   ]
  },
  {
   "cell_type": "code",
   "execution_count": 419,
   "id": "245f6a63-2e00-4871-a4cd-dfb8feb1c618",
   "metadata": {},
   "outputs": [],
   "source": [
    "max_depth = 40"
   ]
  },
  {
   "cell_type": "markdown",
   "id": "d0ca510b-e830-405d-b167-0c730b1b551d",
   "metadata": {},
   "source": [
    "Let's find optimal leaf size"
   ]
  },
  {
   "cell_type": "code",
   "execution_count": 426,
   "id": "c6b5f9d3-df28-4f60-a0ac-1c0455da1866",
   "metadata": {},
   "outputs": [
    {
     "data": {
      "application/vnd.jupyter.widget-view+json": {
       "model_id": "5717c159e88e48c79b7da5fb81624b75",
       "version_major": 2,
       "version_minor": 0
      },
      "text/plain": [
       "  0%|          | 0/5 [00:00<?, ?it/s]"
      ]
     },
     "metadata": {},
     "output_type": "display_data"
    }
   ],
   "source": [
    "scores = []\n",
    "for s in tqdm([1, 3, 5, 10, 50]):\n",
    "    for n in [200, 300, 325, 350, 400]:\n",
    "        rf = RandomForestClassifier(\n",
    "            n_estimators=n, \n",
    "            max_depth=max_depth,\n",
    "            min_samples_leaf=s,\n",
    "            random_state=1,\n",
    "            n_jobs=-1\n",
    "        )\n",
    "        rf.fit(X_train, y_train)\n",
    "        mean_accuracy = rf.score(X_val, y_val)\n",
    "        scores.append((s, n, mean_accuracy))"
   ]
  },
  {
   "cell_type": "code",
   "execution_count": 429,
   "id": "7a16d601-1e9c-4aaf-8fdc-3451cc62e9ae",
   "metadata": {},
   "outputs": [
    {
     "data": {
      "text/html": [
       "<div>\n",
       "<style scoped>\n",
       "    .dataframe tbody tr th:only-of-type {\n",
       "        vertical-align: middle;\n",
       "    }\n",
       "\n",
       "    .dataframe tbody tr th {\n",
       "        vertical-align: top;\n",
       "    }\n",
       "\n",
       "    .dataframe thead th {\n",
       "        text-align: right;\n",
       "    }\n",
       "</style>\n",
       "<table border=\"1\" class=\"dataframe\">\n",
       "  <thead>\n",
       "    <tr style=\"text-align: right;\">\n",
       "      <th></th>\n",
       "      <th>min_samples_leaf</th>\n",
       "      <th>n_estimators</th>\n",
       "      <th>mean_accuracy</th>\n",
       "    </tr>\n",
       "  </thead>\n",
       "  <tbody>\n",
       "    <tr>\n",
       "      <th>0</th>\n",
       "      <td>1</td>\n",
       "      <td>200</td>\n",
       "      <td>0.79960</td>\n",
       "    </tr>\n",
       "    <tr>\n",
       "      <th>1</th>\n",
       "      <td>1</td>\n",
       "      <td>300</td>\n",
       "      <td>0.80110</td>\n",
       "    </tr>\n",
       "    <tr>\n",
       "      <th>2</th>\n",
       "      <td>1</td>\n",
       "      <td>325</td>\n",
       "      <td>0.80080</td>\n",
       "    </tr>\n",
       "    <tr>\n",
       "      <th>3</th>\n",
       "      <td>1</td>\n",
       "      <td>350</td>\n",
       "      <td>0.79975</td>\n",
       "    </tr>\n",
       "    <tr>\n",
       "      <th>4</th>\n",
       "      <td>1</td>\n",
       "      <td>400</td>\n",
       "      <td>0.80015</td>\n",
       "    </tr>\n",
       "  </tbody>\n",
       "</table>\n",
       "</div>"
      ],
      "text/plain": [
       "   min_samples_leaf  n_estimators  mean_accuracy\n",
       "0                 1           200        0.79960\n",
       "1                 1           300        0.80110\n",
       "2                 1           325        0.80080\n",
       "3                 1           350        0.79975\n",
       "4                 1           400        0.80015"
      ]
     },
     "execution_count": 429,
     "metadata": {},
     "output_type": "execute_result"
    }
   ],
   "source": [
    "columns = ['min_samples_leaf', 'n_estimators', 'mean_accuracy']\n",
    "df_scores = pd.DataFrame(scores, columns=columns)\n",
    "df_scores.head()"
   ]
  },
  {
   "cell_type": "code",
   "execution_count": 430,
   "id": "78e8ba4e-f19e-43bf-9abc-f42a9c5e6523",
   "metadata": {},
   "outputs": [
    {
     "data": {
      "text/html": [
       "<div>\n",
       "<style scoped>\n",
       "    .dataframe tbody tr th:only-of-type {\n",
       "        vertical-align: middle;\n",
       "    }\n",
       "\n",
       "    .dataframe tbody tr th {\n",
       "        vertical-align: top;\n",
       "    }\n",
       "\n",
       "    .dataframe thead th {\n",
       "        text-align: right;\n",
       "    }\n",
       "</style>\n",
       "<table border=\"1\" class=\"dataframe\">\n",
       "  <thead>\n",
       "    <tr style=\"text-align: right;\">\n",
       "      <th></th>\n",
       "      <th>n_estimators</th>\n",
       "      <th>mean_accuracy</th>\n",
       "    </tr>\n",
       "    <tr>\n",
       "      <th>min_samples_leaf</th>\n",
       "      <th></th>\n",
       "      <th></th>\n",
       "    </tr>\n",
       "  </thead>\n",
       "  <tbody>\n",
       "    <tr>\n",
       "      <th>1</th>\n",
       "      <td>315.0</td>\n",
       "      <td>0.80028</td>\n",
       "    </tr>\n",
       "    <tr>\n",
       "      <th>3</th>\n",
       "      <td>315.0</td>\n",
       "      <td>0.78517</td>\n",
       "    </tr>\n",
       "    <tr>\n",
       "      <th>5</th>\n",
       "      <td>315.0</td>\n",
       "      <td>0.77733</td>\n",
       "    </tr>\n",
       "    <tr>\n",
       "      <th>10</th>\n",
       "      <td>315.0</td>\n",
       "      <td>0.76020</td>\n",
       "    </tr>\n",
       "    <tr>\n",
       "      <th>50</th>\n",
       "      <td>315.0</td>\n",
       "      <td>0.72661</td>\n",
       "    </tr>\n",
       "  </tbody>\n",
       "</table>\n",
       "</div>"
      ],
      "text/plain": [
       "                  n_estimators  mean_accuracy\n",
       "min_samples_leaf                             \n",
       "1                        315.0        0.80028\n",
       "3                        315.0        0.78517\n",
       "5                        315.0        0.77733\n",
       "10                       315.0        0.76020\n",
       "50                       315.0        0.72661"
      ]
     },
     "execution_count": 430,
     "metadata": {},
     "output_type": "execute_result"
    }
   ],
   "source": [
    "df_scores.groupby('min_samples_leaf').mean().sort_values('mean_accuracy', ascending=False)"
   ]
  },
  {
   "cell_type": "code",
   "execution_count": 435,
   "id": "7ee3ad6d-faf7-4d70-86b4-32f3c5bf4746",
   "metadata": {},
   "outputs": [],
   "source": [
    "min_samples_leaf = 1"
   ]
  },
  {
   "cell_type": "markdown",
   "id": "c7b41e50-05a5-46cd-8cf4-4367f145a442",
   "metadata": {},
   "source": [
    "Let's see model progress with optimal depth and min_samples_leaf"
   ]
  },
  {
   "cell_type": "code",
   "execution_count": 452,
   "id": "aef23753-09e2-444c-97eb-a01e57dfcaf7",
   "metadata": {},
   "outputs": [
    {
     "data": {
      "application/vnd.jupyter.widget-view+json": {
       "model_id": "cc03f619d1ac43a7b5ceabf71023d0ad",
       "version_major": 2,
       "version_minor": 0
      },
      "text/plain": [
       "  0%|          | 0/10 [00:00<?, ?it/s]"
      ]
     },
     "metadata": {},
     "output_type": "display_data"
    }
   ],
   "source": [
    "scores = []\n",
    "for n in tqdm(range(40, 401, 40)):\n",
    "    rf = RandomForestClassifier(\n",
    "    \tn_estimators=n, \n",
    "    \tmax_depth=max_depth,\n",
    "    \tmin_samples_leaf=min_samples_leaf,\n",
    "    \trandom_state=1,\n",
    "        n_jobs=-1\n",
    "    )\n",
    "\n",
    "    rf.fit(X_train, y_train)\n",
    "    mean_accuracy = rf.score(X_val, y_val)\n",
    "    scores.append((n, mean_accuracy))"
   ]
  },
  {
   "cell_type": "code",
   "execution_count": 455,
   "id": "80f10761-b5a6-4e3d-baaf-f3771e02cc3b",
   "metadata": {},
   "outputs": [
    {
     "name": "stdout",
     "output_type": "stream",
     "text": [
      "Best results:    n_estimators  mean_accuracy\n",
      "6           280         0.8011\n"
     ]
    },
    {
     "data": {
      "text/plain": [
       "[<matplotlib.lines.Line2D at 0x130f04460>]"
      ]
     },
     "execution_count": 455,
     "metadata": {},
     "output_type": "execute_result"
    },
    {
     "data": {
      "image/png": "[encoded data removed]",
      "text/plain": [
       "<Figure size 640x480 with 1 Axes>"
      ]
     },
     "metadata": {},
     "output_type": "display_data"
    }
   ],
   "source": [
    "df_scores = pd.DataFrame(scores, columns=['n_estimators', 'mean_accuracy'])\n",
    "print(f\"Best results: {df_scores.sort_values('mean_accuracy', ascending=False).head(1)}\")\n",
    "plt.plot(df_scores.n_estimators, df_scores.mean_accuracy)"
   ]
  },
  {
   "cell_type": "markdown",
   "id": "d6a4d3da-bfbb-4145-bc92-5d2a6b48b201",
   "metadata": {},
   "source": [
    "Let's also try using bootstrap for this model"
   ]
  },
  {
   "cell_type": "code",
   "execution_count": 445,
   "id": "ae7c81d6-87ad-414c-a85d-d26afc212735",
   "metadata": {},
   "outputs": [
    {
     "data": {
      "application/vnd.jupyter.widget-view+json": {
       "model_id": "386fb466762e441d8affd4ca6238fdf0",
       "version_major": 2,
       "version_minor": 0
      },
      "text/plain": [
       "  0%|          | 0/10 [00:00<?, ?it/s]"
      ]
     },
     "metadata": {},
     "output_type": "display_data"
    }
   ],
   "source": [
    "scores = []\n",
    "for n in tqdm(range(40, 401, 40)):\n",
    "    rf = RandomForestClassifier(\n",
    "    \tn_estimators=n, \n",
    "    \tmax_depth=max_depth,\n",
    "    \tmin_samples_leaf=min_samples_leaf,\n",
    "    \trandom_state=1,\n",
    "        bootstrap=True,\n",
    "        n_jobs=-1\n",
    "    )\n",
    "\n",
    "    rf.fit(X_train, y_train)\n",
    "    mean_accuracy = rf.score(X_val, y_val)\n",
    "    scores.append((n, mean_accuracy))"
   ]
  },
  {
   "cell_type": "code",
   "execution_count": 448,
   "id": "6b7020ff-8a56-45d0-b57f-85bbbdf11d98",
   "metadata": {},
   "outputs": [
    {
     "name": "stdout",
     "output_type": "stream",
     "text": [
      "Best results:    n_estimators  mean_accuracy\n",
      "6           280         0.8011\n"
     ]
    },
    {
     "data": {
      "text/plain": [
       "[<matplotlib.lines.Line2D at 0x1311346a0>]"
      ]
     },
     "execution_count": 448,
     "metadata": {},
     "output_type": "execute_result"
    },
    {
     "data": {
      "image/png": "[encoded data removed]",
      "text/plain": [
       "<Figure size 640x480 with 1 Axes>"
      ]
     },
     "metadata": {},
     "output_type": "display_data"
    }
   ],
   "source": [
    "df_scores = pd.DataFrame(scores, columns=['n_estimators', 'mean_accuracy'])\n",
    "print(f\"Best results: {df_scores.sort_values('mean_accuracy', ascending=False).head(1)}\")\n",
    "plt.plot(df_scores.n_estimators, df_scores.mean_accuracy)"
   ]
  },
  {
   "cell_type": "markdown",
   "id": "4372423e-13c3-4f89-892c-2fd6598f272b",
   "metadata": {},
   "source": [
    "Let's also try warm_start parameter"
   ]
  },
  {
   "cell_type": "code",
   "execution_count": 450,
   "id": "8587969d-9e1a-4dc3-bf22-8c5a50cb7ca2",
   "metadata": {},
   "outputs": [
    {
     "data": {
      "application/vnd.jupyter.widget-view+json": {
       "model_id": "6ce4419e07a447e78dd357cf1de25197",
       "version_major": 2,
       "version_minor": 0
      },
      "text/plain": [
       "  0%|          | 0/10 [00:00<?, ?it/s]"
      ]
     },
     "metadata": {},
     "output_type": "display_data"
    }
   ],
   "source": [
    "scores = []\n",
    "for n in tqdm(range(40, 401, 40)):\n",
    "    rf = RandomForestClassifier(\n",
    "    \tn_estimators=n, \n",
    "    \tmax_depth=max_depth,\n",
    "    \tmin_samples_leaf=min_samples_leaf,\n",
    "    \trandom_state=1,\n",
    "        bootstrap=True,\n",
    "        warm_start=True,\n",
    "        n_jobs=-1\n",
    "    )\n",
    "\n",
    "    rf.fit(X_train, y_train)\n",
    "    mean_accuracy = rf.score(X_val, y_val)\n",
    "    scores.append((n, mean_accuracy))"
   ]
  },
  {
   "cell_type": "code",
   "execution_count": 451,
   "id": "0f869b60-b8df-4d50-9621-9b46aeba3950",
   "metadata": {},
   "outputs": [
    {
     "name": "stdout",
     "output_type": "stream",
     "text": [
      "Best results:    n_estimators  mean_accuracy\n",
      "6           280         0.8011\n"
     ]
    },
    {
     "data": {
      "text/plain": [
       "[<matplotlib.lines.Line2D at 0x131229e40>]"
      ]
     },
     "execution_count": 451,
     "metadata": {},
     "output_type": "execute_result"
    },
    {
     "data": {
      "image/png": "[encoded data removed]",
      "text/plain": [
       "<Figure size 640x480 with 1 Axes>"
      ]
     },
     "metadata": {},
     "output_type": "display_data"
    }
   ],
   "source": [
    "df_scores = pd.DataFrame(scores, columns=['n_estimators', 'mean_accuracy'])\n",
    "print(f\"Best results: {df_scores.sort_values('mean_accuracy', ascending=False).head(1)}\")\n",
    "plt.plot(df_scores.n_estimators, df_scores.mean_accuracy)"
   ]
  },
  {
   "cell_type": "code",
   "execution_count": 459,
   "id": "0402e91d-e9d8-4ad8-b745-f51dbfc44baa",
   "metadata": {},
   "outputs": [],
   "source": [
    "max_depth = 280"
   ]
  },
  {
   "cell_type": "markdown",
   "id": "fb86592c-bcd7-4cf8-b9c1-fbe49e107270",
   "metadata": {},
   "source": [
    "Well it seems like we got the best out of this model, let's try it on all training data and test on the testing dataset"
   ]
  },
  {
   "cell_type": "code",
   "execution_count": 458,
   "id": "9044b921-2c0e-4860-a4cd-fc10771498e0",
   "metadata": {},
   "outputs": [],
   "source": [
    "dv = DictVectorizer(sparse=False)\n",
    "X_full_train = dv.fit_transform(full_train_dicts)\n",
    "X_test = dv.transform(test_dicts)"
   ]
  },
  {
   "cell_type": "code",
   "execution_count": 461,
   "id": "245984dc-1a9b-464f-81d6-cf3d68a68529",
   "metadata": {},
   "outputs": [
    {
     "name": "stdout",
     "output_type": "stream",
     "text": [
      "score: 0.8142\n"
     ]
    }
   ],
   "source": [
    "rf = RandomForestClassifier(\n",
    "    n_estimators=n, \n",
    "    max_depth=max_depth,\n",
    "    min_samples_leaf=min_samples_leaf,\n",
    "    random_state=1,\n",
    "    bootstrap=True,\n",
    "    warm_start=True,\n",
    "    n_jobs=-1\n",
    ")\n",
    "rf.fit(X_full_train, y_full_train)\t\n",
    "score = rf.score(X_test, y_test)\n",
    "print(f\"score: {score}\")"
   ]
  },
  {
   "cell_type": "markdown",
   "id": "9f78497f-f6dd-4bec-9ffd-61c37d6e78ed",
   "metadata": {},
   "source": [
    "Well you look at that our model perfomed even a bit better on a testing set, cause it got more training data."
   ]
  },
  {
   "cell_type": "markdown",
   "id": "91211520-b453-42e2-a6e3-944df2f84354",
   "metadata": {},
   "source": [
    "Confusion matrics on test set:"
   ]
  },
  {
   "cell_type": "code",
   "execution_count": 462,
   "id": "87bbd44e-0ca3-458c-982f-78062aee4b4a",
   "metadata": {},
   "outputs": [
    {
     "data": {
      "text/plain": [
       "<sklearn.metrics._plot.confusion_matrix.ConfusionMatrixDisplay at 0x130ccbeb0>"
      ]
     },
     "execution_count": 462,
     "metadata": {},
     "output_type": "execute_result"
    },
    {
     "data": {
      "image/png": "[encoded data removed]",
      "text/plain": [
       "<Figure size 640x480 with 2 Axes>"
      ]
     },
     "metadata": {},
     "output_type": "display_data"
    }
   ],
   "source": [
    "ConfusionMatrixDisplay.from_estimator(rf, X_test, y_test, normalize='true')"
   ]
  },
  {
   "cell_type": "markdown",
   "id": "8072ea9a-5e01-4859-8ccf-e491b8c5bb19",
   "metadata": {},
   "source": [
    "Final score for Random Forest model  is 81.42% mean accuracy"
   ]
  }
 ],
 "metadata": {
  "kernelspec": {
   "display_name": "MLzoomcamp_midterm_project",
   "language": "python",
   "name": "mlzoomcamp_midterm_project"
  },
  "language_info": {
   "codemirror_mode": {
    "name": "ipython",
    "version": 3
   },
   "file_extension": ".py",
   "mimetype": "text/x-python",
   "name": "python",
   "nbconvert_exporter": "python",
   "pygments_lexer": "ipython3",
   "version": "3.10.15"
  }
 },
 "nbformat": 4,
 "nbformat_minor": 5
}
